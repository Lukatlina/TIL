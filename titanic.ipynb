{
  "nbformat": 4,
  "nbformat_minor": 0,
  "metadata": {
    "colab": {
      "provenance": [],
      "collapsed_sections": [],
      "mount_file_id": "1-zWwq5a9f-ICdUVvIl070tyyMJZYXr9m",
      "authorship_tag": "ABX9TyO/gfD+w6t7T/kvl1RyU6Un",
      "include_colab_link": true
    },
    "kernelspec": {
      "name": "python3",
      "display_name": "Python 3"
    },
    "language_info": {
      "name": "python"
    }
  },
  "cells": [
    {
      "cell_type": "markdown",
      "metadata": {
        "id": "view-in-github",
        "colab_type": "text"
      },
      "source": [
        "<a href=\"https://colab.research.google.com/github/Lukatlina/-/blob/main/titanic.ipynb\" target=\"_parent\"><img src=\"https://colab.research.google.com/assets/colab-badge.svg\" alt=\"Open In Colab\"/></a>"
      ]
    },
    {
      "cell_type": "markdown",
      "source": [
        "# 파일 불러오기"
      ],
      "metadata": {
        "id": "W5bTveqsm3JP"
      }
    },
    {
      "cell_type": "code",
      "source": [
        "from google.colab import drive\n",
        "drive.mount('/content/drive')"
      ],
      "metadata": {
        "id": "Q1TOLnZJYnci",
        "colab": {
          "base_uri": "https://localhost:8080/"
        },
        "outputId": "1c9b5530-a523-4037-cf1e-53105e99d71b"
      },
      "execution_count": null,
      "outputs": [
        {
          "output_type": "stream",
          "name": "stdout",
          "text": [
            "Drive already mounted at /content/drive; to attempt to forcibly remount, call drive.mount(\"/content/drive\", force_remount=True).\n"
          ]
        }
      ]
    },
    {
      "cell_type": "code",
      "source": [
        "import pandas as pd\n",
        "import numpy as np\n",
        "import matplotlib.pyplot as plt\n",
        "import seaborn as sns"
      ],
      "metadata": {
        "id": "i5bc6y2_m7cH"
      },
      "execution_count": null,
      "outputs": []
    },
    {
      "cell_type": "code",
      "execution_count": null,
      "metadata": {
        "id": "OuPUO188iybv"
      },
      "outputs": [],
      "source": [
        "train = '/content/drive/MyDrive/practice/titanic/train.csv'\n",
        "test = '/content/drive/MyDrive/practice/titanic/test.csv'"
      ]
    },
    {
      "cell_type": "markdown",
      "source": [
        "* PassengerId : 탑승객의 고유 아이디\n",
        "* Survival : 생존여부(0: 사망, 1: 생존)\n",
        "* Pclass : 등실의 등급(1: 1등급, 2: 2등급, 3: 3등급)\n",
        "* Name : 이름\n",
        "* Sex : 성별\n",
        "* Age : 나이\n",
        "* Sibsp : 함께 탑승한 형제자매, 아내 남편의 수\n",
        "* Parch: 함께 탑승한 부모, 자식의 수\n",
        "* Ticket: 티켓번호\n",
        "* Fare: 티켓의 요금\n",
        "* Cabin: 객실번호\n",
        "* Embarked: 배에 탑승한 위치(C = Cherbourg, Q = Queenstown, S = Southampton)"
      ],
      "metadata": {
        "id": "uskN2YaHZeBn"
      }
    },
    {
      "cell_type": "markdown",
      "source": [
        "# 데이터 탐색"
      ],
      "metadata": {
        "id": "gZeyScbQY3ff"
      }
    },
    {
      "cell_type": "code",
      "source": [
        "train_df = pd.read_csv(train)\n",
        "train_df.head()"
      ],
      "metadata": {
        "id": "8YWgN8Tdm1kx",
        "colab": {
          "base_uri": "https://localhost:8080/",
          "height": 206
        },
        "outputId": "6881c7fc-1741-475e-da50-d44ca5f6cad5"
      },
      "execution_count": null,
      "outputs": [
        {
          "output_type": "execute_result",
          "data": {
            "text/plain": [
              "   PassengerId  Survived  Pclass  \\\n",
              "0            1         0       3   \n",
              "1            2         1       1   \n",
              "2            3         1       3   \n",
              "3            4         1       1   \n",
              "4            5         0       3   \n",
              "\n",
              "                                                Name     Sex   Age  SibSp  \\\n",
              "0                            Braund, Mr. Owen Harris    male  22.0      1   \n",
              "1  Cumings, Mrs. John Bradley (Florence Briggs Th...  female  38.0      1   \n",
              "2                             Heikkinen, Miss. Laina  female  26.0      0   \n",
              "3       Futrelle, Mrs. Jacques Heath (Lily May Peel)  female  35.0      1   \n",
              "4                           Allen, Mr. William Henry    male  35.0      0   \n",
              "\n",
              "   Parch            Ticket     Fare Cabin Embarked  \n",
              "0      0         A/5 21171   7.2500   NaN        S  \n",
              "1      0          PC 17599  71.2833   C85        C  \n",
              "2      0  STON/O2. 3101282   7.9250   NaN        S  \n",
              "3      0            113803  53.1000  C123        S  \n",
              "4      0            373450   8.0500   NaN        S  "
            ],
            "text/html": [
              "\n",
              "  <div id=\"df-b5bcf182-0255-4290-956b-eb77a0ba124c\">\n",
              "    <div class=\"colab-df-container\">\n",
              "      <div>\n",
              "<style scoped>\n",
              "    .dataframe tbody tr th:only-of-type {\n",
              "        vertical-align: middle;\n",
              "    }\n",
              "\n",
              "    .dataframe tbody tr th {\n",
              "        vertical-align: top;\n",
              "    }\n",
              "\n",
              "    .dataframe thead th {\n",
              "        text-align: right;\n",
              "    }\n",
              "</style>\n",
              "<table border=\"1\" class=\"dataframe\">\n",
              "  <thead>\n",
              "    <tr style=\"text-align: right;\">\n",
              "      <th></th>\n",
              "      <th>PassengerId</th>\n",
              "      <th>Survived</th>\n",
              "      <th>Pclass</th>\n",
              "      <th>Name</th>\n",
              "      <th>Sex</th>\n",
              "      <th>Age</th>\n",
              "      <th>SibSp</th>\n",
              "      <th>Parch</th>\n",
              "      <th>Ticket</th>\n",
              "      <th>Fare</th>\n",
              "      <th>Cabin</th>\n",
              "      <th>Embarked</th>\n",
              "    </tr>\n",
              "  </thead>\n",
              "  <tbody>\n",
              "    <tr>\n",
              "      <th>0</th>\n",
              "      <td>1</td>\n",
              "      <td>0</td>\n",
              "      <td>3</td>\n",
              "      <td>Braund, Mr. Owen Harris</td>\n",
              "      <td>male</td>\n",
              "      <td>22.0</td>\n",
              "      <td>1</td>\n",
              "      <td>0</td>\n",
              "      <td>A/5 21171</td>\n",
              "      <td>7.2500</td>\n",
              "      <td>NaN</td>\n",
              "      <td>S</td>\n",
              "    </tr>\n",
              "    <tr>\n",
              "      <th>1</th>\n",
              "      <td>2</td>\n",
              "      <td>1</td>\n",
              "      <td>1</td>\n",
              "      <td>Cumings, Mrs. John Bradley (Florence Briggs Th...</td>\n",
              "      <td>female</td>\n",
              "      <td>38.0</td>\n",
              "      <td>1</td>\n",
              "      <td>0</td>\n",
              "      <td>PC 17599</td>\n",
              "      <td>71.2833</td>\n",
              "      <td>C85</td>\n",
              "      <td>C</td>\n",
              "    </tr>\n",
              "    <tr>\n",
              "      <th>2</th>\n",
              "      <td>3</td>\n",
              "      <td>1</td>\n",
              "      <td>3</td>\n",
              "      <td>Heikkinen, Miss. Laina</td>\n",
              "      <td>female</td>\n",
              "      <td>26.0</td>\n",
              "      <td>0</td>\n",
              "      <td>0</td>\n",
              "      <td>STON/O2. 3101282</td>\n",
              "      <td>7.9250</td>\n",
              "      <td>NaN</td>\n",
              "      <td>S</td>\n",
              "    </tr>\n",
              "    <tr>\n",
              "      <th>3</th>\n",
              "      <td>4</td>\n",
              "      <td>1</td>\n",
              "      <td>1</td>\n",
              "      <td>Futrelle, Mrs. Jacques Heath (Lily May Peel)</td>\n",
              "      <td>female</td>\n",
              "      <td>35.0</td>\n",
              "      <td>1</td>\n",
              "      <td>0</td>\n",
              "      <td>113803</td>\n",
              "      <td>53.1000</td>\n",
              "      <td>C123</td>\n",
              "      <td>S</td>\n",
              "    </tr>\n",
              "    <tr>\n",
              "      <th>4</th>\n",
              "      <td>5</td>\n",
              "      <td>0</td>\n",
              "      <td>3</td>\n",
              "      <td>Allen, Mr. William Henry</td>\n",
              "      <td>male</td>\n",
              "      <td>35.0</td>\n",
              "      <td>0</td>\n",
              "      <td>0</td>\n",
              "      <td>373450</td>\n",
              "      <td>8.0500</td>\n",
              "      <td>NaN</td>\n",
              "      <td>S</td>\n",
              "    </tr>\n",
              "  </tbody>\n",
              "</table>\n",
              "</div>\n",
              "      <button class=\"colab-df-convert\" onclick=\"convertToInteractive('df-b5bcf182-0255-4290-956b-eb77a0ba124c')\"\n",
              "              title=\"Convert this dataframe to an interactive table.\"\n",
              "              style=\"display:none;\">\n",
              "        \n",
              "  <svg xmlns=\"http://www.w3.org/2000/svg\" height=\"24px\"viewBox=\"0 0 24 24\"\n",
              "       width=\"24px\">\n",
              "    <path d=\"M0 0h24v24H0V0z\" fill=\"none\"/>\n",
              "    <path d=\"M18.56 5.44l.94 2.06.94-2.06 2.06-.94-2.06-.94-.94-2.06-.94 2.06-2.06.94zm-11 1L8.5 8.5l.94-2.06 2.06-.94-2.06-.94L8.5 2.5l-.94 2.06-2.06.94zm10 10l.94 2.06.94-2.06 2.06-.94-2.06-.94-.94-2.06-.94 2.06-2.06.94z\"/><path d=\"M17.41 7.96l-1.37-1.37c-.4-.4-.92-.59-1.43-.59-.52 0-1.04.2-1.43.59L10.3 9.45l-7.72 7.72c-.78.78-.78 2.05 0 2.83L4 21.41c.39.39.9.59 1.41.59.51 0 1.02-.2 1.41-.59l7.78-7.78 2.81-2.81c.8-.78.8-2.07 0-2.86zM5.41 20L4 18.59l7.72-7.72 1.47 1.35L5.41 20z\"/>\n",
              "  </svg>\n",
              "      </button>\n",
              "      \n",
              "  <style>\n",
              "    .colab-df-container {\n",
              "      display:flex;\n",
              "      flex-wrap:wrap;\n",
              "      gap: 12px;\n",
              "    }\n",
              "\n",
              "    .colab-df-convert {\n",
              "      background-color: #E8F0FE;\n",
              "      border: none;\n",
              "      border-radius: 50%;\n",
              "      cursor: pointer;\n",
              "      display: none;\n",
              "      fill: #1967D2;\n",
              "      height: 32px;\n",
              "      padding: 0 0 0 0;\n",
              "      width: 32px;\n",
              "    }\n",
              "\n",
              "    .colab-df-convert:hover {\n",
              "      background-color: #E2EBFA;\n",
              "      box-shadow: 0px 1px 2px rgba(60, 64, 67, 0.3), 0px 1px 3px 1px rgba(60, 64, 67, 0.15);\n",
              "      fill: #174EA6;\n",
              "    }\n",
              "\n",
              "    [theme=dark] .colab-df-convert {\n",
              "      background-color: #3B4455;\n",
              "      fill: #D2E3FC;\n",
              "    }\n",
              "\n",
              "    [theme=dark] .colab-df-convert:hover {\n",
              "      background-color: #434B5C;\n",
              "      box-shadow: 0px 1px 3px 1px rgba(0, 0, 0, 0.15);\n",
              "      filter: drop-shadow(0px 1px 2px rgba(0, 0, 0, 0.3));\n",
              "      fill: #FFFFFF;\n",
              "    }\n",
              "  </style>\n",
              "\n",
              "      <script>\n",
              "        const buttonEl =\n",
              "          document.querySelector('#df-b5bcf182-0255-4290-956b-eb77a0ba124c button.colab-df-convert');\n",
              "        buttonEl.style.display =\n",
              "          google.colab.kernel.accessAllowed ? 'block' : 'none';\n",
              "\n",
              "        async function convertToInteractive(key) {\n",
              "          const element = document.querySelector('#df-b5bcf182-0255-4290-956b-eb77a0ba124c');\n",
              "          const dataTable =\n",
              "            await google.colab.kernel.invokeFunction('convertToInteractive',\n",
              "                                                     [key], {});\n",
              "          if (!dataTable) return;\n",
              "\n",
              "          const docLinkHtml = 'Like what you see? Visit the ' +\n",
              "            '<a target=\"_blank\" href=https://colab.research.google.com/notebooks/data_table.ipynb>data table notebook</a>'\n",
              "            + ' to learn more about interactive tables.';\n",
              "          element.innerHTML = '';\n",
              "          dataTable['output_type'] = 'display_data';\n",
              "          await google.colab.output.renderOutput(dataTable, element);\n",
              "          const docLink = document.createElement('div');\n",
              "          docLink.innerHTML = docLinkHtml;\n",
              "          element.appendChild(docLink);\n",
              "        }\n",
              "      </script>\n",
              "    </div>\n",
              "  </div>\n",
              "  "
            ]
          },
          "metadata": {},
          "execution_count": 156
        }
      ]
    },
    {
      "cell_type": "code",
      "source": [
        "test_df = pd.read_csv(test)\n",
        "test_df.head()"
      ],
      "metadata": {
        "id": "F2NYOaJJo1jF",
        "colab": {
          "base_uri": "https://localhost:8080/",
          "height": 206
        },
        "outputId": "fec71d35-bb3e-48c3-9d73-e5b99c7dda61"
      },
      "execution_count": null,
      "outputs": [
        {
          "output_type": "execute_result",
          "data": {
            "text/plain": [
              "   PassengerId  Pclass                                          Name     Sex  \\\n",
              "0          892       3                              Kelly, Mr. James    male   \n",
              "1          893       3              Wilkes, Mrs. James (Ellen Needs)  female   \n",
              "2          894       2                     Myles, Mr. Thomas Francis    male   \n",
              "3          895       3                              Wirz, Mr. Albert    male   \n",
              "4          896       3  Hirvonen, Mrs. Alexander (Helga E Lindqvist)  female   \n",
              "\n",
              "    Age  SibSp  Parch   Ticket     Fare Cabin Embarked  \n",
              "0  34.5      0      0   330911   7.8292   NaN        Q  \n",
              "1  47.0      1      0   363272   7.0000   NaN        S  \n",
              "2  62.0      0      0   240276   9.6875   NaN        Q  \n",
              "3  27.0      0      0   315154   8.6625   NaN        S  \n",
              "4  22.0      1      1  3101298  12.2875   NaN        S  "
            ],
            "text/html": [
              "\n",
              "  <div id=\"df-265351ea-c251-4378-9594-835494b950c5\">\n",
              "    <div class=\"colab-df-container\">\n",
              "      <div>\n",
              "<style scoped>\n",
              "    .dataframe tbody tr th:only-of-type {\n",
              "        vertical-align: middle;\n",
              "    }\n",
              "\n",
              "    .dataframe tbody tr th {\n",
              "        vertical-align: top;\n",
              "    }\n",
              "\n",
              "    .dataframe thead th {\n",
              "        text-align: right;\n",
              "    }\n",
              "</style>\n",
              "<table border=\"1\" class=\"dataframe\">\n",
              "  <thead>\n",
              "    <tr style=\"text-align: right;\">\n",
              "      <th></th>\n",
              "      <th>PassengerId</th>\n",
              "      <th>Pclass</th>\n",
              "      <th>Name</th>\n",
              "      <th>Sex</th>\n",
              "      <th>Age</th>\n",
              "      <th>SibSp</th>\n",
              "      <th>Parch</th>\n",
              "      <th>Ticket</th>\n",
              "      <th>Fare</th>\n",
              "      <th>Cabin</th>\n",
              "      <th>Embarked</th>\n",
              "    </tr>\n",
              "  </thead>\n",
              "  <tbody>\n",
              "    <tr>\n",
              "      <th>0</th>\n",
              "      <td>892</td>\n",
              "      <td>3</td>\n",
              "      <td>Kelly, Mr. James</td>\n",
              "      <td>male</td>\n",
              "      <td>34.5</td>\n",
              "      <td>0</td>\n",
              "      <td>0</td>\n",
              "      <td>330911</td>\n",
              "      <td>7.8292</td>\n",
              "      <td>NaN</td>\n",
              "      <td>Q</td>\n",
              "    </tr>\n",
              "    <tr>\n",
              "      <th>1</th>\n",
              "      <td>893</td>\n",
              "      <td>3</td>\n",
              "      <td>Wilkes, Mrs. James (Ellen Needs)</td>\n",
              "      <td>female</td>\n",
              "      <td>47.0</td>\n",
              "      <td>1</td>\n",
              "      <td>0</td>\n",
              "      <td>363272</td>\n",
              "      <td>7.0000</td>\n",
              "      <td>NaN</td>\n",
              "      <td>S</td>\n",
              "    </tr>\n",
              "    <tr>\n",
              "      <th>2</th>\n",
              "      <td>894</td>\n",
              "      <td>2</td>\n",
              "      <td>Myles, Mr. Thomas Francis</td>\n",
              "      <td>male</td>\n",
              "      <td>62.0</td>\n",
              "      <td>0</td>\n",
              "      <td>0</td>\n",
              "      <td>240276</td>\n",
              "      <td>9.6875</td>\n",
              "      <td>NaN</td>\n",
              "      <td>Q</td>\n",
              "    </tr>\n",
              "    <tr>\n",
              "      <th>3</th>\n",
              "      <td>895</td>\n",
              "      <td>3</td>\n",
              "      <td>Wirz, Mr. Albert</td>\n",
              "      <td>male</td>\n",
              "      <td>27.0</td>\n",
              "      <td>0</td>\n",
              "      <td>0</td>\n",
              "      <td>315154</td>\n",
              "      <td>8.6625</td>\n",
              "      <td>NaN</td>\n",
              "      <td>S</td>\n",
              "    </tr>\n",
              "    <tr>\n",
              "      <th>4</th>\n",
              "      <td>896</td>\n",
              "      <td>3</td>\n",
              "      <td>Hirvonen, Mrs. Alexander (Helga E Lindqvist)</td>\n",
              "      <td>female</td>\n",
              "      <td>22.0</td>\n",
              "      <td>1</td>\n",
              "      <td>1</td>\n",
              "      <td>3101298</td>\n",
              "      <td>12.2875</td>\n",
              "      <td>NaN</td>\n",
              "      <td>S</td>\n",
              "    </tr>\n",
              "  </tbody>\n",
              "</table>\n",
              "</div>\n",
              "      <button class=\"colab-df-convert\" onclick=\"convertToInteractive('df-265351ea-c251-4378-9594-835494b950c5')\"\n",
              "              title=\"Convert this dataframe to an interactive table.\"\n",
              "              style=\"display:none;\">\n",
              "        \n",
              "  <svg xmlns=\"http://www.w3.org/2000/svg\" height=\"24px\"viewBox=\"0 0 24 24\"\n",
              "       width=\"24px\">\n",
              "    <path d=\"M0 0h24v24H0V0z\" fill=\"none\"/>\n",
              "    <path d=\"M18.56 5.44l.94 2.06.94-2.06 2.06-.94-2.06-.94-.94-2.06-.94 2.06-2.06.94zm-11 1L8.5 8.5l.94-2.06 2.06-.94-2.06-.94L8.5 2.5l-.94 2.06-2.06.94zm10 10l.94 2.06.94-2.06 2.06-.94-2.06-.94-.94-2.06-.94 2.06-2.06.94z\"/><path d=\"M17.41 7.96l-1.37-1.37c-.4-.4-.92-.59-1.43-.59-.52 0-1.04.2-1.43.59L10.3 9.45l-7.72 7.72c-.78.78-.78 2.05 0 2.83L4 21.41c.39.39.9.59 1.41.59.51 0 1.02-.2 1.41-.59l7.78-7.78 2.81-2.81c.8-.78.8-2.07 0-2.86zM5.41 20L4 18.59l7.72-7.72 1.47 1.35L5.41 20z\"/>\n",
              "  </svg>\n",
              "      </button>\n",
              "      \n",
              "  <style>\n",
              "    .colab-df-container {\n",
              "      display:flex;\n",
              "      flex-wrap:wrap;\n",
              "      gap: 12px;\n",
              "    }\n",
              "\n",
              "    .colab-df-convert {\n",
              "      background-color: #E8F0FE;\n",
              "      border: none;\n",
              "      border-radius: 50%;\n",
              "      cursor: pointer;\n",
              "      display: none;\n",
              "      fill: #1967D2;\n",
              "      height: 32px;\n",
              "      padding: 0 0 0 0;\n",
              "      width: 32px;\n",
              "    }\n",
              "\n",
              "    .colab-df-convert:hover {\n",
              "      background-color: #E2EBFA;\n",
              "      box-shadow: 0px 1px 2px rgba(60, 64, 67, 0.3), 0px 1px 3px 1px rgba(60, 64, 67, 0.15);\n",
              "      fill: #174EA6;\n",
              "    }\n",
              "\n",
              "    [theme=dark] .colab-df-convert {\n",
              "      background-color: #3B4455;\n",
              "      fill: #D2E3FC;\n",
              "    }\n",
              "\n",
              "    [theme=dark] .colab-df-convert:hover {\n",
              "      background-color: #434B5C;\n",
              "      box-shadow: 0px 1px 3px 1px rgba(0, 0, 0, 0.15);\n",
              "      filter: drop-shadow(0px 1px 2px rgba(0, 0, 0, 0.3));\n",
              "      fill: #FFFFFF;\n",
              "    }\n",
              "  </style>\n",
              "\n",
              "      <script>\n",
              "        const buttonEl =\n",
              "          document.querySelector('#df-265351ea-c251-4378-9594-835494b950c5 button.colab-df-convert');\n",
              "        buttonEl.style.display =\n",
              "          google.colab.kernel.accessAllowed ? 'block' : 'none';\n",
              "\n",
              "        async function convertToInteractive(key) {\n",
              "          const element = document.querySelector('#df-265351ea-c251-4378-9594-835494b950c5');\n",
              "          const dataTable =\n",
              "            await google.colab.kernel.invokeFunction('convertToInteractive',\n",
              "                                                     [key], {});\n",
              "          if (!dataTable) return;\n",
              "\n",
              "          const docLinkHtml = 'Like what you see? Visit the ' +\n",
              "            '<a target=\"_blank\" href=https://colab.research.google.com/notebooks/data_table.ipynb>data table notebook</a>'\n",
              "            + ' to learn more about interactive tables.';\n",
              "          element.innerHTML = '';\n",
              "          dataTable['output_type'] = 'display_data';\n",
              "          await google.colab.output.renderOutput(dataTable, element);\n",
              "          const docLink = document.createElement('div');\n",
              "          docLink.innerHTML = docLinkHtml;\n",
              "          element.appendChild(docLink);\n",
              "        }\n",
              "      </script>\n",
              "    </div>\n",
              "  </div>\n",
              "  "
            ]
          },
          "metadata": {},
          "execution_count": 157
        }
      ]
    },
    {
      "cell_type": "code",
      "source": [
        "train_df.shape  # 891개의 row와 12개의 column"
      ],
      "metadata": {
        "id": "p0K8igiStqhK",
        "colab": {
          "base_uri": "https://localhost:8080/"
        },
        "outputId": "1f05c393-b261-4bb6-c2eb-1e69e94348be"
      },
      "execution_count": null,
      "outputs": [
        {
          "output_type": "execute_result",
          "data": {
            "text/plain": [
              "(891, 12)"
            ]
          },
          "metadata": {},
          "execution_count": 158
        }
      ]
    },
    {
      "cell_type": "code",
      "source": [
        "test_df.shape  # 418개의 row와 11개의 column"
      ],
      "metadata": {
        "id": "EhSFPXiarE7c",
        "colab": {
          "base_uri": "https://localhost:8080/"
        },
        "outputId": "390a9c5c-7f04-440b-c2a2-b087a12ea7b0"
      },
      "execution_count": null,
      "outputs": [
        {
          "output_type": "execute_result",
          "data": {
            "text/plain": [
              "(418, 11)"
            ]
          },
          "metadata": {},
          "execution_count": 159
        }
      ]
    },
    {
      "cell_type": "code",
      "source": [
        "train_df.ndim  # 2차원 데이터"
      ],
      "metadata": {
        "id": "KD4_0go8Gp_s",
        "colab": {
          "base_uri": "https://localhost:8080/"
        },
        "outputId": "052e2b55-467f-467c-cdb7-9957ef4b715c"
      },
      "execution_count": null,
      "outputs": [
        {
          "output_type": "execute_result",
          "data": {
            "text/plain": [
              "2"
            ]
          },
          "metadata": {},
          "execution_count": 160
        }
      ]
    },
    {
      "cell_type": "code",
      "source": [
        "train_df.info()"
      ],
      "metadata": {
        "id": "xoRJh-FBgeT2",
        "colab": {
          "base_uri": "https://localhost:8080/"
        },
        "outputId": "7d51aca5-065e-4ac8-f366-b400602356e2"
      },
      "execution_count": null,
      "outputs": [
        {
          "output_type": "stream",
          "name": "stdout",
          "text": [
            "<class 'pandas.core.frame.DataFrame'>\n",
            "RangeIndex: 891 entries, 0 to 890\n",
            "Data columns (total 12 columns):\n",
            " #   Column       Non-Null Count  Dtype  \n",
            "---  ------       --------------  -----  \n",
            " 0   PassengerId  891 non-null    int64  \n",
            " 1   Survived     891 non-null    int64  \n",
            " 2   Pclass       891 non-null    int64  \n",
            " 3   Name         891 non-null    object \n",
            " 4   Sex          891 non-null    object \n",
            " 5   Age          714 non-null    float64\n",
            " 6   SibSp        891 non-null    int64  \n",
            " 7   Parch        891 non-null    int64  \n",
            " 8   Ticket       891 non-null    object \n",
            " 9   Fare         891 non-null    float64\n",
            " 10  Cabin        204 non-null    object \n",
            " 11  Embarked     889 non-null    object \n",
            "dtypes: float64(2), int64(5), object(5)\n",
            "memory usage: 83.7+ KB\n"
          ]
        }
      ]
    },
    {
      "cell_type": "code",
      "source": [
        "test_df.info()"
      ],
      "metadata": {
        "id": "-uDfYLxSrNNB",
        "colab": {
          "base_uri": "https://localhost:8080/"
        },
        "outputId": "16d2f1f8-df7c-455a-ae82-0ab974877ebe"
      },
      "execution_count": null,
      "outputs": [
        {
          "output_type": "stream",
          "name": "stdout",
          "text": [
            "<class 'pandas.core.frame.DataFrame'>\n",
            "RangeIndex: 418 entries, 0 to 417\n",
            "Data columns (total 11 columns):\n",
            " #   Column       Non-Null Count  Dtype  \n",
            "---  ------       --------------  -----  \n",
            " 0   PassengerId  418 non-null    int64  \n",
            " 1   Pclass       418 non-null    int64  \n",
            " 2   Name         418 non-null    object \n",
            " 3   Sex          418 non-null    object \n",
            " 4   Age          332 non-null    float64\n",
            " 5   SibSp        418 non-null    int64  \n",
            " 6   Parch        418 non-null    int64  \n",
            " 7   Ticket       418 non-null    object \n",
            " 8   Fare         417 non-null    float64\n",
            " 9   Cabin        91 non-null     object \n",
            " 10  Embarked     418 non-null    object \n",
            "dtypes: float64(2), int64(4), object(5)\n",
            "memory usage: 36.0+ KB\n"
          ]
        }
      ]
    },
    {
      "cell_type": "code",
      "source": [
        "# Cabin에 687개, Age에 177개, Embarked에 2개의 Null값이 있는 것을 확인할 수 있다.\n",
        "train_df.isnull().sum()"
      ],
      "metadata": {
        "id": "2znp_ncRizwY",
        "colab": {
          "base_uri": "https://localhost:8080/"
        },
        "outputId": "2db2a20f-d0fd-4e15-8b55-7be93f3abd00"
      },
      "execution_count": null,
      "outputs": [
        {
          "output_type": "execute_result",
          "data": {
            "text/plain": [
              "PassengerId      0\n",
              "Survived         0\n",
              "Pclass           0\n",
              "Name             0\n",
              "Sex              0\n",
              "Age            177\n",
              "SibSp            0\n",
              "Parch            0\n",
              "Ticket           0\n",
              "Fare             0\n",
              "Cabin          687\n",
              "Embarked         2\n",
              "dtype: int64"
            ]
          },
          "metadata": {},
          "execution_count": 163
        }
      ]
    },
    {
      "cell_type": "code",
      "source": [
        "# train 셋의 Null값 시각화\n",
        "sns.heatmap(train_df.isnull(), yticklabels=False, cbar=False, cmap='viridis')\n",
        "plt.show()"
      ],
      "metadata": {
        "id": "Bz_ITUPQzvAi",
        "colab": {
          "base_uri": "https://localhost:8080/",
          "height": 316
        },
        "outputId": "0659e718-e2dd-49dc-86a4-4970774a0b12"
      },
      "execution_count": null,
      "outputs": [
        {
          "output_type": "display_data",
          "data": {
            "text/plain": [
              "<Figure size 432x288 with 1 Axes>"
            ],
            "image/png": "[encoded data removed]"
          },
          "metadata": {
            "needs_background": "light"
          }
        }
      ]
    },
    {
      "cell_type": "code",
      "source": [
        "# test셋에는 Age와 Cabin, Fare에 Null값이 존재하는 것으로 보인다.\n",
        "test_df.isnull().sum()"
      ],
      "metadata": {
        "id": "eMMZDhFHfb9W",
        "colab": {
          "base_uri": "https://localhost:8080/"
        },
        "outputId": "406094e9-9340-455f-c9e8-d2a7f666032d"
      },
      "execution_count": null,
      "outputs": [
        {
          "output_type": "execute_result",
          "data": {
            "text/plain": [
              "PassengerId      0\n",
              "Pclass           0\n",
              "Name             0\n",
              "Sex              0\n",
              "Age             86\n",
              "SibSp            0\n",
              "Parch            0\n",
              "Ticket           0\n",
              "Fare             1\n",
              "Cabin          327\n",
              "Embarked         0\n",
              "dtype: int64"
            ]
          },
          "metadata": {},
          "execution_count": 165
        }
      ]
    },
    {
      "cell_type": "code",
      "source": [
        "sns.heatmap(test_df.isnull(), yticklabels=False, cbar=False, cmap='viridis')\n",
        "plt.show()"
      ],
      "metadata": {
        "id": "2FSh1lP0zyQr",
        "colab": {
          "base_uri": "https://localhost:8080/",
          "height": 316
        },
        "outputId": "77765332-6ffa-4abf-e61b-ffd09bf6cec3"
      },
      "execution_count": null,
      "outputs": [
        {
          "output_type": "display_data",
          "data": {
            "text/plain": [
              "<Figure size 432x288 with 1 Axes>"
            ],
            "image/png": "[encoded data removed]"
          },
          "metadata": {
            "needs_background": "light"
          }
        }
      ]
    },
    {
      "cell_type": "markdown",
      "source": [
        "* Age는 Null값처리가 필요할 것으로 보이며 Cabin은 객실번호로 Null값이 너무 많고 필요한 항목이 아닌것으로 보여 컬럼 삭제를 해도 좋을 것으로 보인다.\n",
        "* Embarked는 항목이 제일 많은 것으로 처리 예정"
      ],
      "metadata": {
        "id": "zYrj0Y3IY6xS"
      }
    },
    {
      "cell_type": "code",
      "source": [
        "# Age와 Fare의 기술통계량\n",
        "train_df[['Age', 'Fare']].describe()"
      ],
      "metadata": {
        "id": "9bmEillRsMNU",
        "colab": {
          "base_uri": "https://localhost:8080/",
          "height": 300
        },
        "outputId": "9f1c8308-9ede-4e6f-f292-24e82b6c76b9"
      },
      "execution_count": null,
      "outputs": [
        {
          "output_type": "execute_result",
          "data": {
            "text/plain": [
              "              Age        Fare\n",
              "count  714.000000  891.000000\n",
              "mean    29.699118   32.204208\n",
              "std     14.526497   49.693429\n",
              "min      0.420000    0.000000\n",
              "25%     20.125000    7.910400\n",
              "50%     28.000000   14.454200\n",
              "75%     38.000000   31.000000\n",
              "max     80.000000  512.329200"
            ],
            "text/html": [
              "\n",
              "  <div id=\"df-0a5f263f-0f4a-4e76-ab11-f6e2be6e947a\">\n",
              "    <div class=\"colab-df-container\">\n",
              "      <div>\n",
              "<style scoped>\n",
              "    .dataframe tbody tr th:only-of-type {\n",
              "        vertical-align: middle;\n",
              "    }\n",
              "\n",
              "    .dataframe tbody tr th {\n",
              "        vertical-align: top;\n",
              "    }\n",
              "\n",
              "    .dataframe thead th {\n",
              "        text-align: right;\n",
              "    }\n",
              "</style>\n",
              "<table border=\"1\" class=\"dataframe\">\n",
              "  <thead>\n",
              "    <tr style=\"text-align: right;\">\n",
              "      <th></th>\n",
              "      <th>Age</th>\n",
              "      <th>Fare</th>\n",
              "    </tr>\n",
              "  </thead>\n",
              "  <tbody>\n",
              "    <tr>\n",
              "      <th>count</th>\n",
              "      <td>714.000000</td>\n",
              "      <td>891.000000</td>\n",
              "    </tr>\n",
              "    <tr>\n",
              "      <th>mean</th>\n",
              "      <td>29.699118</td>\n",
              "      <td>32.204208</td>\n",
              "    </tr>\n",
              "    <tr>\n",
              "      <th>std</th>\n",
              "      <td>14.526497</td>\n",
              "      <td>49.693429</td>\n",
              "    </tr>\n",
              "    <tr>\n",
              "      <th>min</th>\n",
              "      <td>0.420000</td>\n",
              "      <td>0.000000</td>\n",
              "    </tr>\n",
              "    <tr>\n",
              "      <th>25%</th>\n",
              "      <td>20.125000</td>\n",
              "      <td>7.910400</td>\n",
              "    </tr>\n",
              "    <tr>\n",
              "      <th>50%</th>\n",
              "      <td>28.000000</td>\n",
              "      <td>14.454200</td>\n",
              "    </tr>\n",
              "    <tr>\n",
              "      <th>75%</th>\n",
              "      <td>38.000000</td>\n",
              "      <td>31.000000</td>\n",
              "    </tr>\n",
              "    <tr>\n",
              "      <th>max</th>\n",
              "      <td>80.000000</td>\n",
              "      <td>512.329200</td>\n",
              "    </tr>\n",
              "  </tbody>\n",
              "</table>\n",
              "</div>\n",
              "      <button class=\"colab-df-convert\" onclick=\"convertToInteractive('df-0a5f263f-0f4a-4e76-ab11-f6e2be6e947a')\"\n",
              "              title=\"Convert this dataframe to an interactive table.\"\n",
              "              style=\"display:none;\">\n",
              "        \n",
              "  <svg xmlns=\"http://www.w3.org/2000/svg\" height=\"24px\"viewBox=\"0 0 24 24\"\n",
              "       width=\"24px\">\n",
              "    <path d=\"M0 0h24v24H0V0z\" fill=\"none\"/>\n",
              "    <path d=\"M18.56 5.44l.94 2.06.94-2.06 2.06-.94-2.06-.94-.94-2.06-.94 2.06-2.06.94zm-11 1L8.5 8.5l.94-2.06 2.06-.94-2.06-.94L8.5 2.5l-.94 2.06-2.06.94zm10 10l.94 2.06.94-2.06 2.06-.94-2.06-.94-.94-2.06-.94 2.06-2.06.94z\"/><path d=\"M17.41 7.96l-1.37-1.37c-.4-.4-.92-.59-1.43-.59-.52 0-1.04.2-1.43.59L10.3 9.45l-7.72 7.72c-.78.78-.78 2.05 0 2.83L4 21.41c.39.39.9.59 1.41.59.51 0 1.02-.2 1.41-.59l7.78-7.78 2.81-2.81c.8-.78.8-2.07 0-2.86zM5.41 20L4 18.59l7.72-7.72 1.47 1.35L5.41 20z\"/>\n",
              "  </svg>\n",
              "      </button>\n",
              "      \n",
              "  <style>\n",
              "    .colab-df-container {\n",
              "      display:flex;\n",
              "      flex-wrap:wrap;\n",
              "      gap: 12px;\n",
              "    }\n",
              "\n",
              "    .colab-df-convert {\n",
              "      background-color: #E8F0FE;\n",
              "      border: none;\n",
              "      border-radius: 50%;\n",
              "      cursor: pointer;\n",
              "      display: none;\n",
              "      fill: #1967D2;\n",
              "      height: 32px;\n",
              "      padding: 0 0 0 0;\n",
              "      width: 32px;\n",
              "    }\n",
              "\n",
              "    .colab-df-convert:hover {\n",
              "      background-color: #E2EBFA;\n",
              "      box-shadow: 0px 1px 2px rgba(60, 64, 67, 0.3), 0px 1px 3px 1px rgba(60, 64, 67, 0.15);\n",
              "      fill: #174EA6;\n",
              "    }\n",
              "\n",
              "    [theme=dark] .colab-df-convert {\n",
              "      background-color: #3B4455;\n",
              "      fill: #D2E3FC;\n",
              "    }\n",
              "\n",
              "    [theme=dark] .colab-df-convert:hover {\n",
              "      background-color: #434B5C;\n",
              "      box-shadow: 0px 1px 3px 1px rgba(0, 0, 0, 0.15);\n",
              "      filter: drop-shadow(0px 1px 2px rgba(0, 0, 0, 0.3));\n",
              "      fill: #FFFFFF;\n",
              "    }\n",
              "  </style>\n",
              "\n",
              "      <script>\n",
              "        const buttonEl =\n",
              "          document.querySelector('#df-0a5f263f-0f4a-4e76-ab11-f6e2be6e947a button.colab-df-convert');\n",
              "        buttonEl.style.display =\n",
              "          google.colab.kernel.accessAllowed ? 'block' : 'none';\n",
              "\n",
              "        async function convertToInteractive(key) {\n",
              "          const element = document.querySelector('#df-0a5f263f-0f4a-4e76-ab11-f6e2be6e947a');\n",
              "          const dataTable =\n",
              "            await google.colab.kernel.invokeFunction('convertToInteractive',\n",
              "                                                     [key], {});\n",
              "          if (!dataTable) return;\n",
              "\n",
              "          const docLinkHtml = 'Like what you see? Visit the ' +\n",
              "            '<a target=\"_blank\" href=https://colab.research.google.com/notebooks/data_table.ipynb>data table notebook</a>'\n",
              "            + ' to learn more about interactive tables.';\n",
              "          element.innerHTML = '';\n",
              "          dataTable['output_type'] = 'display_data';\n",
              "          await google.colab.output.renderOutput(dataTable, element);\n",
              "          const docLink = document.createElement('div');\n",
              "          docLink.innerHTML = docLinkHtml;\n",
              "          element.appendChild(docLink);\n",
              "        }\n",
              "      </script>\n",
              "    </div>\n",
              "  </div>\n",
              "  "
            ]
          },
          "metadata": {},
          "execution_count": 167
        }
      ]
    },
    {
      "cell_type": "code",
      "source": [
        "test_df[['Age', 'Fare']].describe()"
      ],
      "metadata": {
        "id": "hITQD_PNqhhZ",
        "colab": {
          "base_uri": "https://localhost:8080/",
          "height": 300
        },
        "outputId": "90d46c88-7395-4574-a3e6-6571dc5e4535"
      },
      "execution_count": null,
      "outputs": [
        {
          "output_type": "execute_result",
          "data": {
            "text/plain": [
              "              Age        Fare\n",
              "count  332.000000  417.000000\n",
              "mean    30.272590   35.627188\n",
              "std     14.181209   55.907576\n",
              "min      0.170000    0.000000\n",
              "25%     21.000000    7.895800\n",
              "50%     27.000000   14.454200\n",
              "75%     39.000000   31.500000\n",
              "max     76.000000  512.329200"
            ],
            "text/html": [
              "\n",
              "  <div id=\"df-98b61ef0-3908-4e79-b3ad-77fe3595a47f\">\n",
              "    <div class=\"colab-df-container\">\n",
              "      <div>\n",
              "<style scoped>\n",
              "    .dataframe tbody tr th:only-of-type {\n",
              "        vertical-align: middle;\n",
              "    }\n",
              "\n",
              "    .dataframe tbody tr th {\n",
              "        vertical-align: top;\n",
              "    }\n",
              "\n",
              "    .dataframe thead th {\n",
              "        text-align: right;\n",
              "    }\n",
              "</style>\n",
              "<table border=\"1\" class=\"dataframe\">\n",
              "  <thead>\n",
              "    <tr style=\"text-align: right;\">\n",
              "      <th></th>\n",
              "      <th>Age</th>\n",
              "      <th>Fare</th>\n",
              "    </tr>\n",
              "  </thead>\n",
              "  <tbody>\n",
              "    <tr>\n",
              "      <th>count</th>\n",
              "      <td>332.000000</td>\n",
              "      <td>417.000000</td>\n",
              "    </tr>\n",
              "    <tr>\n",
              "      <th>mean</th>\n",
              "      <td>30.272590</td>\n",
              "      <td>35.627188</td>\n",
              "    </tr>\n",
              "    <tr>\n",
              "      <th>std</th>\n",
              "      <td>14.181209</td>\n",
              "      <td>55.907576</td>\n",
              "    </tr>\n",
              "    <tr>\n",
              "      <th>min</th>\n",
              "      <td>0.170000</td>\n",
              "      <td>0.000000</td>\n",
              "    </tr>\n",
              "    <tr>\n",
              "      <th>25%</th>\n",
              "      <td>21.000000</td>\n",
              "      <td>7.895800</td>\n",
              "    </tr>\n",
              "    <tr>\n",
              "      <th>50%</th>\n",
              "      <td>27.000000</td>\n",
              "      <td>14.454200</td>\n",
              "    </tr>\n",
              "    <tr>\n",
              "      <th>75%</th>\n",
              "      <td>39.000000</td>\n",
              "      <td>31.500000</td>\n",
              "    </tr>\n",
              "    <tr>\n",
              "      <th>max</th>\n",
              "      <td>76.000000</td>\n",
              "      <td>512.329200</td>\n",
              "    </tr>\n",
              "  </tbody>\n",
              "</table>\n",
              "</div>\n",
              "      <button class=\"colab-df-convert\" onclick=\"convertToInteractive('df-98b61ef0-3908-4e79-b3ad-77fe3595a47f')\"\n",
              "              title=\"Convert this dataframe to an interactive table.\"\n",
              "              style=\"display:none;\">\n",
              "        \n",
              "  <svg xmlns=\"http://www.w3.org/2000/svg\" height=\"24px\"viewBox=\"0 0 24 24\"\n",
              "       width=\"24px\">\n",
              "    <path d=\"M0 0h24v24H0V0z\" fill=\"none\"/>\n",
              "    <path d=\"M18.56 5.44l.94 2.06.94-2.06 2.06-.94-2.06-.94-.94-2.06-.94 2.06-2.06.94zm-11 1L8.5 8.5l.94-2.06 2.06-.94-2.06-.94L8.5 2.5l-.94 2.06-2.06.94zm10 10l.94 2.06.94-2.06 2.06-.94-2.06-.94-.94-2.06-.94 2.06-2.06.94z\"/><path d=\"M17.41 7.96l-1.37-1.37c-.4-.4-.92-.59-1.43-.59-.52 0-1.04.2-1.43.59L10.3 9.45l-7.72 7.72c-.78.78-.78 2.05 0 2.83L4 21.41c.39.39.9.59 1.41.59.51 0 1.02-.2 1.41-.59l7.78-7.78 2.81-2.81c.8-.78.8-2.07 0-2.86zM5.41 20L4 18.59l7.72-7.72 1.47 1.35L5.41 20z\"/>\n",
              "  </svg>\n",
              "      </button>\n",
              "      \n",
              "  <style>\n",
              "    .colab-df-container {\n",
              "      display:flex;\n",
              "      flex-wrap:wrap;\n",
              "      gap: 12px;\n",
              "    }\n",
              "\n",
              "    .colab-df-convert {\n",
              "      background-color: #E8F0FE;\n",
              "      border: none;\n",
              "      border-radius: 50%;\n",
              "      cursor: pointer;\n",
              "      display: none;\n",
              "      fill: #1967D2;\n",
              "      height: 32px;\n",
              "      padding: 0 0 0 0;\n",
              "      width: 32px;\n",
              "    }\n",
              "\n",
              "    .colab-df-convert:hover {\n",
              "      background-color: #E2EBFA;\n",
              "      box-shadow: 0px 1px 2px rgba(60, 64, 67, 0.3), 0px 1px 3px 1px rgba(60, 64, 67, 0.15);\n",
              "      fill: #174EA6;\n",
              "    }\n",
              "\n",
              "    [theme=dark] .colab-df-convert {\n",
              "      background-color: #3B4455;\n",
              "      fill: #D2E3FC;\n",
              "    }\n",
              "\n",
              "    [theme=dark] .colab-df-convert:hover {\n",
              "      background-color: #434B5C;\n",
              "      box-shadow: 0px 1px 3px 1px rgba(0, 0, 0, 0.15);\n",
              "      filter: drop-shadow(0px 1px 2px rgba(0, 0, 0, 0.3));\n",
              "      fill: #FFFFFF;\n",
              "    }\n",
              "  </style>\n",
              "\n",
              "      <script>\n",
              "        const buttonEl =\n",
              "          document.querySelector('#df-98b61ef0-3908-4e79-b3ad-77fe3595a47f button.colab-df-convert');\n",
              "        buttonEl.style.display =\n",
              "          google.colab.kernel.accessAllowed ? 'block' : 'none';\n",
              "\n",
              "        async function convertToInteractive(key) {\n",
              "          const element = document.querySelector('#df-98b61ef0-3908-4e79-b3ad-77fe3595a47f');\n",
              "          const dataTable =\n",
              "            await google.colab.kernel.invokeFunction('convertToInteractive',\n",
              "                                                     [key], {});\n",
              "          if (!dataTable) return;\n",
              "\n",
              "          const docLinkHtml = 'Like what you see? Visit the ' +\n",
              "            '<a target=\"_blank\" href=https://colab.research.google.com/notebooks/data_table.ipynb>data table notebook</a>'\n",
              "            + ' to learn more about interactive tables.';\n",
              "          element.innerHTML = '';\n",
              "          dataTable['output_type'] = 'display_data';\n",
              "          await google.colab.output.renderOutput(dataTable, element);\n",
              "          const docLink = document.createElement('div');\n",
              "          docLink.innerHTML = docLinkHtml;\n",
              "          element.appendChild(docLink);\n",
              "        }\n",
              "      </script>\n",
              "    </div>\n",
              "  </div>\n",
              "  "
            ]
          },
          "metadata": {},
          "execution_count": 168
        }
      ]
    },
    {
      "cell_type": "code",
      "source": [
        "# Age 시각화\n",
        "fig, ax = plt.subplots(nrows=2, figsize=(8,10))\n",
        "\n",
        "sns.boxplot(x='Age', data=train_df, ax=ax[0])\n",
        "sns.histplot(x='Age', data=train_df, ax=ax[1])\n",
        "\n",
        "plt.show()"
      ],
      "metadata": {
        "id": "9cXonuVisWrO",
        "colab": {
          "base_uri": "https://localhost:8080/",
          "height": 606
        },
        "outputId": "2fbd4ca1-28d8-4a9d-952a-de6f103903f7"
      },
      "execution_count": null,
      "outputs": [
        {
          "output_type": "display_data",
          "data": {
            "text/plain": [
              "<Figure size 576x720 with 2 Axes>"
            ],
            "image/png": "[encoded data removed]"
          },
          "metadata": {
            "needs_background": "light"
          }
        }
      ]
    },
    {
      "cell_type": "code",
      "source": [
        "# 구간화가 되지 않아서 보기 쉽지 않은 상태, NULL값 177개 존재 - 전처리 필요\n",
        "sns.countplot(x='Age', data=train_df)\n",
        "plt.show()"
      ],
      "metadata": {
        "id": "CqP7JUrhDuNh",
        "colab": {
          "base_uri": "https://localhost:8080/",
          "height": 279
        },
        "outputId": "daba9c89-156e-406d-bd9c-5617a10e901d"
      },
      "execution_count": null,
      "outputs": [
        {
          "output_type": "display_data",
          "data": {
            "text/plain": [
              "<Figure size 432x288 with 1 Axes>"
            ],
            "image/png": "[encoded data removed]"
          },
          "metadata": {
            "needs_background": "light"
          }
        }
      ]
    },
    {
      "cell_type": "code",
      "source": [
        "# Fare 시각화 - 구간화 되지 않아서 전처리가 필요해 보임\n",
        "fig, ax = plt.subplots(nrows=2, figsize=(8,10))\n",
        "\n",
        "sns.boxplot(x='Fare', data=train_df, color='green', ax=ax[0])\n",
        "sns.histplot(x='Fare', data=train_df, color='green', bins=50, ax=ax[1])\n",
        "\n",
        "plt.show()"
      ],
      "metadata": {
        "id": "Y7Y-0E3NutLm",
        "colab": {
          "base_uri": "https://localhost:8080/",
          "height": 606
        },
        "outputId": "a9e414e3-7b72-4cb5-ce19-737ba80a1ba3"
      },
      "execution_count": null,
      "outputs": [
        {
          "output_type": "display_data",
          "data": {
            "text/plain": [
              "<Figure size 576x720 with 2 Axes>"
            ],
            "image/png": "[encoded data removed]"
          },
          "metadata": {
            "needs_background": "light"
          }
        }
      ]
    },
    {
      "cell_type": "code",
      "source": [
        "train_df['Survived'].value_counts()"
      ],
      "metadata": {
        "id": "VZIGNPilginV",
        "colab": {
          "base_uri": "https://localhost:8080/"
        },
        "outputId": "bb1e0f2a-999c-47c1-c1a5-5c6f66326d02"
      },
      "execution_count": null,
      "outputs": [
        {
          "output_type": "execute_result",
          "data": {
            "text/plain": [
              "0    549\n",
              "1    342\n",
              "Name: Survived, dtype: int64"
            ]
          },
          "metadata": {},
          "execution_count": 172
        }
      ]
    },
    {
      "cell_type": "markdown",
      "source": [
        "* 탑승객 891명 중 생존자가 342명으로 약 38%의 승객이 살아남았다."
      ],
      "metadata": {
        "id": "IoSSQhxuV2xA"
      }
    },
    {
      "cell_type": "code",
      "source": [
        "train_df['Pclass'].value_counts()"
      ],
      "metadata": {
        "id": "iKieEYaegxt0",
        "colab": {
          "base_uri": "https://localhost:8080/"
        },
        "outputId": "a8c0b1cc-0cdd-4399-b9ce-b20e73b6272f"
      },
      "execution_count": null,
      "outputs": [
        {
          "output_type": "execute_result",
          "data": {
            "text/plain": [
              "3    491\n",
              "1    216\n",
              "2    184\n",
              "Name: Pclass, dtype: int64"
            ]
          },
          "metadata": {},
          "execution_count": 173
        }
      ]
    },
    {
      "cell_type": "code",
      "source": [
        "# 등급별 전체 탑승객 수와 등급별 생존자와 사망자 수\n",
        "fig, ax = plt.subplots(ncols=2, figsize=(10,5))\n",
        "sns.countplot(x='Pclass', data=train_df, ax=ax[0])\n",
        "sns.countplot(x='Pclass',hue='Survived', data=train_df, ax=ax[1])\n",
        "plt.subplots_adjust(wspace = 0.5)\n",
        "plt.show()"
      ],
      "metadata": {
        "id": "_y-UNn66SQqO",
        "colab": {
          "base_uri": "https://localhost:8080/",
          "height": 334
        },
        "outputId": "3027c1ad-894e-4fd0-96a5-a2e2f139934c"
      },
      "execution_count": null,
      "outputs": [
        {
          "output_type": "display_data",
          "data": {
            "text/plain": [
              "<Figure size 720x360 with 2 Axes>"
            ],
            "image/png": "[encoded data removed]"
          },
          "metadata": {
            "needs_background": "light"
          }
        }
      ]
    },
    {
      "cell_type": "markdown",
      "source": [
        "* 3등석에 491명으로 탑승객이 제일 많았으며 2등석보다 1등석 탑승객이 32명이나 많았음을 알 수 있다.\n",
        "* 생존률은 1등급이 제일 높았다는 것을 알 수 있다."
      ],
      "metadata": {
        "id": "4_w-Zh_UVZfo"
      }
    },
    {
      "cell_type": "code",
      "source": [
        "# object 형식이라 전처리 필요\n",
        "train_df['Sex'].value_counts()"
      ],
      "metadata": {
        "id": "WVxAl-kXg_vK",
        "colab": {
          "base_uri": "https://localhost:8080/"
        },
        "outputId": "342c8b3d-08f5-443b-85d8-58d9925d6de2"
      },
      "execution_count": null,
      "outputs": [
        {
          "output_type": "execute_result",
          "data": {
            "text/plain": [
              "male      577\n",
              "female    314\n",
              "Name: Sex, dtype: int64"
            ]
          },
          "metadata": {},
          "execution_count": 175
        }
      ]
    },
    {
      "cell_type": "code",
      "source": [
        "train_df[train_df['Survived']==1].head(10)"
      ],
      "metadata": {
        "id": "yNBv2e_7kawK",
        "colab": {
          "base_uri": "https://localhost:8080/",
          "height": 363
        },
        "outputId": "6a796a97-40ef-46fa-b2cb-30f02803c23b"
      },
      "execution_count": null,
      "outputs": [
        {
          "output_type": "execute_result",
          "data": {
            "text/plain": [
              "    PassengerId  Survived  Pclass  \\\n",
              "1             2         1       1   \n",
              "2             3         1       3   \n",
              "3             4         1       1   \n",
              "8             9         1       3   \n",
              "9            10         1       2   \n",
              "10           11         1       3   \n",
              "11           12         1       1   \n",
              "15           16         1       2   \n",
              "17           18         1       2   \n",
              "19           20         1       3   \n",
              "\n",
              "                                                 Name     Sex   Age  SibSp  \\\n",
              "1   Cumings, Mrs. John Bradley (Florence Briggs Th...  female  38.0      1   \n",
              "2                              Heikkinen, Miss. Laina  female  26.0      0   \n",
              "3        Futrelle, Mrs. Jacques Heath (Lily May Peel)  female  35.0      1   \n",
              "8   Johnson, Mrs. Oscar W (Elisabeth Vilhelmina Berg)  female  27.0      0   \n",
              "9                 Nasser, Mrs. Nicholas (Adele Achem)  female  14.0      1   \n",
              "10                    Sandstrom, Miss. Marguerite Rut  female   4.0      1   \n",
              "11                           Bonnell, Miss. Elizabeth  female  58.0      0   \n",
              "15                   Hewlett, Mrs. (Mary D Kingcome)   female  55.0      0   \n",
              "17                       Williams, Mr. Charles Eugene    male   NaN      0   \n",
              "19                            Masselmani, Mrs. Fatima  female   NaN      0   \n",
              "\n",
              "    Parch            Ticket     Fare Cabin Embarked  \n",
              "1       0          PC 17599  71.2833   C85        C  \n",
              "2       0  STON/O2. 3101282   7.9250   NaN        S  \n",
              "3       0            113803  53.1000  C123        S  \n",
              "8       2            347742  11.1333   NaN        S  \n",
              "9       0            237736  30.0708   NaN        C  \n",
              "10      1           PP 9549  16.7000    G6        S  \n",
              "11      0            113783  26.5500  C103        S  \n",
              "15      0            248706  16.0000   NaN        S  \n",
              "17      0            244373  13.0000   NaN        S  \n",
              "19      0              2649   7.2250   NaN        C  "
            ],
            "text/html": [
              "\n",
              "  <div id=\"df-28483b57-91b9-4d7a-82eb-cd71b2e1f01c\">\n",
              "    <div class=\"colab-df-container\">\n",
              "      <div>\n",
              "<style scoped>\n",
              "    .dataframe tbody tr th:only-of-type {\n",
              "        vertical-align: middle;\n",
              "    }\n",
              "\n",
              "    .dataframe tbody tr th {\n",
              "        vertical-align: top;\n",
              "    }\n",
              "\n",
              "    .dataframe thead th {\n",
              "        text-align: right;\n",
              "    }\n",
              "</style>\n",
              "<table border=\"1\" class=\"dataframe\">\n",
              "  <thead>\n",
              "    <tr style=\"text-align: right;\">\n",
              "      <th></th>\n",
              "      <th>PassengerId</th>\n",
              "      <th>Survived</th>\n",
              "      <th>Pclass</th>\n",
              "      <th>Name</th>\n",
              "      <th>Sex</th>\n",
              "      <th>Age</th>\n",
              "      <th>SibSp</th>\n",
              "      <th>Parch</th>\n",
              "      <th>Ticket</th>\n",
              "      <th>Fare</th>\n",
              "      <th>Cabin</th>\n",
              "      <th>Embarked</th>\n",
              "    </tr>\n",
              "  </thead>\n",
              "  <tbody>\n",
              "    <tr>\n",
              "      <th>1</th>\n",
              "      <td>2</td>\n",
              "      <td>1</td>\n",
              "      <td>1</td>\n",
              "      <td>Cumings, Mrs. John Bradley (Florence Briggs Th...</td>\n",
              "      <td>female</td>\n",
              "      <td>38.0</td>\n",
              "      <td>1</td>\n",
              "      <td>0</td>\n",
              "      <td>PC 17599</td>\n",
              "      <td>71.2833</td>\n",
              "      <td>C85</td>\n",
              "      <td>C</td>\n",
              "    </tr>\n",
              "    <tr>\n",
              "      <th>2</th>\n",
              "      <td>3</td>\n",
              "      <td>1</td>\n",
              "      <td>3</td>\n",
              "      <td>Heikkinen, Miss. Laina</td>\n",
              "      <td>female</td>\n",
              "      <td>26.0</td>\n",
              "      <td>0</td>\n",
              "      <td>0</td>\n",
              "      <td>STON/O2. 3101282</td>\n",
              "      <td>7.9250</td>\n",
              "      <td>NaN</td>\n",
              "      <td>S</td>\n",
              "    </tr>\n",
              "    <tr>\n",
              "      <th>3</th>\n",
              "      <td>4</td>\n",
              "      <td>1</td>\n",
              "      <td>1</td>\n",
              "      <td>Futrelle, Mrs. Jacques Heath (Lily May Peel)</td>\n",
              "      <td>female</td>\n",
              "      <td>35.0</td>\n",
              "      <td>1</td>\n",
              "      <td>0</td>\n",
              "      <td>113803</td>\n",
              "      <td>53.1000</td>\n",
              "      <td>C123</td>\n",
              "      <td>S</td>\n",
              "    </tr>\n",
              "    <tr>\n",
              "      <th>8</th>\n",
              "      <td>9</td>\n",
              "      <td>1</td>\n",
              "      <td>3</td>\n",
              "      <td>Johnson, Mrs. Oscar W (Elisabeth Vilhelmina Berg)</td>\n",
              "      <td>female</td>\n",
              "      <td>27.0</td>\n",
              "      <td>0</td>\n",
              "      <td>2</td>\n",
              "      <td>347742</td>\n",
              "      <td>11.1333</td>\n",
              "      <td>NaN</td>\n",
              "      <td>S</td>\n",
              "    </tr>\n",
              "    <tr>\n",
              "      <th>9</th>\n",
              "      <td>10</td>\n",
              "      <td>1</td>\n",
              "      <td>2</td>\n",
              "      <td>Nasser, Mrs. Nicholas (Adele Achem)</td>\n",
              "      <td>female</td>\n",
              "      <td>14.0</td>\n",
              "      <td>1</td>\n",
              "      <td>0</td>\n",
              "      <td>237736</td>\n",
              "      <td>30.0708</td>\n",
              "      <td>NaN</td>\n",
              "      <td>C</td>\n",
              "    </tr>\n",
              "    <tr>\n",
              "      <th>10</th>\n",
              "      <td>11</td>\n",
              "      <td>1</td>\n",
              "      <td>3</td>\n",
              "      <td>Sandstrom, Miss. Marguerite Rut</td>\n",
              "      <td>female</td>\n",
              "      <td>4.0</td>\n",
              "      <td>1</td>\n",
              "      <td>1</td>\n",
              "      <td>PP 9549</td>\n",
              "      <td>16.7000</td>\n",
              "      <td>G6</td>\n",
              "      <td>S</td>\n",
              "    </tr>\n",
              "    <tr>\n",
              "      <th>11</th>\n",
              "      <td>12</td>\n",
              "      <td>1</td>\n",
              "      <td>1</td>\n",
              "      <td>Bonnell, Miss. Elizabeth</td>\n",
              "      <td>female</td>\n",
              "      <td>58.0</td>\n",
              "      <td>0</td>\n",
              "      <td>0</td>\n",
              "      <td>113783</td>\n",
              "      <td>26.5500</td>\n",
              "      <td>C103</td>\n",
              "      <td>S</td>\n",
              "    </tr>\n",
              "    <tr>\n",
              "      <th>15</th>\n",
              "      <td>16</td>\n",
              "      <td>1</td>\n",
              "      <td>2</td>\n",
              "      <td>Hewlett, Mrs. (Mary D Kingcome)</td>\n",
              "      <td>female</td>\n",
              "      <td>55.0</td>\n",
              "      <td>0</td>\n",
              "      <td>0</td>\n",
              "      <td>248706</td>\n",
              "      <td>16.0000</td>\n",
              "      <td>NaN</td>\n",
              "      <td>S</td>\n",
              "    </tr>\n",
              "    <tr>\n",
              "      <th>17</th>\n",
              "      <td>18</td>\n",
              "      <td>1</td>\n",
              "      <td>2</td>\n",
              "      <td>Williams, Mr. Charles Eugene</td>\n",
              "      <td>male</td>\n",
              "      <td>NaN</td>\n",
              "      <td>0</td>\n",
              "      <td>0</td>\n",
              "      <td>244373</td>\n",
              "      <td>13.0000</td>\n",
              "      <td>NaN</td>\n",
              "      <td>S</td>\n",
              "    </tr>\n",
              "    <tr>\n",
              "      <th>19</th>\n",
              "      <td>20</td>\n",
              "      <td>1</td>\n",
              "      <td>3</td>\n",
              "      <td>Masselmani, Mrs. Fatima</td>\n",
              "      <td>female</td>\n",
              "      <td>NaN</td>\n",
              "      <td>0</td>\n",
              "      <td>0</td>\n",
              "      <td>2649</td>\n",
              "      <td>7.2250</td>\n",
              "      <td>NaN</td>\n",
              "      <td>C</td>\n",
              "    </tr>\n",
              "  </tbody>\n",
              "</table>\n",
              "</div>\n",
              "      <button class=\"colab-df-convert\" onclick=\"convertToInteractive('df-28483b57-91b9-4d7a-82eb-cd71b2e1f01c')\"\n",
              "              title=\"Convert this dataframe to an interactive table.\"\n",
              "              style=\"display:none;\">\n",
              "        \n",
              "  <svg xmlns=\"http://www.w3.org/2000/svg\" height=\"24px\"viewBox=\"0 0 24 24\"\n",
              "       width=\"24px\">\n",
              "    <path d=\"M0 0h24v24H0V0z\" fill=\"none\"/>\n",
              "    <path d=\"M18.56 5.44l.94 2.06.94-2.06 2.06-.94-2.06-.94-.94-2.06-.94 2.06-2.06.94zm-11 1L8.5 8.5l.94-2.06 2.06-.94-2.06-.94L8.5 2.5l-.94 2.06-2.06.94zm10 10l.94 2.06.94-2.06 2.06-.94-2.06-.94-.94-2.06-.94 2.06-2.06.94z\"/><path d=\"M17.41 7.96l-1.37-1.37c-.4-.4-.92-.59-1.43-.59-.52 0-1.04.2-1.43.59L10.3 9.45l-7.72 7.72c-.78.78-.78 2.05 0 2.83L4 21.41c.39.39.9.59 1.41.59.51 0 1.02-.2 1.41-.59l7.78-7.78 2.81-2.81c.8-.78.8-2.07 0-2.86zM5.41 20L4 18.59l7.72-7.72 1.47 1.35L5.41 20z\"/>\n",
              "  </svg>\n",
              "      </button>\n",
              "      \n",
              "  <style>\n",
              "    .colab-df-container {\n",
              "      display:flex;\n",
              "      flex-wrap:wrap;\n",
              "      gap: 12px;\n",
              "    }\n",
              "\n",
              "    .colab-df-convert {\n",
              "      background-color: #E8F0FE;\n",
              "      border: none;\n",
              "      border-radius: 50%;\n",
              "      cursor: pointer;\n",
              "      display: none;\n",
              "      fill: #1967D2;\n",
              "      height: 32px;\n",
              "      padding: 0 0 0 0;\n",
              "      width: 32px;\n",
              "    }\n",
              "\n",
              "    .colab-df-convert:hover {\n",
              "      background-color: #E2EBFA;\n",
              "      box-shadow: 0px 1px 2px rgba(60, 64, 67, 0.3), 0px 1px 3px 1px rgba(60, 64, 67, 0.15);\n",
              "      fill: #174EA6;\n",
              "    }\n",
              "\n",
              "    [theme=dark] .colab-df-convert {\n",
              "      background-color: #3B4455;\n",
              "      fill: #D2E3FC;\n",
              "    }\n",
              "\n",
              "    [theme=dark] .colab-df-convert:hover {\n",
              "      background-color: #434B5C;\n",
              "      box-shadow: 0px 1px 3px 1px rgba(0, 0, 0, 0.15);\n",
              "      filter: drop-shadow(0px 1px 2px rgba(0, 0, 0, 0.3));\n",
              "      fill: #FFFFFF;\n",
              "    }\n",
              "  </style>\n",
              "\n",
              "      <script>\n",
              "        const buttonEl =\n",
              "          document.querySelector('#df-28483b57-91b9-4d7a-82eb-cd71b2e1f01c button.colab-df-convert');\n",
              "        buttonEl.style.display =\n",
              "          google.colab.kernel.accessAllowed ? 'block' : 'none';\n",
              "\n",
              "        async function convertToInteractive(key) {\n",
              "          const element = document.querySelector('#df-28483b57-91b9-4d7a-82eb-cd71b2e1f01c');\n",
              "          const dataTable =\n",
              "            await google.colab.kernel.invokeFunction('convertToInteractive',\n",
              "                                                     [key], {});\n",
              "          if (!dataTable) return;\n",
              "\n",
              "          const docLinkHtml = 'Like what you see? Visit the ' +\n",
              "            '<a target=\"_blank\" href=https://colab.research.google.com/notebooks/data_table.ipynb>data table notebook</a>'\n",
              "            + ' to learn more about interactive tables.';\n",
              "          element.innerHTML = '';\n",
              "          dataTable['output_type'] = 'display_data';\n",
              "          await google.colab.output.renderOutput(dataTable, element);\n",
              "          const docLink = document.createElement('div');\n",
              "          docLink.innerHTML = docLinkHtml;\n",
              "          element.appendChild(docLink);\n",
              "        }\n",
              "      </script>\n",
              "    </div>\n",
              "  </div>\n",
              "  "
            ]
          },
          "metadata": {},
          "execution_count": 176
        }
      ]
    },
    {
      "cell_type": "code",
      "source": [
        "fig, ax = plt.subplots(ncols=2)\n",
        "sns.countplot(x='Sex', data=train_df, ax=ax[0])\n",
        "sns.barplot(x='Sex', y='Survived', data=train_df, ci=None, estimator=np.sum, ax=ax[1])\n",
        "plt.subplots_adjust(wspace = 0.5)\n",
        "plt.show()"
      ],
      "metadata": {
        "id": "_eQntgrSc5oK",
        "colab": {
          "base_uri": "https://localhost:8080/",
          "height": 281
        },
        "outputId": "51a215aa-f069-428f-b90d-8fa7efff6e79"
      },
      "execution_count": null,
      "outputs": [
        {
          "output_type": "display_data",
          "data": {
            "text/plain": [
              "<Figure size 432x288 with 2 Axes>"
            ],
            "image/png": "[encoded data removed]"
          },
          "metadata": {
            "needs_background": "light"
          }
        }
      ]
    },
    {
      "cell_type": "markdown",
      "source": [
        "* 남성 577명, 여성 314명으로 여성의 비율은 35%정도이다.\n",
        "* 생존자의 비율은 여성이 훨씬 높았다."
      ],
      "metadata": {
        "id": "al8ackqJWhzI"
      }
    },
    {
      "cell_type": "code",
      "source": [
        "train_df['SibSp'].value_counts()"
      ],
      "metadata": {
        "id": "xTs4hZp2hFHD",
        "colab": {
          "base_uri": "https://localhost:8080/"
        },
        "outputId": "5047ea08-1505-46c1-cd58-8cc4c0572857"
      },
      "execution_count": null,
      "outputs": [
        {
          "output_type": "execute_result",
          "data": {
            "text/plain": [
              "0    608\n",
              "1    209\n",
              "2     28\n",
              "4     18\n",
              "3     16\n",
              "8      7\n",
              "5      5\n",
              "Name: SibSp, dtype: int64"
            ]
          },
          "metadata": {},
          "execution_count": 178
        }
      ]
    },
    {
      "cell_type": "code",
      "source": [
        "fig, ax = plt.subplots(nrows=2)\n",
        "sns.countplot(x='SibSp', data=train_df, ax=ax[0])\n",
        "sns.barplot(x='SibSp', y='Survived',hue='Sex', data=train_df, ci=None, estimator=np.sum, ax=ax[1])\n",
        "plt.show()"
      ],
      "metadata": {
        "id": "_76IhJT5XL_A",
        "colab": {
          "base_uri": "https://localhost:8080/",
          "height": 279
        },
        "outputId": "f586bce5-b471-498c-d375-9b6a91f2fb21"
      },
      "execution_count": null,
      "outputs": [
        {
          "output_type": "display_data",
          "data": {
            "text/plain": [
              "<Figure size 432x288 with 2 Axes>"
            ],
            "image/png": "[encoded data removed]"
          },
          "metadata": {
            "needs_background": "light"
          }
        }
      ]
    },
    {
      "cell_type": "code",
      "source": [
        "sns.countplot(x='SibSp', hue='Survived', data=train_df)\n",
        "plt.show()"
      ],
      "metadata": {
        "id": "sDlAubQ9YWYA",
        "colab": {
          "base_uri": "https://localhost:8080/",
          "height": 279
        },
        "outputId": "8dc0e04a-738d-4f23-a64e-f3e96e58d3b5"
      },
      "execution_count": null,
      "outputs": [
        {
          "output_type": "display_data",
          "data": {
            "text/plain": [
              "<Figure size 432x288 with 1 Axes>"
            ],
            "image/png": "[encoded data removed]"
          },
          "metadata": {
            "needs_background": "light"
          }
        }
      ]
    },
    {
      "cell_type": "markdown",
      "source": [
        "* 탑승객과 함께 탄 형제자매나 배우자 수, 해당 사항이 없는 탑승객이 608명이며 1명과 동승한 경우는 209명이였다."
      ],
      "metadata": {
        "id": "UJuhrRJ-XbJ4"
      }
    },
    {
      "cell_type": "code",
      "source": [
        "train_df['Parch'].value_counts()"
      ],
      "metadata": {
        "id": "YRDpcr9jYwOX",
        "colab": {
          "base_uri": "https://localhost:8080/"
        },
        "outputId": "fbcf42de-a450-4f36-d910-ca101a2d8a2f"
      },
      "execution_count": null,
      "outputs": [
        {
          "output_type": "execute_result",
          "data": {
            "text/plain": [
              "0    678\n",
              "1    118\n",
              "2     80\n",
              "5      5\n",
              "3      5\n",
              "4      4\n",
              "6      1\n",
              "Name: Parch, dtype: int64"
            ]
          },
          "metadata": {},
          "execution_count": 181
        }
      ]
    },
    {
      "cell_type": "code",
      "source": [
        "fig, ax = plt.subplots(nrows=2)\n",
        "sns.countplot(x='Parch',data=train_df, ax=ax[0])\n",
        "sns.barplot(x='Parch', y='Survived', data=train_df, ci=None, estimator=np.sum, ax=ax[1])\n",
        "plt.show()"
      ],
      "metadata": {
        "id": "5k-jVA4z8Gh_",
        "colab": {
          "base_uri": "https://localhost:8080/",
          "height": 279
        },
        "outputId": "956184aa-988a-4958-9a54-050248ec0947"
      },
      "execution_count": null,
      "outputs": [
        {
          "output_type": "display_data",
          "data": {
            "text/plain": [
              "<Figure size 432x288 with 2 Axes>"
            ],
            "image/png": "[encoded data removed]"
          },
          "metadata": {
            "needs_background": "light"
          }
        }
      ]
    },
    {
      "cell_type": "code",
      "source": [
        "sns.countplot(x='Parch', hue='Survived', data=train_df)\n",
        "plt.show()"
      ],
      "metadata": {
        "id": "KeFFRHXPkOBf",
        "colab": {
          "base_uri": "https://localhost:8080/",
          "height": 279
        },
        "outputId": "268b17ce-b214-4c3b-a0c3-d3cc2d1303c2"
      },
      "execution_count": null,
      "outputs": [
        {
          "output_type": "display_data",
          "data": {
            "text/plain": [
              "<Figure size 432x288 with 1 Axes>"
            ],
            "image/png": "[encoded data removed]"
          },
          "metadata": {
            "needs_background": "light"
          }
        }
      ]
    },
    {
      "cell_type": "markdown",
      "source": [
        "* 탑승객과 함께 탄 부모님 혹은 자식의 수, 678명은 해당이 되지 않았으며 118명은 1명과 같이 동승, 2명과 동승은 80명이였다."
      ],
      "metadata": {
        "id": "giiHkzloX15p"
      }
    },
    {
      "cell_type": "code",
      "source": [
        "train_df['Embarked'].value_counts()"
      ],
      "metadata": {
        "id": "V5Vpdfshht1d",
        "colab": {
          "base_uri": "https://localhost:8080/"
        },
        "outputId": "7a7418f2-73c2-4a8f-992a-9a1e6a6f3c51"
      },
      "execution_count": null,
      "outputs": [
        {
          "output_type": "execute_result",
          "data": {
            "text/plain": [
              "S    644\n",
              "C    168\n",
              "Q     77\n",
              "Name: Embarked, dtype: int64"
            ]
          },
          "metadata": {},
          "execution_count": 184
        }
      ]
    },
    {
      "cell_type": "code",
      "source": [
        "fig, ax = plt.subplots(nrows=2)\n",
        "sns.countplot(x='Embarked', data=train_df, ax=ax[0])\n",
        "sns.countplot(x='Embarked', hue='Survived', data=train_df, ax=ax[1])\n",
        "plt.show()"
      ],
      "metadata": {
        "id": "KEIz9VLeayqH",
        "colab": {
          "base_uri": "https://localhost:8080/",
          "height": 279
        },
        "outputId": "dc4034ed-1a3e-4973-8ba9-ae488b03d52b"
      },
      "execution_count": null,
      "outputs": [
        {
          "output_type": "display_data",
          "data": {
            "text/plain": [
              "<Figure size 432x288 with 2 Axes>"
            ],
            "image/png": "[encoded data removed]"
          },
          "metadata": {
            "needs_background": "light"
          }
        }
      ]
    },
    {
      "cell_type": "markdown",
      "source": [
        "* 영국의 Southampton에서 644명, 프랑스의 Cherbourg에서 168명, 아일랜드 Queenstown에서 77명 탑승"
      ],
      "metadata": {
        "id": "uEdYhNnYbsVx"
      }
    },
    {
      "cell_type": "code",
      "source": [
        "train_df['Ticket'].value_counts()"
      ],
      "metadata": {
        "id": "rRk02RKkF990",
        "colab": {
          "base_uri": "https://localhost:8080/"
        },
        "outputId": "7c641786-a910-4050-db5e-e9673770c7d3"
      },
      "execution_count": null,
      "outputs": [
        {
          "output_type": "execute_result",
          "data": {
            "text/plain": [
              "347082      7\n",
              "CA. 2343    7\n",
              "1601        7\n",
              "3101295     6\n",
              "CA 2144     6\n",
              "           ..\n",
              "9234        1\n",
              "19988       1\n",
              "2693        1\n",
              "PC 17612    1\n",
              "370376      1\n",
              "Name: Ticket, Length: 681, dtype: int64"
            ]
          },
          "metadata": {},
          "execution_count": 186
        }
      ]
    },
    {
      "cell_type": "code",
      "source": [
        "train_df[train_df['Ticket'] == 'PC 17757' ]"
      ],
      "metadata": {
        "id": "M2LPlsfIMxc2",
        "colab": {
          "base_uri": "https://localhost:8080/",
          "height": 175
        },
        "outputId": "631a7b0d-ca5b-499c-b81b-a57620b569d9"
      },
      "execution_count": null,
      "outputs": [
        {
          "output_type": "execute_result",
          "data": {
            "text/plain": [
              "     PassengerId  Survived  Pclass  \\\n",
              "380          381         1       1   \n",
              "557          558         0       1   \n",
              "700          701         1       1   \n",
              "716          717         1       1   \n",
              "\n",
              "                                                  Name     Sex   Age  SibSp  \\\n",
              "380                              Bidois, Miss. Rosalie  female  42.0      0   \n",
              "557                                Robbins, Mr. Victor    male   NaN      0   \n",
              "700  Astor, Mrs. John Jacob (Madeleine Talmadge Force)  female  18.0      1   \n",
              "716                      Endres, Miss. Caroline Louise  female  38.0      0   \n",
              "\n",
              "     Parch    Ticket     Fare    Cabin Embarked  \n",
              "380      0  PC 17757  227.525      NaN        C  \n",
              "557      0  PC 17757  227.525      NaN        C  \n",
              "700      0  PC 17757  227.525  C62 C64        C  \n",
              "716      0  PC 17757  227.525      C45        C  "
            ],
            "text/html": [
              "\n",
              "  <div id=\"df-d94037e3-a40c-4b99-84f5-4b584e610332\">\n",
              "    <div class=\"colab-df-container\">\n",
              "      <div>\n",
              "<style scoped>\n",
              "    .dataframe tbody tr th:only-of-type {\n",
              "        vertical-align: middle;\n",
              "    }\n",
              "\n",
              "    .dataframe tbody tr th {\n",
              "        vertical-align: top;\n",
              "    }\n",
              "\n",
              "    .dataframe thead th {\n",
              "        text-align: right;\n",
              "    }\n",
              "</style>\n",
              "<table border=\"1\" class=\"dataframe\">\n",
              "  <thead>\n",
              "    <tr style=\"text-align: right;\">\n",
              "      <th></th>\n",
              "      <th>PassengerId</th>\n",
              "      <th>Survived</th>\n",
              "      <th>Pclass</th>\n",
              "      <th>Name</th>\n",
              "      <th>Sex</th>\n",
              "      <th>Age</th>\n",
              "      <th>SibSp</th>\n",
              "      <th>Parch</th>\n",
              "      <th>Ticket</th>\n",
              "      <th>Fare</th>\n",
              "      <th>Cabin</th>\n",
              "      <th>Embarked</th>\n",
              "    </tr>\n",
              "  </thead>\n",
              "  <tbody>\n",
              "    <tr>\n",
              "      <th>380</th>\n",
              "      <td>381</td>\n",
              "      <td>1</td>\n",
              "      <td>1</td>\n",
              "      <td>Bidois, Miss. Rosalie</td>\n",
              "      <td>female</td>\n",
              "      <td>42.0</td>\n",
              "      <td>0</td>\n",
              "      <td>0</td>\n",
              "      <td>PC 17757</td>\n",
              "      <td>227.525</td>\n",
              "      <td>NaN</td>\n",
              "      <td>C</td>\n",
              "    </tr>\n",
              "    <tr>\n",
              "      <th>557</th>\n",
              "      <td>558</td>\n",
              "      <td>0</td>\n",
              "      <td>1</td>\n",
              "      <td>Robbins, Mr. Victor</td>\n",
              "      <td>male</td>\n",
              "      <td>NaN</td>\n",
              "      <td>0</td>\n",
              "      <td>0</td>\n",
              "      <td>PC 17757</td>\n",
              "      <td>227.525</td>\n",
              "      <td>NaN</td>\n",
              "      <td>C</td>\n",
              "    </tr>\n",
              "    <tr>\n",
              "      <th>700</th>\n",
              "      <td>701</td>\n",
              "      <td>1</td>\n",
              "      <td>1</td>\n",
              "      <td>Astor, Mrs. John Jacob (Madeleine Talmadge Force)</td>\n",
              "      <td>female</td>\n",
              "      <td>18.0</td>\n",
              "      <td>1</td>\n",
              "      <td>0</td>\n",
              "      <td>PC 17757</td>\n",
              "      <td>227.525</td>\n",
              "      <td>C62 C64</td>\n",
              "      <td>C</td>\n",
              "    </tr>\n",
              "    <tr>\n",
              "      <th>716</th>\n",
              "      <td>717</td>\n",
              "      <td>1</td>\n",
              "      <td>1</td>\n",
              "      <td>Endres, Miss. Caroline Louise</td>\n",
              "      <td>female</td>\n",
              "      <td>38.0</td>\n",
              "      <td>0</td>\n",
              "      <td>0</td>\n",
              "      <td>PC 17757</td>\n",
              "      <td>227.525</td>\n",
              "      <td>C45</td>\n",
              "      <td>C</td>\n",
              "    </tr>\n",
              "  </tbody>\n",
              "</table>\n",
              "</div>\n",
              "      <button class=\"colab-df-convert\" onclick=\"convertToInteractive('df-d94037e3-a40c-4b99-84f5-4b584e610332')\"\n",
              "              title=\"Convert this dataframe to an interactive table.\"\n",
              "              style=\"display:none;\">\n",
              "        \n",
              "  <svg xmlns=\"http://www.w3.org/2000/svg\" height=\"24px\"viewBox=\"0 0 24 24\"\n",
              "       width=\"24px\">\n",
              "    <path d=\"M0 0h24v24H0V0z\" fill=\"none\"/>\n",
              "    <path d=\"M18.56 5.44l.94 2.06.94-2.06 2.06-.94-2.06-.94-.94-2.06-.94 2.06-2.06.94zm-11 1L8.5 8.5l.94-2.06 2.06-.94-2.06-.94L8.5 2.5l-.94 2.06-2.06.94zm10 10l.94 2.06.94-2.06 2.06-.94-2.06-.94-.94-2.06-.94 2.06-2.06.94z\"/><path d=\"M17.41 7.96l-1.37-1.37c-.4-.4-.92-.59-1.43-.59-.52 0-1.04.2-1.43.59L10.3 9.45l-7.72 7.72c-.78.78-.78 2.05 0 2.83L4 21.41c.39.39.9.59 1.41.59.51 0 1.02-.2 1.41-.59l7.78-7.78 2.81-2.81c.8-.78.8-2.07 0-2.86zM5.41 20L4 18.59l7.72-7.72 1.47 1.35L5.41 20z\"/>\n",
              "  </svg>\n",
              "      </button>\n",
              "      \n",
              "  <style>\n",
              "    .colab-df-container {\n",
              "      display:flex;\n",
              "      flex-wrap:wrap;\n",
              "      gap: 12px;\n",
              "    }\n",
              "\n",
              "    .colab-df-convert {\n",
              "      background-color: #E8F0FE;\n",
              "      border: none;\n",
              "      border-radius: 50%;\n",
              "      cursor: pointer;\n",
              "      display: none;\n",
              "      fill: #1967D2;\n",
              "      height: 32px;\n",
              "      padding: 0 0 0 0;\n",
              "      width: 32px;\n",
              "    }\n",
              "\n",
              "    .colab-df-convert:hover {\n",
              "      background-color: #E2EBFA;\n",
              "      box-shadow: 0px 1px 2px rgba(60, 64, 67, 0.3), 0px 1px 3px 1px rgba(60, 64, 67, 0.15);\n",
              "      fill: #174EA6;\n",
              "    }\n",
              "\n",
              "    [theme=dark] .colab-df-convert {\n",
              "      background-color: #3B4455;\n",
              "      fill: #D2E3FC;\n",
              "    }\n",
              "\n",
              "    [theme=dark] .colab-df-convert:hover {\n",
              "      background-color: #434B5C;\n",
              "      box-shadow: 0px 1px 3px 1px rgba(0, 0, 0, 0.15);\n",
              "      filter: drop-shadow(0px 1px 2px rgba(0, 0, 0, 0.3));\n",
              "      fill: #FFFFFF;\n",
              "    }\n",
              "  </style>\n",
              "\n",
              "      <script>\n",
              "        const buttonEl =\n",
              "          document.querySelector('#df-d94037e3-a40c-4b99-84f5-4b584e610332 button.colab-df-convert');\n",
              "        buttonEl.style.display =\n",
              "          google.colab.kernel.accessAllowed ? 'block' : 'none';\n",
              "\n",
              "        async function convertToInteractive(key) {\n",
              "          const element = document.querySelector('#df-d94037e3-a40c-4b99-84f5-4b584e610332');\n",
              "          const dataTable =\n",
              "            await google.colab.kernel.invokeFunction('convertToInteractive',\n",
              "                                                     [key], {});\n",
              "          if (!dataTable) return;\n",
              "\n",
              "          const docLinkHtml = 'Like what you see? Visit the ' +\n",
              "            '<a target=\"_blank\" href=https://colab.research.google.com/notebooks/data_table.ipynb>data table notebook</a>'\n",
              "            + ' to learn more about interactive tables.';\n",
              "          element.innerHTML = '';\n",
              "          dataTable['output_type'] = 'display_data';\n",
              "          await google.colab.output.renderOutput(dataTable, element);\n",
              "          const docLink = document.createElement('div');\n",
              "          docLink.innerHTML = docLinkHtml;\n",
              "          element.appendChild(docLink);\n",
              "        }\n",
              "      </script>\n",
              "    </div>\n",
              "  </div>\n",
              "  "
            ]
          },
          "metadata": {},
          "execution_count": 187
        }
      ]
    },
    {
      "cell_type": "code",
      "source": [
        "train_df[train_df['Ticket']=='S.O.C. 14879']"
      ],
      "metadata": {
        "id": "aXKsArNZNjvQ",
        "colab": {
          "base_uri": "https://localhost:8080/",
          "height": 206
        },
        "outputId": "202dc63e-d132-4e31-bcf5-7f9e4ae153a8"
      },
      "execution_count": null,
      "outputs": [
        {
          "output_type": "execute_result",
          "data": {
            "text/plain": [
              "     PassengerId  Survived  Pclass                         Name   Sex   Age  \\\n",
              "72            73         0       2         Hood, Mr. Ambrose Jr  male  21.0   \n",
              "120          121         0       2  Hickman, Mr. Stanley George  male  21.0   \n",
              "385          386         0       2    Davies, Mr. Charles Henry  male  18.0   \n",
              "655          656         0       2    Hickman, Mr. Leonard Mark  male  24.0   \n",
              "665          666         0       2           Hickman, Mr. Lewis  male  32.0   \n",
              "\n",
              "     SibSp  Parch        Ticket  Fare Cabin Embarked  \n",
              "72       0      0  S.O.C. 14879  73.5   NaN        S  \n",
              "120      2      0  S.O.C. 14879  73.5   NaN        S  \n",
              "385      0      0  S.O.C. 14879  73.5   NaN        S  \n",
              "655      2      0  S.O.C. 14879  73.5   NaN        S  \n",
              "665      2      0  S.O.C. 14879  73.5   NaN        S  "
            ],
            "text/html": [
              "\n",
              "  <div id=\"df-e83670a1-ca1c-4b26-a5ae-fc3889ea89f1\">\n",
              "    <div class=\"colab-df-container\">\n",
              "      <div>\n",
              "<style scoped>\n",
              "    .dataframe tbody tr th:only-of-type {\n",
              "        vertical-align: middle;\n",
              "    }\n",
              "\n",
              "    .dataframe tbody tr th {\n",
              "        vertical-align: top;\n",
              "    }\n",
              "\n",
              "    .dataframe thead th {\n",
              "        text-align: right;\n",
              "    }\n",
              "</style>\n",
              "<table border=\"1\" class=\"dataframe\">\n",
              "  <thead>\n",
              "    <tr style=\"text-align: right;\">\n",
              "      <th></th>\n",
              "      <th>PassengerId</th>\n",
              "      <th>Survived</th>\n",
              "      <th>Pclass</th>\n",
              "      <th>Name</th>\n",
              "      <th>Sex</th>\n",
              "      <th>Age</th>\n",
              "      <th>SibSp</th>\n",
              "      <th>Parch</th>\n",
              "      <th>Ticket</th>\n",
              "      <th>Fare</th>\n",
              "      <th>Cabin</th>\n",
              "      <th>Embarked</th>\n",
              "    </tr>\n",
              "  </thead>\n",
              "  <tbody>\n",
              "    <tr>\n",
              "      <th>72</th>\n",
              "      <td>73</td>\n",
              "      <td>0</td>\n",
              "      <td>2</td>\n",
              "      <td>Hood, Mr. Ambrose Jr</td>\n",
              "      <td>male</td>\n",
              "      <td>21.0</td>\n",
              "      <td>0</td>\n",
              "      <td>0</td>\n",
              "      <td>S.O.C. 14879</td>\n",
              "      <td>73.5</td>\n",
              "      <td>NaN</td>\n",
              "      <td>S</td>\n",
              "    </tr>\n",
              "    <tr>\n",
              "      <th>120</th>\n",
              "      <td>121</td>\n",
              "      <td>0</td>\n",
              "      <td>2</td>\n",
              "      <td>Hickman, Mr. Stanley George</td>\n",
              "      <td>male</td>\n",
              "      <td>21.0</td>\n",
              "      <td>2</td>\n",
              "      <td>0</td>\n",
              "      <td>S.O.C. 14879</td>\n",
              "      <td>73.5</td>\n",
              "      <td>NaN</td>\n",
              "      <td>S</td>\n",
              "    </tr>\n",
              "    <tr>\n",
              "      <th>385</th>\n",
              "      <td>386</td>\n",
              "      <td>0</td>\n",
              "      <td>2</td>\n",
              "      <td>Davies, Mr. Charles Henry</td>\n",
              "      <td>male</td>\n",
              "      <td>18.0</td>\n",
              "      <td>0</td>\n",
              "      <td>0</td>\n",
              "      <td>S.O.C. 14879</td>\n",
              "      <td>73.5</td>\n",
              "      <td>NaN</td>\n",
              "      <td>S</td>\n",
              "    </tr>\n",
              "    <tr>\n",
              "      <th>655</th>\n",
              "      <td>656</td>\n",
              "      <td>0</td>\n",
              "      <td>2</td>\n",
              "      <td>Hickman, Mr. Leonard Mark</td>\n",
              "      <td>male</td>\n",
              "      <td>24.0</td>\n",
              "      <td>2</td>\n",
              "      <td>0</td>\n",
              "      <td>S.O.C. 14879</td>\n",
              "      <td>73.5</td>\n",
              "      <td>NaN</td>\n",
              "      <td>S</td>\n",
              "    </tr>\n",
              "    <tr>\n",
              "      <th>665</th>\n",
              "      <td>666</td>\n",
              "      <td>0</td>\n",
              "      <td>2</td>\n",
              "      <td>Hickman, Mr. Lewis</td>\n",
              "      <td>male</td>\n",
              "      <td>32.0</td>\n",
              "      <td>2</td>\n",
              "      <td>0</td>\n",
              "      <td>S.O.C. 14879</td>\n",
              "      <td>73.5</td>\n",
              "      <td>NaN</td>\n",
              "      <td>S</td>\n",
              "    </tr>\n",
              "  </tbody>\n",
              "</table>\n",
              "</div>\n",
              "      <button class=\"colab-df-convert\" onclick=\"convertToInteractive('df-e83670a1-ca1c-4b26-a5ae-fc3889ea89f1')\"\n",
              "              title=\"Convert this dataframe to an interactive table.\"\n",
              "              style=\"display:none;\">\n",
              "        \n",
              "  <svg xmlns=\"http://www.w3.org/2000/svg\" height=\"24px\"viewBox=\"0 0 24 24\"\n",
              "       width=\"24px\">\n",
              "    <path d=\"M0 0h24v24H0V0z\" fill=\"none\"/>\n",
              "    <path d=\"M18.56 5.44l.94 2.06.94-2.06 2.06-.94-2.06-.94-.94-2.06-.94 2.06-2.06.94zm-11 1L8.5 8.5l.94-2.06 2.06-.94-2.06-.94L8.5 2.5l-.94 2.06-2.06.94zm10 10l.94 2.06.94-2.06 2.06-.94-2.06-.94-.94-2.06-.94 2.06-2.06.94z\"/><path d=\"M17.41 7.96l-1.37-1.37c-.4-.4-.92-.59-1.43-.59-.52 0-1.04.2-1.43.59L10.3 9.45l-7.72 7.72c-.78.78-.78 2.05 0 2.83L4 21.41c.39.39.9.59 1.41.59.51 0 1.02-.2 1.41-.59l7.78-7.78 2.81-2.81c.8-.78.8-2.07 0-2.86zM5.41 20L4 18.59l7.72-7.72 1.47 1.35L5.41 20z\"/>\n",
              "  </svg>\n",
              "      </button>\n",
              "      \n",
              "  <style>\n",
              "    .colab-df-container {\n",
              "      display:flex;\n",
              "      flex-wrap:wrap;\n",
              "      gap: 12px;\n",
              "    }\n",
              "\n",
              "    .colab-df-convert {\n",
              "      background-color: #E8F0FE;\n",
              "      border: none;\n",
              "      border-radius: 50%;\n",
              "      cursor: pointer;\n",
              "      display: none;\n",
              "      fill: #1967D2;\n",
              "      height: 32px;\n",
              "      padding: 0 0 0 0;\n",
              "      width: 32px;\n",
              "    }\n",
              "\n",
              "    .colab-df-convert:hover {\n",
              "      background-color: #E2EBFA;\n",
              "      box-shadow: 0px 1px 2px rgba(60, 64, 67, 0.3), 0px 1px 3px 1px rgba(60, 64, 67, 0.15);\n",
              "      fill: #174EA6;\n",
              "    }\n",
              "\n",
              "    [theme=dark] .colab-df-convert {\n",
              "      background-color: #3B4455;\n",
              "      fill: #D2E3FC;\n",
              "    }\n",
              "\n",
              "    [theme=dark] .colab-df-convert:hover {\n",
              "      background-color: #434B5C;\n",
              "      box-shadow: 0px 1px 3px 1px rgba(0, 0, 0, 0.15);\n",
              "      filter: drop-shadow(0px 1px 2px rgba(0, 0, 0, 0.3));\n",
              "      fill: #FFFFFF;\n",
              "    }\n",
              "  </style>\n",
              "\n",
              "      <script>\n",
              "        const buttonEl =\n",
              "          document.querySelector('#df-e83670a1-ca1c-4b26-a5ae-fc3889ea89f1 button.colab-df-convert');\n",
              "        buttonEl.style.display =\n",
              "          google.colab.kernel.accessAllowed ? 'block' : 'none';\n",
              "\n",
              "        async function convertToInteractive(key) {\n",
              "          const element = document.querySelector('#df-e83670a1-ca1c-4b26-a5ae-fc3889ea89f1');\n",
              "          const dataTable =\n",
              "            await google.colab.kernel.invokeFunction('convertToInteractive',\n",
              "                                                     [key], {});\n",
              "          if (!dataTable) return;\n",
              "\n",
              "          const docLinkHtml = 'Like what you see? Visit the ' +\n",
              "            '<a target=\"_blank\" href=https://colab.research.google.com/notebooks/data_table.ipynb>data table notebook</a>'\n",
              "            + ' to learn more about interactive tables.';\n",
              "          element.innerHTML = '';\n",
              "          dataTable['output_type'] = 'display_data';\n",
              "          await google.colab.output.renderOutput(dataTable, element);\n",
              "          const docLink = document.createElement('div');\n",
              "          docLink.innerHTML = docLinkHtml;\n",
              "          element.appendChild(docLink);\n",
              "        }\n",
              "      </script>\n",
              "    </div>\n",
              "  </div>\n",
              "  "
            ]
          },
          "metadata": {},
          "execution_count": 188
        }
      ]
    },
    {
      "cell_type": "code",
      "source": [
        "train_df[train_df['Ticket'] == 'CA. 2343']"
      ],
      "metadata": {
        "id": "CiCqEPXENBRe",
        "colab": {
          "base_uri": "https://localhost:8080/",
          "height": 269
        },
        "outputId": "fb433725-3437-4101-b23b-d3e133a4e734"
      },
      "execution_count": null,
      "outputs": [
        {
          "output_type": "execute_result",
          "data": {
            "text/plain": [
              "     PassengerId  Survived  Pclass                               Name     Sex  \\\n",
              "159          160         0       3         Sage, Master. Thomas Henry    male   \n",
              "180          181         0       3       Sage, Miss. Constance Gladys  female   \n",
              "201          202         0       3                Sage, Mr. Frederick    male   \n",
              "324          325         0       3           Sage, Mr. George John Jr    male   \n",
              "792          793         0       3            Sage, Miss. Stella Anna  female   \n",
              "846          847         0       3           Sage, Mr. Douglas Bullen    male   \n",
              "863          864         0       3  Sage, Miss. Dorothy Edith \"Dolly\"  female   \n",
              "\n",
              "     Age  SibSp  Parch    Ticket   Fare Cabin Embarked  \n",
              "159  NaN      8      2  CA. 2343  69.55   NaN        S  \n",
              "180  NaN      8      2  CA. 2343  69.55   NaN        S  \n",
              "201  NaN      8      2  CA. 2343  69.55   NaN        S  \n",
              "324  NaN      8      2  CA. 2343  69.55   NaN        S  \n",
              "792  NaN      8      2  CA. 2343  69.55   NaN        S  \n",
              "846  NaN      8      2  CA. 2343  69.55   NaN        S  \n",
              "863  NaN      8      2  CA. 2343  69.55   NaN        S  "
            ],
            "text/html": [
              "\n",
              "  <div id=\"df-22991147-af7e-41ed-ba5d-802931a638fe\">\n",
              "    <div class=\"colab-df-container\">\n",
              "      <div>\n",
              "<style scoped>\n",
              "    .dataframe tbody tr th:only-of-type {\n",
              "        vertical-align: middle;\n",
              "    }\n",
              "\n",
              "    .dataframe tbody tr th {\n",
              "        vertical-align: top;\n",
              "    }\n",
              "\n",
              "    .dataframe thead th {\n",
              "        text-align: right;\n",
              "    }\n",
              "</style>\n",
              "<table border=\"1\" class=\"dataframe\">\n",
              "  <thead>\n",
              "    <tr style=\"text-align: right;\">\n",
              "      <th></th>\n",
              "      <th>PassengerId</th>\n",
              "      <th>Survived</th>\n",
              "      <th>Pclass</th>\n",
              "      <th>Name</th>\n",
              "      <th>Sex</th>\n",
              "      <th>Age</th>\n",
              "      <th>SibSp</th>\n",
              "      <th>Parch</th>\n",
              "      <th>Ticket</th>\n",
              "      <th>Fare</th>\n",
              "      <th>Cabin</th>\n",
              "      <th>Embarked</th>\n",
              "    </tr>\n",
              "  </thead>\n",
              "  <tbody>\n",
              "    <tr>\n",
              "      <th>159</th>\n",
              "      <td>160</td>\n",
              "      <td>0</td>\n",
              "      <td>3</td>\n",
              "      <td>Sage, Master. Thomas Henry</td>\n",
              "      <td>male</td>\n",
              "      <td>NaN</td>\n",
              "      <td>8</td>\n",
              "      <td>2</td>\n",
              "      <td>CA. 2343</td>\n",
              "      <td>69.55</td>\n",
              "      <td>NaN</td>\n",
              "      <td>S</td>\n",
              "    </tr>\n",
              "    <tr>\n",
              "      <th>180</th>\n",
              "      <td>181</td>\n",
              "      <td>0</td>\n",
              "      <td>3</td>\n",
              "      <td>Sage, Miss. Constance Gladys</td>\n",
              "      <td>female</td>\n",
              "      <td>NaN</td>\n",
              "      <td>8</td>\n",
              "      <td>2</td>\n",
              "      <td>CA. 2343</td>\n",
              "      <td>69.55</td>\n",
              "      <td>NaN</td>\n",
              "      <td>S</td>\n",
              "    </tr>\n",
              "    <tr>\n",
              "      <th>201</th>\n",
              "      <td>202</td>\n",
              "      <td>0</td>\n",
              "      <td>3</td>\n",
              "      <td>Sage, Mr. Frederick</td>\n",
              "      <td>male</td>\n",
              "      <td>NaN</td>\n",
              "      <td>8</td>\n",
              "      <td>2</td>\n",
              "      <td>CA. 2343</td>\n",
              "      <td>69.55</td>\n",
              "      <td>NaN</td>\n",
              "      <td>S</td>\n",
              "    </tr>\n",
              "    <tr>\n",
              "      <th>324</th>\n",
              "      <td>325</td>\n",
              "      <td>0</td>\n",
              "      <td>3</td>\n",
              "      <td>Sage, Mr. George John Jr</td>\n",
              "      <td>male</td>\n",
              "      <td>NaN</td>\n",
              "      <td>8</td>\n",
              "      <td>2</td>\n",
              "      <td>CA. 2343</td>\n",
              "      <td>69.55</td>\n",
              "      <td>NaN</td>\n",
              "      <td>S</td>\n",
              "    </tr>\n",
              "    <tr>\n",
              "      <th>792</th>\n",
              "      <td>793</td>\n",
              "      <td>0</td>\n",
              "      <td>3</td>\n",
              "      <td>Sage, Miss. Stella Anna</td>\n",
              "      <td>female</td>\n",
              "      <td>NaN</td>\n",
              "      <td>8</td>\n",
              "      <td>2</td>\n",
              "      <td>CA. 2343</td>\n",
              "      <td>69.55</td>\n",
              "      <td>NaN</td>\n",
              "      <td>S</td>\n",
              "    </tr>\n",
              "    <tr>\n",
              "      <th>846</th>\n",
              "      <td>847</td>\n",
              "      <td>0</td>\n",
              "      <td>3</td>\n",
              "      <td>Sage, Mr. Douglas Bullen</td>\n",
              "      <td>male</td>\n",
              "      <td>NaN</td>\n",
              "      <td>8</td>\n",
              "      <td>2</td>\n",
              "      <td>CA. 2343</td>\n",
              "      <td>69.55</td>\n",
              "      <td>NaN</td>\n",
              "      <td>S</td>\n",
              "    </tr>\n",
              "    <tr>\n",
              "      <th>863</th>\n",
              "      <td>864</td>\n",
              "      <td>0</td>\n",
              "      <td>3</td>\n",
              "      <td>Sage, Miss. Dorothy Edith \"Dolly\"</td>\n",
              "      <td>female</td>\n",
              "      <td>NaN</td>\n",
              "      <td>8</td>\n",
              "      <td>2</td>\n",
              "      <td>CA. 2343</td>\n",
              "      <td>69.55</td>\n",
              "      <td>NaN</td>\n",
              "      <td>S</td>\n",
              "    </tr>\n",
              "  </tbody>\n",
              "</table>\n",
              "</div>\n",
              "      <button class=\"colab-df-convert\" onclick=\"convertToInteractive('df-22991147-af7e-41ed-ba5d-802931a638fe')\"\n",
              "              title=\"Convert this dataframe to an interactive table.\"\n",
              "              style=\"display:none;\">\n",
              "        \n",
              "  <svg xmlns=\"http://www.w3.org/2000/svg\" height=\"24px\"viewBox=\"0 0 24 24\"\n",
              "       width=\"24px\">\n",
              "    <path d=\"M0 0h24v24H0V0z\" fill=\"none\"/>\n",
              "    <path d=\"M18.56 5.44l.94 2.06.94-2.06 2.06-.94-2.06-.94-.94-2.06-.94 2.06-2.06.94zm-11 1L8.5 8.5l.94-2.06 2.06-.94-2.06-.94L8.5 2.5l-.94 2.06-2.06.94zm10 10l.94 2.06.94-2.06 2.06-.94-2.06-.94-.94-2.06-.94 2.06-2.06.94z\"/><path d=\"M17.41 7.96l-1.37-1.37c-.4-.4-.92-.59-1.43-.59-.52 0-1.04.2-1.43.59L10.3 9.45l-7.72 7.72c-.78.78-.78 2.05 0 2.83L4 21.41c.39.39.9.59 1.41.59.51 0 1.02-.2 1.41-.59l7.78-7.78 2.81-2.81c.8-.78.8-2.07 0-2.86zM5.41 20L4 18.59l7.72-7.72 1.47 1.35L5.41 20z\"/>\n",
              "  </svg>\n",
              "      </button>\n",
              "      \n",
              "  <style>\n",
              "    .colab-df-container {\n",
              "      display:flex;\n",
              "      flex-wrap:wrap;\n",
              "      gap: 12px;\n",
              "    }\n",
              "\n",
              "    .colab-df-convert {\n",
              "      background-color: #E8F0FE;\n",
              "      border: none;\n",
              "      border-radius: 50%;\n",
              "      cursor: pointer;\n",
              "      display: none;\n",
              "      fill: #1967D2;\n",
              "      height: 32px;\n",
              "      padding: 0 0 0 0;\n",
              "      width: 32px;\n",
              "    }\n",
              "\n",
              "    .colab-df-convert:hover {\n",
              "      background-color: #E2EBFA;\n",
              "      box-shadow: 0px 1px 2px rgba(60, 64, 67, 0.3), 0px 1px 3px 1px rgba(60, 64, 67, 0.15);\n",
              "      fill: #174EA6;\n",
              "    }\n",
              "\n",
              "    [theme=dark] .colab-df-convert {\n",
              "      background-color: #3B4455;\n",
              "      fill: #D2E3FC;\n",
              "    }\n",
              "\n",
              "    [theme=dark] .colab-df-convert:hover {\n",
              "      background-color: #434B5C;\n",
              "      box-shadow: 0px 1px 3px 1px rgba(0, 0, 0, 0.15);\n",
              "      filter: drop-shadow(0px 1px 2px rgba(0, 0, 0, 0.3));\n",
              "      fill: #FFFFFF;\n",
              "    }\n",
              "  </style>\n",
              "\n",
              "      <script>\n",
              "        const buttonEl =\n",
              "          document.querySelector('#df-22991147-af7e-41ed-ba5d-802931a638fe button.colab-df-convert');\n",
              "        buttonEl.style.display =\n",
              "          google.colab.kernel.accessAllowed ? 'block' : 'none';\n",
              "\n",
              "        async function convertToInteractive(key) {\n",
              "          const element = document.querySelector('#df-22991147-af7e-41ed-ba5d-802931a638fe');\n",
              "          const dataTable =\n",
              "            await google.colab.kernel.invokeFunction('convertToInteractive',\n",
              "                                                     [key], {});\n",
              "          if (!dataTable) return;\n",
              "\n",
              "          const docLinkHtml = 'Like what you see? Visit the ' +\n",
              "            '<a target=\"_blank\" href=https://colab.research.google.com/notebooks/data_table.ipynb>data table notebook</a>'\n",
              "            + ' to learn more about interactive tables.';\n",
              "          element.innerHTML = '';\n",
              "          dataTable['output_type'] = 'display_data';\n",
              "          await google.colab.output.renderOutput(dataTable, element);\n",
              "          const docLink = document.createElement('div');\n",
              "          docLink.innerHTML = docLinkHtml;\n",
              "          element.appendChild(docLink);\n",
              "        }\n",
              "      </script>\n",
              "    </div>\n",
              "  </div>\n",
              "  "
            ]
          },
          "metadata": {},
          "execution_count": 189
        }
      ]
    },
    {
      "cell_type": "markdown",
      "source": [
        "* Ticket 번호가 같은 사람들은 같이 티켓을 끊은 것으로 보인다. 그대로 쓰기보다는 파생 변수로 만들어 주도록 한다.\n",
        "* 1등급이고 여성인 사람이 살아남을 확률이 높았다는 것을 여기서도 확인 할 수 있다."
      ],
      "metadata": {
        "id": "TwxB3Z2LNLVm"
      }
    },
    {
      "cell_type": "markdown",
      "source": [
        "# 데이터 전처리"
      ],
      "metadata": {
        "id": "Ykt-UnSxjPUW"
      }
    },
    {
      "cell_type": "code",
      "source": [
        "# 동일한 전처리를 위해서 데이터 셋 합치기\n",
        "titanic_df = pd.concat([train_df, test_df], axis=0, ignore_index=True)\n",
        "titanic_df.shape"
      ],
      "metadata": {
        "id": "b4tAFPW_2d-G",
        "colab": {
          "base_uri": "https://localhost:8080/"
        },
        "outputId": "a2a4b428-f049-47a9-d599-c6d733567cac"
      },
      "execution_count": null,
      "outputs": [
        {
          "output_type": "execute_result",
          "data": {
            "text/plain": [
              "(1309, 12)"
            ]
          },
          "metadata": {},
          "execution_count": 190
        }
      ]
    },
    {
      "cell_type": "code",
      "source": [
        "titanic_df.tail()"
      ],
      "metadata": {
        "id": "iPfrZPD34WZH",
        "colab": {
          "base_uri": "https://localhost:8080/",
          "height": 206
        },
        "outputId": "f9e3ca86-ebbd-4d2c-899c-fe114702bd3c"
      },
      "execution_count": null,
      "outputs": [
        {
          "output_type": "execute_result",
          "data": {
            "text/plain": [
              "      PassengerId  Survived  Pclass                          Name     Sex  \\\n",
              "1304         1305       NaN       3            Spector, Mr. Woolf    male   \n",
              "1305         1306       NaN       1  Oliva y Ocana, Dona. Fermina  female   \n",
              "1306         1307       NaN       3  Saether, Mr. Simon Sivertsen    male   \n",
              "1307         1308       NaN       3           Ware, Mr. Frederick    male   \n",
              "1308         1309       NaN       3      Peter, Master. Michael J    male   \n",
              "\n",
              "       Age  SibSp  Parch              Ticket      Fare Cabin Embarked  \n",
              "1304   NaN      0      0           A.5. 3236    8.0500   NaN        S  \n",
              "1305  39.0      0      0            PC 17758  108.9000  C105        C  \n",
              "1306  38.5      0      0  SOTON/O.Q. 3101262    7.2500   NaN        S  \n",
              "1307   NaN      0      0              359309    8.0500   NaN        S  \n",
              "1308   NaN      1      1                2668   22.3583   NaN        C  "
            ],
            "text/html": [
              "\n",
              "  <div id=\"df-66399728-b7a4-46fe-ae52-c3a58f5121f8\">\n",
              "    <div class=\"colab-df-container\">\n",
              "      <div>\n",
              "<style scoped>\n",
              "    .dataframe tbody tr th:only-of-type {\n",
              "        vertical-align: middle;\n",
              "    }\n",
              "\n",
              "    .dataframe tbody tr th {\n",
              "        vertical-align: top;\n",
              "    }\n",
              "\n",
              "    .dataframe thead th {\n",
              "        text-align: right;\n",
              "    }\n",
              "</style>\n",
              "<table border=\"1\" class=\"dataframe\">\n",
              "  <thead>\n",
              "    <tr style=\"text-align: right;\">\n",
              "      <th></th>\n",
              "      <th>PassengerId</th>\n",
              "      <th>Survived</th>\n",
              "      <th>Pclass</th>\n",
              "      <th>Name</th>\n",
              "      <th>Sex</th>\n",
              "      <th>Age</th>\n",
              "      <th>SibSp</th>\n",
              "      <th>Parch</th>\n",
              "      <th>Ticket</th>\n",
              "      <th>Fare</th>\n",
              "      <th>Cabin</th>\n",
              "      <th>Embarked</th>\n",
              "    </tr>\n",
              "  </thead>\n",
              "  <tbody>\n",
              "    <tr>\n",
              "      <th>1304</th>\n",
              "      <td>1305</td>\n",
              "      <td>NaN</td>\n",
              "      <td>3</td>\n",
              "      <td>Spector, Mr. Woolf</td>\n",
              "      <td>male</td>\n",
              "      <td>NaN</td>\n",
              "      <td>0</td>\n",
              "      <td>0</td>\n",
              "      <td>A.5. 3236</td>\n",
              "      <td>8.0500</td>\n",
              "      <td>NaN</td>\n",
              "      <td>S</td>\n",
              "    </tr>\n",
              "    <tr>\n",
              "      <th>1305</th>\n",
              "      <td>1306</td>\n",
              "      <td>NaN</td>\n",
              "      <td>1</td>\n",
              "      <td>Oliva y Ocana, Dona. Fermina</td>\n",
              "      <td>female</td>\n",
              "      <td>39.0</td>\n",
              "      <td>0</td>\n",
              "      <td>0</td>\n",
              "      <td>PC 17758</td>\n",
              "      <td>108.9000</td>\n",
              "      <td>C105</td>\n",
              "      <td>C</td>\n",
              "    </tr>\n",
              "    <tr>\n",
              "      <th>1306</th>\n",
              "      <td>1307</td>\n",
              "      <td>NaN</td>\n",
              "      <td>3</td>\n",
              "      <td>Saether, Mr. Simon Sivertsen</td>\n",
              "      <td>male</td>\n",
              "      <td>38.5</td>\n",
              "      <td>0</td>\n",
              "      <td>0</td>\n",
              "      <td>SOTON/O.Q. 3101262</td>\n",
              "      <td>7.2500</td>\n",
              "      <td>NaN</td>\n",
              "      <td>S</td>\n",
              "    </tr>\n",
              "    <tr>\n",
              "      <th>1307</th>\n",
              "      <td>1308</td>\n",
              "      <td>NaN</td>\n",
              "      <td>3</td>\n",
              "      <td>Ware, Mr. Frederick</td>\n",
              "      <td>male</td>\n",
              "      <td>NaN</td>\n",
              "      <td>0</td>\n",
              "      <td>0</td>\n",
              "      <td>359309</td>\n",
              "      <td>8.0500</td>\n",
              "      <td>NaN</td>\n",
              "      <td>S</td>\n",
              "    </tr>\n",
              "    <tr>\n",
              "      <th>1308</th>\n",
              "      <td>1309</td>\n",
              "      <td>NaN</td>\n",
              "      <td>3</td>\n",
              "      <td>Peter, Master. Michael J</td>\n",
              "      <td>male</td>\n",
              "      <td>NaN</td>\n",
              "      <td>1</td>\n",
              "      <td>1</td>\n",
              "      <td>2668</td>\n",
              "      <td>22.3583</td>\n",
              "      <td>NaN</td>\n",
              "      <td>C</td>\n",
              "    </tr>\n",
              "  </tbody>\n",
              "</table>\n",
              "</div>\n",
              "      <button class=\"colab-df-convert\" onclick=\"convertToInteractive('df-66399728-b7a4-46fe-ae52-c3a58f5121f8')\"\n",
              "              title=\"Convert this dataframe to an interactive table.\"\n",
              "              style=\"display:none;\">\n",
              "        \n",
              "  <svg xmlns=\"http://www.w3.org/2000/svg\" height=\"24px\"viewBox=\"0 0 24 24\"\n",
              "       width=\"24px\">\n",
              "    <path d=\"M0 0h24v24H0V0z\" fill=\"none\"/>\n",
              "    <path d=\"M18.56 5.44l.94 2.06.94-2.06 2.06-.94-2.06-.94-.94-2.06-.94 2.06-2.06.94zm-11 1L8.5 8.5l.94-2.06 2.06-.94-2.06-.94L8.5 2.5l-.94 2.06-2.06.94zm10 10l.94 2.06.94-2.06 2.06-.94-2.06-.94-.94-2.06-.94 2.06-2.06.94z\"/><path d=\"M17.41 7.96l-1.37-1.37c-.4-.4-.92-.59-1.43-.59-.52 0-1.04.2-1.43.59L10.3 9.45l-7.72 7.72c-.78.78-.78 2.05 0 2.83L4 21.41c.39.39.9.59 1.41.59.51 0 1.02-.2 1.41-.59l7.78-7.78 2.81-2.81c.8-.78.8-2.07 0-2.86zM5.41 20L4 18.59l7.72-7.72 1.47 1.35L5.41 20z\"/>\n",
              "  </svg>\n",
              "      </button>\n",
              "      \n",
              "  <style>\n",
              "    .colab-df-container {\n",
              "      display:flex;\n",
              "      flex-wrap:wrap;\n",
              "      gap: 12px;\n",
              "    }\n",
              "\n",
              "    .colab-df-convert {\n",
              "      background-color: #E8F0FE;\n",
              "      border: none;\n",
              "      border-radius: 50%;\n",
              "      cursor: pointer;\n",
              "      display: none;\n",
              "      fill: #1967D2;\n",
              "      height: 32px;\n",
              "      padding: 0 0 0 0;\n",
              "      width: 32px;\n",
              "    }\n",
              "\n",
              "    .colab-df-convert:hover {\n",
              "      background-color: #E2EBFA;\n",
              "      box-shadow: 0px 1px 2px rgba(60, 64, 67, 0.3), 0px 1px 3px 1px rgba(60, 64, 67, 0.15);\n",
              "      fill: #174EA6;\n",
              "    }\n",
              "\n",
              "    [theme=dark] .colab-df-convert {\n",
              "      background-color: #3B4455;\n",
              "      fill: #D2E3FC;\n",
              "    }\n",
              "\n",
              "    [theme=dark] .colab-df-convert:hover {\n",
              "      background-color: #434B5C;\n",
              "      box-shadow: 0px 1px 3px 1px rgba(0, 0, 0, 0.15);\n",
              "      filter: drop-shadow(0px 1px 2px rgba(0, 0, 0, 0.3));\n",
              "      fill: #FFFFFF;\n",
              "    }\n",
              "  </style>\n",
              "\n",
              "      <script>\n",
              "        const buttonEl =\n",
              "          document.querySelector('#df-66399728-b7a4-46fe-ae52-c3a58f5121f8 button.colab-df-convert');\n",
              "        buttonEl.style.display =\n",
              "          google.colab.kernel.accessAllowed ? 'block' : 'none';\n",
              "\n",
              "        async function convertToInteractive(key) {\n",
              "          const element = document.querySelector('#df-66399728-b7a4-46fe-ae52-c3a58f5121f8');\n",
              "          const dataTable =\n",
              "            await google.colab.kernel.invokeFunction('convertToInteractive',\n",
              "                                                     [key], {});\n",
              "          if (!dataTable) return;\n",
              "\n",
              "          const docLinkHtml = 'Like what you see? Visit the ' +\n",
              "            '<a target=\"_blank\" href=https://colab.research.google.com/notebooks/data_table.ipynb>data table notebook</a>'\n",
              "            + ' to learn more about interactive tables.';\n",
              "          element.innerHTML = '';\n",
              "          dataTable['output_type'] = 'display_data';\n",
              "          await google.colab.output.renderOutput(dataTable, element);\n",
              "          const docLink = document.createElement('div');\n",
              "          docLink.innerHTML = docLinkHtml;\n",
              "          element.appendChild(docLink);\n",
              "        }\n",
              "      </script>\n",
              "    </div>\n",
              "  </div>\n",
              "  "
            ]
          },
          "metadata": {},
          "execution_count": 191
        }
      ]
    },
    {
      "cell_type": "markdown",
      "source": [
        "## Embaked"
      ],
      "metadata": {
        "id": "9aFWyKj39kWB"
      }
    },
    {
      "cell_type": "code",
      "source": [
        "# Null값 처리\n",
        "titanic_df[titanic_df.Embarked.isnull()]"
      ],
      "metadata": {
        "id": "Cy4pjfe4YW5Z",
        "colab": {
          "base_uri": "https://localhost:8080/",
          "height": 112
        },
        "outputId": "dfece459-9dc0-4e99-88bd-d7c8f8181f79"
      },
      "execution_count": null,
      "outputs": [
        {
          "output_type": "execute_result",
          "data": {
            "text/plain": [
              "     PassengerId  Survived  Pclass                                       Name  \\\n",
              "61            62       1.0       1                        Icard, Miss. Amelie   \n",
              "829          830       1.0       1  Stone, Mrs. George Nelson (Martha Evelyn)   \n",
              "\n",
              "        Sex   Age  SibSp  Parch  Ticket  Fare Cabin Embarked  \n",
              "61   female  38.0      0      0  113572  80.0   B28      NaN  \n",
              "829  female  62.0      0      0  113572  80.0   B28      NaN  "
            ],
            "text/html": [
              "\n",
              "  <div id=\"df-b0089519-f86b-46b2-a0d6-f10008ec4a63\">\n",
              "    <div class=\"colab-df-container\">\n",
              "      <div>\n",
              "<style scoped>\n",
              "    .dataframe tbody tr th:only-of-type {\n",
              "        vertical-align: middle;\n",
              "    }\n",
              "\n",
              "    .dataframe tbody tr th {\n",
              "        vertical-align: top;\n",
              "    }\n",
              "\n",
              "    .dataframe thead th {\n",
              "        text-align: right;\n",
              "    }\n",
              "</style>\n",
              "<table border=\"1\" class=\"dataframe\">\n",
              "  <thead>\n",
              "    <tr style=\"text-align: right;\">\n",
              "      <th></th>\n",
              "      <th>PassengerId</th>\n",
              "      <th>Survived</th>\n",
              "      <th>Pclass</th>\n",
              "      <th>Name</th>\n",
              "      <th>Sex</th>\n",
              "      <th>Age</th>\n",
              "      <th>SibSp</th>\n",
              "      <th>Parch</th>\n",
              "      <th>Ticket</th>\n",
              "      <th>Fare</th>\n",
              "      <th>Cabin</th>\n",
              "      <th>Embarked</th>\n",
              "    </tr>\n",
              "  </thead>\n",
              "  <tbody>\n",
              "    <tr>\n",
              "      <th>61</th>\n",
              "      <td>62</td>\n",
              "      <td>1.0</td>\n",
              "      <td>1</td>\n",
              "      <td>Icard, Miss. Amelie</td>\n",
              "      <td>female</td>\n",
              "      <td>38.0</td>\n",
              "      <td>0</td>\n",
              "      <td>0</td>\n",
              "      <td>113572</td>\n",
              "      <td>80.0</td>\n",
              "      <td>B28</td>\n",
              "      <td>NaN</td>\n",
              "    </tr>\n",
              "    <tr>\n",
              "      <th>829</th>\n",
              "      <td>830</td>\n",
              "      <td>1.0</td>\n",
              "      <td>1</td>\n",
              "      <td>Stone, Mrs. George Nelson (Martha Evelyn)</td>\n",
              "      <td>female</td>\n",
              "      <td>62.0</td>\n",
              "      <td>0</td>\n",
              "      <td>0</td>\n",
              "      <td>113572</td>\n",
              "      <td>80.0</td>\n",
              "      <td>B28</td>\n",
              "      <td>NaN</td>\n",
              "    </tr>\n",
              "  </tbody>\n",
              "</table>\n",
              "</div>\n",
              "      <button class=\"colab-df-convert\" onclick=\"convertToInteractive('df-b0089519-f86b-46b2-a0d6-f10008ec4a63')\"\n",
              "              title=\"Convert this dataframe to an interactive table.\"\n",
              "              style=\"display:none;\">\n",
              "        \n",
              "  <svg xmlns=\"http://www.w3.org/2000/svg\" height=\"24px\"viewBox=\"0 0 24 24\"\n",
              "       width=\"24px\">\n",
              "    <path d=\"M0 0h24v24H0V0z\" fill=\"none\"/>\n",
              "    <path d=\"M18.56 5.44l.94 2.06.94-2.06 2.06-.94-2.06-.94-.94-2.06-.94 2.06-2.06.94zm-11 1L8.5 8.5l.94-2.06 2.06-.94-2.06-.94L8.5 2.5l-.94 2.06-2.06.94zm10 10l.94 2.06.94-2.06 2.06-.94-2.06-.94-.94-2.06-.94 2.06-2.06.94z\"/><path d=\"M17.41 7.96l-1.37-1.37c-.4-.4-.92-.59-1.43-.59-.52 0-1.04.2-1.43.59L10.3 9.45l-7.72 7.72c-.78.78-.78 2.05 0 2.83L4 21.41c.39.39.9.59 1.41.59.51 0 1.02-.2 1.41-.59l7.78-7.78 2.81-2.81c.8-.78.8-2.07 0-2.86zM5.41 20L4 18.59l7.72-7.72 1.47 1.35L5.41 20z\"/>\n",
              "  </svg>\n",
              "      </button>\n",
              "      \n",
              "  <style>\n",
              "    .colab-df-container {\n",
              "      display:flex;\n",
              "      flex-wrap:wrap;\n",
              "      gap: 12px;\n",
              "    }\n",
              "\n",
              "    .colab-df-convert {\n",
              "      background-color: #E8F0FE;\n",
              "      border: none;\n",
              "      border-radius: 50%;\n",
              "      cursor: pointer;\n",
              "      display: none;\n",
              "      fill: #1967D2;\n",
              "      height: 32px;\n",
              "      padding: 0 0 0 0;\n",
              "      width: 32px;\n",
              "    }\n",
              "\n",
              "    .colab-df-convert:hover {\n",
              "      background-color: #E2EBFA;\n",
              "      box-shadow: 0px 1px 2px rgba(60, 64, 67, 0.3), 0px 1px 3px 1px rgba(60, 64, 67, 0.15);\n",
              "      fill: #174EA6;\n",
              "    }\n",
              "\n",
              "    [theme=dark] .colab-df-convert {\n",
              "      background-color: #3B4455;\n",
              "      fill: #D2E3FC;\n",
              "    }\n",
              "\n",
              "    [theme=dark] .colab-df-convert:hover {\n",
              "      background-color: #434B5C;\n",
              "      box-shadow: 0px 1px 3px 1px rgba(0, 0, 0, 0.15);\n",
              "      filter: drop-shadow(0px 1px 2px rgba(0, 0, 0, 0.3));\n",
              "      fill: #FFFFFF;\n",
              "    }\n",
              "  </style>\n",
              "\n",
              "      <script>\n",
              "        const buttonEl =\n",
              "          document.querySelector('#df-b0089519-f86b-46b2-a0d6-f10008ec4a63 button.colab-df-convert');\n",
              "        buttonEl.style.display =\n",
              "          google.colab.kernel.accessAllowed ? 'block' : 'none';\n",
              "\n",
              "        async function convertToInteractive(key) {\n",
              "          const element = document.querySelector('#df-b0089519-f86b-46b2-a0d6-f10008ec4a63');\n",
              "          const dataTable =\n",
              "            await google.colab.kernel.invokeFunction('convertToInteractive',\n",
              "                                                     [key], {});\n",
              "          if (!dataTable) return;\n",
              "\n",
              "          const docLinkHtml = 'Like what you see? Visit the ' +\n",
              "            '<a target=\"_blank\" href=https://colab.research.google.com/notebooks/data_table.ipynb>data table notebook</a>'\n",
              "            + ' to learn more about interactive tables.';\n",
              "          element.innerHTML = '';\n",
              "          dataTable['output_type'] = 'display_data';\n",
              "          await google.colab.output.renderOutput(dataTable, element);\n",
              "          const docLink = document.createElement('div');\n",
              "          docLink.innerHTML = docLinkHtml;\n",
              "          element.appendChild(docLink);\n",
              "        }\n",
              "      </script>\n",
              "    </div>\n",
              "  </div>\n",
              "  "
            ]
          },
          "metadata": {},
          "execution_count": 192
        }
      ]
    },
    {
      "cell_type": "code",
      "source": [
        "# Series이기 때문에 (1,) 형태이며 저장해서 밑에 코드에 쓰고 싶다면 index로 꺼내주어야 사용가능\n",
        "s = titanic_df['Embarked'].dropna().mode()[0]\n",
        "print(s)\n",
        "titanic_df['Embarked'] = titanic_df['Embarked'].fillna(s)"
      ],
      "metadata": {
        "id": "LykL06uz4ogI",
        "colab": {
          "base_uri": "https://localhost:8080/"
        },
        "outputId": "ab481871-79a6-4f9c-f91f-f3455c40b916"
      },
      "execution_count": null,
      "outputs": [
        {
          "output_type": "stream",
          "name": "stdout",
          "text": [
            "S\n"
          ]
        }
      ]
    },
    {
      "cell_type": "markdown",
      "source": [
        "* 최빈값도 S이다."
      ],
      "metadata": {
        "id": "6zy2lii2nawk"
      }
    },
    {
      "cell_type": "code",
      "source": [
        "# Fare - 지울 예정이지만 채워봄\n",
        "titanic_df[titanic_df['Fare'].isnull()]"
      ],
      "metadata": {
        "id": "bONhjv7T8_TR",
        "colab": {
          "base_uri": "https://localhost:8080/",
          "height": 81
        },
        "outputId": "bfef33b7-e980-4744-d3de-f0abd9591480"
      },
      "execution_count": null,
      "outputs": [
        {
          "output_type": "execute_result",
          "data": {
            "text/plain": [
              "      PassengerId  Survived  Pclass                Name   Sex   Age  SibSp  \\\n",
              "1043         1044       NaN       3  Storey, Mr. Thomas  male  60.5      0   \n",
              "\n",
              "      Parch Ticket  Fare Cabin Embarked  \n",
              "1043      0   3701   NaN   NaN        S  "
            ],
            "text/html": [
              "\n",
              "  <div id=\"df-1504c837-8d29-4053-be21-2aefc87b1bbe\">\n",
              "    <div class=\"colab-df-container\">\n",
              "      <div>\n",
              "<style scoped>\n",
              "    .dataframe tbody tr th:only-of-type {\n",
              "        vertical-align: middle;\n",
              "    }\n",
              "\n",
              "    .dataframe tbody tr th {\n",
              "        vertical-align: top;\n",
              "    }\n",
              "\n",
              "    .dataframe thead th {\n",
              "        text-align: right;\n",
              "    }\n",
              "</style>\n",
              "<table border=\"1\" class=\"dataframe\">\n",
              "  <thead>\n",
              "    <tr style=\"text-align: right;\">\n",
              "      <th></th>\n",
              "      <th>PassengerId</th>\n",
              "      <th>Survived</th>\n",
              "      <th>Pclass</th>\n",
              "      <th>Name</th>\n",
              "      <th>Sex</th>\n",
              "      <th>Age</th>\n",
              "      <th>SibSp</th>\n",
              "      <th>Parch</th>\n",
              "      <th>Ticket</th>\n",
              "      <th>Fare</th>\n",
              "      <th>Cabin</th>\n",
              "      <th>Embarked</th>\n",
              "    </tr>\n",
              "  </thead>\n",
              "  <tbody>\n",
              "    <tr>\n",
              "      <th>1043</th>\n",
              "      <td>1044</td>\n",
              "      <td>NaN</td>\n",
              "      <td>3</td>\n",
              "      <td>Storey, Mr. Thomas</td>\n",
              "      <td>male</td>\n",
              "      <td>60.5</td>\n",
              "      <td>0</td>\n",
              "      <td>0</td>\n",
              "      <td>3701</td>\n",
              "      <td>NaN</td>\n",
              "      <td>NaN</td>\n",
              "      <td>S</td>\n",
              "    </tr>\n",
              "  </tbody>\n",
              "</table>\n",
              "</div>\n",
              "      <button class=\"colab-df-convert\" onclick=\"convertToInteractive('df-1504c837-8d29-4053-be21-2aefc87b1bbe')\"\n",
              "              title=\"Convert this dataframe to an interactive table.\"\n",
              "              style=\"display:none;\">\n",
              "        \n",
              "  <svg xmlns=\"http://www.w3.org/2000/svg\" height=\"24px\"viewBox=\"0 0 24 24\"\n",
              "       width=\"24px\">\n",
              "    <path d=\"M0 0h24v24H0V0z\" fill=\"none\"/>\n",
              "    <path d=\"M18.56 5.44l.94 2.06.94-2.06 2.06-.94-2.06-.94-.94-2.06-.94 2.06-2.06.94zm-11 1L8.5 8.5l.94-2.06 2.06-.94-2.06-.94L8.5 2.5l-.94 2.06-2.06.94zm10 10l.94 2.06.94-2.06 2.06-.94-2.06-.94-.94-2.06-.94 2.06-2.06.94z\"/><path d=\"M17.41 7.96l-1.37-1.37c-.4-.4-.92-.59-1.43-.59-.52 0-1.04.2-1.43.59L10.3 9.45l-7.72 7.72c-.78.78-.78 2.05 0 2.83L4 21.41c.39.39.9.59 1.41.59.51 0 1.02-.2 1.41-.59l7.78-7.78 2.81-2.81c.8-.78.8-2.07 0-2.86zM5.41 20L4 18.59l7.72-7.72 1.47 1.35L5.41 20z\"/>\n",
              "  </svg>\n",
              "      </button>\n",
              "      \n",
              "  <style>\n",
              "    .colab-df-container {\n",
              "      display:flex;\n",
              "      flex-wrap:wrap;\n",
              "      gap: 12px;\n",
              "    }\n",
              "\n",
              "    .colab-df-convert {\n",
              "      background-color: #E8F0FE;\n",
              "      border: none;\n",
              "      border-radius: 50%;\n",
              "      cursor: pointer;\n",
              "      display: none;\n",
              "      fill: #1967D2;\n",
              "      height: 32px;\n",
              "      padding: 0 0 0 0;\n",
              "      width: 32px;\n",
              "    }\n",
              "\n",
              "    .colab-df-convert:hover {\n",
              "      background-color: #E2EBFA;\n",
              "      box-shadow: 0px 1px 2px rgba(60, 64, 67, 0.3), 0px 1px 3px 1px rgba(60, 64, 67, 0.15);\n",
              "      fill: #174EA6;\n",
              "    }\n",
              "\n",
              "    [theme=dark] .colab-df-convert {\n",
              "      background-color: #3B4455;\n",
              "      fill: #D2E3FC;\n",
              "    }\n",
              "\n",
              "    [theme=dark] .colab-df-convert:hover {\n",
              "      background-color: #434B5C;\n",
              "      box-shadow: 0px 1px 3px 1px rgba(0, 0, 0, 0.15);\n",
              "      filter: drop-shadow(0px 1px 2px rgba(0, 0, 0, 0.3));\n",
              "      fill: #FFFFFF;\n",
              "    }\n",
              "  </style>\n",
              "\n",
              "      <script>\n",
              "        const buttonEl =\n",
              "          document.querySelector('#df-1504c837-8d29-4053-be21-2aefc87b1bbe button.colab-df-convert');\n",
              "        buttonEl.style.display =\n",
              "          google.colab.kernel.accessAllowed ? 'block' : 'none';\n",
              "\n",
              "        async function convertToInteractive(key) {\n",
              "          const element = document.querySelector('#df-1504c837-8d29-4053-be21-2aefc87b1bbe');\n",
              "          const dataTable =\n",
              "            await google.colab.kernel.invokeFunction('convertToInteractive',\n",
              "                                                     [key], {});\n",
              "          if (!dataTable) return;\n",
              "\n",
              "          const docLinkHtml = 'Like what you see? Visit the ' +\n",
              "            '<a target=\"_blank\" href=https://colab.research.google.com/notebooks/data_table.ipynb>data table notebook</a>'\n",
              "            + ' to learn more about interactive tables.';\n",
              "          element.innerHTML = '';\n",
              "          dataTable['output_type'] = 'display_data';\n",
              "          await google.colab.output.renderOutput(dataTable, element);\n",
              "          const docLink = document.createElement('div');\n",
              "          docLink.innerHTML = docLinkHtml;\n",
              "          element.appendChild(docLink);\n",
              "        }\n",
              "      </script>\n",
              "    </div>\n",
              "  </div>\n",
              "  "
            ]
          },
          "metadata": {},
          "execution_count": 194
        }
      ]
    },
    {
      "cell_type": "code",
      "source": [
        "# 3등급 평균값으로 처리\n",
        "f = titanic_df[titanic_df['Pclass']==3]['Fare'].mean()\n",
        "print(f)\n",
        "titanic_df['Fare'] = titanic_df['Fare'].fillna(f)"
      ],
      "metadata": {
        "id": "J8K2d5257IN9",
        "colab": {
          "base_uri": "https://localhost:8080/"
        },
        "outputId": "290fab72-68b2-493d-ede1-2e89715530c7"
      },
      "execution_count": null,
      "outputs": [
        {
          "output_type": "stream",
          "name": "stdout",
          "text": [
            "13.302888700564973\n"
          ]
        }
      ]
    },
    {
      "cell_type": "markdown",
      "source": [
        "## Age"
      ],
      "metadata": {
        "id": "sGBqRVuIUyOn"
      }
    },
    {
      "cell_type": "code",
      "source": [
        "# Age 처리\n",
        "titanic_df['Title'] = titanic_df['Name'].str.extract('([A-Za-z]+)\\.', expand = False)\n",
        "titanic_df[:5]"
      ],
      "metadata": {
        "id": "WYUFm7DU8AkE",
        "colab": {
          "base_uri": "https://localhost:8080/",
          "height": 206
        },
        "outputId": "4876a064-4187-49fe-e6bf-86ed2a6ae338"
      },
      "execution_count": null,
      "outputs": [
        {
          "output_type": "execute_result",
          "data": {
            "text/plain": [
              "   PassengerId  Survived  Pclass  \\\n",
              "0            1       0.0       3   \n",
              "1            2       1.0       1   \n",
              "2            3       1.0       3   \n",
              "3            4       1.0       1   \n",
              "4            5       0.0       3   \n",
              "\n",
              "                                                Name     Sex   Age  SibSp  \\\n",
              "0                            Braund, Mr. Owen Harris    male  22.0      1   \n",
              "1  Cumings, Mrs. John Bradley (Florence Briggs Th...  female  38.0      1   \n",
              "2                             Heikkinen, Miss. Laina  female  26.0      0   \n",
              "3       Futrelle, Mrs. Jacques Heath (Lily May Peel)  female  35.0      1   \n",
              "4                           Allen, Mr. William Henry    male  35.0      0   \n",
              "\n",
              "   Parch            Ticket     Fare Cabin Embarked Title  \n",
              "0      0         A/5 21171   7.2500   NaN        S    Mr  \n",
              "1      0          PC 17599  71.2833   C85        C   Mrs  \n",
              "2      0  STON/O2. 3101282   7.9250   NaN        S  Miss  \n",
              "3      0            113803  53.1000  C123        S   Mrs  \n",
              "4      0            373450   8.0500   NaN        S    Mr  "
            ],
            "text/html": [
              "\n",
              "  <div id=\"df-53e7b586-80b9-4ca3-bcc0-19f1d2a5b4c3\">\n",
              "    <div class=\"colab-df-container\">\n",
              "      <div>\n",
              "<style scoped>\n",
              "    .dataframe tbody tr th:only-of-type {\n",
              "        vertical-align: middle;\n",
              "    }\n",
              "\n",
              "    .dataframe tbody tr th {\n",
              "        vertical-align: top;\n",
              "    }\n",
              "\n",
              "    .dataframe thead th {\n",
              "        text-align: right;\n",
              "    }\n",
              "</style>\n",
              "<table border=\"1\" class=\"dataframe\">\n",
              "  <thead>\n",
              "    <tr style=\"text-align: right;\">\n",
              "      <th></th>\n",
              "      <th>PassengerId</th>\n",
              "      <th>Survived</th>\n",
              "      <th>Pclass</th>\n",
              "      <th>Name</th>\n",
              "      <th>Sex</th>\n",
              "      <th>Age</th>\n",
              "      <th>SibSp</th>\n",
              "      <th>Parch</th>\n",
              "      <th>Ticket</th>\n",
              "      <th>Fare</th>\n",
              "      <th>Cabin</th>\n",
              "      <th>Embarked</th>\n",
              "      <th>Title</th>\n",
              "    </tr>\n",
              "  </thead>\n",
              "  <tbody>\n",
              "    <tr>\n",
              "      <th>0</th>\n",
              "      <td>1</td>\n",
              "      <td>0.0</td>\n",
              "      <td>3</td>\n",
              "      <td>Braund, Mr. Owen Harris</td>\n",
              "      <td>male</td>\n",
              "      <td>22.0</td>\n",
              "      <td>1</td>\n",
              "      <td>0</td>\n",
              "      <td>A/5 21171</td>\n",
              "      <td>7.2500</td>\n",
              "      <td>NaN</td>\n",
              "      <td>S</td>\n",
              "      <td>Mr</td>\n",
              "    </tr>\n",
              "    <tr>\n",
              "      <th>1</th>\n",
              "      <td>2</td>\n",
              "      <td>1.0</td>\n",
              "      <td>1</td>\n",
              "      <td>Cumings, Mrs. John Bradley (Florence Briggs Th...</td>\n",
              "      <td>female</td>\n",
              "      <td>38.0</td>\n",
              "      <td>1</td>\n",
              "      <td>0</td>\n",
              "      <td>PC 17599</td>\n",
              "      <td>71.2833</td>\n",
              "      <td>C85</td>\n",
              "      <td>C</td>\n",
              "      <td>Mrs</td>\n",
              "    </tr>\n",
              "    <tr>\n",
              "      <th>2</th>\n",
              "      <td>3</td>\n",
              "      <td>1.0</td>\n",
              "      <td>3</td>\n",
              "      <td>Heikkinen, Miss. Laina</td>\n",
              "      <td>female</td>\n",
              "      <td>26.0</td>\n",
              "      <td>0</td>\n",
              "      <td>0</td>\n",
              "      <td>STON/O2. 3101282</td>\n",
              "      <td>7.9250</td>\n",
              "      <td>NaN</td>\n",
              "      <td>S</td>\n",
              "      <td>Miss</td>\n",
              "    </tr>\n",
              "    <tr>\n",
              "      <th>3</th>\n",
              "      <td>4</td>\n",
              "      <td>1.0</td>\n",
              "      <td>1</td>\n",
              "      <td>Futrelle, Mrs. Jacques Heath (Lily May Peel)</td>\n",
              "      <td>female</td>\n",
              "      <td>35.0</td>\n",
              "      <td>1</td>\n",
              "      <td>0</td>\n",
              "      <td>113803</td>\n",
              "      <td>53.1000</td>\n",
              "      <td>C123</td>\n",
              "      <td>S</td>\n",
              "      <td>Mrs</td>\n",
              "    </tr>\n",
              "    <tr>\n",
              "      <th>4</th>\n",
              "      <td>5</td>\n",
              "      <td>0.0</td>\n",
              "      <td>3</td>\n",
              "      <td>Allen, Mr. William Henry</td>\n",
              "      <td>male</td>\n",
              "      <td>35.0</td>\n",
              "      <td>0</td>\n",
              "      <td>0</td>\n",
              "      <td>373450</td>\n",
              "      <td>8.0500</td>\n",
              "      <td>NaN</td>\n",
              "      <td>S</td>\n",
              "      <td>Mr</td>\n",
              "    </tr>\n",
              "  </tbody>\n",
              "</table>\n",
              "</div>\n",
              "      <button class=\"colab-df-convert\" onclick=\"convertToInteractive('df-53e7b586-80b9-4ca3-bcc0-19f1d2a5b4c3')\"\n",
              "              title=\"Convert this dataframe to an interactive table.\"\n",
              "              style=\"display:none;\">\n",
              "        \n",
              "  <svg xmlns=\"http://www.w3.org/2000/svg\" height=\"24px\"viewBox=\"0 0 24 24\"\n",
              "       width=\"24px\">\n",
              "    <path d=\"M0 0h24v24H0V0z\" fill=\"none\"/>\n",
              "    <path d=\"M18.56 5.44l.94 2.06.94-2.06 2.06-.94-2.06-.94-.94-2.06-.94 2.06-2.06.94zm-11 1L8.5 8.5l.94-2.06 2.06-.94-2.06-.94L8.5 2.5l-.94 2.06-2.06.94zm10 10l.94 2.06.94-2.06 2.06-.94-2.06-.94-.94-2.06-.94 2.06-2.06.94z\"/><path d=\"M17.41 7.96l-1.37-1.37c-.4-.4-.92-.59-1.43-.59-.52 0-1.04.2-1.43.59L10.3 9.45l-7.72 7.72c-.78.78-.78 2.05 0 2.83L4 21.41c.39.39.9.59 1.41.59.51 0 1.02-.2 1.41-.59l7.78-7.78 2.81-2.81c.8-.78.8-2.07 0-2.86zM5.41 20L4 18.59l7.72-7.72 1.47 1.35L5.41 20z\"/>\n",
              "  </svg>\n",
              "      </button>\n",
              "      \n",
              "  <style>\n",
              "    .colab-df-container {\n",
              "      display:flex;\n",
              "      flex-wrap:wrap;\n",
              "      gap: 12px;\n",
              "    }\n",
              "\n",
              "    .colab-df-convert {\n",
              "      background-color: #E8F0FE;\n",
              "      border: none;\n",
              "      border-radius: 50%;\n",
              "      cursor: pointer;\n",
              "      display: none;\n",
              "      fill: #1967D2;\n",
              "      height: 32px;\n",
              "      padding: 0 0 0 0;\n",
              "      width: 32px;\n",
              "    }\n",
              "\n",
              "    .colab-df-convert:hover {\n",
              "      background-color: #E2EBFA;\n",
              "      box-shadow: 0px 1px 2px rgba(60, 64, 67, 0.3), 0px 1px 3px 1px rgba(60, 64, 67, 0.15);\n",
              "      fill: #174EA6;\n",
              "    }\n",
              "\n",
              "    [theme=dark] .colab-df-convert {\n",
              "      background-color: #3B4455;\n",
              "      fill: #D2E3FC;\n",
              "    }\n",
              "\n",
              "    [theme=dark] .colab-df-convert:hover {\n",
              "      background-color: #434B5C;\n",
              "      box-shadow: 0px 1px 3px 1px rgba(0, 0, 0, 0.15);\n",
              "      filter: drop-shadow(0px 1px 2px rgba(0, 0, 0, 0.3));\n",
              "      fill: #FFFFFF;\n",
              "    }\n",
              "  </style>\n",
              "\n",
              "      <script>\n",
              "        const buttonEl =\n",
              "          document.querySelector('#df-53e7b586-80b9-4ca3-bcc0-19f1d2a5b4c3 button.colab-df-convert');\n",
              "        buttonEl.style.display =\n",
              "          google.colab.kernel.accessAllowed ? 'block' : 'none';\n",
              "\n",
              "        async function convertToInteractive(key) {\n",
              "          const element = document.querySelector('#df-53e7b586-80b9-4ca3-bcc0-19f1d2a5b4c3');\n",
              "          const dataTable =\n",
              "            await google.colab.kernel.invokeFunction('convertToInteractive',\n",
              "                                                     [key], {});\n",
              "          if (!dataTable) return;\n",
              "\n",
              "          const docLinkHtml = 'Like what you see? Visit the ' +\n",
              "            '<a target=\"_blank\" href=https://colab.research.google.com/notebooks/data_table.ipynb>data table notebook</a>'\n",
              "            + ' to learn more about interactive tables.';\n",
              "          element.innerHTML = '';\n",
              "          dataTable['output_type'] = 'display_data';\n",
              "          await google.colab.output.renderOutput(dataTable, element);\n",
              "          const docLink = document.createElement('div');\n",
              "          docLink.innerHTML = docLinkHtml;\n",
              "          element.appendChild(docLink);\n",
              "        }\n",
              "      </script>\n",
              "    </div>\n",
              "  </div>\n",
              "  "
            ]
          },
          "metadata": {},
          "execution_count": 196
        }
      ]
    },
    {
      "cell_type": "markdown",
      "source": [
        "* Age 처리에 앞서 나이에 따라서 호칭이 달라질 수 있다는 생각이 있었기 때문에 Name변수에서 호칭을 따로 빼서 호칭을 나누어주었다.\n",
        "* 파생변수를 기준으로 평균 나이로 Null값을 채워주려고 한다."
      ],
      "metadata": {
        "id": "zlr6JSxaF0TE"
      }
    },
    {
      "cell_type": "code",
      "source": [
        "titanic_df['Title'].value_counts()"
      ],
      "metadata": {
        "id": "0NJRSct7SPIn",
        "colab": {
          "base_uri": "https://localhost:8080/"
        },
        "outputId": "aebeb368-a5eb-49a7-8df5-d138f9adbc60"
      },
      "execution_count": null,
      "outputs": [
        {
          "output_type": "execute_result",
          "data": {
            "text/plain": [
              "Mr          757\n",
              "Miss        260\n",
              "Mrs         197\n",
              "Master       61\n",
              "Rev           8\n",
              "Dr            8\n",
              "Col           4\n",
              "Mlle          2\n",
              "Major         2\n",
              "Ms            2\n",
              "Lady          1\n",
              "Sir           1\n",
              "Mme           1\n",
              "Don           1\n",
              "Capt          1\n",
              "Countess      1\n",
              "Jonkheer      1\n",
              "Dona          1\n",
              "Name: Title, dtype: int64"
            ]
          },
          "metadata": {},
          "execution_count": 197
        }
      ]
    },
    {
      "cell_type": "markdown",
      "source": [
        "* Don : 멕시코에서 나이가 많은 사람에게 쓰는 존대 (~씨정도)\n",
        "* capt : 해군 대령, or 대위\n",
        "* Major : 소령\n",
        "* Col = Colonel: (영국의 해군과 해병대, 미국의 육군·공군·해병대의) 대령\n",
        "* Rev : 신부님\n",
        "* Dr : 박사\n",
        "* Jonkheer : '도련님'정도로 쓰이는 프로이센 지배 계급을 형성한 보수적인 토지 귀족 세력\n",
        "* Sir : 영국에서 나이트나 준남작의 작위를 가진 남성의 이름 앞에 붙이는 호칭\n",
        "* Mmm : 프랑스 여성 - 24세\n",
        "* Dona : 귀부인\n",
        "* Mlle : 마드모아젤\n",
        "* Coutess : 백작부인"
      ],
      "metadata": {
        "id": "gI4_YdTLbwv4"
      }
    },
    {
      "cell_type": "code",
      "source": [
        "# 계급보다는 성별이 생존에 더 중요한 요소이기 때문에 여성귀족의 경우 일반 호칭으로 통합해준다.\n",
        "# 남성의 경우 계급이나 직업으로 불린 경우 프라이드가 강해서인지 남을 위해 많이 희생한걸로 보인다. (ex: Rev:신부님)\n",
        "# 이들은 Other로 묶어주도록 한다.\n",
        "titanic_df['Title'] = titanic_df['Title'].replace('Don', 'Mr')\n",
        "titanic_df['Title'] = titanic_df['Title'].replace(['Mlle', 'Ms', 'Lady', 'Mme'], 'Miss')\n",
        "titanic_df['Title'] = titanic_df['Title'].replace(['Countess', 'Dona'], 'Mrs')\n",
        "titanic_df['Title'] = titanic_df['Title'].replace(['Rev', 'Dr', 'Col', 'Major', 'Sir', 'Capt', 'Jonkheer'], 'Other')"
      ],
      "metadata": {
        "id": "_n4GktPjxAsu"
      },
      "execution_count": null,
      "outputs": []
    },
    {
      "cell_type": "code",
      "source": [
        "titanic_df['Title'].unique()"
      ],
      "metadata": {
        "id": "52NIzagV0yt4",
        "colab": {
          "base_uri": "https://localhost:8080/"
        },
        "outputId": "e9ef09e7-f112-4cc8-ec1b-2108375096f1"
      },
      "execution_count": null,
      "outputs": [
        {
          "output_type": "execute_result",
          "data": {
            "text/plain": [
              "array(['Mr', 'Mrs', 'Miss', 'Master', 'Other'], dtype=object)"
            ]
          },
          "metadata": {},
          "execution_count": 199
        }
      ]
    },
    {
      "cell_type": "code",
      "source": [
        "# 각 호칭의 나이 평균값으로 Null값을 채워줌\n",
        "titanic_df.groupby('Title')['Age'].mean()"
      ],
      "metadata": {
        "id": "lBve2a9y04jY",
        "colab": {
          "base_uri": "https://localhost:8080/"
        },
        "outputId": "6eb6e586-f491-4b87-dfc3-e5c0655af044"
      },
      "execution_count": null,
      "outputs": [
        {
          "output_type": "execute_result",
          "data": {
            "text/plain": [
              "Title\n",
              "Master     5.482642\n",
              "Miss      21.956233\n",
              "Mr        32.265464\n",
              "Mrs       36.982558\n",
              "Other     46.041667\n",
              "Name: Age, dtype: float64"
            ]
          },
          "metadata": {},
          "execution_count": 200
        }
      ]
    },
    {
      "cell_type": "code",
      "source": [
        "# 호칭에 따라서 Age Null값 처리\n",
        "titanic_df.loc[(titanic_df.Age.isnull()) & (titanic_df.Title == 'Mr'),'Age'] = 32\n",
        "titanic_df.loc[(titanic_df.Age.isnull()) & (titanic_df.Title == 'Mrs'),'Age'] = 37\n",
        "titanic_df.loc[(titanic_df.Age.isnull()) & (titanic_df.Title == 'Miss'),'Age'] = 22\n",
        "titanic_df.loc[(titanic_df.Age.isnull()) & (titanic_df.Title == 'Master'),'Age'] = 5\n",
        "titanic_df.loc[(titanic_df.Age.isnull()) & (titanic_df.Title == 'Other'),'Age'] = 46"
      ],
      "metadata": {
        "id": "tvB0_1fm1IFf"
      },
      "execution_count": null,
      "outputs": []
    },
    {
      "cell_type": "code",
      "source": [
        "# null값이 있는지 확인\n",
        "titanic_df['Age'].isnull().any()"
      ],
      "metadata": {
        "id": "HCSIxzHHBBAm",
        "colab": {
          "base_uri": "https://localhost:8080/"
        },
        "outputId": "e1c36a27-6ca4-4041-ec34-3b02e02d9401"
      },
      "execution_count": null,
      "outputs": [
        {
          "output_type": "execute_result",
          "data": {
            "text/plain": [
              "False"
            ]
          },
          "metadata": {},
          "execution_count": 202
        }
      ]
    },
    {
      "cell_type": "code",
      "source": [
        "titanic_df.Age.describe()"
      ],
      "metadata": {
        "id": "FR9JjgZEVNHu",
        "colab": {
          "base_uri": "https://localhost:8080/"
        },
        "outputId": "03dfdbc7-f605-4b0b-e96d-8ebac8e03bc6"
      },
      "execution_count": null,
      "outputs": [
        {
          "output_type": "execute_result",
          "data": {
            "text/plain": [
              "count    1309.000000\n",
              "mean       29.866058\n",
              "std        13.192174\n",
              "min         0.170000\n",
              "25%        22.000000\n",
              "50%        30.000000\n",
              "75%        36.000000\n",
              "max        80.000000\n",
              "Name: Age, dtype: float64"
            ]
          },
          "metadata": {},
          "execution_count": 203
        }
      ]
    },
    {
      "cell_type": "code",
      "source": [
        "# Age 구간화\n",
        "# Master의 최대 나이가 12세인것을 보아 아이를 어린아이로 보는 기준이 12세라고 생각했으며,\n",
        "# 1912년 당시 현재보다 수명이 짧아 60세면 노인으로 보았기 때문에 60세를 중요하게 보았다.\n",
        "titanic_df.loc[titanic_df['Age']<=5, 'Age'] = 0\n",
        "titanic_df.loc[(titanic_df['Age']>5) & (titanic_df['Age']<=12), 'Age'] = 1\n",
        "titanic_df.loc[(titanic_df['Age']>12) & (titanic_df['Age']<=18), 'Age'] = 2\n",
        "titanic_df.loc[(titanic_df['Age']>18) & (titanic_df['Age']<=25), 'Age'] = 3\n",
        "titanic_df.loc[(titanic_df['Age']>25) & (titanic_df['Age']<=35), 'Age'] = 4\n",
        "titanic_df.loc[(titanic_df['Age']>35) & (titanic_df['Age']<=60), 'Age'] = 5\n",
        "titanic_df.loc[titanic_df['Age']>60, 'Age'] = 6\n",
        "\n",
        "titanic_df['Age'].astype(int)"
      ],
      "metadata": {
        "id": "yXDUGpGPL2Vb",
        "colab": {
          "base_uri": "https://localhost:8080/"
        },
        "outputId": "8a0c9597-f33b-4d92-b4fc-0e5291af77f7"
      },
      "execution_count": null,
      "outputs": [
        {
          "output_type": "execute_result",
          "data": {
            "text/plain": [
              "0       3\n",
              "1       5\n",
              "2       4\n",
              "3       4\n",
              "4       4\n",
              "       ..\n",
              "1304    4\n",
              "1305    5\n",
              "1306    5\n",
              "1307    4\n",
              "1308    0\n",
              "Name: Age, Length: 1309, dtype: int64"
            ]
          },
          "metadata": {},
          "execution_count": 204
        }
      ]
    },
    {
      "cell_type": "code",
      "source": [
        "titanic_df.head()"
      ],
      "metadata": {
        "id": "yJWA1lEHZ7hx",
        "colab": {
          "base_uri": "https://localhost:8080/",
          "height": 206
        },
        "outputId": "2002f1d7-0b31-4b77-8e26-95f37d508cfb"
      },
      "execution_count": null,
      "outputs": [
        {
          "output_type": "execute_result",
          "data": {
            "text/plain": [
              "   PassengerId  Survived  Pclass  \\\n",
              "0            1       0.0       3   \n",
              "1            2       1.0       1   \n",
              "2            3       1.0       3   \n",
              "3            4       1.0       1   \n",
              "4            5       0.0       3   \n",
              "\n",
              "                                                Name     Sex  Age  SibSp  \\\n",
              "0                            Braund, Mr. Owen Harris    male  3.0      1   \n",
              "1  Cumings, Mrs. John Bradley (Florence Briggs Th...  female  5.0      1   \n",
              "2                             Heikkinen, Miss. Laina  female  4.0      0   \n",
              "3       Futrelle, Mrs. Jacques Heath (Lily May Peel)  female  4.0      1   \n",
              "4                           Allen, Mr. William Henry    male  4.0      0   \n",
              "\n",
              "   Parch            Ticket     Fare Cabin Embarked Title  \n",
              "0      0         A/5 21171   7.2500   NaN        S    Mr  \n",
              "1      0          PC 17599  71.2833   C85        C   Mrs  \n",
              "2      0  STON/O2. 3101282   7.9250   NaN        S  Miss  \n",
              "3      0            113803  53.1000  C123        S   Mrs  \n",
              "4      0            373450   8.0500   NaN        S    Mr  "
            ],
            "text/html": [
              "\n",
              "  <div id=\"df-63f49d69-adc5-4294-8da8-6ab1ca23ce56\">\n",
              "    <div class=\"colab-df-container\">\n",
              "      <div>\n",
              "<style scoped>\n",
              "    .dataframe tbody tr th:only-of-type {\n",
              "        vertical-align: middle;\n",
              "    }\n",
              "\n",
              "    .dataframe tbody tr th {\n",
              "        vertical-align: top;\n",
              "    }\n",
              "\n",
              "    .dataframe thead th {\n",
              "        text-align: right;\n",
              "    }\n",
              "</style>\n",
              "<table border=\"1\" class=\"dataframe\">\n",
              "  <thead>\n",
              "    <tr style=\"text-align: right;\">\n",
              "      <th></th>\n",
              "      <th>PassengerId</th>\n",
              "      <th>Survived</th>\n",
              "      <th>Pclass</th>\n",
              "      <th>Name</th>\n",
              "      <th>Sex</th>\n",
              "      <th>Age</th>\n",
              "      <th>SibSp</th>\n",
              "      <th>Parch</th>\n",
              "      <th>Ticket</th>\n",
              "      <th>Fare</th>\n",
              "      <th>Cabin</th>\n",
              "      <th>Embarked</th>\n",
              "      <th>Title</th>\n",
              "    </tr>\n",
              "  </thead>\n",
              "  <tbody>\n",
              "    <tr>\n",
              "      <th>0</th>\n",
              "      <td>1</td>\n",
              "      <td>0.0</td>\n",
              "      <td>3</td>\n",
              "      <td>Braund, Mr. Owen Harris</td>\n",
              "      <td>male</td>\n",
              "      <td>3.0</td>\n",
              "      <td>1</td>\n",
              "      <td>0</td>\n",
              "      <td>A/5 21171</td>\n",
              "      <td>7.2500</td>\n",
              "      <td>NaN</td>\n",
              "      <td>S</td>\n",
              "      <td>Mr</td>\n",
              "    </tr>\n",
              "    <tr>\n",
              "      <th>1</th>\n",
              "      <td>2</td>\n",
              "      <td>1.0</td>\n",
              "      <td>1</td>\n",
              "      <td>Cumings, Mrs. John Bradley (Florence Briggs Th...</td>\n",
              "      <td>female</td>\n",
              "      <td>5.0</td>\n",
              "      <td>1</td>\n",
              "      <td>0</td>\n",
              "      <td>PC 17599</td>\n",
              "      <td>71.2833</td>\n",
              "      <td>C85</td>\n",
              "      <td>C</td>\n",
              "      <td>Mrs</td>\n",
              "    </tr>\n",
              "    <tr>\n",
              "      <th>2</th>\n",
              "      <td>3</td>\n",
              "      <td>1.0</td>\n",
              "      <td>3</td>\n",
              "      <td>Heikkinen, Miss. Laina</td>\n",
              "      <td>female</td>\n",
              "      <td>4.0</td>\n",
              "      <td>0</td>\n",
              "      <td>0</td>\n",
              "      <td>STON/O2. 3101282</td>\n",
              "      <td>7.9250</td>\n",
              "      <td>NaN</td>\n",
              "      <td>S</td>\n",
              "      <td>Miss</td>\n",
              "    </tr>\n",
              "    <tr>\n",
              "      <th>3</th>\n",
              "      <td>4</td>\n",
              "      <td>1.0</td>\n",
              "      <td>1</td>\n",
              "      <td>Futrelle, Mrs. Jacques Heath (Lily May Peel)</td>\n",
              "      <td>female</td>\n",
              "      <td>4.0</td>\n",
              "      <td>1</td>\n",
              "      <td>0</td>\n",
              "      <td>113803</td>\n",
              "      <td>53.1000</td>\n",
              "      <td>C123</td>\n",
              "      <td>S</td>\n",
              "      <td>Mrs</td>\n",
              "    </tr>\n",
              "    <tr>\n",
              "      <th>4</th>\n",
              "      <td>5</td>\n",
              "      <td>0.0</td>\n",
              "      <td>3</td>\n",
              "      <td>Allen, Mr. William Henry</td>\n",
              "      <td>male</td>\n",
              "      <td>4.0</td>\n",
              "      <td>0</td>\n",
              "      <td>0</td>\n",
              "      <td>373450</td>\n",
              "      <td>8.0500</td>\n",
              "      <td>NaN</td>\n",
              "      <td>S</td>\n",
              "      <td>Mr</td>\n",
              "    </tr>\n",
              "  </tbody>\n",
              "</table>\n",
              "</div>\n",
              "      <button class=\"colab-df-convert\" onclick=\"convertToInteractive('df-63f49d69-adc5-4294-8da8-6ab1ca23ce56')\"\n",
              "              title=\"Convert this dataframe to an interactive table.\"\n",
              "              style=\"display:none;\">\n",
              "        \n",
              "  <svg xmlns=\"http://www.w3.org/2000/svg\" height=\"24px\"viewBox=\"0 0 24 24\"\n",
              "       width=\"24px\">\n",
              "    <path d=\"M0 0h24v24H0V0z\" fill=\"none\"/>\n",
              "    <path d=\"M18.56 5.44l.94 2.06.94-2.06 2.06-.94-2.06-.94-.94-2.06-.94 2.06-2.06.94zm-11 1L8.5 8.5l.94-2.06 2.06-.94-2.06-.94L8.5 2.5l-.94 2.06-2.06.94zm10 10l.94 2.06.94-2.06 2.06-.94-2.06-.94-.94-2.06-.94 2.06-2.06.94z\"/><path d=\"M17.41 7.96l-1.37-1.37c-.4-.4-.92-.59-1.43-.59-.52 0-1.04.2-1.43.59L10.3 9.45l-7.72 7.72c-.78.78-.78 2.05 0 2.83L4 21.41c.39.39.9.59 1.41.59.51 0 1.02-.2 1.41-.59l7.78-7.78 2.81-2.81c.8-.78.8-2.07 0-2.86zM5.41 20L4 18.59l7.72-7.72 1.47 1.35L5.41 20z\"/>\n",
              "  </svg>\n",
              "      </button>\n",
              "      \n",
              "  <style>\n",
              "    .colab-df-container {\n",
              "      display:flex;\n",
              "      flex-wrap:wrap;\n",
              "      gap: 12px;\n",
              "    }\n",
              "\n",
              "    .colab-df-convert {\n",
              "      background-color: #E8F0FE;\n",
              "      border: none;\n",
              "      border-radius: 50%;\n",
              "      cursor: pointer;\n",
              "      display: none;\n",
              "      fill: #1967D2;\n",
              "      height: 32px;\n",
              "      padding: 0 0 0 0;\n",
              "      width: 32px;\n",
              "    }\n",
              "\n",
              "    .colab-df-convert:hover {\n",
              "      background-color: #E2EBFA;\n",
              "      box-shadow: 0px 1px 2px rgba(60, 64, 67, 0.3), 0px 1px 3px 1px rgba(60, 64, 67, 0.15);\n",
              "      fill: #174EA6;\n",
              "    }\n",
              "\n",
              "    [theme=dark] .colab-df-convert {\n",
              "      background-color: #3B4455;\n",
              "      fill: #D2E3FC;\n",
              "    }\n",
              "\n",
              "    [theme=dark] .colab-df-convert:hover {\n",
              "      background-color: #434B5C;\n",
              "      box-shadow: 0px 1px 3px 1px rgba(0, 0, 0, 0.15);\n",
              "      filter: drop-shadow(0px 1px 2px rgba(0, 0, 0, 0.3));\n",
              "      fill: #FFFFFF;\n",
              "    }\n",
              "  </style>\n",
              "\n",
              "      <script>\n",
              "        const buttonEl =\n",
              "          document.querySelector('#df-63f49d69-adc5-4294-8da8-6ab1ca23ce56 button.colab-df-convert');\n",
              "        buttonEl.style.display =\n",
              "          google.colab.kernel.accessAllowed ? 'block' : 'none';\n",
              "\n",
              "        async function convertToInteractive(key) {\n",
              "          const element = document.querySelector('#df-63f49d69-adc5-4294-8da8-6ab1ca23ce56');\n",
              "          const dataTable =\n",
              "            await google.colab.kernel.invokeFunction('convertToInteractive',\n",
              "                                                     [key], {});\n",
              "          if (!dataTable) return;\n",
              "\n",
              "          const docLinkHtml = 'Like what you see? Visit the ' +\n",
              "            '<a target=\"_blank\" href=https://colab.research.google.com/notebooks/data_table.ipynb>data table notebook</a>'\n",
              "            + ' to learn more about interactive tables.';\n",
              "          element.innerHTML = '';\n",
              "          dataTable['output_type'] = 'display_data';\n",
              "          await google.colab.output.renderOutput(dataTable, element);\n",
              "          const docLink = document.createElement('div');\n",
              "          docLink.innerHTML = docLinkHtml;\n",
              "          element.appendChild(docLink);\n",
              "        }\n",
              "      </script>\n",
              "    </div>\n",
              "  </div>\n",
              "  "
            ]
          },
          "metadata": {},
          "execution_count": 205
        }
      ]
    },
    {
      "cell_type": "code",
      "source": [
        "titanic_df"
      ],
      "metadata": {
        "id": "XmFflvjgZ-hr",
        "colab": {
          "base_uri": "https://localhost:8080/",
          "height": 424
        },
        "outputId": "c4170711-4ff1-4488-e35a-88011f2afe6a"
      },
      "execution_count": null,
      "outputs": [
        {
          "output_type": "execute_result",
          "data": {
            "text/plain": [
              "      PassengerId  Survived  Pclass  \\\n",
              "0               1       0.0       3   \n",
              "1               2       1.0       1   \n",
              "2               3       1.0       3   \n",
              "3               4       1.0       1   \n",
              "4               5       0.0       3   \n",
              "...           ...       ...     ...   \n",
              "1304         1305       NaN       3   \n",
              "1305         1306       NaN       1   \n",
              "1306         1307       NaN       3   \n",
              "1307         1308       NaN       3   \n",
              "1308         1309       NaN       3   \n",
              "\n",
              "                                                   Name     Sex  Age  SibSp  \\\n",
              "0                               Braund, Mr. Owen Harris    male  3.0      1   \n",
              "1     Cumings, Mrs. John Bradley (Florence Briggs Th...  female  5.0      1   \n",
              "2                                Heikkinen, Miss. Laina  female  4.0      0   \n",
              "3          Futrelle, Mrs. Jacques Heath (Lily May Peel)  female  4.0      1   \n",
              "4                              Allen, Mr. William Henry    male  4.0      0   \n",
              "...                                                 ...     ...  ...    ...   \n",
              "1304                                 Spector, Mr. Woolf    male  4.0      0   \n",
              "1305                       Oliva y Ocana, Dona. Fermina  female  5.0      0   \n",
              "1306                       Saether, Mr. Simon Sivertsen    male  5.0      0   \n",
              "1307                                Ware, Mr. Frederick    male  4.0      0   \n",
              "1308                           Peter, Master. Michael J    male  0.0      1   \n",
              "\n",
              "      Parch              Ticket      Fare Cabin Embarked   Title  \n",
              "0         0           A/5 21171    7.2500   NaN        S      Mr  \n",
              "1         0            PC 17599   71.2833   C85        C     Mrs  \n",
              "2         0    STON/O2. 3101282    7.9250   NaN        S    Miss  \n",
              "3         0              113803   53.1000  C123        S     Mrs  \n",
              "4         0              373450    8.0500   NaN        S      Mr  \n",
              "...     ...                 ...       ...   ...      ...     ...  \n",
              "1304      0           A.5. 3236    8.0500   NaN        S      Mr  \n",
              "1305      0            PC 17758  108.9000  C105        C     Mrs  \n",
              "1306      0  SOTON/O.Q. 3101262    7.2500   NaN        S      Mr  \n",
              "1307      0              359309    8.0500   NaN        S      Mr  \n",
              "1308      1                2668   22.3583   NaN        C  Master  \n",
              "\n",
              "[1309 rows x 13 columns]"
            ],
            "text/html": [
              "\n",
              "  <div id=\"df-7f270adc-15ab-4760-9c94-cc6e8bea8559\">\n",
              "    <div class=\"colab-df-container\">\n",
              "      <div>\n",
              "<style scoped>\n",
              "    .dataframe tbody tr th:only-of-type {\n",
              "        vertical-align: middle;\n",
              "    }\n",
              "\n",
              "    .dataframe tbody tr th {\n",
              "        vertical-align: top;\n",
              "    }\n",
              "\n",
              "    .dataframe thead th {\n",
              "        text-align: right;\n",
              "    }\n",
              "</style>\n",
              "<table border=\"1\" class=\"dataframe\">\n",
              "  <thead>\n",
              "    <tr style=\"text-align: right;\">\n",
              "      <th></th>\n",
              "      <th>PassengerId</th>\n",
              "      <th>Survived</th>\n",
              "      <th>Pclass</th>\n",
              "      <th>Name</th>\n",
              "      <th>Sex</th>\n",
              "      <th>Age</th>\n",
              "      <th>SibSp</th>\n",
              "      <th>Parch</th>\n",
              "      <th>Ticket</th>\n",
              "      <th>Fare</th>\n",
              "      <th>Cabin</th>\n",
              "      <th>Embarked</th>\n",
              "      <th>Title</th>\n",
              "    </tr>\n",
              "  </thead>\n",
              "  <tbody>\n",
              "    <tr>\n",
              "      <th>0</th>\n",
              "      <td>1</td>\n",
              "      <td>0.0</td>\n",
              "      <td>3</td>\n",
              "      <td>Braund, Mr. Owen Harris</td>\n",
              "      <td>male</td>\n",
              "      <td>3.0</td>\n",
              "      <td>1</td>\n",
              "      <td>0</td>\n",
              "      <td>A/5 21171</td>\n",
              "      <td>7.2500</td>\n",
              "      <td>NaN</td>\n",
              "      <td>S</td>\n",
              "      <td>Mr</td>\n",
              "    </tr>\n",
              "    <tr>\n",
              "      <th>1</th>\n",
              "      <td>2</td>\n",
              "      <td>1.0</td>\n",
              "      <td>1</td>\n",
              "      <td>Cumings, Mrs. John Bradley (Florence Briggs Th...</td>\n",
              "      <td>female</td>\n",
              "      <td>5.0</td>\n",
              "      <td>1</td>\n",
              "      <td>0</td>\n",
              "      <td>PC 17599</td>\n",
              "      <td>71.2833</td>\n",
              "      <td>C85</td>\n",
              "      <td>C</td>\n",
              "      <td>Mrs</td>\n",
              "    </tr>\n",
              "    <tr>\n",
              "      <th>2</th>\n",
              "      <td>3</td>\n",
              "      <td>1.0</td>\n",
              "      <td>3</td>\n",
              "      <td>Heikkinen, Miss. Laina</td>\n",
              "      <td>female</td>\n",
              "      <td>4.0</td>\n",
              "      <td>0</td>\n",
              "      <td>0</td>\n",
              "      <td>STON/O2. 3101282</td>\n",
              "      <td>7.9250</td>\n",
              "      <td>NaN</td>\n",
              "      <td>S</td>\n",
              "      <td>Miss</td>\n",
              "    </tr>\n",
              "    <tr>\n",
              "      <th>3</th>\n",
              "      <td>4</td>\n",
              "      <td>1.0</td>\n",
              "      <td>1</td>\n",
              "      <td>Futrelle, Mrs. Jacques Heath (Lily May Peel)</td>\n",
              "      <td>female</td>\n",
              "      <td>4.0</td>\n",
              "      <td>1</td>\n",
              "      <td>0</td>\n",
              "      <td>113803</td>\n",
              "      <td>53.1000</td>\n",
              "      <td>C123</td>\n",
              "      <td>S</td>\n",
              "      <td>Mrs</td>\n",
              "    </tr>\n",
              "    <tr>\n",
              "      <th>4</th>\n",
              "      <td>5</td>\n",
              "      <td>0.0</td>\n",
              "      <td>3</td>\n",
              "      <td>Allen, Mr. William Henry</td>\n",
              "      <td>male</td>\n",
              "      <td>4.0</td>\n",
              "      <td>0</td>\n",
              "      <td>0</td>\n",
              "      <td>373450</td>\n",
              "      <td>8.0500</td>\n",
              "      <td>NaN</td>\n",
              "      <td>S</td>\n",
              "      <td>Mr</td>\n",
              "    </tr>\n",
              "    <tr>\n",
              "      <th>...</th>\n",
              "      <td>...</td>\n",
              "      <td>...</td>\n",
              "      <td>...</td>\n",
              "      <td>...</td>\n",
              "      <td>...</td>\n",
              "      <td>...</td>\n",
              "      <td>...</td>\n",
              "      <td>...</td>\n",
              "      <td>...</td>\n",
              "      <td>...</td>\n",
              "      <td>...</td>\n",
              "      <td>...</td>\n",
              "      <td>...</td>\n",
              "    </tr>\n",
              "    <tr>\n",
              "      <th>1304</th>\n",
              "      <td>1305</td>\n",
              "      <td>NaN</td>\n",
              "      <td>3</td>\n",
              "      <td>Spector, Mr. Woolf</td>\n",
              "      <td>male</td>\n",
              "      <td>4.0</td>\n",
              "      <td>0</td>\n",
              "      <td>0</td>\n",
              "      <td>A.5. 3236</td>\n",
              "      <td>8.0500</td>\n",
              "      <td>NaN</td>\n",
              "      <td>S</td>\n",
              "      <td>Mr</td>\n",
              "    </tr>\n",
              "    <tr>\n",
              "      <th>1305</th>\n",
              "      <td>1306</td>\n",
              "      <td>NaN</td>\n",
              "      <td>1</td>\n",
              "      <td>Oliva y Ocana, Dona. Fermina</td>\n",
              "      <td>female</td>\n",
              "      <td>5.0</td>\n",
              "      <td>0</td>\n",
              "      <td>0</td>\n",
              "      <td>PC 17758</td>\n",
              "      <td>108.9000</td>\n",
              "      <td>C105</td>\n",
              "      <td>C</td>\n",
              "      <td>Mrs</td>\n",
              "    </tr>\n",
              "    <tr>\n",
              "      <th>1306</th>\n",
              "      <td>1307</td>\n",
              "      <td>NaN</td>\n",
              "      <td>3</td>\n",
              "      <td>Saether, Mr. Simon Sivertsen</td>\n",
              "      <td>male</td>\n",
              "      <td>5.0</td>\n",
              "      <td>0</td>\n",
              "      <td>0</td>\n",
              "      <td>SOTON/O.Q. 3101262</td>\n",
              "      <td>7.2500</td>\n",
              "      <td>NaN</td>\n",
              "      <td>S</td>\n",
              "      <td>Mr</td>\n",
              "    </tr>\n",
              "    <tr>\n",
              "      <th>1307</th>\n",
              "      <td>1308</td>\n",
              "      <td>NaN</td>\n",
              "      <td>3</td>\n",
              "      <td>Ware, Mr. Frederick</td>\n",
              "      <td>male</td>\n",
              "      <td>4.0</td>\n",
              "      <td>0</td>\n",
              "      <td>0</td>\n",
              "      <td>359309</td>\n",
              "      <td>8.0500</td>\n",
              "      <td>NaN</td>\n",
              "      <td>S</td>\n",
              "      <td>Mr</td>\n",
              "    </tr>\n",
              "    <tr>\n",
              "      <th>1308</th>\n",
              "      <td>1309</td>\n",
              "      <td>NaN</td>\n",
              "      <td>3</td>\n",
              "      <td>Peter, Master. Michael J</td>\n",
              "      <td>male</td>\n",
              "      <td>0.0</td>\n",
              "      <td>1</td>\n",
              "      <td>1</td>\n",
              "      <td>2668</td>\n",
              "      <td>22.3583</td>\n",
              "      <td>NaN</td>\n",
              "      <td>C</td>\n",
              "      <td>Master</td>\n",
              "    </tr>\n",
              "  </tbody>\n",
              "</table>\n",
              "<p>1309 rows × 13 columns</p>\n",
              "</div>\n",
              "      <button class=\"colab-df-convert\" onclick=\"convertToInteractive('df-7f270adc-15ab-4760-9c94-cc6e8bea8559')\"\n",
              "              title=\"Convert this dataframe to an interactive table.\"\n",
              "              style=\"display:none;\">\n",
              "        \n",
              "  <svg xmlns=\"http://www.w3.org/2000/svg\" height=\"24px\"viewBox=\"0 0 24 24\"\n",
              "       width=\"24px\">\n",
              "    <path d=\"M0 0h24v24H0V0z\" fill=\"none\"/>\n",
              "    <path d=\"M18.56 5.44l.94 2.06.94-2.06 2.06-.94-2.06-.94-.94-2.06-.94 2.06-2.06.94zm-11 1L8.5 8.5l.94-2.06 2.06-.94-2.06-.94L8.5 2.5l-.94 2.06-2.06.94zm10 10l.94 2.06.94-2.06 2.06-.94-2.06-.94-.94-2.06-.94 2.06-2.06.94z\"/><path d=\"M17.41 7.96l-1.37-1.37c-.4-.4-.92-.59-1.43-.59-.52 0-1.04.2-1.43.59L10.3 9.45l-7.72 7.72c-.78.78-.78 2.05 0 2.83L4 21.41c.39.39.9.59 1.41.59.51 0 1.02-.2 1.41-.59l7.78-7.78 2.81-2.81c.8-.78.8-2.07 0-2.86zM5.41 20L4 18.59l7.72-7.72 1.47 1.35L5.41 20z\"/>\n",
              "  </svg>\n",
              "      </button>\n",
              "      \n",
              "  <style>\n",
              "    .colab-df-container {\n",
              "      display:flex;\n",
              "      flex-wrap:wrap;\n",
              "      gap: 12px;\n",
              "    }\n",
              "\n",
              "    .colab-df-convert {\n",
              "      background-color: #E8F0FE;\n",
              "      border: none;\n",
              "      border-radius: 50%;\n",
              "      cursor: pointer;\n",
              "      display: none;\n",
              "      fill: #1967D2;\n",
              "      height: 32px;\n",
              "      padding: 0 0 0 0;\n",
              "      width: 32px;\n",
              "    }\n",
              "\n",
              "    .colab-df-convert:hover {\n",
              "      background-color: #E2EBFA;\n",
              "      box-shadow: 0px 1px 2px rgba(60, 64, 67, 0.3), 0px 1px 3px 1px rgba(60, 64, 67, 0.15);\n",
              "      fill: #174EA6;\n",
              "    }\n",
              "\n",
              "    [theme=dark] .colab-df-convert {\n",
              "      background-color: #3B4455;\n",
              "      fill: #D2E3FC;\n",
              "    }\n",
              "\n",
              "    [theme=dark] .colab-df-convert:hover {\n",
              "      background-color: #434B5C;\n",
              "      box-shadow: 0px 1px 3px 1px rgba(0, 0, 0, 0.15);\n",
              "      filter: drop-shadow(0px 1px 2px rgba(0, 0, 0, 0.3));\n",
              "      fill: #FFFFFF;\n",
              "    }\n",
              "  </style>\n",
              "\n",
              "      <script>\n",
              "        const buttonEl =\n",
              "          document.querySelector('#df-7f270adc-15ab-4760-9c94-cc6e8bea8559 button.colab-df-convert');\n",
              "        buttonEl.style.display =\n",
              "          google.colab.kernel.accessAllowed ? 'block' : 'none';\n",
              "\n",
              "        async function convertToInteractive(key) {\n",
              "          const element = document.querySelector('#df-7f270adc-15ab-4760-9c94-cc6e8bea8559');\n",
              "          const dataTable =\n",
              "            await google.colab.kernel.invokeFunction('convertToInteractive',\n",
              "                                                     [key], {});\n",
              "          if (!dataTable) return;\n",
              "\n",
              "          const docLinkHtml = 'Like what you see? Visit the ' +\n",
              "            '<a target=\"_blank\" href=https://colab.research.google.com/notebooks/data_table.ipynb>data table notebook</a>'\n",
              "            + ' to learn more about interactive tables.';\n",
              "          element.innerHTML = '';\n",
              "          dataTable['output_type'] = 'display_data';\n",
              "          await google.colab.output.renderOutput(dataTable, element);\n",
              "          const docLink = document.createElement('div');\n",
              "          docLink.innerHTML = docLinkHtml;\n",
              "          element.appendChild(docLink);\n",
              "        }\n",
              "      </script>\n",
              "    </div>\n",
              "  </div>\n",
              "  "
            ]
          },
          "metadata": {},
          "execution_count": 206
        }
      ]
    },
    {
      "cell_type": "markdown",
      "source": [
        "## Cabin"
      ],
      "metadata": {
        "id": "oNpYW1zpbFqo"
      }
    },
    {
      "cell_type": "code",
      "source": [
        "titanic_df['Cabin'] = titanic_df['Cabin'].str[:1]\n",
        "titanic_df[:5]"
      ],
      "metadata": {
        "id": "eUBmbUhUaHxG",
        "colab": {
          "base_uri": "https://localhost:8080/",
          "height": 206
        },
        "outputId": "521ae409-501b-417f-80cd-cea5ee211452"
      },
      "execution_count": null,
      "outputs": [
        {
          "output_type": "execute_result",
          "data": {
            "text/plain": [
              "   PassengerId  Survived  Pclass  \\\n",
              "0            1       0.0       3   \n",
              "1            2       1.0       1   \n",
              "2            3       1.0       3   \n",
              "3            4       1.0       1   \n",
              "4            5       0.0       3   \n",
              "\n",
              "                                                Name     Sex  Age  SibSp  \\\n",
              "0                            Braund, Mr. Owen Harris    male  3.0      1   \n",
              "1  Cumings, Mrs. John Bradley (Florence Briggs Th...  female  5.0      1   \n",
              "2                             Heikkinen, Miss. Laina  female  4.0      0   \n",
              "3       Futrelle, Mrs. Jacques Heath (Lily May Peel)  female  4.0      1   \n",
              "4                           Allen, Mr. William Henry    male  4.0      0   \n",
              "\n",
              "   Parch            Ticket     Fare Cabin Embarked Title  \n",
              "0      0         A/5 21171   7.2500   NaN        S    Mr  \n",
              "1      0          PC 17599  71.2833     C        C   Mrs  \n",
              "2      0  STON/O2. 3101282   7.9250   NaN        S  Miss  \n",
              "3      0            113803  53.1000     C        S   Mrs  \n",
              "4      0            373450   8.0500   NaN        S    Mr  "
            ],
            "text/html": [
              "\n",
              "  <div id=\"df-d11d9fd4-06a8-4da0-9be6-6f42eb73cdb4\">\n",
              "    <div class=\"colab-df-container\">\n",
              "      <div>\n",
              "<style scoped>\n",
              "    .dataframe tbody tr th:only-of-type {\n",
              "        vertical-align: middle;\n",
              "    }\n",
              "\n",
              "    .dataframe tbody tr th {\n",
              "        vertical-align: top;\n",
              "    }\n",
              "\n",
              "    .dataframe thead th {\n",
              "        text-align: right;\n",
              "    }\n",
              "</style>\n",
              "<table border=\"1\" class=\"dataframe\">\n",
              "  <thead>\n",
              "    <tr style=\"text-align: right;\">\n",
              "      <th></th>\n",
              "      <th>PassengerId</th>\n",
              "      <th>Survived</th>\n",
              "      <th>Pclass</th>\n",
              "      <th>Name</th>\n",
              "      <th>Sex</th>\n",
              "      <th>Age</th>\n",
              "      <th>SibSp</th>\n",
              "      <th>Parch</th>\n",
              "      <th>Ticket</th>\n",
              "      <th>Fare</th>\n",
              "      <th>Cabin</th>\n",
              "      <th>Embarked</th>\n",
              "      <th>Title</th>\n",
              "    </tr>\n",
              "  </thead>\n",
              "  <tbody>\n",
              "    <tr>\n",
              "      <th>0</th>\n",
              "      <td>1</td>\n",
              "      <td>0.0</td>\n",
              "      <td>3</td>\n",
              "      <td>Braund, Mr. Owen Harris</td>\n",
              "      <td>male</td>\n",
              "      <td>3.0</td>\n",
              "      <td>1</td>\n",
              "      <td>0</td>\n",
              "      <td>A/5 21171</td>\n",
              "      <td>7.2500</td>\n",
              "      <td>NaN</td>\n",
              "      <td>S</td>\n",
              "      <td>Mr</td>\n",
              "    </tr>\n",
              "    <tr>\n",
              "      <th>1</th>\n",
              "      <td>2</td>\n",
              "      <td>1.0</td>\n",
              "      <td>1</td>\n",
              "      <td>Cumings, Mrs. John Bradley (Florence Briggs Th...</td>\n",
              "      <td>female</td>\n",
              "      <td>5.0</td>\n",
              "      <td>1</td>\n",
              "      <td>0</td>\n",
              "      <td>PC 17599</td>\n",
              "      <td>71.2833</td>\n",
              "      <td>C</td>\n",
              "      <td>C</td>\n",
              "      <td>Mrs</td>\n",
              "    </tr>\n",
              "    <tr>\n",
              "      <th>2</th>\n",
              "      <td>3</td>\n",
              "      <td>1.0</td>\n",
              "      <td>3</td>\n",
              "      <td>Heikkinen, Miss. Laina</td>\n",
              "      <td>female</td>\n",
              "      <td>4.0</td>\n",
              "      <td>0</td>\n",
              "      <td>0</td>\n",
              "      <td>STON/O2. 3101282</td>\n",
              "      <td>7.9250</td>\n",
              "      <td>NaN</td>\n",
              "      <td>S</td>\n",
              "      <td>Miss</td>\n",
              "    </tr>\n",
              "    <tr>\n",
              "      <th>3</th>\n",
              "      <td>4</td>\n",
              "      <td>1.0</td>\n",
              "      <td>1</td>\n",
              "      <td>Futrelle, Mrs. Jacques Heath (Lily May Peel)</td>\n",
              "      <td>female</td>\n",
              "      <td>4.0</td>\n",
              "      <td>1</td>\n",
              "      <td>0</td>\n",
              "      <td>113803</td>\n",
              "      <td>53.1000</td>\n",
              "      <td>C</td>\n",
              "      <td>S</td>\n",
              "      <td>Mrs</td>\n",
              "    </tr>\n",
              "    <tr>\n",
              "      <th>4</th>\n",
              "      <td>5</td>\n",
              "      <td>0.0</td>\n",
              "      <td>3</td>\n",
              "      <td>Allen, Mr. William Henry</td>\n",
              "      <td>male</td>\n",
              "      <td>4.0</td>\n",
              "      <td>0</td>\n",
              "      <td>0</td>\n",
              "      <td>373450</td>\n",
              "      <td>8.0500</td>\n",
              "      <td>NaN</td>\n",
              "      <td>S</td>\n",
              "      <td>Mr</td>\n",
              "    </tr>\n",
              "  </tbody>\n",
              "</table>\n",
              "</div>\n",
              "      <button class=\"colab-df-convert\" onclick=\"convertToInteractive('df-d11d9fd4-06a8-4da0-9be6-6f42eb73cdb4')\"\n",
              "              title=\"Convert this dataframe to an interactive table.\"\n",
              "              style=\"display:none;\">\n",
              "        \n",
              "  <svg xmlns=\"http://www.w3.org/2000/svg\" height=\"24px\"viewBox=\"0 0 24 24\"\n",
              "       width=\"24px\">\n",
              "    <path d=\"M0 0h24v24H0V0z\" fill=\"none\"/>\n",
              "    <path d=\"M18.56 5.44l.94 2.06.94-2.06 2.06-.94-2.06-.94-.94-2.06-.94 2.06-2.06.94zm-11 1L8.5 8.5l.94-2.06 2.06-.94-2.06-.94L8.5 2.5l-.94 2.06-2.06.94zm10 10l.94 2.06.94-2.06 2.06-.94-2.06-.94-.94-2.06-.94 2.06-2.06.94z\"/><path d=\"M17.41 7.96l-1.37-1.37c-.4-.4-.92-.59-1.43-.59-.52 0-1.04.2-1.43.59L10.3 9.45l-7.72 7.72c-.78.78-.78 2.05 0 2.83L4 21.41c.39.39.9.59 1.41.59.51 0 1.02-.2 1.41-.59l7.78-7.78 2.81-2.81c.8-.78.8-2.07 0-2.86zM5.41 20L4 18.59l7.72-7.72 1.47 1.35L5.41 20z\"/>\n",
              "  </svg>\n",
              "      </button>\n",
              "      \n",
              "  <style>\n",
              "    .colab-df-container {\n",
              "      display:flex;\n",
              "      flex-wrap:wrap;\n",
              "      gap: 12px;\n",
              "    }\n",
              "\n",
              "    .colab-df-convert {\n",
              "      background-color: #E8F0FE;\n",
              "      border: none;\n",
              "      border-radius: 50%;\n",
              "      cursor: pointer;\n",
              "      display: none;\n",
              "      fill: #1967D2;\n",
              "      height: 32px;\n",
              "      padding: 0 0 0 0;\n",
              "      width: 32px;\n",
              "    }\n",
              "\n",
              "    .colab-df-convert:hover {\n",
              "      background-color: #E2EBFA;\n",
              "      box-shadow: 0px 1px 2px rgba(60, 64, 67, 0.3), 0px 1px 3px 1px rgba(60, 64, 67, 0.15);\n",
              "      fill: #174EA6;\n",
              "    }\n",
              "\n",
              "    [theme=dark] .colab-df-convert {\n",
              "      background-color: #3B4455;\n",
              "      fill: #D2E3FC;\n",
              "    }\n",
              "\n",
              "    [theme=dark] .colab-df-convert:hover {\n",
              "      background-color: #434B5C;\n",
              "      box-shadow: 0px 1px 3px 1px rgba(0, 0, 0, 0.15);\n",
              "      filter: drop-shadow(0px 1px 2px rgba(0, 0, 0, 0.3));\n",
              "      fill: #FFFFFF;\n",
              "    }\n",
              "  </style>\n",
              "\n",
              "      <script>\n",
              "        const buttonEl =\n",
              "          document.querySelector('#df-d11d9fd4-06a8-4da0-9be6-6f42eb73cdb4 button.colab-df-convert');\n",
              "        buttonEl.style.display =\n",
              "          google.colab.kernel.accessAllowed ? 'block' : 'none';\n",
              "\n",
              "        async function convertToInteractive(key) {\n",
              "          const element = document.querySelector('#df-d11d9fd4-06a8-4da0-9be6-6f42eb73cdb4');\n",
              "          const dataTable =\n",
              "            await google.colab.kernel.invokeFunction('convertToInteractive',\n",
              "                                                     [key], {});\n",
              "          if (!dataTable) return;\n",
              "\n",
              "          const docLinkHtml = 'Like what you see? Visit the ' +\n",
              "            '<a target=\"_blank\" href=https://colab.research.google.com/notebooks/data_table.ipynb>data table notebook</a>'\n",
              "            + ' to learn more about interactive tables.';\n",
              "          element.innerHTML = '';\n",
              "          dataTable['output_type'] = 'display_data';\n",
              "          await google.colab.output.renderOutput(dataTable, element);\n",
              "          const docLink = document.createElement('div');\n",
              "          docLink.innerHTML = docLinkHtml;\n",
              "          element.appendChild(docLink);\n",
              "        }\n",
              "      </script>\n",
              "    </div>\n",
              "  </div>\n",
              "  "
            ]
          },
          "metadata": {},
          "execution_count": 207
        }
      ]
    },
    {
      "cell_type": "code",
      "source": [
        "# 1, 2, 3등급별로 확실하게 Cabin 구역이 나눠져 있지 않아서 중위값으로 채우면 오히려 나쁜 영향을 줄 수 있다.\n",
        "# Null값은 0으로 처리하도록 한다.\n",
        "titanic_df.groupby('Pclass').Cabin.value_counts()"
      ],
      "metadata": {
        "id": "SGWhhFGGb9W_",
        "colab": {
          "base_uri": "https://localhost:8080/"
        },
        "outputId": "0f89df51-4030-42c6-966f-f4f1e6ffdec4"
      },
      "execution_count": null,
      "outputs": [
        {
          "output_type": "execute_result",
          "data": {
            "text/plain": [
              "Pclass  Cabin\n",
              "1       C        94\n",
              "        B        65\n",
              "        D        40\n",
              "        E        34\n",
              "        A        22\n",
              "        T         1\n",
              "2       F        13\n",
              "        D         6\n",
              "        E         4\n",
              "3       F         8\n",
              "        G         5\n",
              "        E         3\n",
              "Name: Cabin, dtype: int64"
            ]
          },
          "metadata": {},
          "execution_count": 208
        }
      ]
    },
    {
      "cell_type": "markdown",
      "source": [
        "## Title"
      ],
      "metadata": {
        "id": "NXLYG6oflX0u"
      }
    },
    {
      "cell_type": "code",
      "source": [
        "title_mapping = {'Mr':1, 'Mrs':2, 'Miss':3, 'Master':4, 'Other':5}\n",
        "titanic_df['Title'] = titanic_df['Title'].map(title_mapping)\n",
        "titanic_df['Title'].value_counts()"
      ],
      "metadata": {
        "id": "EiY0oATglP-0",
        "colab": {
          "base_uri": "https://localhost:8080/"
        },
        "outputId": "2f249649-951d-4dcc-ddad-41c7722320a1"
      },
      "execution_count": null,
      "outputs": [
        {
          "output_type": "execute_result",
          "data": {
            "text/plain": [
              "1    758\n",
              "3    266\n",
              "2    199\n",
              "4     61\n",
              "5     25\n",
              "Name: Title, dtype: int64"
            ]
          },
          "metadata": {},
          "execution_count": 209
        }
      ]
    },
    {
      "cell_type": "markdown",
      "source": [
        "## Sex"
      ],
      "metadata": {
        "id": "o39LA25wmgAu"
      }
    },
    {
      "cell_type": "code",
      "source": [
        "# 라벨 인코딩 한번 사용해봄\n",
        "from sklearn.preprocessing import LabelEncoder\n",
        "\n",
        "le = LabelEncoder()\n",
        "le.fit(titanic_df['Sex'])\n",
        "titanic_df['Sex'] = le.transform(titanic_df['Sex'])\n",
        "titanic_df.head()"
      ],
      "metadata": {
        "id": "abaoBL4ElkRs",
        "colab": {
          "base_uri": "https://localhost:8080/",
          "height": 206
        },
        "outputId": "b0415797-4273-4063-f2a8-2a4f1ed59988"
      },
      "execution_count": null,
      "outputs": [
        {
          "output_type": "execute_result",
          "data": {
            "text/plain": [
              "   PassengerId  Survived  Pclass  \\\n",
              "0            1       0.0       3   \n",
              "1            2       1.0       1   \n",
              "2            3       1.0       3   \n",
              "3            4       1.0       1   \n",
              "4            5       0.0       3   \n",
              "\n",
              "                                                Name  Sex  Age  SibSp  Parch  \\\n",
              "0                            Braund, Mr. Owen Harris    1  3.0      1      0   \n",
              "1  Cumings, Mrs. John Bradley (Florence Briggs Th...    0  5.0      1      0   \n",
              "2                             Heikkinen, Miss. Laina    0  4.0      0      0   \n",
              "3       Futrelle, Mrs. Jacques Heath (Lily May Peel)    0  4.0      1      0   \n",
              "4                           Allen, Mr. William Henry    1  4.0      0      0   \n",
              "\n",
              "             Ticket     Fare Cabin Embarked  Title  \n",
              "0         A/5 21171   7.2500   NaN        S      1  \n",
              "1          PC 17599  71.2833     C        C      2  \n",
              "2  STON/O2. 3101282   7.9250   NaN        S      3  \n",
              "3            113803  53.1000     C        S      2  \n",
              "4            373450   8.0500   NaN        S      1  "
            ],
            "text/html": [
              "\n",
              "  <div id=\"df-4d483a80-36b2-4b8e-bcc4-a4bbc560e93f\">\n",
              "    <div class=\"colab-df-container\">\n",
              "      <div>\n",
              "<style scoped>\n",
              "    .dataframe tbody tr th:only-of-type {\n",
              "        vertical-align: middle;\n",
              "    }\n",
              "\n",
              "    .dataframe tbody tr th {\n",
              "        vertical-align: top;\n",
              "    }\n",
              "\n",
              "    .dataframe thead th {\n",
              "        text-align: right;\n",
              "    }\n",
              "</style>\n",
              "<table border=\"1\" class=\"dataframe\">\n",
              "  <thead>\n",
              "    <tr style=\"text-align: right;\">\n",
              "      <th></th>\n",
              "      <th>PassengerId</th>\n",
              "      <th>Survived</th>\n",
              "      <th>Pclass</th>\n",
              "      <th>Name</th>\n",
              "      <th>Sex</th>\n",
              "      <th>Age</th>\n",
              "      <th>SibSp</th>\n",
              "      <th>Parch</th>\n",
              "      <th>Ticket</th>\n",
              "      <th>Fare</th>\n",
              "      <th>Cabin</th>\n",
              "      <th>Embarked</th>\n",
              "      <th>Title</th>\n",
              "    </tr>\n",
              "  </thead>\n",
              "  <tbody>\n",
              "    <tr>\n",
              "      <th>0</th>\n",
              "      <td>1</td>\n",
              "      <td>0.0</td>\n",
              "      <td>3</td>\n",
              "      <td>Braund, Mr. Owen Harris</td>\n",
              "      <td>1</td>\n",
              "      <td>3.0</td>\n",
              "      <td>1</td>\n",
              "      <td>0</td>\n",
              "      <td>A/5 21171</td>\n",
              "      <td>7.2500</td>\n",
              "      <td>NaN</td>\n",
              "      <td>S</td>\n",
              "      <td>1</td>\n",
              "    </tr>\n",
              "    <tr>\n",
              "      <th>1</th>\n",
              "      <td>2</td>\n",
              "      <td>1.0</td>\n",
              "      <td>1</td>\n",
              "      <td>Cumings, Mrs. John Bradley (Florence Briggs Th...</td>\n",
              "      <td>0</td>\n",
              "      <td>5.0</td>\n",
              "      <td>1</td>\n",
              "      <td>0</td>\n",
              "      <td>PC 17599</td>\n",
              "      <td>71.2833</td>\n",
              "      <td>C</td>\n",
              "      <td>C</td>\n",
              "      <td>2</td>\n",
              "    </tr>\n",
              "    <tr>\n",
              "      <th>2</th>\n",
              "      <td>3</td>\n",
              "      <td>1.0</td>\n",
              "      <td>3</td>\n",
              "      <td>Heikkinen, Miss. Laina</td>\n",
              "      <td>0</td>\n",
              "      <td>4.0</td>\n",
              "      <td>0</td>\n",
              "      <td>0</td>\n",
              "      <td>STON/O2. 3101282</td>\n",
              "      <td>7.9250</td>\n",
              "      <td>NaN</td>\n",
              "      <td>S</td>\n",
              "      <td>3</td>\n",
              "    </tr>\n",
              "    <tr>\n",
              "      <th>3</th>\n",
              "      <td>4</td>\n",
              "      <td>1.0</td>\n",
              "      <td>1</td>\n",
              "      <td>Futrelle, Mrs. Jacques Heath (Lily May Peel)</td>\n",
              "      <td>0</td>\n",
              "      <td>4.0</td>\n",
              "      <td>1</td>\n",
              "      <td>0</td>\n",
              "      <td>113803</td>\n",
              "      <td>53.1000</td>\n",
              "      <td>C</td>\n",
              "      <td>S</td>\n",
              "      <td>2</td>\n",
              "    </tr>\n",
              "    <tr>\n",
              "      <th>4</th>\n",
              "      <td>5</td>\n",
              "      <td>0.0</td>\n",
              "      <td>3</td>\n",
              "      <td>Allen, Mr. William Henry</td>\n",
              "      <td>1</td>\n",
              "      <td>4.0</td>\n",
              "      <td>0</td>\n",
              "      <td>0</td>\n",
              "      <td>373450</td>\n",
              "      <td>8.0500</td>\n",
              "      <td>NaN</td>\n",
              "      <td>S</td>\n",
              "      <td>1</td>\n",
              "    </tr>\n",
              "  </tbody>\n",
              "</table>\n",
              "</div>\n",
              "      <button class=\"colab-df-convert\" onclick=\"convertToInteractive('df-4d483a80-36b2-4b8e-bcc4-a4bbc560e93f')\"\n",
              "              title=\"Convert this dataframe to an interactive table.\"\n",
              "              style=\"display:none;\">\n",
              "        \n",
              "  <svg xmlns=\"http://www.w3.org/2000/svg\" height=\"24px\"viewBox=\"0 0 24 24\"\n",
              "       width=\"24px\">\n",
              "    <path d=\"M0 0h24v24H0V0z\" fill=\"none\"/>\n",
              "    <path d=\"M18.56 5.44l.94 2.06.94-2.06 2.06-.94-2.06-.94-.94-2.06-.94 2.06-2.06.94zm-11 1L8.5 8.5l.94-2.06 2.06-.94-2.06-.94L8.5 2.5l-.94 2.06-2.06.94zm10 10l.94 2.06.94-2.06 2.06-.94-2.06-.94-.94-2.06-.94 2.06-2.06.94z\"/><path d=\"M17.41 7.96l-1.37-1.37c-.4-.4-.92-.59-1.43-.59-.52 0-1.04.2-1.43.59L10.3 9.45l-7.72 7.72c-.78.78-.78 2.05 0 2.83L4 21.41c.39.39.9.59 1.41.59.51 0 1.02-.2 1.41-.59l7.78-7.78 2.81-2.81c.8-.78.8-2.07 0-2.86zM5.41 20L4 18.59l7.72-7.72 1.47 1.35L5.41 20z\"/>\n",
              "  </svg>\n",
              "      </button>\n",
              "      \n",
              "  <style>\n",
              "    .colab-df-container {\n",
              "      display:flex;\n",
              "      flex-wrap:wrap;\n",
              "      gap: 12px;\n",
              "    }\n",
              "\n",
              "    .colab-df-convert {\n",
              "      background-color: #E8F0FE;\n",
              "      border: none;\n",
              "      border-radius: 50%;\n",
              "      cursor: pointer;\n",
              "      display: none;\n",
              "      fill: #1967D2;\n",
              "      height: 32px;\n",
              "      padding: 0 0 0 0;\n",
              "      width: 32px;\n",
              "    }\n",
              "\n",
              "    .colab-df-convert:hover {\n",
              "      background-color: #E2EBFA;\n",
              "      box-shadow: 0px 1px 2px rgba(60, 64, 67, 0.3), 0px 1px 3px 1px rgba(60, 64, 67, 0.15);\n",
              "      fill: #174EA6;\n",
              "    }\n",
              "\n",
              "    [theme=dark] .colab-df-convert {\n",
              "      background-color: #3B4455;\n",
              "      fill: #D2E3FC;\n",
              "    }\n",
              "\n",
              "    [theme=dark] .colab-df-convert:hover {\n",
              "      background-color: #434B5C;\n",
              "      box-shadow: 0px 1px 3px 1px rgba(0, 0, 0, 0.15);\n",
              "      filter: drop-shadow(0px 1px 2px rgba(0, 0, 0, 0.3));\n",
              "      fill: #FFFFFF;\n",
              "    }\n",
              "  </style>\n",
              "\n",
              "      <script>\n",
              "        const buttonEl =\n",
              "          document.querySelector('#df-4d483a80-36b2-4b8e-bcc4-a4bbc560e93f button.colab-df-convert');\n",
              "        buttonEl.style.display =\n",
              "          google.colab.kernel.accessAllowed ? 'block' : 'none';\n",
              "\n",
              "        async function convertToInteractive(key) {\n",
              "          const element = document.querySelector('#df-4d483a80-36b2-4b8e-bcc4-a4bbc560e93f');\n",
              "          const dataTable =\n",
              "            await google.colab.kernel.invokeFunction('convertToInteractive',\n",
              "                                                     [key], {});\n",
              "          if (!dataTable) return;\n",
              "\n",
              "          const docLinkHtml = 'Like what you see? Visit the ' +\n",
              "            '<a target=\"_blank\" href=https://colab.research.google.com/notebooks/data_table.ipynb>data table notebook</a>'\n",
              "            + ' to learn more about interactive tables.';\n",
              "          element.innerHTML = '';\n",
              "          dataTable['output_type'] = 'display_data';\n",
              "          await google.colab.output.renderOutput(dataTable, element);\n",
              "          const docLink = document.createElement('div');\n",
              "          docLink.innerHTML = docLinkHtml;\n",
              "          element.appendChild(docLink);\n",
              "        }\n",
              "      </script>\n",
              "    </div>\n",
              "  </div>\n",
              "  "
            ]
          },
          "metadata": {},
          "execution_count": 210
        }
      ]
    },
    {
      "cell_type": "markdown",
      "source": [
        "## 파생변수"
      ],
      "metadata": {
        "id": "FXhOzjJ87DH-"
      }
    },
    {
      "cell_type": "markdown",
      "source": [
        "### ticket_size"
      ],
      "metadata": {
        "id": "E_PjS_9rUjXH"
      }
    },
    {
      "cell_type": "code",
      "source": [
        "idx = titanic_df.Ticket.value_counts().index\n",
        "idx[:5]"
      ],
      "metadata": {
        "id": "8fS-Q3Bqnp7I",
        "colab": {
          "base_uri": "https://localhost:8080/"
        },
        "outputId": "3149f08d-c206-4c13-a25a-0d45bbc98f97"
      },
      "execution_count": null,
      "outputs": [
        {
          "output_type": "execute_result",
          "data": {
            "text/plain": [
              "Index(['CA. 2343', 'CA 2144', '1601', 'PC 17608', 'S.O.C. 14879'], dtype='object')"
            ]
          },
          "metadata": {},
          "execution_count": 211
        }
      ]
    },
    {
      "cell_type": "code",
      "source": [
        "idx_size = []\n",
        "for i in idx:\n",
        "    s = titanic_df[titanic_df['Ticket'] == i].count()[8]\n",
        "    idx_size.append(s)\n",
        "\n",
        "idx_size[:5]\n",
        "\n",
        "together=[]\n",
        "for pairs in zip(idx, idx_size):\n",
        "    together.append(pairs)\n",
        "\n",
        "together[:5]"
      ],
      "metadata": {
        "id": "UAbGPO_2oZvh",
        "colab": {
          "base_uri": "https://localhost:8080/"
        },
        "outputId": "7bd5a25a-70fc-40a4-8bc4-a6992fc9fe7f"
      },
      "execution_count": null,
      "outputs": [
        {
          "output_type": "execute_result",
          "data": {
            "text/plain": [
              "[('CA. 2343', 11),\n",
              " ('CA 2144', 8),\n",
              " ('1601', 8),\n",
              " ('PC 17608', 7),\n",
              " ('S.O.C. 14879', 7)]"
            ]
          },
          "metadata": {},
          "execution_count": 212
        }
      ]
    },
    {
      "cell_type": "markdown",
      "source": [
        "* value_counts()한 것을 데이터 프레임으로 만들어서 그냥 merge하면 되는데 for in 구문으로 Series를 만드는 바보짓을 했다..."
      ],
      "metadata": {
        "id": "oubDH1d4Zr3d"
      }
    },
    {
      "cell_type": "code",
      "source": [
        "together = pd.DataFrame(together)\n",
        "together"
      ],
      "metadata": {
        "id": "ERURCnae3tcW",
        "colab": {
          "base_uri": "https://localhost:8080/",
          "height": 424
        },
        "outputId": "da99fdc9-91ea-4485-cd84-8581dda29c94"
      },
      "execution_count": null,
      "outputs": [
        {
          "output_type": "execute_result",
          "data": {
            "text/plain": [
              "                0   1\n",
              "0        CA. 2343  11\n",
              "1         CA 2144   8\n",
              "2            1601   8\n",
              "3        PC 17608   7\n",
              "4    S.O.C. 14879   7\n",
              "..            ...  ..\n",
              "924        113792   1\n",
              "925         36209   1\n",
              "926        323592   1\n",
              "927        315089   1\n",
              "928        359309   1\n",
              "\n",
              "[929 rows x 2 columns]"
            ],
            "text/html": [
              "\n",
              "  <div id=\"df-f7111334-b3a2-479b-b301-3c02c4122892\">\n",
              "    <div class=\"colab-df-container\">\n",
              "      <div>\n",
              "<style scoped>\n",
              "    .dataframe tbody tr th:only-of-type {\n",
              "        vertical-align: middle;\n",
              "    }\n",
              "\n",
              "    .dataframe tbody tr th {\n",
              "        vertical-align: top;\n",
              "    }\n",
              "\n",
              "    .dataframe thead th {\n",
              "        text-align: right;\n",
              "    }\n",
              "</style>\n",
              "<table border=\"1\" class=\"dataframe\">\n",
              "  <thead>\n",
              "    <tr style=\"text-align: right;\">\n",
              "      <th></th>\n",
              "      <th>0</th>\n",
              "      <th>1</th>\n",
              "    </tr>\n",
              "  </thead>\n",
              "  <tbody>\n",
              "    <tr>\n",
              "      <th>0</th>\n",
              "      <td>CA. 2343</td>\n",
              "      <td>11</td>\n",
              "    </tr>\n",
              "    <tr>\n",
              "      <th>1</th>\n",
              "      <td>CA 2144</td>\n",
              "      <td>8</td>\n",
              "    </tr>\n",
              "    <tr>\n",
              "      <th>2</th>\n",
              "      <td>1601</td>\n",
              "      <td>8</td>\n",
              "    </tr>\n",
              "    <tr>\n",
              "      <th>3</th>\n",
              "      <td>PC 17608</td>\n",
              "      <td>7</td>\n",
              "    </tr>\n",
              "    <tr>\n",
              "      <th>4</th>\n",
              "      <td>S.O.C. 14879</td>\n",
              "      <td>7</td>\n",
              "    </tr>\n",
              "    <tr>\n",
              "      <th>...</th>\n",
              "      <td>...</td>\n",
              "      <td>...</td>\n",
              "    </tr>\n",
              "    <tr>\n",
              "      <th>924</th>\n",
              "      <td>113792</td>\n",
              "      <td>1</td>\n",
              "    </tr>\n",
              "    <tr>\n",
              "      <th>925</th>\n",
              "      <td>36209</td>\n",
              "      <td>1</td>\n",
              "    </tr>\n",
              "    <tr>\n",
              "      <th>926</th>\n",
              "      <td>323592</td>\n",
              "      <td>1</td>\n",
              "    </tr>\n",
              "    <tr>\n",
              "      <th>927</th>\n",
              "      <td>315089</td>\n",
              "      <td>1</td>\n",
              "    </tr>\n",
              "    <tr>\n",
              "      <th>928</th>\n",
              "      <td>359309</td>\n",
              "      <td>1</td>\n",
              "    </tr>\n",
              "  </tbody>\n",
              "</table>\n",
              "<p>929 rows × 2 columns</p>\n",
              "</div>\n",
              "      <button class=\"colab-df-convert\" onclick=\"convertToInteractive('df-f7111334-b3a2-479b-b301-3c02c4122892')\"\n",
              "              title=\"Convert this dataframe to an interactive table.\"\n",
              "              style=\"display:none;\">\n",
              "        \n",
              "  <svg xmlns=\"http://www.w3.org/2000/svg\" height=\"24px\"viewBox=\"0 0 24 24\"\n",
              "       width=\"24px\">\n",
              "    <path d=\"M0 0h24v24H0V0z\" fill=\"none\"/>\n",
              "    <path d=\"M18.56 5.44l.94 2.06.94-2.06 2.06-.94-2.06-.94-.94-2.06-.94 2.06-2.06.94zm-11 1L8.5 8.5l.94-2.06 2.06-.94-2.06-.94L8.5 2.5l-.94 2.06-2.06.94zm10 10l.94 2.06.94-2.06 2.06-.94-2.06-.94-.94-2.06-.94 2.06-2.06.94z\"/><path d=\"M17.41 7.96l-1.37-1.37c-.4-.4-.92-.59-1.43-.59-.52 0-1.04.2-1.43.59L10.3 9.45l-7.72 7.72c-.78.78-.78 2.05 0 2.83L4 21.41c.39.39.9.59 1.41.59.51 0 1.02-.2 1.41-.59l7.78-7.78 2.81-2.81c.8-.78.8-2.07 0-2.86zM5.41 20L4 18.59l7.72-7.72 1.47 1.35L5.41 20z\"/>\n",
              "  </svg>\n",
              "      </button>\n",
              "      \n",
              "  <style>\n",
              "    .colab-df-container {\n",
              "      display:flex;\n",
              "      flex-wrap:wrap;\n",
              "      gap: 12px;\n",
              "    }\n",
              "\n",
              "    .colab-df-convert {\n",
              "      background-color: #E8F0FE;\n",
              "      border: none;\n",
              "      border-radius: 50%;\n",
              "      cursor: pointer;\n",
              "      display: none;\n",
              "      fill: #1967D2;\n",
              "      height: 32px;\n",
              "      padding: 0 0 0 0;\n",
              "      width: 32px;\n",
              "    }\n",
              "\n",
              "    .colab-df-convert:hover {\n",
              "      background-color: #E2EBFA;\n",
              "      box-shadow: 0px 1px 2px rgba(60, 64, 67, 0.3), 0px 1px 3px 1px rgba(60, 64, 67, 0.15);\n",
              "      fill: #174EA6;\n",
              "    }\n",
              "\n",
              "    [theme=dark] .colab-df-convert {\n",
              "      background-color: #3B4455;\n",
              "      fill: #D2E3FC;\n",
              "    }\n",
              "\n",
              "    [theme=dark] .colab-df-convert:hover {\n",
              "      background-color: #434B5C;\n",
              "      box-shadow: 0px 1px 3px 1px rgba(0, 0, 0, 0.15);\n",
              "      filter: drop-shadow(0px 1px 2px rgba(0, 0, 0, 0.3));\n",
              "      fill: #FFFFFF;\n",
              "    }\n",
              "  </style>\n",
              "\n",
              "      <script>\n",
              "        const buttonEl =\n",
              "          document.querySelector('#df-f7111334-b3a2-479b-b301-3c02c4122892 button.colab-df-convert');\n",
              "        buttonEl.style.display =\n",
              "          google.colab.kernel.accessAllowed ? 'block' : 'none';\n",
              "\n",
              "        async function convertToInteractive(key) {\n",
              "          const element = document.querySelector('#df-f7111334-b3a2-479b-b301-3c02c4122892');\n",
              "          const dataTable =\n",
              "            await google.colab.kernel.invokeFunction('convertToInteractive',\n",
              "                                                     [key], {});\n",
              "          if (!dataTable) return;\n",
              "\n",
              "          const docLinkHtml = 'Like what you see? Visit the ' +\n",
              "            '<a target=\"_blank\" href=https://colab.research.google.com/notebooks/data_table.ipynb>data table notebook</a>'\n",
              "            + ' to learn more about interactive tables.';\n",
              "          element.innerHTML = '';\n",
              "          dataTable['output_type'] = 'display_data';\n",
              "          await google.colab.output.renderOutput(dataTable, element);\n",
              "          const docLink = document.createElement('div');\n",
              "          docLink.innerHTML = docLinkHtml;\n",
              "          element.appendChild(docLink);\n",
              "        }\n",
              "      </script>\n",
              "    </div>\n",
              "  </div>\n",
              "  "
            ]
          },
          "metadata": {},
          "execution_count": 213
        }
      ]
    },
    {
      "cell_type": "code",
      "source": [
        "titanic_df = pd.merge(titanic_df, together, left_on='Ticket', right_on=0)"
      ],
      "metadata": {
        "id": "rRC7qEKD3vG1"
      },
      "execution_count": null,
      "outputs": []
    },
    {
      "cell_type": "code",
      "source": [
        "titanic_df = titanic_df.drop(columns=0)\n",
        "titanic_df.head()"
      ],
      "metadata": {
        "id": "x-kOc3e75D-q",
        "colab": {
          "base_uri": "https://localhost:8080/",
          "height": 206
        },
        "outputId": "4b022439-d566-49ec-f3c6-faf6deffff00"
      },
      "execution_count": null,
      "outputs": [
        {
          "output_type": "execute_result",
          "data": {
            "text/plain": [
              "   PassengerId  Survived  Pclass  \\\n",
              "0            1       0.0       3   \n",
              "1            2       1.0       1   \n",
              "2         1126       NaN       1   \n",
              "3            3       1.0       3   \n",
              "4            4       1.0       1   \n",
              "\n",
              "                                                Name  Sex  Age  SibSp  Parch  \\\n",
              "0                            Braund, Mr. Owen Harris    1  3.0      1      0   \n",
              "1  Cumings, Mrs. John Bradley (Florence Briggs Th...    0  5.0      1      0   \n",
              "2                          Cumings, Mr. John Bradley    1  5.0      1      0   \n",
              "3                             Heikkinen, Miss. Laina    0  4.0      0      0   \n",
              "4       Futrelle, Mrs. Jacques Heath (Lily May Peel)    0  4.0      1      0   \n",
              "\n",
              "             Ticket     Fare Cabin Embarked  Title  1  \n",
              "0         A/5 21171   7.2500   NaN        S      1  1  \n",
              "1          PC 17599  71.2833     C        C      2  2  \n",
              "2          PC 17599  71.2833     C        C      1  2  \n",
              "3  STON/O2. 3101282   7.9250   NaN        S      3  1  \n",
              "4            113803  53.1000     C        S      2  2  "
            ],
            "text/html": [
              "\n",
              "  <div id=\"df-dfaa6f36-6e3c-483f-a01c-f40f155fcbe9\">\n",
              "    <div class=\"colab-df-container\">\n",
              "      <div>\n",
              "<style scoped>\n",
              "    .dataframe tbody tr th:only-of-type {\n",
              "        vertical-align: middle;\n",
              "    }\n",
              "\n",
              "    .dataframe tbody tr th {\n",
              "        vertical-align: top;\n",
              "    }\n",
              "\n",
              "    .dataframe thead th {\n",
              "        text-align: right;\n",
              "    }\n",
              "</style>\n",
              "<table border=\"1\" class=\"dataframe\">\n",
              "  <thead>\n",
              "    <tr style=\"text-align: right;\">\n",
              "      <th></th>\n",
              "      <th>PassengerId</th>\n",
              "      <th>Survived</th>\n",
              "      <th>Pclass</th>\n",
              "      <th>Name</th>\n",
              "      <th>Sex</th>\n",
              "      <th>Age</th>\n",
              "      <th>SibSp</th>\n",
              "      <th>Parch</th>\n",
              "      <th>Ticket</th>\n",
              "      <th>Fare</th>\n",
              "      <th>Cabin</th>\n",
              "      <th>Embarked</th>\n",
              "      <th>Title</th>\n",
              "      <th>1</th>\n",
              "    </tr>\n",
              "  </thead>\n",
              "  <tbody>\n",
              "    <tr>\n",
              "      <th>0</th>\n",
              "      <td>1</td>\n",
              "      <td>0.0</td>\n",
              "      <td>3</td>\n",
              "      <td>Braund, Mr. Owen Harris</td>\n",
              "      <td>1</td>\n",
              "      <td>3.0</td>\n",
              "      <td>1</td>\n",
              "      <td>0</td>\n",
              "      <td>A/5 21171</td>\n",
              "      <td>7.2500</td>\n",
              "      <td>NaN</td>\n",
              "      <td>S</td>\n",
              "      <td>1</td>\n",
              "      <td>1</td>\n",
              "    </tr>\n",
              "    <tr>\n",
              "      <th>1</th>\n",
              "      <td>2</td>\n",
              "      <td>1.0</td>\n",
              "      <td>1</td>\n",
              "      <td>Cumings, Mrs. John Bradley (Florence Briggs Th...</td>\n",
              "      <td>0</td>\n",
              "      <td>5.0</td>\n",
              "      <td>1</td>\n",
              "      <td>0</td>\n",
              "      <td>PC 17599</td>\n",
              "      <td>71.2833</td>\n",
              "      <td>C</td>\n",
              "      <td>C</td>\n",
              "      <td>2</td>\n",
              "      <td>2</td>\n",
              "    </tr>\n",
              "    <tr>\n",
              "      <th>2</th>\n",
              "      <td>1126</td>\n",
              "      <td>NaN</td>\n",
              "      <td>1</td>\n",
              "      <td>Cumings, Mr. John Bradley</td>\n",
              "      <td>1</td>\n",
              "      <td>5.0</td>\n",
              "      <td>1</td>\n",
              "      <td>0</td>\n",
              "      <td>PC 17599</td>\n",
              "      <td>71.2833</td>\n",
              "      <td>C</td>\n",
              "      <td>C</td>\n",
              "      <td>1</td>\n",
              "      <td>2</td>\n",
              "    </tr>\n",
              "    <tr>\n",
              "      <th>3</th>\n",
              "      <td>3</td>\n",
              "      <td>1.0</td>\n",
              "      <td>3</td>\n",
              "      <td>Heikkinen, Miss. Laina</td>\n",
              "      <td>0</td>\n",
              "      <td>4.0</td>\n",
              "      <td>0</td>\n",
              "      <td>0</td>\n",
              "      <td>STON/O2. 3101282</td>\n",
              "      <td>7.9250</td>\n",
              "      <td>NaN</td>\n",
              "      <td>S</td>\n",
              "      <td>3</td>\n",
              "      <td>1</td>\n",
              "    </tr>\n",
              "    <tr>\n",
              "      <th>4</th>\n",
              "      <td>4</td>\n",
              "      <td>1.0</td>\n",
              "      <td>1</td>\n",
              "      <td>Futrelle, Mrs. Jacques Heath (Lily May Peel)</td>\n",
              "      <td>0</td>\n",
              "      <td>4.0</td>\n",
              "      <td>1</td>\n",
              "      <td>0</td>\n",
              "      <td>113803</td>\n",
              "      <td>53.1000</td>\n",
              "      <td>C</td>\n",
              "      <td>S</td>\n",
              "      <td>2</td>\n",
              "      <td>2</td>\n",
              "    </tr>\n",
              "  </tbody>\n",
              "</table>\n",
              "</div>\n",
              "      <button class=\"colab-df-convert\" onclick=\"convertToInteractive('df-dfaa6f36-6e3c-483f-a01c-f40f155fcbe9')\"\n",
              "              title=\"Convert this dataframe to an interactive table.\"\n",
              "              style=\"display:none;\">\n",
              "        \n",
              "  <svg xmlns=\"http://www.w3.org/2000/svg\" height=\"24px\"viewBox=\"0 0 24 24\"\n",
              "       width=\"24px\">\n",
              "    <path d=\"M0 0h24v24H0V0z\" fill=\"none\"/>\n",
              "    <path d=\"M18.56 5.44l.94 2.06.94-2.06 2.06-.94-2.06-.94-.94-2.06-.94 2.06-2.06.94zm-11 1L8.5 8.5l.94-2.06 2.06-.94-2.06-.94L8.5 2.5l-.94 2.06-2.06.94zm10 10l.94 2.06.94-2.06 2.06-.94-2.06-.94-.94-2.06-.94 2.06-2.06.94z\"/><path d=\"M17.41 7.96l-1.37-1.37c-.4-.4-.92-.59-1.43-.59-.52 0-1.04.2-1.43.59L10.3 9.45l-7.72 7.72c-.78.78-.78 2.05 0 2.83L4 21.41c.39.39.9.59 1.41.59.51 0 1.02-.2 1.41-.59l7.78-7.78 2.81-2.81c.8-.78.8-2.07 0-2.86zM5.41 20L4 18.59l7.72-7.72 1.47 1.35L5.41 20z\"/>\n",
              "  </svg>\n",
              "      </button>\n",
              "      \n",
              "  <style>\n",
              "    .colab-df-container {\n",
              "      display:flex;\n",
              "      flex-wrap:wrap;\n",
              "      gap: 12px;\n",
              "    }\n",
              "\n",
              "    .colab-df-convert {\n",
              "      background-color: #E8F0FE;\n",
              "      border: none;\n",
              "      border-radius: 50%;\n",
              "      cursor: pointer;\n",
              "      display: none;\n",
              "      fill: #1967D2;\n",
              "      height: 32px;\n",
              "      padding: 0 0 0 0;\n",
              "      width: 32px;\n",
              "    }\n",
              "\n",
              "    .colab-df-convert:hover {\n",
              "      background-color: #E2EBFA;\n",
              "      box-shadow: 0px 1px 2px rgba(60, 64, 67, 0.3), 0px 1px 3px 1px rgba(60, 64, 67, 0.15);\n",
              "      fill: #174EA6;\n",
              "    }\n",
              "\n",
              "    [theme=dark] .colab-df-convert {\n",
              "      background-color: #3B4455;\n",
              "      fill: #D2E3FC;\n",
              "    }\n",
              "\n",
              "    [theme=dark] .colab-df-convert:hover {\n",
              "      background-color: #434B5C;\n",
              "      box-shadow: 0px 1px 3px 1px rgba(0, 0, 0, 0.15);\n",
              "      filter: drop-shadow(0px 1px 2px rgba(0, 0, 0, 0.3));\n",
              "      fill: #FFFFFF;\n",
              "    }\n",
              "  </style>\n",
              "\n",
              "      <script>\n",
              "        const buttonEl =\n",
              "          document.querySelector('#df-dfaa6f36-6e3c-483f-a01c-f40f155fcbe9 button.colab-df-convert');\n",
              "        buttonEl.style.display =\n",
              "          google.colab.kernel.accessAllowed ? 'block' : 'none';\n",
              "\n",
              "        async function convertToInteractive(key) {\n",
              "          const element = document.querySelector('#df-dfaa6f36-6e3c-483f-a01c-f40f155fcbe9');\n",
              "          const dataTable =\n",
              "            await google.colab.kernel.invokeFunction('convertToInteractive',\n",
              "                                                     [key], {});\n",
              "          if (!dataTable) return;\n",
              "\n",
              "          const docLinkHtml = 'Like what you see? Visit the ' +\n",
              "            '<a target=\"_blank\" href=https://colab.research.google.com/notebooks/data_table.ipynb>data table notebook</a>'\n",
              "            + ' to learn more about interactive tables.';\n",
              "          element.innerHTML = '';\n",
              "          dataTable['output_type'] = 'display_data';\n",
              "          await google.colab.output.renderOutput(dataTable, element);\n",
              "          const docLink = document.createElement('div');\n",
              "          docLink.innerHTML = docLinkHtml;\n",
              "          element.appendChild(docLink);\n",
              "        }\n",
              "      </script>\n",
              "    </div>\n",
              "  </div>\n",
              "  "
            ]
          },
          "metadata": {},
          "execution_count": 215
        }
      ]
    },
    {
      "cell_type": "code",
      "source": [
        "# 티켓 함께 구매한 사람 수\n",
        "titanic_df = titanic_df.rename(columns={1:'Ticketsize'})\n",
        "titanic_df[:5]"
      ],
      "metadata": {
        "id": "sI-IWyE_513Q",
        "colab": {
          "base_uri": "https://localhost:8080/",
          "height": 206
        },
        "outputId": "cb01180c-b9a2-481b-90e4-44cd72a3f1db"
      },
      "execution_count": null,
      "outputs": [
        {
          "output_type": "execute_result",
          "data": {
            "text/plain": [
              "   PassengerId  Survived  Pclass  \\\n",
              "0            1       0.0       3   \n",
              "1            2       1.0       1   \n",
              "2         1126       NaN       1   \n",
              "3            3       1.0       3   \n",
              "4            4       1.0       1   \n",
              "\n",
              "                                                Name  Sex  Age  SibSp  Parch  \\\n",
              "0                            Braund, Mr. Owen Harris    1  3.0      1      0   \n",
              "1  Cumings, Mrs. John Bradley (Florence Briggs Th...    0  5.0      1      0   \n",
              "2                          Cumings, Mr. John Bradley    1  5.0      1      0   \n",
              "3                             Heikkinen, Miss. Laina    0  4.0      0      0   \n",
              "4       Futrelle, Mrs. Jacques Heath (Lily May Peel)    0  4.0      1      0   \n",
              "\n",
              "             Ticket     Fare Cabin Embarked  Title  Ticketsize  \n",
              "0         A/5 21171   7.2500   NaN        S      1           1  \n",
              "1          PC 17599  71.2833     C        C      2           2  \n",
              "2          PC 17599  71.2833     C        C      1           2  \n",
              "3  STON/O2. 3101282   7.9250   NaN        S      3           1  \n",
              "4            113803  53.1000     C        S      2           2  "
            ],
            "text/html": [
              "\n",
              "  <div id=\"df-797b540c-c2c3-4eae-bd09-ca57322f9d75\">\n",
              "    <div class=\"colab-df-container\">\n",
              "      <div>\n",
              "<style scoped>\n",
              "    .dataframe tbody tr th:only-of-type {\n",
              "        vertical-align: middle;\n",
              "    }\n",
              "\n",
              "    .dataframe tbody tr th {\n",
              "        vertical-align: top;\n",
              "    }\n",
              "\n",
              "    .dataframe thead th {\n",
              "        text-align: right;\n",
              "    }\n",
              "</style>\n",
              "<table border=\"1\" class=\"dataframe\">\n",
              "  <thead>\n",
              "    <tr style=\"text-align: right;\">\n",
              "      <th></th>\n",
              "      <th>PassengerId</th>\n",
              "      <th>Survived</th>\n",
              "      <th>Pclass</th>\n",
              "      <th>Name</th>\n",
              "      <th>Sex</th>\n",
              "      <th>Age</th>\n",
              "      <th>SibSp</th>\n",
              "      <th>Parch</th>\n",
              "      <th>Ticket</th>\n",
              "      <th>Fare</th>\n",
              "      <th>Cabin</th>\n",
              "      <th>Embarked</th>\n",
              "      <th>Title</th>\n",
              "      <th>Ticketsize</th>\n",
              "    </tr>\n",
              "  </thead>\n",
              "  <tbody>\n",
              "    <tr>\n",
              "      <th>0</th>\n",
              "      <td>1</td>\n",
              "      <td>0.0</td>\n",
              "      <td>3</td>\n",
              "      <td>Braund, Mr. Owen Harris</td>\n",
              "      <td>1</td>\n",
              "      <td>3.0</td>\n",
              "      <td>1</td>\n",
              "      <td>0</td>\n",
              "      <td>A/5 21171</td>\n",
              "      <td>7.2500</td>\n",
              "      <td>NaN</td>\n",
              "      <td>S</td>\n",
              "      <td>1</td>\n",
              "      <td>1</td>\n",
              "    </tr>\n",
              "    <tr>\n",
              "      <th>1</th>\n",
              "      <td>2</td>\n",
              "      <td>1.0</td>\n",
              "      <td>1</td>\n",
              "      <td>Cumings, Mrs. John Bradley (Florence Briggs Th...</td>\n",
              "      <td>0</td>\n",
              "      <td>5.0</td>\n",
              "      <td>1</td>\n",
              "      <td>0</td>\n",
              "      <td>PC 17599</td>\n",
              "      <td>71.2833</td>\n",
              "      <td>C</td>\n",
              "      <td>C</td>\n",
              "      <td>2</td>\n",
              "      <td>2</td>\n",
              "    </tr>\n",
              "    <tr>\n",
              "      <th>2</th>\n",
              "      <td>1126</td>\n",
              "      <td>NaN</td>\n",
              "      <td>1</td>\n",
              "      <td>Cumings, Mr. John Bradley</td>\n",
              "      <td>1</td>\n",
              "      <td>5.0</td>\n",
              "      <td>1</td>\n",
              "      <td>0</td>\n",
              "      <td>PC 17599</td>\n",
              "      <td>71.2833</td>\n",
              "      <td>C</td>\n",
              "      <td>C</td>\n",
              "      <td>1</td>\n",
              "      <td>2</td>\n",
              "    </tr>\n",
              "    <tr>\n",
              "      <th>3</th>\n",
              "      <td>3</td>\n",
              "      <td>1.0</td>\n",
              "      <td>3</td>\n",
              "      <td>Heikkinen, Miss. Laina</td>\n",
              "      <td>0</td>\n",
              "      <td>4.0</td>\n",
              "      <td>0</td>\n",
              "      <td>0</td>\n",
              "      <td>STON/O2. 3101282</td>\n",
              "      <td>7.9250</td>\n",
              "      <td>NaN</td>\n",
              "      <td>S</td>\n",
              "      <td>3</td>\n",
              "      <td>1</td>\n",
              "    </tr>\n",
              "    <tr>\n",
              "      <th>4</th>\n",
              "      <td>4</td>\n",
              "      <td>1.0</td>\n",
              "      <td>1</td>\n",
              "      <td>Futrelle, Mrs. Jacques Heath (Lily May Peel)</td>\n",
              "      <td>0</td>\n",
              "      <td>4.0</td>\n",
              "      <td>1</td>\n",
              "      <td>0</td>\n",
              "      <td>113803</td>\n",
              "      <td>53.1000</td>\n",
              "      <td>C</td>\n",
              "      <td>S</td>\n",
              "      <td>2</td>\n",
              "      <td>2</td>\n",
              "    </tr>\n",
              "  </tbody>\n",
              "</table>\n",
              "</div>\n",
              "      <button class=\"colab-df-convert\" onclick=\"convertToInteractive('df-797b540c-c2c3-4eae-bd09-ca57322f9d75')\"\n",
              "              title=\"Convert this dataframe to an interactive table.\"\n",
              "              style=\"display:none;\">\n",
              "        \n",
              "  <svg xmlns=\"http://www.w3.org/2000/svg\" height=\"24px\"viewBox=\"0 0 24 24\"\n",
              "       width=\"24px\">\n",
              "    <path d=\"M0 0h24v24H0V0z\" fill=\"none\"/>\n",
              "    <path d=\"M18.56 5.44l.94 2.06.94-2.06 2.06-.94-2.06-.94-.94-2.06-.94 2.06-2.06.94zm-11 1L8.5 8.5l.94-2.06 2.06-.94-2.06-.94L8.5 2.5l-.94 2.06-2.06.94zm10 10l.94 2.06.94-2.06 2.06-.94-2.06-.94-.94-2.06-.94 2.06-2.06.94z\"/><path d=\"M17.41 7.96l-1.37-1.37c-.4-.4-.92-.59-1.43-.59-.52 0-1.04.2-1.43.59L10.3 9.45l-7.72 7.72c-.78.78-.78 2.05 0 2.83L4 21.41c.39.39.9.59 1.41.59.51 0 1.02-.2 1.41-.59l7.78-7.78 2.81-2.81c.8-.78.8-2.07 0-2.86zM5.41 20L4 18.59l7.72-7.72 1.47 1.35L5.41 20z\"/>\n",
              "  </svg>\n",
              "      </button>\n",
              "      \n",
              "  <style>\n",
              "    .colab-df-container {\n",
              "      display:flex;\n",
              "      flex-wrap:wrap;\n",
              "      gap: 12px;\n",
              "    }\n",
              "\n",
              "    .colab-df-convert {\n",
              "      background-color: #E8F0FE;\n",
              "      border: none;\n",
              "      border-radius: 50%;\n",
              "      cursor: pointer;\n",
              "      display: none;\n",
              "      fill: #1967D2;\n",
              "      height: 32px;\n",
              "      padding: 0 0 0 0;\n",
              "      width: 32px;\n",
              "    }\n",
              "\n",
              "    .colab-df-convert:hover {\n",
              "      background-color: #E2EBFA;\n",
              "      box-shadow: 0px 1px 2px rgba(60, 64, 67, 0.3), 0px 1px 3px 1px rgba(60, 64, 67, 0.15);\n",
              "      fill: #174EA6;\n",
              "    }\n",
              "\n",
              "    [theme=dark] .colab-df-convert {\n",
              "      background-color: #3B4455;\n",
              "      fill: #D2E3FC;\n",
              "    }\n",
              "\n",
              "    [theme=dark] .colab-df-convert:hover {\n",
              "      background-color: #434B5C;\n",
              "      box-shadow: 0px 1px 3px 1px rgba(0, 0, 0, 0.15);\n",
              "      filter: drop-shadow(0px 1px 2px rgba(0, 0, 0, 0.3));\n",
              "      fill: #FFFFFF;\n",
              "    }\n",
              "  </style>\n",
              "\n",
              "      <script>\n",
              "        const buttonEl =\n",
              "          document.querySelector('#df-797b540c-c2c3-4eae-bd09-ca57322f9d75 button.colab-df-convert');\n",
              "        buttonEl.style.display =\n",
              "          google.colab.kernel.accessAllowed ? 'block' : 'none';\n",
              "\n",
              "        async function convertToInteractive(key) {\n",
              "          const element = document.querySelector('#df-797b540c-c2c3-4eae-bd09-ca57322f9d75');\n",
              "          const dataTable =\n",
              "            await google.colab.kernel.invokeFunction('convertToInteractive',\n",
              "                                                     [key], {});\n",
              "          if (!dataTable) return;\n",
              "\n",
              "          const docLinkHtml = 'Like what you see? Visit the ' +\n",
              "            '<a target=\"_blank\" href=https://colab.research.google.com/notebooks/data_table.ipynb>data table notebook</a>'\n",
              "            + ' to learn more about interactive tables.';\n",
              "          element.innerHTML = '';\n",
              "          dataTable['output_type'] = 'display_data';\n",
              "          await google.colab.output.renderOutput(dataTable, element);\n",
              "          const docLink = document.createElement('div');\n",
              "          docLink.innerHTML = docLinkHtml;\n",
              "          element.appendChild(docLink);\n",
              "        }\n",
              "      </script>\n",
              "    </div>\n",
              "  </div>\n",
              "  "
            ]
          },
          "metadata": {},
          "execution_count": 216
        }
      ]
    },
    {
      "cell_type": "code",
      "source": [
        "titanic_df.groupby('Ticketsize')['Survived'].mean()"
      ],
      "metadata": {
        "id": "ARILRUfE6pQP",
        "colab": {
          "base_uri": "https://localhost:8080/"
        },
        "outputId": "068aacdc-d3c4-4b7c-af54-1dbc108b0a52"
      },
      "execution_count": null,
      "outputs": [
        {
          "output_type": "execute_result",
          "data": {
            "text/plain": [
              "Ticketsize\n",
              "1     0.270270\n",
              "2     0.513812\n",
              "3     0.653465\n",
              "4     0.727273\n",
              "5     0.333333\n",
              "6     0.210526\n",
              "7     0.208333\n",
              "8     0.384615\n",
              "11    0.000000\n",
              "Name: Survived, dtype: float64"
            ]
          },
          "metadata": {},
          "execution_count": 217
        }
      ]
    },
    {
      "cell_type": "code",
      "source": [
        "plt.plot(titanic_df.groupby('Ticketsize')['Survived'].mean().values,marker='o')\n",
        "plt.grid()\n",
        "plt.show()"
      ],
      "metadata": {
        "id": "1lACaGf9hNo8",
        "colab": {
          "base_uri": "https://localhost:8080/",
          "height": 265
        },
        "outputId": "73452a9b-9086-4e61-8905-8908e5bdd928"
      },
      "execution_count": null,
      "outputs": [
        {
          "output_type": "display_data",
          "data": {
            "text/plain": [
              "<Figure size 432x288 with 1 Axes>"
            ],
            "image/png": "[encoded data removed]"
          },
          "metadata": {
            "needs_background": "light"
          }
        }
      ]
    },
    {
      "cell_type": "code",
      "source": [
        "ticket_mapping = {1:0, 2:0.4, 3:0.8, 4:1.2, 5:1.6, 6:2, 7:2.4, 8:2.8, 9:3.2, 10:3.6, 11:4}\n",
        "titanic_df['Ticketsize'] = titanic_df['Ticketsize'].map(ticket_mapping)\n",
        "titanic_df[:5]"
      ],
      "metadata": {
        "id": "2JBF_nu1rUVR",
        "colab": {
          "base_uri": "https://localhost:8080/",
          "height": 206
        },
        "outputId": "f962d3dc-b1ea-4409-e6b2-763149723c83"
      },
      "execution_count": null,
      "outputs": [
        {
          "output_type": "execute_result",
          "data": {
            "text/plain": [
              "   PassengerId  Survived  Pclass  \\\n",
              "0            1       0.0       3   \n",
              "1            2       1.0       1   \n",
              "2         1126       NaN       1   \n",
              "3            3       1.0       3   \n",
              "4            4       1.0       1   \n",
              "\n",
              "                                                Name  Sex  Age  SibSp  Parch  \\\n",
              "0                            Braund, Mr. Owen Harris    1  3.0      1      0   \n",
              "1  Cumings, Mrs. John Bradley (Florence Briggs Th...    0  5.0      1      0   \n",
              "2                          Cumings, Mr. John Bradley    1  5.0      1      0   \n",
              "3                             Heikkinen, Miss. Laina    0  4.0      0      0   \n",
              "4       Futrelle, Mrs. Jacques Heath (Lily May Peel)    0  4.0      1      0   \n",
              "\n",
              "             Ticket     Fare Cabin Embarked  Title  Ticketsize  \n",
              "0         A/5 21171   7.2500   NaN        S      1         0.0  \n",
              "1          PC 17599  71.2833     C        C      2         0.4  \n",
              "2          PC 17599  71.2833     C        C      1         0.4  \n",
              "3  STON/O2. 3101282   7.9250   NaN        S      3         0.0  \n",
              "4            113803  53.1000     C        S      2         0.4  "
            ],
            "text/html": [
              "\n",
              "  <div id=\"df-86532d6f-209b-4a97-8eab-af6854653666\">\n",
              "    <div class=\"colab-df-container\">\n",
              "      <div>\n",
              "<style scoped>\n",
              "    .dataframe tbody tr th:only-of-type {\n",
              "        vertical-align: middle;\n",
              "    }\n",
              "\n",
              "    .dataframe tbody tr th {\n",
              "        vertical-align: top;\n",
              "    }\n",
              "\n",
              "    .dataframe thead th {\n",
              "        text-align: right;\n",
              "    }\n",
              "</style>\n",
              "<table border=\"1\" class=\"dataframe\">\n",
              "  <thead>\n",
              "    <tr style=\"text-align: right;\">\n",
              "      <th></th>\n",
              "      <th>PassengerId</th>\n",
              "      <th>Survived</th>\n",
              "      <th>Pclass</th>\n",
              "      <th>Name</th>\n",
              "      <th>Sex</th>\n",
              "      <th>Age</th>\n",
              "      <th>SibSp</th>\n",
              "      <th>Parch</th>\n",
              "      <th>Ticket</th>\n",
              "      <th>Fare</th>\n",
              "      <th>Cabin</th>\n",
              "      <th>Embarked</th>\n",
              "      <th>Title</th>\n",
              "      <th>Ticketsize</th>\n",
              "    </tr>\n",
              "  </thead>\n",
              "  <tbody>\n",
              "    <tr>\n",
              "      <th>0</th>\n",
              "      <td>1</td>\n",
              "      <td>0.0</td>\n",
              "      <td>3</td>\n",
              "      <td>Braund, Mr. Owen Harris</td>\n",
              "      <td>1</td>\n",
              "      <td>3.0</td>\n",
              "      <td>1</td>\n",
              "      <td>0</td>\n",
              "      <td>A/5 21171</td>\n",
              "      <td>7.2500</td>\n",
              "      <td>NaN</td>\n",
              "      <td>S</td>\n",
              "      <td>1</td>\n",
              "      <td>0.0</td>\n",
              "    </tr>\n",
              "    <tr>\n",
              "      <th>1</th>\n",
              "      <td>2</td>\n",
              "      <td>1.0</td>\n",
              "      <td>1</td>\n",
              "      <td>Cumings, Mrs. John Bradley (Florence Briggs Th...</td>\n",
              "      <td>0</td>\n",
              "      <td>5.0</td>\n",
              "      <td>1</td>\n",
              "      <td>0</td>\n",
              "      <td>PC 17599</td>\n",
              "      <td>71.2833</td>\n",
              "      <td>C</td>\n",
              "      <td>C</td>\n",
              "      <td>2</td>\n",
              "      <td>0.4</td>\n",
              "    </tr>\n",
              "    <tr>\n",
              "      <th>2</th>\n",
              "      <td>1126</td>\n",
              "      <td>NaN</td>\n",
              "      <td>1</td>\n",
              "      <td>Cumings, Mr. John Bradley</td>\n",
              "      <td>1</td>\n",
              "      <td>5.0</td>\n",
              "      <td>1</td>\n",
              "      <td>0</td>\n",
              "      <td>PC 17599</td>\n",
              "      <td>71.2833</td>\n",
              "      <td>C</td>\n",
              "      <td>C</td>\n",
              "      <td>1</td>\n",
              "      <td>0.4</td>\n",
              "    </tr>\n",
              "    <tr>\n",
              "      <th>3</th>\n",
              "      <td>3</td>\n",
              "      <td>1.0</td>\n",
              "      <td>3</td>\n",
              "      <td>Heikkinen, Miss. Laina</td>\n",
              "      <td>0</td>\n",
              "      <td>4.0</td>\n",
              "      <td>0</td>\n",
              "      <td>0</td>\n",
              "      <td>STON/O2. 3101282</td>\n",
              "      <td>7.9250</td>\n",
              "      <td>NaN</td>\n",
              "      <td>S</td>\n",
              "      <td>3</td>\n",
              "      <td>0.0</td>\n",
              "    </tr>\n",
              "    <tr>\n",
              "      <th>4</th>\n",
              "      <td>4</td>\n",
              "      <td>1.0</td>\n",
              "      <td>1</td>\n",
              "      <td>Futrelle, Mrs. Jacques Heath (Lily May Peel)</td>\n",
              "      <td>0</td>\n",
              "      <td>4.0</td>\n",
              "      <td>1</td>\n",
              "      <td>0</td>\n",
              "      <td>113803</td>\n",
              "      <td>53.1000</td>\n",
              "      <td>C</td>\n",
              "      <td>S</td>\n",
              "      <td>2</td>\n",
              "      <td>0.4</td>\n",
              "    </tr>\n",
              "  </tbody>\n",
              "</table>\n",
              "</div>\n",
              "      <button class=\"colab-df-convert\" onclick=\"convertToInteractive('df-86532d6f-209b-4a97-8eab-af6854653666')\"\n",
              "              title=\"Convert this dataframe to an interactive table.\"\n",
              "              style=\"display:none;\">\n",
              "        \n",
              "  <svg xmlns=\"http://www.w3.org/2000/svg\" height=\"24px\"viewBox=\"0 0 24 24\"\n",
              "       width=\"24px\">\n",
              "    <path d=\"M0 0h24v24H0V0z\" fill=\"none\"/>\n",
              "    <path d=\"M18.56 5.44l.94 2.06.94-2.06 2.06-.94-2.06-.94-.94-2.06-.94 2.06-2.06.94zm-11 1L8.5 8.5l.94-2.06 2.06-.94-2.06-.94L8.5 2.5l-.94 2.06-2.06.94zm10 10l.94 2.06.94-2.06 2.06-.94-2.06-.94-.94-2.06-.94 2.06-2.06.94z\"/><path d=\"M17.41 7.96l-1.37-1.37c-.4-.4-.92-.59-1.43-.59-.52 0-1.04.2-1.43.59L10.3 9.45l-7.72 7.72c-.78.78-.78 2.05 0 2.83L4 21.41c.39.39.9.59 1.41.59.51 0 1.02-.2 1.41-.59l7.78-7.78 2.81-2.81c.8-.78.8-2.07 0-2.86zM5.41 20L4 18.59l7.72-7.72 1.47 1.35L5.41 20z\"/>\n",
              "  </svg>\n",
              "      </button>\n",
              "      \n",
              "  <style>\n",
              "    .colab-df-container {\n",
              "      display:flex;\n",
              "      flex-wrap:wrap;\n",
              "      gap: 12px;\n",
              "    }\n",
              "\n",
              "    .colab-df-convert {\n",
              "      background-color: #E8F0FE;\n",
              "      border: none;\n",
              "      border-radius: 50%;\n",
              "      cursor: pointer;\n",
              "      display: none;\n",
              "      fill: #1967D2;\n",
              "      height: 32px;\n",
              "      padding: 0 0 0 0;\n",
              "      width: 32px;\n",
              "    }\n",
              "\n",
              "    .colab-df-convert:hover {\n",
              "      background-color: #E2EBFA;\n",
              "      box-shadow: 0px 1px 2px rgba(60, 64, 67, 0.3), 0px 1px 3px 1px rgba(60, 64, 67, 0.15);\n",
              "      fill: #174EA6;\n",
              "    }\n",
              "\n",
              "    [theme=dark] .colab-df-convert {\n",
              "      background-color: #3B4455;\n",
              "      fill: #D2E3FC;\n",
              "    }\n",
              "\n",
              "    [theme=dark] .colab-df-convert:hover {\n",
              "      background-color: #434B5C;\n",
              "      box-shadow: 0px 1px 3px 1px rgba(0, 0, 0, 0.15);\n",
              "      filter: drop-shadow(0px 1px 2px rgba(0, 0, 0, 0.3));\n",
              "      fill: #FFFFFF;\n",
              "    }\n",
              "  </style>\n",
              "\n",
              "      <script>\n",
              "        const buttonEl =\n",
              "          document.querySelector('#df-86532d6f-209b-4a97-8eab-af6854653666 button.colab-df-convert');\n",
              "        buttonEl.style.display =\n",
              "          google.colab.kernel.accessAllowed ? 'block' : 'none';\n",
              "\n",
              "        async function convertToInteractive(key) {\n",
              "          const element = document.querySelector('#df-86532d6f-209b-4a97-8eab-af6854653666');\n",
              "          const dataTable =\n",
              "            await google.colab.kernel.invokeFunction('convertToInteractive',\n",
              "                                                     [key], {});\n",
              "          if (!dataTable) return;\n",
              "\n",
              "          const docLinkHtml = 'Like what you see? Visit the ' +\n",
              "            '<a target=\"_blank\" href=https://colab.research.google.com/notebooks/data_table.ipynb>data table notebook</a>'\n",
              "            + ' to learn more about interactive tables.';\n",
              "          element.innerHTML = '';\n",
              "          dataTable['output_type'] = 'display_data';\n",
              "          await google.colab.output.renderOutput(dataTable, element);\n",
              "          const docLink = document.createElement('div');\n",
              "          docLink.innerHTML = docLinkHtml;\n",
              "          element.appendChild(docLink);\n",
              "        }\n",
              "      </script>\n",
              "    </div>\n",
              "  </div>\n",
              "  "
            ]
          },
          "metadata": {},
          "execution_count": 219
        }
      ]
    },
    {
      "cell_type": "markdown",
      "source": [
        "### Familysize"
      ],
      "metadata": {
        "id": "EdKYIMicUd5S"
      }
    },
    {
      "cell_type": "code",
      "source": [
        "titanic_df['Familysize'] = titanic_df['SibSp'] + titanic_df['Parch'] + 1\n",
        "titanic_df.head()"
      ],
      "metadata": {
        "id": "EbRSmJL07NLj",
        "colab": {
          "base_uri": "https://localhost:8080/",
          "height": 206
        },
        "outputId": "ed08af02-676d-4f02-9500-ffa88ece21b3"
      },
      "execution_count": null,
      "outputs": [
        {
          "output_type": "execute_result",
          "data": {
            "text/plain": [
              "   PassengerId  Survived  Pclass  \\\n",
              "0            1       0.0       3   \n",
              "1            2       1.0       1   \n",
              "2         1126       NaN       1   \n",
              "3            3       1.0       3   \n",
              "4            4       1.0       1   \n",
              "\n",
              "                                                Name  Sex  Age  SibSp  Parch  \\\n",
              "0                            Braund, Mr. Owen Harris    1  3.0      1      0   \n",
              "1  Cumings, Mrs. John Bradley (Florence Briggs Th...    0  5.0      1      0   \n",
              "2                          Cumings, Mr. John Bradley    1  5.0      1      0   \n",
              "3                             Heikkinen, Miss. Laina    0  4.0      0      0   \n",
              "4       Futrelle, Mrs. Jacques Heath (Lily May Peel)    0  4.0      1      0   \n",
              "\n",
              "             Ticket     Fare Cabin Embarked  Title  Ticketsize  Familysize  \n",
              "0         A/5 21171   7.2500   NaN        S      1         0.0           2  \n",
              "1          PC 17599  71.2833     C        C      2         0.4           2  \n",
              "2          PC 17599  71.2833     C        C      1         0.4           2  \n",
              "3  STON/O2. 3101282   7.9250   NaN        S      3         0.0           1  \n",
              "4            113803  53.1000     C        S      2         0.4           2  "
            ],
            "text/html": [
              "\n",
              "  <div id=\"df-fb16601c-a0de-460e-8d88-90c1e7580f86\">\n",
              "    <div class=\"colab-df-container\">\n",
              "      <div>\n",
              "<style scoped>\n",
              "    .dataframe tbody tr th:only-of-type {\n",
              "        vertical-align: middle;\n",
              "    }\n",
              "\n",
              "    .dataframe tbody tr th {\n",
              "        vertical-align: top;\n",
              "    }\n",
              "\n",
              "    .dataframe thead th {\n",
              "        text-align: right;\n",
              "    }\n",
              "</style>\n",
              "<table border=\"1\" class=\"dataframe\">\n",
              "  <thead>\n",
              "    <tr style=\"text-align: right;\">\n",
              "      <th></th>\n",
              "      <th>PassengerId</th>\n",
              "      <th>Survived</th>\n",
              "      <th>Pclass</th>\n",
              "      <th>Name</th>\n",
              "      <th>Sex</th>\n",
              "      <th>Age</th>\n",
              "      <th>SibSp</th>\n",
              "      <th>Parch</th>\n",
              "      <th>Ticket</th>\n",
              "      <th>Fare</th>\n",
              "      <th>Cabin</th>\n",
              "      <th>Embarked</th>\n",
              "      <th>Title</th>\n",
              "      <th>Ticketsize</th>\n",
              "      <th>Familysize</th>\n",
              "    </tr>\n",
              "  </thead>\n",
              "  <tbody>\n",
              "    <tr>\n",
              "      <th>0</th>\n",
              "      <td>1</td>\n",
              "      <td>0.0</td>\n",
              "      <td>3</td>\n",
              "      <td>Braund, Mr. Owen Harris</td>\n",
              "      <td>1</td>\n",
              "      <td>3.0</td>\n",
              "      <td>1</td>\n",
              "      <td>0</td>\n",
              "      <td>A/5 21171</td>\n",
              "      <td>7.2500</td>\n",
              "      <td>NaN</td>\n",
              "      <td>S</td>\n",
              "      <td>1</td>\n",
              "      <td>0.0</td>\n",
              "      <td>2</td>\n",
              "    </tr>\n",
              "    <tr>\n",
              "      <th>1</th>\n",
              "      <td>2</td>\n",
              "      <td>1.0</td>\n",
              "      <td>1</td>\n",
              "      <td>Cumings, Mrs. John Bradley (Florence Briggs Th...</td>\n",
              "      <td>0</td>\n",
              "      <td>5.0</td>\n",
              "      <td>1</td>\n",
              "      <td>0</td>\n",
              "      <td>PC 17599</td>\n",
              "      <td>71.2833</td>\n",
              "      <td>C</td>\n",
              "      <td>C</td>\n",
              "      <td>2</td>\n",
              "      <td>0.4</td>\n",
              "      <td>2</td>\n",
              "    </tr>\n",
              "    <tr>\n",
              "      <th>2</th>\n",
              "      <td>1126</td>\n",
              "      <td>NaN</td>\n",
              "      <td>1</td>\n",
              "      <td>Cumings, Mr. John Bradley</td>\n",
              "      <td>1</td>\n",
              "      <td>5.0</td>\n",
              "      <td>1</td>\n",
              "      <td>0</td>\n",
              "      <td>PC 17599</td>\n",
              "      <td>71.2833</td>\n",
              "      <td>C</td>\n",
              "      <td>C</td>\n",
              "      <td>1</td>\n",
              "      <td>0.4</td>\n",
              "      <td>2</td>\n",
              "    </tr>\n",
              "    <tr>\n",
              "      <th>3</th>\n",
              "      <td>3</td>\n",
              "      <td>1.0</td>\n",
              "      <td>3</td>\n",
              "      <td>Heikkinen, Miss. Laina</td>\n",
              "      <td>0</td>\n",
              "      <td>4.0</td>\n",
              "      <td>0</td>\n",
              "      <td>0</td>\n",
              "      <td>STON/O2. 3101282</td>\n",
              "      <td>7.9250</td>\n",
              "      <td>NaN</td>\n",
              "      <td>S</td>\n",
              "      <td>3</td>\n",
              "      <td>0.0</td>\n",
              "      <td>1</td>\n",
              "    </tr>\n",
              "    <tr>\n",
              "      <th>4</th>\n",
              "      <td>4</td>\n",
              "      <td>1.0</td>\n",
              "      <td>1</td>\n",
              "      <td>Futrelle, Mrs. Jacques Heath (Lily May Peel)</td>\n",
              "      <td>0</td>\n",
              "      <td>4.0</td>\n",
              "      <td>1</td>\n",
              "      <td>0</td>\n",
              "      <td>113803</td>\n",
              "      <td>53.1000</td>\n",
              "      <td>C</td>\n",
              "      <td>S</td>\n",
              "      <td>2</td>\n",
              "      <td>0.4</td>\n",
              "      <td>2</td>\n",
              "    </tr>\n",
              "  </tbody>\n",
              "</table>\n",
              "</div>\n",
              "      <button class=\"colab-df-convert\" onclick=\"convertToInteractive('df-fb16601c-a0de-460e-8d88-90c1e7580f86')\"\n",
              "              title=\"Convert this dataframe to an interactive table.\"\n",
              "              style=\"display:none;\">\n",
              "        \n",
              "  <svg xmlns=\"http://www.w3.org/2000/svg\" height=\"24px\"viewBox=\"0 0 24 24\"\n",
              "       width=\"24px\">\n",
              "    <path d=\"M0 0h24v24H0V0z\" fill=\"none\"/>\n",
              "    <path d=\"M18.56 5.44l.94 2.06.94-2.06 2.06-.94-2.06-.94-.94-2.06-.94 2.06-2.06.94zm-11 1L8.5 8.5l.94-2.06 2.06-.94-2.06-.94L8.5 2.5l-.94 2.06-2.06.94zm10 10l.94 2.06.94-2.06 2.06-.94-2.06-.94-.94-2.06-.94 2.06-2.06.94z\"/><path d=\"M17.41 7.96l-1.37-1.37c-.4-.4-.92-.59-1.43-.59-.52 0-1.04.2-1.43.59L10.3 9.45l-7.72 7.72c-.78.78-.78 2.05 0 2.83L4 21.41c.39.39.9.59 1.41.59.51 0 1.02-.2 1.41-.59l7.78-7.78 2.81-2.81c.8-.78.8-2.07 0-2.86zM5.41 20L4 18.59l7.72-7.72 1.47 1.35L5.41 20z\"/>\n",
              "  </svg>\n",
              "      </button>\n",
              "      \n",
              "  <style>\n",
              "    .colab-df-container {\n",
              "      display:flex;\n",
              "      flex-wrap:wrap;\n",
              "      gap: 12px;\n",
              "    }\n",
              "\n",
              "    .colab-df-convert {\n",
              "      background-color: #E8F0FE;\n",
              "      border: none;\n",
              "      border-radius: 50%;\n",
              "      cursor: pointer;\n",
              "      display: none;\n",
              "      fill: #1967D2;\n",
              "      height: 32px;\n",
              "      padding: 0 0 0 0;\n",
              "      width: 32px;\n",
              "    }\n",
              "\n",
              "    .colab-df-convert:hover {\n",
              "      background-color: #E2EBFA;\n",
              "      box-shadow: 0px 1px 2px rgba(60, 64, 67, 0.3), 0px 1px 3px 1px rgba(60, 64, 67, 0.15);\n",
              "      fill: #174EA6;\n",
              "    }\n",
              "\n",
              "    [theme=dark] .colab-df-convert {\n",
              "      background-color: #3B4455;\n",
              "      fill: #D2E3FC;\n",
              "    }\n",
              "\n",
              "    [theme=dark] .colab-df-convert:hover {\n",
              "      background-color: #434B5C;\n",
              "      box-shadow: 0px 1px 3px 1px rgba(0, 0, 0, 0.15);\n",
              "      filter: drop-shadow(0px 1px 2px rgba(0, 0, 0, 0.3));\n",
              "      fill: #FFFFFF;\n",
              "    }\n",
              "  </style>\n",
              "\n",
              "      <script>\n",
              "        const buttonEl =\n",
              "          document.querySelector('#df-fb16601c-a0de-460e-8d88-90c1e7580f86 button.colab-df-convert');\n",
              "        buttonEl.style.display =\n",
              "          google.colab.kernel.accessAllowed ? 'block' : 'none';\n",
              "\n",
              "        async function convertToInteractive(key) {\n",
              "          const element = document.querySelector('#df-fb16601c-a0de-460e-8d88-90c1e7580f86');\n",
              "          const dataTable =\n",
              "            await google.colab.kernel.invokeFunction('convertToInteractive',\n",
              "                                                     [key], {});\n",
              "          if (!dataTable) return;\n",
              "\n",
              "          const docLinkHtml = 'Like what you see? Visit the ' +\n",
              "            '<a target=\"_blank\" href=https://colab.research.google.com/notebooks/data_table.ipynb>data table notebook</a>'\n",
              "            + ' to learn more about interactive tables.';\n",
              "          element.innerHTML = '';\n",
              "          dataTable['output_type'] = 'display_data';\n",
              "          await google.colab.output.renderOutput(dataTable, element);\n",
              "          const docLink = document.createElement('div');\n",
              "          docLink.innerHTML = docLinkHtml;\n",
              "          element.appendChild(docLink);\n",
              "        }\n",
              "      </script>\n",
              "    </div>\n",
              "  </div>\n",
              "  "
            ]
          },
          "metadata": {},
          "execution_count": 220
        }
      ]
    },
    {
      "cell_type": "code",
      "source": [
        "titanic_df = titanic_df.sort_values('PassengerId')"
      ],
      "metadata": {
        "id": "lxeG1yU1VdVe"
      },
      "execution_count": null,
      "outputs": []
    },
    {
      "cell_type": "code",
      "source": [
        "titanic_df.groupby('Familysize')['Survived'].mean()"
      ],
      "metadata": {
        "id": "PSHYK58NYV4M",
        "colab": {
          "base_uri": "https://localhost:8080/"
        },
        "outputId": "b4d3cb77-e74e-40ac-933e-cd4cf1e4208c"
      },
      "execution_count": null,
      "outputs": [
        {
          "output_type": "execute_result",
          "data": {
            "text/plain": [
              "Familysize\n",
              "1     0.303538\n",
              "2     0.552795\n",
              "3     0.578431\n",
              "4     0.724138\n",
              "5     0.200000\n",
              "6     0.136364\n",
              "7     0.333333\n",
              "8     0.000000\n",
              "11    0.000000\n",
              "Name: Survived, dtype: float64"
            ]
          },
          "metadata": {},
          "execution_count": 222
        }
      ]
    },
    {
      "cell_type": "code",
      "source": [
        "plt.plot(titanic_df.groupby('Familysize')['Survived'].mean().values, marker='o', color='green', label='Family size')\n",
        "plt.plot(titanic_df.groupby('Ticketsize')['Survived'].mean().values,marker='o', label='Ticket size')\n",
        "plt.legend()\n",
        "plt.grid()\n",
        "plt.show()"
      ],
      "metadata": {
        "id": "cZxoYM0yiKxI",
        "colab": {
          "base_uri": "https://localhost:8080/",
          "height": 265
        },
        "outputId": "57f35153-22c2-481e-b674-fd7695a4360d"
      },
      "execution_count": null,
      "outputs": [
        {
          "output_type": "display_data",
          "data": {
            "text/plain": [
              "<Figure size 432x288 with 1 Axes>"
            ],
            "image/png": "[encoded data removed]"
          },
          "metadata": {
            "needs_background": "light"
          }
        }
      ]
    },
    {
      "cell_type": "code",
      "source": [
        "family_mapping = {1:0, 2:0.4, 3:0.8, 4:1.2, 5:1.6, 6:2, 7:2.4, 8:2.8, 9:3.2, 10:3.6, 11:4}\n",
        "titanic_df['Familysize'] = titanic_df['Familysize'].map(family_mapping)\n",
        "titanic_df.head()"
      ],
      "metadata": {
        "id": "au67H8_VqcUy",
        "colab": {
          "base_uri": "https://localhost:8080/",
          "height": 206
        },
        "outputId": "7eab3160-4086-4df8-98d4-2a1c44d36d6a"
      },
      "execution_count": null,
      "outputs": [
        {
          "output_type": "execute_result",
          "data": {
            "text/plain": [
              "   PassengerId  Survived  Pclass  \\\n",
              "0            1       0.0       3   \n",
              "1            2       1.0       1   \n",
              "3            3       1.0       3   \n",
              "4            4       1.0       1   \n",
              "6            5       0.0       3   \n",
              "\n",
              "                                                Name  Sex  Age  SibSp  Parch  \\\n",
              "0                            Braund, Mr. Owen Harris    1  3.0      1      0   \n",
              "1  Cumings, Mrs. John Bradley (Florence Briggs Th...    0  5.0      1      0   \n",
              "3                             Heikkinen, Miss. Laina    0  4.0      0      0   \n",
              "4       Futrelle, Mrs. Jacques Heath (Lily May Peel)    0  4.0      1      0   \n",
              "6                           Allen, Mr. William Henry    1  4.0      0      0   \n",
              "\n",
              "             Ticket     Fare Cabin Embarked  Title  Ticketsize  Familysize  \n",
              "0         A/5 21171   7.2500   NaN        S      1         0.0         0.4  \n",
              "1          PC 17599  71.2833     C        C      2         0.4         0.4  \n",
              "3  STON/O2. 3101282   7.9250   NaN        S      3         0.0         0.0  \n",
              "4            113803  53.1000     C        S      2         0.4         0.4  \n",
              "6            373450   8.0500   NaN        S      1         0.0         0.0  "
            ],
            "text/html": [
              "\n",
              "  <div id=\"df-a95d76b5-b683-4e11-99a4-3b0dc57afba5\">\n",
              "    <div class=\"colab-df-container\">\n",
              "      <div>\n",
              "<style scoped>\n",
              "    .dataframe tbody tr th:only-of-type {\n",
              "        vertical-align: middle;\n",
              "    }\n",
              "\n",
              "    .dataframe tbody tr th {\n",
              "        vertical-align: top;\n",
              "    }\n",
              "\n",
              "    .dataframe thead th {\n",
              "        text-align: right;\n",
              "    }\n",
              "</style>\n",
              "<table border=\"1\" class=\"dataframe\">\n",
              "  <thead>\n",
              "    <tr style=\"text-align: right;\">\n",
              "      <th></th>\n",
              "      <th>PassengerId</th>\n",
              "      <th>Survived</th>\n",
              "      <th>Pclass</th>\n",
              "      <th>Name</th>\n",
              "      <th>Sex</th>\n",
              "      <th>Age</th>\n",
              "      <th>SibSp</th>\n",
              "      <th>Parch</th>\n",
              "      <th>Ticket</th>\n",
              "      <th>Fare</th>\n",
              "      <th>Cabin</th>\n",
              "      <th>Embarked</th>\n",
              "      <th>Title</th>\n",
              "      <th>Ticketsize</th>\n",
              "      <th>Familysize</th>\n",
              "    </tr>\n",
              "  </thead>\n",
              "  <tbody>\n",
              "    <tr>\n",
              "      <th>0</th>\n",
              "      <td>1</td>\n",
              "      <td>0.0</td>\n",
              "      <td>3</td>\n",
              "      <td>Braund, Mr. Owen Harris</td>\n",
              "      <td>1</td>\n",
              "      <td>3.0</td>\n",
              "      <td>1</td>\n",
              "      <td>0</td>\n",
              "      <td>A/5 21171</td>\n",
              "      <td>7.2500</td>\n",
              "      <td>NaN</td>\n",
              "      <td>S</td>\n",
              "      <td>1</td>\n",
              "      <td>0.0</td>\n",
              "      <td>0.4</td>\n",
              "    </tr>\n",
              "    <tr>\n",
              "      <th>1</th>\n",
              "      <td>2</td>\n",
              "      <td>1.0</td>\n",
              "      <td>1</td>\n",
              "      <td>Cumings, Mrs. John Bradley (Florence Briggs Th...</td>\n",
              "      <td>0</td>\n",
              "      <td>5.0</td>\n",
              "      <td>1</td>\n",
              "      <td>0</td>\n",
              "      <td>PC 17599</td>\n",
              "      <td>71.2833</td>\n",
              "      <td>C</td>\n",
              "      <td>C</td>\n",
              "      <td>2</td>\n",
              "      <td>0.4</td>\n",
              "      <td>0.4</td>\n",
              "    </tr>\n",
              "    <tr>\n",
              "      <th>3</th>\n",
              "      <td>3</td>\n",
              "      <td>1.0</td>\n",
              "      <td>3</td>\n",
              "      <td>Heikkinen, Miss. Laina</td>\n",
              "      <td>0</td>\n",
              "      <td>4.0</td>\n",
              "      <td>0</td>\n",
              "      <td>0</td>\n",
              "      <td>STON/O2. 3101282</td>\n",
              "      <td>7.9250</td>\n",
              "      <td>NaN</td>\n",
              "      <td>S</td>\n",
              "      <td>3</td>\n",
              "      <td>0.0</td>\n",
              "      <td>0.0</td>\n",
              "    </tr>\n",
              "    <tr>\n",
              "      <th>4</th>\n",
              "      <td>4</td>\n",
              "      <td>1.0</td>\n",
              "      <td>1</td>\n",
              "      <td>Futrelle, Mrs. Jacques Heath (Lily May Peel)</td>\n",
              "      <td>0</td>\n",
              "      <td>4.0</td>\n",
              "      <td>1</td>\n",
              "      <td>0</td>\n",
              "      <td>113803</td>\n",
              "      <td>53.1000</td>\n",
              "      <td>C</td>\n",
              "      <td>S</td>\n",
              "      <td>2</td>\n",
              "      <td>0.4</td>\n",
              "      <td>0.4</td>\n",
              "    </tr>\n",
              "    <tr>\n",
              "      <th>6</th>\n",
              "      <td>5</td>\n",
              "      <td>0.0</td>\n",
              "      <td>3</td>\n",
              "      <td>Allen, Mr. William Henry</td>\n",
              "      <td>1</td>\n",
              "      <td>4.0</td>\n",
              "      <td>0</td>\n",
              "      <td>0</td>\n",
              "      <td>373450</td>\n",
              "      <td>8.0500</td>\n",
              "      <td>NaN</td>\n",
              "      <td>S</td>\n",
              "      <td>1</td>\n",
              "      <td>0.0</td>\n",
              "      <td>0.0</td>\n",
              "    </tr>\n",
              "  </tbody>\n",
              "</table>\n",
              "</div>\n",
              "      <button class=\"colab-df-convert\" onclick=\"convertToInteractive('df-a95d76b5-b683-4e11-99a4-3b0dc57afba5')\"\n",
              "              title=\"Convert this dataframe to an interactive table.\"\n",
              "              style=\"display:none;\">\n",
              "        \n",
              "  <svg xmlns=\"http://www.w3.org/2000/svg\" height=\"24px\"viewBox=\"0 0 24 24\"\n",
              "       width=\"24px\">\n",
              "    <path d=\"M0 0h24v24H0V0z\" fill=\"none\"/>\n",
              "    <path d=\"M18.56 5.44l.94 2.06.94-2.06 2.06-.94-2.06-.94-.94-2.06-.94 2.06-2.06.94zm-11 1L8.5 8.5l.94-2.06 2.06-.94-2.06-.94L8.5 2.5l-.94 2.06-2.06.94zm10 10l.94 2.06.94-2.06 2.06-.94-2.06-.94-.94-2.06-.94 2.06-2.06.94z\"/><path d=\"M17.41 7.96l-1.37-1.37c-.4-.4-.92-.59-1.43-.59-.52 0-1.04.2-1.43.59L10.3 9.45l-7.72 7.72c-.78.78-.78 2.05 0 2.83L4 21.41c.39.39.9.59 1.41.59.51 0 1.02-.2 1.41-.59l7.78-7.78 2.81-2.81c.8-.78.8-2.07 0-2.86zM5.41 20L4 18.59l7.72-7.72 1.47 1.35L5.41 20z\"/>\n",
              "  </svg>\n",
              "      </button>\n",
              "      \n",
              "  <style>\n",
              "    .colab-df-container {\n",
              "      display:flex;\n",
              "      flex-wrap:wrap;\n",
              "      gap: 12px;\n",
              "    }\n",
              "\n",
              "    .colab-df-convert {\n",
              "      background-color: #E8F0FE;\n",
              "      border: none;\n",
              "      border-radius: 50%;\n",
              "      cursor: pointer;\n",
              "      display: none;\n",
              "      fill: #1967D2;\n",
              "      height: 32px;\n",
              "      padding: 0 0 0 0;\n",
              "      width: 32px;\n",
              "    }\n",
              "\n",
              "    .colab-df-convert:hover {\n",
              "      background-color: #E2EBFA;\n",
              "      box-shadow: 0px 1px 2px rgba(60, 64, 67, 0.3), 0px 1px 3px 1px rgba(60, 64, 67, 0.15);\n",
              "      fill: #174EA6;\n",
              "    }\n",
              "\n",
              "    [theme=dark] .colab-df-convert {\n",
              "      background-color: #3B4455;\n",
              "      fill: #D2E3FC;\n",
              "    }\n",
              "\n",
              "    [theme=dark] .colab-df-convert:hover {\n",
              "      background-color: #434B5C;\n",
              "      box-shadow: 0px 1px 3px 1px rgba(0, 0, 0, 0.15);\n",
              "      filter: drop-shadow(0px 1px 2px rgba(0, 0, 0, 0.3));\n",
              "      fill: #FFFFFF;\n",
              "    }\n",
              "  </style>\n",
              "\n",
              "      <script>\n",
              "        const buttonEl =\n",
              "          document.querySelector('#df-a95d76b5-b683-4e11-99a4-3b0dc57afba5 button.colab-df-convert');\n",
              "        buttonEl.style.display =\n",
              "          google.colab.kernel.accessAllowed ? 'block' : 'none';\n",
              "\n",
              "        async function convertToInteractive(key) {\n",
              "          const element = document.querySelector('#df-a95d76b5-b683-4e11-99a4-3b0dc57afba5');\n",
              "          const dataTable =\n",
              "            await google.colab.kernel.invokeFunction('convertToInteractive',\n",
              "                                                     [key], {});\n",
              "          if (!dataTable) return;\n",
              "\n",
              "          const docLinkHtml = 'Like what you see? Visit the ' +\n",
              "            '<a target=\"_blank\" href=https://colab.research.google.com/notebooks/data_table.ipynb>data table notebook</a>'\n",
              "            + ' to learn more about interactive tables.';\n",
              "          element.innerHTML = '';\n",
              "          dataTable['output_type'] = 'display_data';\n",
              "          await google.colab.output.renderOutput(dataTable, element);\n",
              "          const docLink = document.createElement('div');\n",
              "          docLink.innerHTML = docLinkHtml;\n",
              "          element.appendChild(docLink);\n",
              "        }\n",
              "      </script>\n",
              "    </div>\n",
              "  </div>\n",
              "  "
            ]
          },
          "metadata": {},
          "execution_count": 224
        }
      ]
    },
    {
      "cell_type": "code",
      "source": [
        "titanic_df['Pclass_1']=(titanic_df['Pclass']==1)\n",
        "titanic_df['Pclass_2']=(titanic_df['Pclass']==2)\n",
        "titanic_df['Pclass_3']=(titanic_df['Pclass']==3)"
      ],
      "metadata": {
        "id": "jKzvCp-4YdO8"
      },
      "execution_count": null,
      "outputs": []
    },
    {
      "cell_type": "code",
      "source": [
        "titanic_df[:5]"
      ],
      "metadata": {
        "id": "Bkby0A8gelFf",
        "colab": {
          "base_uri": "https://localhost:8080/",
          "height": 206
        },
        "outputId": "7cb7ad97-efd2-40c7-f78f-a6cfb45293eb"
      },
      "execution_count": null,
      "outputs": [
        {
          "output_type": "execute_result",
          "data": {
            "text/plain": [
              "   PassengerId  Survived  Pclass  \\\n",
              "0            1       0.0       3   \n",
              "1            2       1.0       1   \n",
              "3            3       1.0       3   \n",
              "4            4       1.0       1   \n",
              "6            5       0.0       3   \n",
              "\n",
              "                                                Name  Sex  Age  SibSp  Parch  \\\n",
              "0                            Braund, Mr. Owen Harris    1  3.0      1      0   \n",
              "1  Cumings, Mrs. John Bradley (Florence Briggs Th...    0  5.0      1      0   \n",
              "3                             Heikkinen, Miss. Laina    0  4.0      0      0   \n",
              "4       Futrelle, Mrs. Jacques Heath (Lily May Peel)    0  4.0      1      0   \n",
              "6                           Allen, Mr. William Henry    1  4.0      0      0   \n",
              "\n",
              "             Ticket     Fare Cabin Embarked  Title  Ticketsize  Familysize  \\\n",
              "0         A/5 21171   7.2500   NaN        S      1         0.0         0.4   \n",
              "1          PC 17599  71.2833     C        C      2         0.4         0.4   \n",
              "3  STON/O2. 3101282   7.9250   NaN        S      3         0.0         0.0   \n",
              "4            113803  53.1000     C        S      2         0.4         0.4   \n",
              "6            373450   8.0500   NaN        S      1         0.0         0.0   \n",
              "\n",
              "   Pclass_1  Pclass_2  Pclass_3  \n",
              "0     False     False      True  \n",
              "1      True     False     False  \n",
              "3     False     False      True  \n",
              "4      True     False     False  \n",
              "6     False     False      True  "
            ],
            "text/html": [
              "\n",
              "  <div id=\"df-e1d63860-b834-4c82-a042-61ca0288c8fc\">\n",
              "    <div class=\"colab-df-container\">\n",
              "      <div>\n",
              "<style scoped>\n",
              "    .dataframe tbody tr th:only-of-type {\n",
              "        vertical-align: middle;\n",
              "    }\n",
              "\n",
              "    .dataframe tbody tr th {\n",
              "        vertical-align: top;\n",
              "    }\n",
              "\n",
              "    .dataframe thead th {\n",
              "        text-align: right;\n",
              "    }\n",
              "</style>\n",
              "<table border=\"1\" class=\"dataframe\">\n",
              "  <thead>\n",
              "    <tr style=\"text-align: right;\">\n",
              "      <th></th>\n",
              "      <th>PassengerId</th>\n",
              "      <th>Survived</th>\n",
              "      <th>Pclass</th>\n",
              "      <th>Name</th>\n",
              "      <th>Sex</th>\n",
              "      <th>Age</th>\n",
              "      <th>SibSp</th>\n",
              "      <th>Parch</th>\n",
              "      <th>Ticket</th>\n",
              "      <th>Fare</th>\n",
              "      <th>Cabin</th>\n",
              "      <th>Embarked</th>\n",
              "      <th>Title</th>\n",
              "      <th>Ticketsize</th>\n",
              "      <th>Familysize</th>\n",
              "      <th>Pclass_1</th>\n",
              "      <th>Pclass_2</th>\n",
              "      <th>Pclass_3</th>\n",
              "    </tr>\n",
              "  </thead>\n",
              "  <tbody>\n",
              "    <tr>\n",
              "      <th>0</th>\n",
              "      <td>1</td>\n",
              "      <td>0.0</td>\n",
              "      <td>3</td>\n",
              "      <td>Braund, Mr. Owen Harris</td>\n",
              "      <td>1</td>\n",
              "      <td>3.0</td>\n",
              "      <td>1</td>\n",
              "      <td>0</td>\n",
              "      <td>A/5 21171</td>\n",
              "      <td>7.2500</td>\n",
              "      <td>NaN</td>\n",
              "      <td>S</td>\n",
              "      <td>1</td>\n",
              "      <td>0.0</td>\n",
              "      <td>0.4</td>\n",
              "      <td>False</td>\n",
              "      <td>False</td>\n",
              "      <td>True</td>\n",
              "    </tr>\n",
              "    <tr>\n",
              "      <th>1</th>\n",
              "      <td>2</td>\n",
              "      <td>1.0</td>\n",
              "      <td>1</td>\n",
              "      <td>Cumings, Mrs. John Bradley (Florence Briggs Th...</td>\n",
              "      <td>0</td>\n",
              "      <td>5.0</td>\n",
              "      <td>1</td>\n",
              "      <td>0</td>\n",
              "      <td>PC 17599</td>\n",
              "      <td>71.2833</td>\n",
              "      <td>C</td>\n",
              "      <td>C</td>\n",
              "      <td>2</td>\n",
              "      <td>0.4</td>\n",
              "      <td>0.4</td>\n",
              "      <td>True</td>\n",
              "      <td>False</td>\n",
              "      <td>False</td>\n",
              "    </tr>\n",
              "    <tr>\n",
              "      <th>3</th>\n",
              "      <td>3</td>\n",
              "      <td>1.0</td>\n",
              "      <td>3</td>\n",
              "      <td>Heikkinen, Miss. Laina</td>\n",
              "      <td>0</td>\n",
              "      <td>4.0</td>\n",
              "      <td>0</td>\n",
              "      <td>0</td>\n",
              "      <td>STON/O2. 3101282</td>\n",
              "      <td>7.9250</td>\n",
              "      <td>NaN</td>\n",
              "      <td>S</td>\n",
              "      <td>3</td>\n",
              "      <td>0.0</td>\n",
              "      <td>0.0</td>\n",
              "      <td>False</td>\n",
              "      <td>False</td>\n",
              "      <td>True</td>\n",
              "    </tr>\n",
              "    <tr>\n",
              "      <th>4</th>\n",
              "      <td>4</td>\n",
              "      <td>1.0</td>\n",
              "      <td>1</td>\n",
              "      <td>Futrelle, Mrs. Jacques Heath (Lily May Peel)</td>\n",
              "      <td>0</td>\n",
              "      <td>4.0</td>\n",
              "      <td>1</td>\n",
              "      <td>0</td>\n",
              "      <td>113803</td>\n",
              "      <td>53.1000</td>\n",
              "      <td>C</td>\n",
              "      <td>S</td>\n",
              "      <td>2</td>\n",
              "      <td>0.4</td>\n",
              "      <td>0.4</td>\n",
              "      <td>True</td>\n",
              "      <td>False</td>\n",
              "      <td>False</td>\n",
              "    </tr>\n",
              "    <tr>\n",
              "      <th>6</th>\n",
              "      <td>5</td>\n",
              "      <td>0.0</td>\n",
              "      <td>3</td>\n",
              "      <td>Allen, Mr. William Henry</td>\n",
              "      <td>1</td>\n",
              "      <td>4.0</td>\n",
              "      <td>0</td>\n",
              "      <td>0</td>\n",
              "      <td>373450</td>\n",
              "      <td>8.0500</td>\n",
              "      <td>NaN</td>\n",
              "      <td>S</td>\n",
              "      <td>1</td>\n",
              "      <td>0.0</td>\n",
              "      <td>0.0</td>\n",
              "      <td>False</td>\n",
              "      <td>False</td>\n",
              "      <td>True</td>\n",
              "    </tr>\n",
              "  </tbody>\n",
              "</table>\n",
              "</div>\n",
              "      <button class=\"colab-df-convert\" onclick=\"convertToInteractive('df-e1d63860-b834-4c82-a042-61ca0288c8fc')\"\n",
              "              title=\"Convert this dataframe to an interactive table.\"\n",
              "              style=\"display:none;\">\n",
              "        \n",
              "  <svg xmlns=\"http://www.w3.org/2000/svg\" height=\"24px\"viewBox=\"0 0 24 24\"\n",
              "       width=\"24px\">\n",
              "    <path d=\"M0 0h24v24H0V0z\" fill=\"none\"/>\n",
              "    <path d=\"M18.56 5.44l.94 2.06.94-2.06 2.06-.94-2.06-.94-.94-2.06-.94 2.06-2.06.94zm-11 1L8.5 8.5l.94-2.06 2.06-.94-2.06-.94L8.5 2.5l-.94 2.06-2.06.94zm10 10l.94 2.06.94-2.06 2.06-.94-2.06-.94-.94-2.06-.94 2.06-2.06.94z\"/><path d=\"M17.41 7.96l-1.37-1.37c-.4-.4-.92-.59-1.43-.59-.52 0-1.04.2-1.43.59L10.3 9.45l-7.72 7.72c-.78.78-.78 2.05 0 2.83L4 21.41c.39.39.9.59 1.41.59.51 0 1.02-.2 1.41-.59l7.78-7.78 2.81-2.81c.8-.78.8-2.07 0-2.86zM5.41 20L4 18.59l7.72-7.72 1.47 1.35L5.41 20z\"/>\n",
              "  </svg>\n",
              "      </button>\n",
              "      \n",
              "  <style>\n",
              "    .colab-df-container {\n",
              "      display:flex;\n",
              "      flex-wrap:wrap;\n",
              "      gap: 12px;\n",
              "    }\n",
              "\n",
              "    .colab-df-convert {\n",
              "      background-color: #E8F0FE;\n",
              "      border: none;\n",
              "      border-radius: 50%;\n",
              "      cursor: pointer;\n",
              "      display: none;\n",
              "      fill: #1967D2;\n",
              "      height: 32px;\n",
              "      padding: 0 0 0 0;\n",
              "      width: 32px;\n",
              "    }\n",
              "\n",
              "    .colab-df-convert:hover {\n",
              "      background-color: #E2EBFA;\n",
              "      box-shadow: 0px 1px 2px rgba(60, 64, 67, 0.3), 0px 1px 3px 1px rgba(60, 64, 67, 0.15);\n",
              "      fill: #174EA6;\n",
              "    }\n",
              "\n",
              "    [theme=dark] .colab-df-convert {\n",
              "      background-color: #3B4455;\n",
              "      fill: #D2E3FC;\n",
              "    }\n",
              "\n",
              "    [theme=dark] .colab-df-convert:hover {\n",
              "      background-color: #434B5C;\n",
              "      box-shadow: 0px 1px 3px 1px rgba(0, 0, 0, 0.15);\n",
              "      filter: drop-shadow(0px 1px 2px rgba(0, 0, 0, 0.3));\n",
              "      fill: #FFFFFF;\n",
              "    }\n",
              "  </style>\n",
              "\n",
              "      <script>\n",
              "        const buttonEl =\n",
              "          document.querySelector('#df-e1d63860-b834-4c82-a042-61ca0288c8fc button.colab-df-convert');\n",
              "        buttonEl.style.display =\n",
              "          google.colab.kernel.accessAllowed ? 'block' : 'none';\n",
              "\n",
              "        async function convertToInteractive(key) {\n",
              "          const element = document.querySelector('#df-e1d63860-b834-4c82-a042-61ca0288c8fc');\n",
              "          const dataTable =\n",
              "            await google.colab.kernel.invokeFunction('convertToInteractive',\n",
              "                                                     [key], {});\n",
              "          if (!dataTable) return;\n",
              "\n",
              "          const docLinkHtml = 'Like what you see? Visit the ' +\n",
              "            '<a target=\"_blank\" href=https://colab.research.google.com/notebooks/data_table.ipynb>data table notebook</a>'\n",
              "            + ' to learn more about interactive tables.';\n",
              "          element.innerHTML = '';\n",
              "          dataTable['output_type'] = 'display_data';\n",
              "          await google.colab.output.renderOutput(dataTable, element);\n",
              "          const docLink = document.createElement('div');\n",
              "          docLink.innerHTML = docLinkHtml;\n",
              "          element.appendChild(docLink);\n",
              "        }\n",
              "      </script>\n",
              "    </div>\n",
              "  </div>\n",
              "  "
            ]
          },
          "metadata": {},
          "execution_count": 226
        }
      ]
    },
    {
      "cell_type": "code",
      "source": [
        "# 좋아보여서 써봄\n",
        "embrked_dummies = pd.get_dummies(titanic_df['Embarked'], prefix='embarked')\n",
        "embrked_dummies"
      ],
      "metadata": {
        "id": "QNM45QsRnVqd",
        "colab": {
          "base_uri": "https://localhost:8080/",
          "height": 424
        },
        "outputId": "8595d307-82a7-4893-fc80-ad1535033cf2"
      },
      "execution_count": null,
      "outputs": [
        {
          "output_type": "execute_result",
          "data": {
            "text/plain": [
              "      embarked_C  embarked_Q  embarked_S\n",
              "0              0           0           1\n",
              "1              1           0           0\n",
              "3              0           0           1\n",
              "4              0           0           1\n",
              "6              0           0           1\n",
              "...          ...         ...         ...\n",
              "1306           0           0           1\n",
              "496            1           0           0\n",
              "1307           0           0           1\n",
              "1308           0           0           1\n",
              "238            1           0           0\n",
              "\n",
              "[1309 rows x 3 columns]"
            ],
            "text/html": [
              "\n",
              "  <div id=\"df-e66cdde8-cd4b-4c31-b98e-fb8cd6fb94dd\">\n",
              "    <div class=\"colab-df-container\">\n",
              "      <div>\n",
              "<style scoped>\n",
              "    .dataframe tbody tr th:only-of-type {\n",
              "        vertical-align: middle;\n",
              "    }\n",
              "\n",
              "    .dataframe tbody tr th {\n",
              "        vertical-align: top;\n",
              "    }\n",
              "\n",
              "    .dataframe thead th {\n",
              "        text-align: right;\n",
              "    }\n",
              "</style>\n",
              "<table border=\"1\" class=\"dataframe\">\n",
              "  <thead>\n",
              "    <tr style=\"text-align: right;\">\n",
              "      <th></th>\n",
              "      <th>embarked_C</th>\n",
              "      <th>embarked_Q</th>\n",
              "      <th>embarked_S</th>\n",
              "    </tr>\n",
              "  </thead>\n",
              "  <tbody>\n",
              "    <tr>\n",
              "      <th>0</th>\n",
              "      <td>0</td>\n",
              "      <td>0</td>\n",
              "      <td>1</td>\n",
              "    </tr>\n",
              "    <tr>\n",
              "      <th>1</th>\n",
              "      <td>1</td>\n",
              "      <td>0</td>\n",
              "      <td>0</td>\n",
              "    </tr>\n",
              "    <tr>\n",
              "      <th>3</th>\n",
              "      <td>0</td>\n",
              "      <td>0</td>\n",
              "      <td>1</td>\n",
              "    </tr>\n",
              "    <tr>\n",
              "      <th>4</th>\n",
              "      <td>0</td>\n",
              "      <td>0</td>\n",
              "      <td>1</td>\n",
              "    </tr>\n",
              "    <tr>\n",
              "      <th>6</th>\n",
              "      <td>0</td>\n",
              "      <td>0</td>\n",
              "      <td>1</td>\n",
              "    </tr>\n",
              "    <tr>\n",
              "      <th>...</th>\n",
              "      <td>...</td>\n",
              "      <td>...</td>\n",
              "      <td>...</td>\n",
              "    </tr>\n",
              "    <tr>\n",
              "      <th>1306</th>\n",
              "      <td>0</td>\n",
              "      <td>0</td>\n",
              "      <td>1</td>\n",
              "    </tr>\n",
              "    <tr>\n",
              "      <th>496</th>\n",
              "      <td>1</td>\n",
              "      <td>0</td>\n",
              "      <td>0</td>\n",
              "    </tr>\n",
              "    <tr>\n",
              "      <th>1307</th>\n",
              "      <td>0</td>\n",
              "      <td>0</td>\n",
              "      <td>1</td>\n",
              "    </tr>\n",
              "    <tr>\n",
              "      <th>1308</th>\n",
              "      <td>0</td>\n",
              "      <td>0</td>\n",
              "      <td>1</td>\n",
              "    </tr>\n",
              "    <tr>\n",
              "      <th>238</th>\n",
              "      <td>1</td>\n",
              "      <td>0</td>\n",
              "      <td>0</td>\n",
              "    </tr>\n",
              "  </tbody>\n",
              "</table>\n",
              "<p>1309 rows × 3 columns</p>\n",
              "</div>\n",
              "      <button class=\"colab-df-convert\" onclick=\"convertToInteractive('df-e66cdde8-cd4b-4c31-b98e-fb8cd6fb94dd')\"\n",
              "              title=\"Convert this dataframe to an interactive table.\"\n",
              "              style=\"display:none;\">\n",
              "        \n",
              "  <svg xmlns=\"http://www.w3.org/2000/svg\" height=\"24px\"viewBox=\"0 0 24 24\"\n",
              "       width=\"24px\">\n",
              "    <path d=\"M0 0h24v24H0V0z\" fill=\"none\"/>\n",
              "    <path d=\"M18.56 5.44l.94 2.06.94-2.06 2.06-.94-2.06-.94-.94-2.06-.94 2.06-2.06.94zm-11 1L8.5 8.5l.94-2.06 2.06-.94-2.06-.94L8.5 2.5l-.94 2.06-2.06.94zm10 10l.94 2.06.94-2.06 2.06-.94-2.06-.94-.94-2.06-.94 2.06-2.06.94z\"/><path d=\"M17.41 7.96l-1.37-1.37c-.4-.4-.92-.59-1.43-.59-.52 0-1.04.2-1.43.59L10.3 9.45l-7.72 7.72c-.78.78-.78 2.05 0 2.83L4 21.41c.39.39.9.59 1.41.59.51 0 1.02-.2 1.41-.59l7.78-7.78 2.81-2.81c.8-.78.8-2.07 0-2.86zM5.41 20L4 18.59l7.72-7.72 1.47 1.35L5.41 20z\"/>\n",
              "  </svg>\n",
              "      </button>\n",
              "      \n",
              "  <style>\n",
              "    .colab-df-container {\n",
              "      display:flex;\n",
              "      flex-wrap:wrap;\n",
              "      gap: 12px;\n",
              "    }\n",
              "\n",
              "    .colab-df-convert {\n",
              "      background-color: #E8F0FE;\n",
              "      border: none;\n",
              "      border-radius: 50%;\n",
              "      cursor: pointer;\n",
              "      display: none;\n",
              "      fill: #1967D2;\n",
              "      height: 32px;\n",
              "      padding: 0 0 0 0;\n",
              "      width: 32px;\n",
              "    }\n",
              "\n",
              "    .colab-df-convert:hover {\n",
              "      background-color: #E2EBFA;\n",
              "      box-shadow: 0px 1px 2px rgba(60, 64, 67, 0.3), 0px 1px 3px 1px rgba(60, 64, 67, 0.15);\n",
              "      fill: #174EA6;\n",
              "    }\n",
              "\n",
              "    [theme=dark] .colab-df-convert {\n",
              "      background-color: #3B4455;\n",
              "      fill: #D2E3FC;\n",
              "    }\n",
              "\n",
              "    [theme=dark] .colab-df-convert:hover {\n",
              "      background-color: #434B5C;\n",
              "      box-shadow: 0px 1px 3px 1px rgba(0, 0, 0, 0.15);\n",
              "      filter: drop-shadow(0px 1px 2px rgba(0, 0, 0, 0.3));\n",
              "      fill: #FFFFFF;\n",
              "    }\n",
              "  </style>\n",
              "\n",
              "      <script>\n",
              "        const buttonEl =\n",
              "          document.querySelector('#df-e66cdde8-cd4b-4c31-b98e-fb8cd6fb94dd button.colab-df-convert');\n",
              "        buttonEl.style.display =\n",
              "          google.colab.kernel.accessAllowed ? 'block' : 'none';\n",
              "\n",
              "        async function convertToInteractive(key) {\n",
              "          const element = document.querySelector('#df-e66cdde8-cd4b-4c31-b98e-fb8cd6fb94dd');\n",
              "          const dataTable =\n",
              "            await google.colab.kernel.invokeFunction('convertToInteractive',\n",
              "                                                     [key], {});\n",
              "          if (!dataTable) return;\n",
              "\n",
              "          const docLinkHtml = 'Like what you see? Visit the ' +\n",
              "            '<a target=\"_blank\" href=https://colab.research.google.com/notebooks/data_table.ipynb>data table notebook</a>'\n",
              "            + ' to learn more about interactive tables.';\n",
              "          element.innerHTML = '';\n",
              "          dataTable['output_type'] = 'display_data';\n",
              "          await google.colab.output.renderOutput(dataTable, element);\n",
              "          const docLink = document.createElement('div');\n",
              "          docLink.innerHTML = docLinkHtml;\n",
              "          element.appendChild(docLink);\n",
              "        }\n",
              "      </script>\n",
              "    </div>\n",
              "  </div>\n",
              "  "
            ]
          },
          "metadata": {},
          "execution_count": 227
        }
      ]
    },
    {
      "cell_type": "code",
      "source": [
        "titanic_df = pd.concat([titanic_df, embrked_dummies], axis=1)\n",
        "titanic_df[:5]"
      ],
      "metadata": {
        "id": "gYgMOty-piz5",
        "colab": {
          "base_uri": "https://localhost:8080/",
          "height": 236
        },
        "outputId": "b493a378-8bd8-4969-c0f9-dc524188c921"
      },
      "execution_count": null,
      "outputs": [
        {
          "output_type": "execute_result",
          "data": {
            "text/plain": [
              "   PassengerId  Survived  Pclass  \\\n",
              "0            1       0.0       3   \n",
              "1            2       1.0       1   \n",
              "3            3       1.0       3   \n",
              "4            4       1.0       1   \n",
              "6            5       0.0       3   \n",
              "\n",
              "                                                Name  Sex  Age  SibSp  Parch  \\\n",
              "0                            Braund, Mr. Owen Harris    1  3.0      1      0   \n",
              "1  Cumings, Mrs. John Bradley (Florence Briggs Th...    0  5.0      1      0   \n",
              "3                             Heikkinen, Miss. Laina    0  4.0      0      0   \n",
              "4       Futrelle, Mrs. Jacques Heath (Lily May Peel)    0  4.0      1      0   \n",
              "6                           Allen, Mr. William Henry    1  4.0      0      0   \n",
              "\n",
              "             Ticket     Fare  ... Embarked Title  Ticketsize  Familysize  \\\n",
              "0         A/5 21171   7.2500  ...        S     1         0.0         0.4   \n",
              "1          PC 17599  71.2833  ...        C     2         0.4         0.4   \n",
              "3  STON/O2. 3101282   7.9250  ...        S     3         0.0         0.0   \n",
              "4            113803  53.1000  ...        S     2         0.4         0.4   \n",
              "6            373450   8.0500  ...        S     1         0.0         0.0   \n",
              "\n",
              "   Pclass_1  Pclass_2  Pclass_3  embarked_C  embarked_Q  embarked_S  \n",
              "0     False     False      True           0           0           1  \n",
              "1      True     False     False           1           0           0  \n",
              "3     False     False      True           0           0           1  \n",
              "4      True     False     False           0           0           1  \n",
              "6     False     False      True           0           0           1  \n",
              "\n",
              "[5 rows x 21 columns]"
            ],
            "text/html": [
              "\n",
              "  <div id=\"df-1bde3786-0784-485b-91c0-ac1b606d0afa\">\n",
              "    <div class=\"colab-df-container\">\n",
              "      <div>\n",
              "<style scoped>\n",
              "    .dataframe tbody tr th:only-of-type {\n",
              "        vertical-align: middle;\n",
              "    }\n",
              "\n",
              "    .dataframe tbody tr th {\n",
              "        vertical-align: top;\n",
              "    }\n",
              "\n",
              "    .dataframe thead th {\n",
              "        text-align: right;\n",
              "    }\n",
              "</style>\n",
              "<table border=\"1\" class=\"dataframe\">\n",
              "  <thead>\n",
              "    <tr style=\"text-align: right;\">\n",
              "      <th></th>\n",
              "      <th>PassengerId</th>\n",
              "      <th>Survived</th>\n",
              "      <th>Pclass</th>\n",
              "      <th>Name</th>\n",
              "      <th>Sex</th>\n",
              "      <th>Age</th>\n",
              "      <th>SibSp</th>\n",
              "      <th>Parch</th>\n",
              "      <th>Ticket</th>\n",
              "      <th>Fare</th>\n",
              "      <th>...</th>\n",
              "      <th>Embarked</th>\n",
              "      <th>Title</th>\n",
              "      <th>Ticketsize</th>\n",
              "      <th>Familysize</th>\n",
              "      <th>Pclass_1</th>\n",
              "      <th>Pclass_2</th>\n",
              "      <th>Pclass_3</th>\n",
              "      <th>embarked_C</th>\n",
              "      <th>embarked_Q</th>\n",
              "      <th>embarked_S</th>\n",
              "    </tr>\n",
              "  </thead>\n",
              "  <tbody>\n",
              "    <tr>\n",
              "      <th>0</th>\n",
              "      <td>1</td>\n",
              "      <td>0.0</td>\n",
              "      <td>3</td>\n",
              "      <td>Braund, Mr. Owen Harris</td>\n",
              "      <td>1</td>\n",
              "      <td>3.0</td>\n",
              "      <td>1</td>\n",
              "      <td>0</td>\n",
              "      <td>A/5 21171</td>\n",
              "      <td>7.2500</td>\n",
              "      <td>...</td>\n",
              "      <td>S</td>\n",
              "      <td>1</td>\n",
              "      <td>0.0</td>\n",
              "      <td>0.4</td>\n",
              "      <td>False</td>\n",
              "      <td>False</td>\n",
              "      <td>True</td>\n",
              "      <td>0</td>\n",
              "      <td>0</td>\n",
              "      <td>1</td>\n",
              "    </tr>\n",
              "    <tr>\n",
              "      <th>1</th>\n",
              "      <td>2</td>\n",
              "      <td>1.0</td>\n",
              "      <td>1</td>\n",
              "      <td>Cumings, Mrs. John Bradley (Florence Briggs Th...</td>\n",
              "      <td>0</td>\n",
              "      <td>5.0</td>\n",
              "      <td>1</td>\n",
              "      <td>0</td>\n",
              "      <td>PC 17599</td>\n",
              "      <td>71.2833</td>\n",
              "      <td>...</td>\n",
              "      <td>C</td>\n",
              "      <td>2</td>\n",
              "      <td>0.4</td>\n",
              "      <td>0.4</td>\n",
              "      <td>True</td>\n",
              "      <td>False</td>\n",
              "      <td>False</td>\n",
              "      <td>1</td>\n",
              "      <td>0</td>\n",
              "      <td>0</td>\n",
              "    </tr>\n",
              "    <tr>\n",
              "      <th>3</th>\n",
              "      <td>3</td>\n",
              "      <td>1.0</td>\n",
              "      <td>3</td>\n",
              "      <td>Heikkinen, Miss. Laina</td>\n",
              "      <td>0</td>\n",
              "      <td>4.0</td>\n",
              "      <td>0</td>\n",
              "      <td>0</td>\n",
              "      <td>STON/O2. 3101282</td>\n",
              "      <td>7.9250</td>\n",
              "      <td>...</td>\n",
              "      <td>S</td>\n",
              "      <td>3</td>\n",
              "      <td>0.0</td>\n",
              "      <td>0.0</td>\n",
              "      <td>False</td>\n",
              "      <td>False</td>\n",
              "      <td>True</td>\n",
              "      <td>0</td>\n",
              "      <td>0</td>\n",
              "      <td>1</td>\n",
              "    </tr>\n",
              "    <tr>\n",
              "      <th>4</th>\n",
              "      <td>4</td>\n",
              "      <td>1.0</td>\n",
              "      <td>1</td>\n",
              "      <td>Futrelle, Mrs. Jacques Heath (Lily May Peel)</td>\n",
              "      <td>0</td>\n",
              "      <td>4.0</td>\n",
              "      <td>1</td>\n",
              "      <td>0</td>\n",
              "      <td>113803</td>\n",
              "      <td>53.1000</td>\n",
              "      <td>...</td>\n",
              "      <td>S</td>\n",
              "      <td>2</td>\n",
              "      <td>0.4</td>\n",
              "      <td>0.4</td>\n",
              "      <td>True</td>\n",
              "      <td>False</td>\n",
              "      <td>False</td>\n",
              "      <td>0</td>\n",
              "      <td>0</td>\n",
              "      <td>1</td>\n",
              "    </tr>\n",
              "    <tr>\n",
              "      <th>6</th>\n",
              "      <td>5</td>\n",
              "      <td>0.0</td>\n",
              "      <td>3</td>\n",
              "      <td>Allen, Mr. William Henry</td>\n",
              "      <td>1</td>\n",
              "      <td>4.0</td>\n",
              "      <td>0</td>\n",
              "      <td>0</td>\n",
              "      <td>373450</td>\n",
              "      <td>8.0500</td>\n",
              "      <td>...</td>\n",
              "      <td>S</td>\n",
              "      <td>1</td>\n",
              "      <td>0.0</td>\n",
              "      <td>0.0</td>\n",
              "      <td>False</td>\n",
              "      <td>False</td>\n",
              "      <td>True</td>\n",
              "      <td>0</td>\n",
              "      <td>0</td>\n",
              "      <td>1</td>\n",
              "    </tr>\n",
              "  </tbody>\n",
              "</table>\n",
              "<p>5 rows × 21 columns</p>\n",
              "</div>\n",
              "      <button class=\"colab-df-convert\" onclick=\"convertToInteractive('df-1bde3786-0784-485b-91c0-ac1b606d0afa')\"\n",
              "              title=\"Convert this dataframe to an interactive table.\"\n",
              "              style=\"display:none;\">\n",
              "        \n",
              "  <svg xmlns=\"http://www.w3.org/2000/svg\" height=\"24px\"viewBox=\"0 0 24 24\"\n",
              "       width=\"24px\">\n",
              "    <path d=\"M0 0h24v24H0V0z\" fill=\"none\"/>\n",
              "    <path d=\"M18.56 5.44l.94 2.06.94-2.06 2.06-.94-2.06-.94-.94-2.06-.94 2.06-2.06.94zm-11 1L8.5 8.5l.94-2.06 2.06-.94-2.06-.94L8.5 2.5l-.94 2.06-2.06.94zm10 10l.94 2.06.94-2.06 2.06-.94-2.06-.94-.94-2.06-.94 2.06-2.06.94z\"/><path d=\"M17.41 7.96l-1.37-1.37c-.4-.4-.92-.59-1.43-.59-.52 0-1.04.2-1.43.59L10.3 9.45l-7.72 7.72c-.78.78-.78 2.05 0 2.83L4 21.41c.39.39.9.59 1.41.59.51 0 1.02-.2 1.41-.59l7.78-7.78 2.81-2.81c.8-.78.8-2.07 0-2.86zM5.41 20L4 18.59l7.72-7.72 1.47 1.35L5.41 20z\"/>\n",
              "  </svg>\n",
              "      </button>\n",
              "      \n",
              "  <style>\n",
              "    .colab-df-container {\n",
              "      display:flex;\n",
              "      flex-wrap:wrap;\n",
              "      gap: 12px;\n",
              "    }\n",
              "\n",
              "    .colab-df-convert {\n",
              "      background-color: #E8F0FE;\n",
              "      border: none;\n",
              "      border-radius: 50%;\n",
              "      cursor: pointer;\n",
              "      display: none;\n",
              "      fill: #1967D2;\n",
              "      height: 32px;\n",
              "      padding: 0 0 0 0;\n",
              "      width: 32px;\n",
              "    }\n",
              "\n",
              "    .colab-df-convert:hover {\n",
              "      background-color: #E2EBFA;\n",
              "      box-shadow: 0px 1px 2px rgba(60, 64, 67, 0.3), 0px 1px 3px 1px rgba(60, 64, 67, 0.15);\n",
              "      fill: #174EA6;\n",
              "    }\n",
              "\n",
              "    [theme=dark] .colab-df-convert {\n",
              "      background-color: #3B4455;\n",
              "      fill: #D2E3FC;\n",
              "    }\n",
              "\n",
              "    [theme=dark] .colab-df-convert:hover {\n",
              "      background-color: #434B5C;\n",
              "      box-shadow: 0px 1px 3px 1px rgba(0, 0, 0, 0.15);\n",
              "      filter: drop-shadow(0px 1px 2px rgba(0, 0, 0, 0.3));\n",
              "      fill: #FFFFFF;\n",
              "    }\n",
              "  </style>\n",
              "\n",
              "      <script>\n",
              "        const buttonEl =\n",
              "          document.querySelector('#df-1bde3786-0784-485b-91c0-ac1b606d0afa button.colab-df-convert');\n",
              "        buttonEl.style.display =\n",
              "          google.colab.kernel.accessAllowed ? 'block' : 'none';\n",
              "\n",
              "        async function convertToInteractive(key) {\n",
              "          const element = document.querySelector('#df-1bde3786-0784-485b-91c0-ac1b606d0afa');\n",
              "          const dataTable =\n",
              "            await google.colab.kernel.invokeFunction('convertToInteractive',\n",
              "                                                     [key], {});\n",
              "          if (!dataTable) return;\n",
              "\n",
              "          const docLinkHtml = 'Like what you see? Visit the ' +\n",
              "            '<a target=\"_blank\" href=https://colab.research.google.com/notebooks/data_table.ipynb>data table notebook</a>'\n",
              "            + ' to learn more about interactive tables.';\n",
              "          element.innerHTML = '';\n",
              "          dataTable['output_type'] = 'display_data';\n",
              "          await google.colab.output.renderOutput(dataTable, element);\n",
              "          const docLink = document.createElement('div');\n",
              "          docLink.innerHTML = docLinkHtml;\n",
              "          element.appendChild(docLink);\n",
              "        }\n",
              "      </script>\n",
              "    </div>\n",
              "  </div>\n",
              "  "
            ]
          },
          "metadata": {},
          "execution_count": 228
        }
      ]
    },
    {
      "cell_type": "code",
      "source": [
        "cabin_dummies = pd.get_dummies(titanic_df['Cabin'], prefix='Cabin')\n",
        "cabin_dummies\n",
        "titanic_df = pd.concat([titanic_df, cabin_dummies], axis=1)\n",
        "titanic_df[:5]"
      ],
      "metadata": {
        "id": "t7SmLm7Yr0Ix",
        "colab": {
          "base_uri": "https://localhost:8080/",
          "height": 236
        },
        "outputId": "42bb4513-2d36-4861-eb96-3dd92ec89829"
      },
      "execution_count": null,
      "outputs": [
        {
          "output_type": "execute_result",
          "data": {
            "text/plain": [
              "   PassengerId  Survived  Pclass  \\\n",
              "0            1       0.0       3   \n",
              "1            2       1.0       1   \n",
              "3            3       1.0       3   \n",
              "4            4       1.0       1   \n",
              "6            5       0.0       3   \n",
              "\n",
              "                                                Name  Sex  Age  SibSp  Parch  \\\n",
              "0                            Braund, Mr. Owen Harris    1  3.0      1      0   \n",
              "1  Cumings, Mrs. John Bradley (Florence Briggs Th...    0  5.0      1      0   \n",
              "3                             Heikkinen, Miss. Laina    0  4.0      0      0   \n",
              "4       Futrelle, Mrs. Jacques Heath (Lily May Peel)    0  4.0      1      0   \n",
              "6                           Allen, Mr. William Henry    1  4.0      0      0   \n",
              "\n",
              "             Ticket     Fare  ... embarked_Q embarked_S  Cabin_A  Cabin_B  \\\n",
              "0         A/5 21171   7.2500  ...          0          1        0        0   \n",
              "1          PC 17599  71.2833  ...          0          0        0        0   \n",
              "3  STON/O2. 3101282   7.9250  ...          0          1        0        0   \n",
              "4            113803  53.1000  ...          0          1        0        0   \n",
              "6            373450   8.0500  ...          0          1        0        0   \n",
              "\n",
              "   Cabin_C  Cabin_D  Cabin_E  Cabin_F  Cabin_G  Cabin_T  \n",
              "0        0        0        0        0        0        0  \n",
              "1        1        0        0        0        0        0  \n",
              "3        0        0        0        0        0        0  \n",
              "4        1        0        0        0        0        0  \n",
              "6        0        0        0        0        0        0  \n",
              "\n",
              "[5 rows x 29 columns]"
            ],
            "text/html": [
              "\n",
              "  <div id=\"df-9712a47c-6631-4b00-ad04-490bdd3c79dd\">\n",
              "    <div class=\"colab-df-container\">\n",
              "      <div>\n",
              "<style scoped>\n",
              "    .dataframe tbody tr th:only-of-type {\n",
              "        vertical-align: middle;\n",
              "    }\n",
              "\n",
              "    .dataframe tbody tr th {\n",
              "        vertical-align: top;\n",
              "    }\n",
              "\n",
              "    .dataframe thead th {\n",
              "        text-align: right;\n",
              "    }\n",
              "</style>\n",
              "<table border=\"1\" class=\"dataframe\">\n",
              "  <thead>\n",
              "    <tr style=\"text-align: right;\">\n",
              "      <th></th>\n",
              "      <th>PassengerId</th>\n",
              "      <th>Survived</th>\n",
              "      <th>Pclass</th>\n",
              "      <th>Name</th>\n",
              "      <th>Sex</th>\n",
              "      <th>Age</th>\n",
              "      <th>SibSp</th>\n",
              "      <th>Parch</th>\n",
              "      <th>Ticket</th>\n",
              "      <th>Fare</th>\n",
              "      <th>...</th>\n",
              "      <th>embarked_Q</th>\n",
              "      <th>embarked_S</th>\n",
              "      <th>Cabin_A</th>\n",
              "      <th>Cabin_B</th>\n",
              "      <th>Cabin_C</th>\n",
              "      <th>Cabin_D</th>\n",
              "      <th>Cabin_E</th>\n",
              "      <th>Cabin_F</th>\n",
              "      <th>Cabin_G</th>\n",
              "      <th>Cabin_T</th>\n",
              "    </tr>\n",
              "  </thead>\n",
              "  <tbody>\n",
              "    <tr>\n",
              "      <th>0</th>\n",
              "      <td>1</td>\n",
              "      <td>0.0</td>\n",
              "      <td>3</td>\n",
              "      <td>Braund, Mr. Owen Harris</td>\n",
              "      <td>1</td>\n",
              "      <td>3.0</td>\n",
              "      <td>1</td>\n",
              "      <td>0</td>\n",
              "      <td>A/5 21171</td>\n",
              "      <td>7.2500</td>\n",
              "      <td>...</td>\n",
              "      <td>0</td>\n",
              "      <td>1</td>\n",
              "      <td>0</td>\n",
              "      <td>0</td>\n",
              "      <td>0</td>\n",
              "      <td>0</td>\n",
              "      <td>0</td>\n",
              "      <td>0</td>\n",
              "      <td>0</td>\n",
              "      <td>0</td>\n",
              "    </tr>\n",
              "    <tr>\n",
              "      <th>1</th>\n",
              "      <td>2</td>\n",
              "      <td>1.0</td>\n",
              "      <td>1</td>\n",
              "      <td>Cumings, Mrs. John Bradley (Florence Briggs Th...</td>\n",
              "      <td>0</td>\n",
              "      <td>5.0</td>\n",
              "      <td>1</td>\n",
              "      <td>0</td>\n",
              "      <td>PC 17599</td>\n",
              "      <td>71.2833</td>\n",
              "      <td>...</td>\n",
              "      <td>0</td>\n",
              "      <td>0</td>\n",
              "      <td>0</td>\n",
              "      <td>0</td>\n",
              "      <td>1</td>\n",
              "      <td>0</td>\n",
              "      <td>0</td>\n",
              "      <td>0</td>\n",
              "      <td>0</td>\n",
              "      <td>0</td>\n",
              "    </tr>\n",
              "    <tr>\n",
              "      <th>3</th>\n",
              "      <td>3</td>\n",
              "      <td>1.0</td>\n",
              "      <td>3</td>\n",
              "      <td>Heikkinen, Miss. Laina</td>\n",
              "      <td>0</td>\n",
              "      <td>4.0</td>\n",
              "      <td>0</td>\n",
              "      <td>0</td>\n",
              "      <td>STON/O2. 3101282</td>\n",
              "      <td>7.9250</td>\n",
              "      <td>...</td>\n",
              "      <td>0</td>\n",
              "      <td>1</td>\n",
              "      <td>0</td>\n",
              "      <td>0</td>\n",
              "      <td>0</td>\n",
              "      <td>0</td>\n",
              "      <td>0</td>\n",
              "      <td>0</td>\n",
              "      <td>0</td>\n",
              "      <td>0</td>\n",
              "    </tr>\n",
              "    <tr>\n",
              "      <th>4</th>\n",
              "      <td>4</td>\n",
              "      <td>1.0</td>\n",
              "      <td>1</td>\n",
              "      <td>Futrelle, Mrs. Jacques Heath (Lily May Peel)</td>\n",
              "      <td>0</td>\n",
              "      <td>4.0</td>\n",
              "      <td>1</td>\n",
              "      <td>0</td>\n",
              "      <td>113803</td>\n",
              "      <td>53.1000</td>\n",
              "      <td>...</td>\n",
              "      <td>0</td>\n",
              "      <td>1</td>\n",
              "      <td>0</td>\n",
              "      <td>0</td>\n",
              "      <td>1</td>\n",
              "      <td>0</td>\n",
              "      <td>0</td>\n",
              "      <td>0</td>\n",
              "      <td>0</td>\n",
              "      <td>0</td>\n",
              "    </tr>\n",
              "    <tr>\n",
              "      <th>6</th>\n",
              "      <td>5</td>\n",
              "      <td>0.0</td>\n",
              "      <td>3</td>\n",
              "      <td>Allen, Mr. William Henry</td>\n",
              "      <td>1</td>\n",
              "      <td>4.0</td>\n",
              "      <td>0</td>\n",
              "      <td>0</td>\n",
              "      <td>373450</td>\n",
              "      <td>8.0500</td>\n",
              "      <td>...</td>\n",
              "      <td>0</td>\n",
              "      <td>1</td>\n",
              "      <td>0</td>\n",
              "      <td>0</td>\n",
              "      <td>0</td>\n",
              "      <td>0</td>\n",
              "      <td>0</td>\n",
              "      <td>0</td>\n",
              "      <td>0</td>\n",
              "      <td>0</td>\n",
              "    </tr>\n",
              "  </tbody>\n",
              "</table>\n",
              "<p>5 rows × 29 columns</p>\n",
              "</div>\n",
              "      <button class=\"colab-df-convert\" onclick=\"convertToInteractive('df-9712a47c-6631-4b00-ad04-490bdd3c79dd')\"\n",
              "              title=\"Convert this dataframe to an interactive table.\"\n",
              "              style=\"display:none;\">\n",
              "        \n",
              "  <svg xmlns=\"http://www.w3.org/2000/svg\" height=\"24px\"viewBox=\"0 0 24 24\"\n",
              "       width=\"24px\">\n",
              "    <path d=\"M0 0h24v24H0V0z\" fill=\"none\"/>\n",
              "    <path d=\"M18.56 5.44l.94 2.06.94-2.06 2.06-.94-2.06-.94-.94-2.06-.94 2.06-2.06.94zm-11 1L8.5 8.5l.94-2.06 2.06-.94-2.06-.94L8.5 2.5l-.94 2.06-2.06.94zm10 10l.94 2.06.94-2.06 2.06-.94-2.06-.94-.94-2.06-.94 2.06-2.06.94z\"/><path d=\"M17.41 7.96l-1.37-1.37c-.4-.4-.92-.59-1.43-.59-.52 0-1.04.2-1.43.59L10.3 9.45l-7.72 7.72c-.78.78-.78 2.05 0 2.83L4 21.41c.39.39.9.59 1.41.59.51 0 1.02-.2 1.41-.59l7.78-7.78 2.81-2.81c.8-.78.8-2.07 0-2.86zM5.41 20L4 18.59l7.72-7.72 1.47 1.35L5.41 20z\"/>\n",
              "  </svg>\n",
              "      </button>\n",
              "      \n",
              "  <style>\n",
              "    .colab-df-container {\n",
              "      display:flex;\n",
              "      flex-wrap:wrap;\n",
              "      gap: 12px;\n",
              "    }\n",
              "\n",
              "    .colab-df-convert {\n",
              "      background-color: #E8F0FE;\n",
              "      border: none;\n",
              "      border-radius: 50%;\n",
              "      cursor: pointer;\n",
              "      display: none;\n",
              "      fill: #1967D2;\n",
              "      height: 32px;\n",
              "      padding: 0 0 0 0;\n",
              "      width: 32px;\n",
              "    }\n",
              "\n",
              "    .colab-df-convert:hover {\n",
              "      background-color: #E2EBFA;\n",
              "      box-shadow: 0px 1px 2px rgba(60, 64, 67, 0.3), 0px 1px 3px 1px rgba(60, 64, 67, 0.15);\n",
              "      fill: #174EA6;\n",
              "    }\n",
              "\n",
              "    [theme=dark] .colab-df-convert {\n",
              "      background-color: #3B4455;\n",
              "      fill: #D2E3FC;\n",
              "    }\n",
              "\n",
              "    [theme=dark] .colab-df-convert:hover {\n",
              "      background-color: #434B5C;\n",
              "      box-shadow: 0px 1px 3px 1px rgba(0, 0, 0, 0.15);\n",
              "      filter: drop-shadow(0px 1px 2px rgba(0, 0, 0, 0.3));\n",
              "      fill: #FFFFFF;\n",
              "    }\n",
              "  </style>\n",
              "\n",
              "      <script>\n",
              "        const buttonEl =\n",
              "          document.querySelector('#df-9712a47c-6631-4b00-ad04-490bdd3c79dd button.colab-df-convert');\n",
              "        buttonEl.style.display =\n",
              "          google.colab.kernel.accessAllowed ? 'block' : 'none';\n",
              "\n",
              "        async function convertToInteractive(key) {\n",
              "          const element = document.querySelector('#df-9712a47c-6631-4b00-ad04-490bdd3c79dd');\n",
              "          const dataTable =\n",
              "            await google.colab.kernel.invokeFunction('convertToInteractive',\n",
              "                                                     [key], {});\n",
              "          if (!dataTable) return;\n",
              "\n",
              "          const docLinkHtml = 'Like what you see? Visit the ' +\n",
              "            '<a target=\"_blank\" href=https://colab.research.google.com/notebooks/data_table.ipynb>data table notebook</a>'\n",
              "            + ' to learn more about interactive tables.';\n",
              "          element.innerHTML = '';\n",
              "          dataTable['output_type'] = 'display_data';\n",
              "          await google.colab.output.renderOutput(dataTable, element);\n",
              "          const docLink = document.createElement('div');\n",
              "          docLink.innerHTML = docLinkHtml;\n",
              "          element.appendChild(docLink);\n",
              "        }\n",
              "      </script>\n",
              "    </div>\n",
              "  </div>\n",
              "  "
            ]
          },
          "metadata": {},
          "execution_count": 229
        }
      ]
    },
    {
      "cell_type": "code",
      "source": [
        "title_dummies = pd.get_dummies(titanic_df['Title'], prefix='Title')\n",
        "title_dummies\n",
        "titanic_df = pd.concat([titanic_df, title_dummies], axis=1)\n",
        "titanic_df[:5]"
      ],
      "metadata": {
        "id": "k7qv2liXtH0C",
        "colab": {
          "base_uri": "https://localhost:8080/",
          "height": 236
        },
        "outputId": "c46aebd7-6d23-41ac-824e-4689c896810c"
      },
      "execution_count": null,
      "outputs": [
        {
          "output_type": "execute_result",
          "data": {
            "text/plain": [
              "   PassengerId  Survived  Pclass  \\\n",
              "0            1       0.0       3   \n",
              "1            2       1.0       1   \n",
              "3            3       1.0       3   \n",
              "4            4       1.0       1   \n",
              "6            5       0.0       3   \n",
              "\n",
              "                                                Name  Sex  Age  SibSp  Parch  \\\n",
              "0                            Braund, Mr. Owen Harris    1  3.0      1      0   \n",
              "1  Cumings, Mrs. John Bradley (Florence Briggs Th...    0  5.0      1      0   \n",
              "3                             Heikkinen, Miss. Laina    0  4.0      0      0   \n",
              "4       Futrelle, Mrs. Jacques Heath (Lily May Peel)    0  4.0      1      0   \n",
              "6                           Allen, Mr. William Henry    1  4.0      0      0   \n",
              "\n",
              "             Ticket     Fare  ... Cabin_D Cabin_E  Cabin_F  Cabin_G  Cabin_T  \\\n",
              "0         A/5 21171   7.2500  ...       0       0        0        0        0   \n",
              "1          PC 17599  71.2833  ...       0       0        0        0        0   \n",
              "3  STON/O2. 3101282   7.9250  ...       0       0        0        0        0   \n",
              "4            113803  53.1000  ...       0       0        0        0        0   \n",
              "6            373450   8.0500  ...       0       0        0        0        0   \n",
              "\n",
              "   Title_1  Title_2  Title_3  Title_4  Title_5  \n",
              "0        1        0        0        0        0  \n",
              "1        0        1        0        0        0  \n",
              "3        0        0        1        0        0  \n",
              "4        0        1        0        0        0  \n",
              "6        1        0        0        0        0  \n",
              "\n",
              "[5 rows x 34 columns]"
            ],
            "text/html": [
              "\n",
              "  <div id=\"df-02f1d24d-7684-4b67-ae0f-a225ce583822\">\n",
              "    <div class=\"colab-df-container\">\n",
              "      <div>\n",
              "<style scoped>\n",
              "    .dataframe tbody tr th:only-of-type {\n",
              "        vertical-align: middle;\n",
              "    }\n",
              "\n",
              "    .dataframe tbody tr th {\n",
              "        vertical-align: top;\n",
              "    }\n",
              "\n",
              "    .dataframe thead th {\n",
              "        text-align: right;\n",
              "    }\n",
              "</style>\n",
              "<table border=\"1\" class=\"dataframe\">\n",
              "  <thead>\n",
              "    <tr style=\"text-align: right;\">\n",
              "      <th></th>\n",
              "      <th>PassengerId</th>\n",
              "      <th>Survived</th>\n",
              "      <th>Pclass</th>\n",
              "      <th>Name</th>\n",
              "      <th>Sex</th>\n",
              "      <th>Age</th>\n",
              "      <th>SibSp</th>\n",
              "      <th>Parch</th>\n",
              "      <th>Ticket</th>\n",
              "      <th>Fare</th>\n",
              "      <th>...</th>\n",
              "      <th>Cabin_D</th>\n",
              "      <th>Cabin_E</th>\n",
              "      <th>Cabin_F</th>\n",
              "      <th>Cabin_G</th>\n",
              "      <th>Cabin_T</th>\n",
              "      <th>Title_1</th>\n",
              "      <th>Title_2</th>\n",
              "      <th>Title_3</th>\n",
              "      <th>Title_4</th>\n",
              "      <th>Title_5</th>\n",
              "    </tr>\n",
              "  </thead>\n",
              "  <tbody>\n",
              "    <tr>\n",
              "      <th>0</th>\n",
              "      <td>1</td>\n",
              "      <td>0.0</td>\n",
              "      <td>3</td>\n",
              "      <td>Braund, Mr. Owen Harris</td>\n",
              "      <td>1</td>\n",
              "      <td>3.0</td>\n",
              "      <td>1</td>\n",
              "      <td>0</td>\n",
              "      <td>A/5 21171</td>\n",
              "      <td>7.2500</td>\n",
              "      <td>...</td>\n",
              "      <td>0</td>\n",
              "      <td>0</td>\n",
              "      <td>0</td>\n",
              "      <td>0</td>\n",
              "      <td>0</td>\n",
              "      <td>1</td>\n",
              "      <td>0</td>\n",
              "      <td>0</td>\n",
              "      <td>0</td>\n",
              "      <td>0</td>\n",
              "    </tr>\n",
              "    <tr>\n",
              "      <th>1</th>\n",
              "      <td>2</td>\n",
              "      <td>1.0</td>\n",
              "      <td>1</td>\n",
              "      <td>Cumings, Mrs. John Bradley (Florence Briggs Th...</td>\n",
              "      <td>0</td>\n",
              "      <td>5.0</td>\n",
              "      <td>1</td>\n",
              "      <td>0</td>\n",
              "      <td>PC 17599</td>\n",
              "      <td>71.2833</td>\n",
              "      <td>...</td>\n",
              "      <td>0</td>\n",
              "      <td>0</td>\n",
              "      <td>0</td>\n",
              "      <td>0</td>\n",
              "      <td>0</td>\n",
              "      <td>0</td>\n",
              "      <td>1</td>\n",
              "      <td>0</td>\n",
              "      <td>0</td>\n",
              "      <td>0</td>\n",
              "    </tr>\n",
              "    <tr>\n",
              "      <th>3</th>\n",
              "      <td>3</td>\n",
              "      <td>1.0</td>\n",
              "      <td>3</td>\n",
              "      <td>Heikkinen, Miss. Laina</td>\n",
              "      <td>0</td>\n",
              "      <td>4.0</td>\n",
              "      <td>0</td>\n",
              "      <td>0</td>\n",
              "      <td>STON/O2. 3101282</td>\n",
              "      <td>7.9250</td>\n",
              "      <td>...</td>\n",
              "      <td>0</td>\n",
              "      <td>0</td>\n",
              "      <td>0</td>\n",
              "      <td>0</td>\n",
              "      <td>0</td>\n",
              "      <td>0</td>\n",
              "      <td>0</td>\n",
              "      <td>1</td>\n",
              "      <td>0</td>\n",
              "      <td>0</td>\n",
              "    </tr>\n",
              "    <tr>\n",
              "      <th>4</th>\n",
              "      <td>4</td>\n",
              "      <td>1.0</td>\n",
              "      <td>1</td>\n",
              "      <td>Futrelle, Mrs. Jacques Heath (Lily May Peel)</td>\n",
              "      <td>0</td>\n",
              "      <td>4.0</td>\n",
              "      <td>1</td>\n",
              "      <td>0</td>\n",
              "      <td>113803</td>\n",
              "      <td>53.1000</td>\n",
              "      <td>...</td>\n",
              "      <td>0</td>\n",
              "      <td>0</td>\n",
              "      <td>0</td>\n",
              "      <td>0</td>\n",
              "      <td>0</td>\n",
              "      <td>0</td>\n",
              "      <td>1</td>\n",
              "      <td>0</td>\n",
              "      <td>0</td>\n",
              "      <td>0</td>\n",
              "    </tr>\n",
              "    <tr>\n",
              "      <th>6</th>\n",
              "      <td>5</td>\n",
              "      <td>0.0</td>\n",
              "      <td>3</td>\n",
              "      <td>Allen, Mr. William Henry</td>\n",
              "      <td>1</td>\n",
              "      <td>4.0</td>\n",
              "      <td>0</td>\n",
              "      <td>0</td>\n",
              "      <td>373450</td>\n",
              "      <td>8.0500</td>\n",
              "      <td>...</td>\n",
              "      <td>0</td>\n",
              "      <td>0</td>\n",
              "      <td>0</td>\n",
              "      <td>0</td>\n",
              "      <td>0</td>\n",
              "      <td>1</td>\n",
              "      <td>0</td>\n",
              "      <td>0</td>\n",
              "      <td>0</td>\n",
              "      <td>0</td>\n",
              "    </tr>\n",
              "  </tbody>\n",
              "</table>\n",
              "<p>5 rows × 34 columns</p>\n",
              "</div>\n",
              "      <button class=\"colab-df-convert\" onclick=\"convertToInteractive('df-02f1d24d-7684-4b67-ae0f-a225ce583822')\"\n",
              "              title=\"Convert this dataframe to an interactive table.\"\n",
              "              style=\"display:none;\">\n",
              "        \n",
              "  <svg xmlns=\"http://www.w3.org/2000/svg\" height=\"24px\"viewBox=\"0 0 24 24\"\n",
              "       width=\"24px\">\n",
              "    <path d=\"M0 0h24v24H0V0z\" fill=\"none\"/>\n",
              "    <path d=\"M18.56 5.44l.94 2.06.94-2.06 2.06-.94-2.06-.94-.94-2.06-.94 2.06-2.06.94zm-11 1L8.5 8.5l.94-2.06 2.06-.94-2.06-.94L8.5 2.5l-.94 2.06-2.06.94zm10 10l.94 2.06.94-2.06 2.06-.94-2.06-.94-.94-2.06-.94 2.06-2.06.94z\"/><path d=\"M17.41 7.96l-1.37-1.37c-.4-.4-.92-.59-1.43-.59-.52 0-1.04.2-1.43.59L10.3 9.45l-7.72 7.72c-.78.78-.78 2.05 0 2.83L4 21.41c.39.39.9.59 1.41.59.51 0 1.02-.2 1.41-.59l7.78-7.78 2.81-2.81c.8-.78.8-2.07 0-2.86zM5.41 20L4 18.59l7.72-7.72 1.47 1.35L5.41 20z\"/>\n",
              "  </svg>\n",
              "      </button>\n",
              "      \n",
              "  <style>\n",
              "    .colab-df-container {\n",
              "      display:flex;\n",
              "      flex-wrap:wrap;\n",
              "      gap: 12px;\n",
              "    }\n",
              "\n",
              "    .colab-df-convert {\n",
              "      background-color: #E8F0FE;\n",
              "      border: none;\n",
              "      border-radius: 50%;\n",
              "      cursor: pointer;\n",
              "      display: none;\n",
              "      fill: #1967D2;\n",
              "      height: 32px;\n",
              "      padding: 0 0 0 0;\n",
              "      width: 32px;\n",
              "    }\n",
              "\n",
              "    .colab-df-convert:hover {\n",
              "      background-color: #E2EBFA;\n",
              "      box-shadow: 0px 1px 2px rgba(60, 64, 67, 0.3), 0px 1px 3px 1px rgba(60, 64, 67, 0.15);\n",
              "      fill: #174EA6;\n",
              "    }\n",
              "\n",
              "    [theme=dark] .colab-df-convert {\n",
              "      background-color: #3B4455;\n",
              "      fill: #D2E3FC;\n",
              "    }\n",
              "\n",
              "    [theme=dark] .colab-df-convert:hover {\n",
              "      background-color: #434B5C;\n",
              "      box-shadow: 0px 1px 3px 1px rgba(0, 0, 0, 0.15);\n",
              "      filter: drop-shadow(0px 1px 2px rgba(0, 0, 0, 0.3));\n",
              "      fill: #FFFFFF;\n",
              "    }\n",
              "  </style>\n",
              "\n",
              "      <script>\n",
              "        const buttonEl =\n",
              "          document.querySelector('#df-02f1d24d-7684-4b67-ae0f-a225ce583822 button.colab-df-convert');\n",
              "        buttonEl.style.display =\n",
              "          google.colab.kernel.accessAllowed ? 'block' : 'none';\n",
              "\n",
              "        async function convertToInteractive(key) {\n",
              "          const element = document.querySelector('#df-02f1d24d-7684-4b67-ae0f-a225ce583822');\n",
              "          const dataTable =\n",
              "            await google.colab.kernel.invokeFunction('convertToInteractive',\n",
              "                                                     [key], {});\n",
              "          if (!dataTable) return;\n",
              "\n",
              "          const docLinkHtml = 'Like what you see? Visit the ' +\n",
              "            '<a target=\"_blank\" href=https://colab.research.google.com/notebooks/data_table.ipynb>data table notebook</a>'\n",
              "            + ' to learn more about interactive tables.';\n",
              "          element.innerHTML = '';\n",
              "          dataTable['output_type'] = 'display_data';\n",
              "          await google.colab.output.renderOutput(dataTable, element);\n",
              "          const docLink = document.createElement('div');\n",
              "          docLink.innerHTML = docLinkHtml;\n",
              "          element.appendChild(docLink);\n",
              "        }\n",
              "      </script>\n",
              "    </div>\n",
              "  </div>\n",
              "  "
            ]
          },
          "metadata": {},
          "execution_count": 230
        }
      ]
    },
    {
      "cell_type": "markdown",
      "source": [
        "## 컬럼 삭제"
      ],
      "metadata": {
        "id": "opSG4zflsUzr"
      }
    },
    {
      "cell_type": "code",
      "source": [
        "features_drop = ['Pclass', 'Name', 'SibSp', 'Parch', 'Ticket', 'Fare', 'Cabin', 'Embarked', 'Title']\n",
        "titanic_df = titanic_df.drop(features_drop, axis=1)"
      ],
      "metadata": {
        "id": "C_6uBjC-p1WF"
      },
      "execution_count": null,
      "outputs": []
    },
    {
      "cell_type": "code",
      "source": [
        "titanic_df[:5]"
      ],
      "metadata": {
        "id": "kutLIvJGtrxy",
        "colab": {
          "base_uri": "https://localhost:8080/",
          "height": 236
        },
        "outputId": "acc5d66c-b963-47b3-b0ee-fceb98bbf325"
      },
      "execution_count": null,
      "outputs": [
        {
          "output_type": "execute_result",
          "data": {
            "text/plain": [
              "   PassengerId  Survived  Sex  Age  Ticketsize  Familysize  Pclass_1  \\\n",
              "0            1       0.0    1  3.0         0.0         0.4     False   \n",
              "1            2       1.0    0  5.0         0.4         0.4      True   \n",
              "3            3       1.0    0  4.0         0.0         0.0     False   \n",
              "4            4       1.0    0  4.0         0.4         0.4      True   \n",
              "6            5       0.0    1  4.0         0.0         0.0     False   \n",
              "\n",
              "   Pclass_2  Pclass_3  embarked_C  ...  Cabin_D  Cabin_E  Cabin_F  Cabin_G  \\\n",
              "0     False      True           0  ...        0        0        0        0   \n",
              "1     False     False           1  ...        0        0        0        0   \n",
              "3     False      True           0  ...        0        0        0        0   \n",
              "4     False     False           0  ...        0        0        0        0   \n",
              "6     False      True           0  ...        0        0        0        0   \n",
              "\n",
              "   Cabin_T  Title_1  Title_2  Title_3  Title_4  Title_5  \n",
              "0        0        1        0        0        0        0  \n",
              "1        0        0        1        0        0        0  \n",
              "3        0        0        0        1        0        0  \n",
              "4        0        0        1        0        0        0  \n",
              "6        0        1        0        0        0        0  \n",
              "\n",
              "[5 rows x 25 columns]"
            ],
            "text/html": [
              "\n",
              "  <div id=\"df-6a9d0ee8-1a38-4d30-beda-2ff112e3296c\">\n",
              "    <div class=\"colab-df-container\">\n",
              "      <div>\n",
              "<style scoped>\n",
              "    .dataframe tbody tr th:only-of-type {\n",
              "        vertical-align: middle;\n",
              "    }\n",
              "\n",
              "    .dataframe tbody tr th {\n",
              "        vertical-align: top;\n",
              "    }\n",
              "\n",
              "    .dataframe thead th {\n",
              "        text-align: right;\n",
              "    }\n",
              "</style>\n",
              "<table border=\"1\" class=\"dataframe\">\n",
              "  <thead>\n",
              "    <tr style=\"text-align: right;\">\n",
              "      <th></th>\n",
              "      <th>PassengerId</th>\n",
              "      <th>Survived</th>\n",
              "      <th>Sex</th>\n",
              "      <th>Age</th>\n",
              "      <th>Ticketsize</th>\n",
              "      <th>Familysize</th>\n",
              "      <th>Pclass_1</th>\n",
              "      <th>Pclass_2</th>\n",
              "      <th>Pclass_3</th>\n",
              "      <th>embarked_C</th>\n",
              "      <th>...</th>\n",
              "      <th>Cabin_D</th>\n",
              "      <th>Cabin_E</th>\n",
              "      <th>Cabin_F</th>\n",
              "      <th>Cabin_G</th>\n",
              "      <th>Cabin_T</th>\n",
              "      <th>Title_1</th>\n",
              "      <th>Title_2</th>\n",
              "      <th>Title_3</th>\n",
              "      <th>Title_4</th>\n",
              "      <th>Title_5</th>\n",
              "    </tr>\n",
              "  </thead>\n",
              "  <tbody>\n",
              "    <tr>\n",
              "      <th>0</th>\n",
              "      <td>1</td>\n",
              "      <td>0.0</td>\n",
              "      <td>1</td>\n",
              "      <td>3.0</td>\n",
              "      <td>0.0</td>\n",
              "      <td>0.4</td>\n",
              "      <td>False</td>\n",
              "      <td>False</td>\n",
              "      <td>True</td>\n",
              "      <td>0</td>\n",
              "      <td>...</td>\n",
              "      <td>0</td>\n",
              "      <td>0</td>\n",
              "      <td>0</td>\n",
              "      <td>0</td>\n",
              "      <td>0</td>\n",
              "      <td>1</td>\n",
              "      <td>0</td>\n",
              "      <td>0</td>\n",
              "      <td>0</td>\n",
              "      <td>0</td>\n",
              "    </tr>\n",
              "    <tr>\n",
              "      <th>1</th>\n",
              "      <td>2</td>\n",
              "      <td>1.0</td>\n",
              "      <td>0</td>\n",
              "      <td>5.0</td>\n",
              "      <td>0.4</td>\n",
              "      <td>0.4</td>\n",
              "      <td>True</td>\n",
              "      <td>False</td>\n",
              "      <td>False</td>\n",
              "      <td>1</td>\n",
              "      <td>...</td>\n",
              "      <td>0</td>\n",
              "      <td>0</td>\n",
              "      <td>0</td>\n",
              "      <td>0</td>\n",
              "      <td>0</td>\n",
              "      <td>0</td>\n",
              "      <td>1</td>\n",
              "      <td>0</td>\n",
              "      <td>0</td>\n",
              "      <td>0</td>\n",
              "    </tr>\n",
              "    <tr>\n",
              "      <th>3</th>\n",
              "      <td>3</td>\n",
              "      <td>1.0</td>\n",
              "      <td>0</td>\n",
              "      <td>4.0</td>\n",
              "      <td>0.0</td>\n",
              "      <td>0.0</td>\n",
              "      <td>False</td>\n",
              "      <td>False</td>\n",
              "      <td>True</td>\n",
              "      <td>0</td>\n",
              "      <td>...</td>\n",
              "      <td>0</td>\n",
              "      <td>0</td>\n",
              "      <td>0</td>\n",
              "      <td>0</td>\n",
              "      <td>0</td>\n",
              "      <td>0</td>\n",
              "      <td>0</td>\n",
              "      <td>1</td>\n",
              "      <td>0</td>\n",
              "      <td>0</td>\n",
              "    </tr>\n",
              "    <tr>\n",
              "      <th>4</th>\n",
              "      <td>4</td>\n",
              "      <td>1.0</td>\n",
              "      <td>0</td>\n",
              "      <td>4.0</td>\n",
              "      <td>0.4</td>\n",
              "      <td>0.4</td>\n",
              "      <td>True</td>\n",
              "      <td>False</td>\n",
              "      <td>False</td>\n",
              "      <td>0</td>\n",
              "      <td>...</td>\n",
              "      <td>0</td>\n",
              "      <td>0</td>\n",
              "      <td>0</td>\n",
              "      <td>0</td>\n",
              "      <td>0</td>\n",
              "      <td>0</td>\n",
              "      <td>1</td>\n",
              "      <td>0</td>\n",
              "      <td>0</td>\n",
              "      <td>0</td>\n",
              "    </tr>\n",
              "    <tr>\n",
              "      <th>6</th>\n",
              "      <td>5</td>\n",
              "      <td>0.0</td>\n",
              "      <td>1</td>\n",
              "      <td>4.0</td>\n",
              "      <td>0.0</td>\n",
              "      <td>0.0</td>\n",
              "      <td>False</td>\n",
              "      <td>False</td>\n",
              "      <td>True</td>\n",
              "      <td>0</td>\n",
              "      <td>...</td>\n",
              "      <td>0</td>\n",
              "      <td>0</td>\n",
              "      <td>0</td>\n",
              "      <td>0</td>\n",
              "      <td>0</td>\n",
              "      <td>1</td>\n",
              "      <td>0</td>\n",
              "      <td>0</td>\n",
              "      <td>0</td>\n",
              "      <td>0</td>\n",
              "    </tr>\n",
              "  </tbody>\n",
              "</table>\n",
              "<p>5 rows × 25 columns</p>\n",
              "</div>\n",
              "      <button class=\"colab-df-convert\" onclick=\"convertToInteractive('df-6a9d0ee8-1a38-4d30-beda-2ff112e3296c')\"\n",
              "              title=\"Convert this dataframe to an interactive table.\"\n",
              "              style=\"display:none;\">\n",
              "        \n",
              "  <svg xmlns=\"http://www.w3.org/2000/svg\" height=\"24px\"viewBox=\"0 0 24 24\"\n",
              "       width=\"24px\">\n",
              "    <path d=\"M0 0h24v24H0V0z\" fill=\"none\"/>\n",
              "    <path d=\"M18.56 5.44l.94 2.06.94-2.06 2.06-.94-2.06-.94-.94-2.06-.94 2.06-2.06.94zm-11 1L8.5 8.5l.94-2.06 2.06-.94-2.06-.94L8.5 2.5l-.94 2.06-2.06.94zm10 10l.94 2.06.94-2.06 2.06-.94-2.06-.94-.94-2.06-.94 2.06-2.06.94z\"/><path d=\"M17.41 7.96l-1.37-1.37c-.4-.4-.92-.59-1.43-.59-.52 0-1.04.2-1.43.59L10.3 9.45l-7.72 7.72c-.78.78-.78 2.05 0 2.83L4 21.41c.39.39.9.59 1.41.59.51 0 1.02-.2 1.41-.59l7.78-7.78 2.81-2.81c.8-.78.8-2.07 0-2.86zM5.41 20L4 18.59l7.72-7.72 1.47 1.35L5.41 20z\"/>\n",
              "  </svg>\n",
              "      </button>\n",
              "      \n",
              "  <style>\n",
              "    .colab-df-container {\n",
              "      display:flex;\n",
              "      flex-wrap:wrap;\n",
              "      gap: 12px;\n",
              "    }\n",
              "\n",
              "    .colab-df-convert {\n",
              "      background-color: #E8F0FE;\n",
              "      border: none;\n",
              "      border-radius: 50%;\n",
              "      cursor: pointer;\n",
              "      display: none;\n",
              "      fill: #1967D2;\n",
              "      height: 32px;\n",
              "      padding: 0 0 0 0;\n",
              "      width: 32px;\n",
              "    }\n",
              "\n",
              "    .colab-df-convert:hover {\n",
              "      background-color: #E2EBFA;\n",
              "      box-shadow: 0px 1px 2px rgba(60, 64, 67, 0.3), 0px 1px 3px 1px rgba(60, 64, 67, 0.15);\n",
              "      fill: #174EA6;\n",
              "    }\n",
              "\n",
              "    [theme=dark] .colab-df-convert {\n",
              "      background-color: #3B4455;\n",
              "      fill: #D2E3FC;\n",
              "    }\n",
              "\n",
              "    [theme=dark] .colab-df-convert:hover {\n",
              "      background-color: #434B5C;\n",
              "      box-shadow: 0px 1px 3px 1px rgba(0, 0, 0, 0.15);\n",
              "      filter: drop-shadow(0px 1px 2px rgba(0, 0, 0, 0.3));\n",
              "      fill: #FFFFFF;\n",
              "    }\n",
              "  </style>\n",
              "\n",
              "      <script>\n",
              "        const buttonEl =\n",
              "          document.querySelector('#df-6a9d0ee8-1a38-4d30-beda-2ff112e3296c button.colab-df-convert');\n",
              "        buttonEl.style.display =\n",
              "          google.colab.kernel.accessAllowed ? 'block' : 'none';\n",
              "\n",
              "        async function convertToInteractive(key) {\n",
              "          const element = document.querySelector('#df-6a9d0ee8-1a38-4d30-beda-2ff112e3296c');\n",
              "          const dataTable =\n",
              "            await google.colab.kernel.invokeFunction('convertToInteractive',\n",
              "                                                     [key], {});\n",
              "          if (!dataTable) return;\n",
              "\n",
              "          const docLinkHtml = 'Like what you see? Visit the ' +\n",
              "            '<a target=\"_blank\" href=https://colab.research.google.com/notebooks/data_table.ipynb>data table notebook</a>'\n",
              "            + ' to learn more about interactive tables.';\n",
              "          element.innerHTML = '';\n",
              "          dataTable['output_type'] = 'display_data';\n",
              "          await google.colab.output.renderOutput(dataTable, element);\n",
              "          const docLink = document.createElement('div');\n",
              "          docLink.innerHTML = docLinkHtml;\n",
              "          element.appendChild(docLink);\n",
              "        }\n",
              "      </script>\n",
              "    </div>\n",
              "  </div>\n",
              "  "
            ]
          },
          "metadata": {},
          "execution_count": 232
        }
      ]
    },
    {
      "cell_type": "code",
      "source": [
        "titanic_df = titanic_df.sort_values('PassengerId', ignore_index=True)\n",
        "titanic_df.head()"
      ],
      "metadata": {
        "id": "Ofwo34VC1NSq",
        "colab": {
          "base_uri": "https://localhost:8080/",
          "height": 236
        },
        "outputId": "d1fb34a1-d2b0-4202-98a6-fdb3f30415cd"
      },
      "execution_count": null,
      "outputs": [
        {
          "output_type": "execute_result",
          "data": {
            "text/plain": [
              "   PassengerId  Survived  Sex  Age  Ticketsize  Familysize  Pclass_1  \\\n",
              "0            1       0.0    1  3.0         0.0         0.4     False   \n",
              "1            2       1.0    0  5.0         0.4         0.4      True   \n",
              "2            3       1.0    0  4.0         0.0         0.0     False   \n",
              "3            4       1.0    0  4.0         0.4         0.4      True   \n",
              "4            5       0.0    1  4.0         0.0         0.0     False   \n",
              "\n",
              "   Pclass_2  Pclass_3  embarked_C  ...  Cabin_D  Cabin_E  Cabin_F  Cabin_G  \\\n",
              "0     False      True           0  ...        0        0        0        0   \n",
              "1     False     False           1  ...        0        0        0        0   \n",
              "2     False      True           0  ...        0        0        0        0   \n",
              "3     False     False           0  ...        0        0        0        0   \n",
              "4     False      True           0  ...        0        0        0        0   \n",
              "\n",
              "   Cabin_T  Title_1  Title_2  Title_3  Title_4  Title_5  \n",
              "0        0        1        0        0        0        0  \n",
              "1        0        0        1        0        0        0  \n",
              "2        0        0        0        1        0        0  \n",
              "3        0        0        1        0        0        0  \n",
              "4        0        1        0        0        0        0  \n",
              "\n",
              "[5 rows x 25 columns]"
            ],
            "text/html": [
              "\n",
              "  <div id=\"df-e4b2e320-4af0-45d7-aa5b-a3ae2755097e\">\n",
              "    <div class=\"colab-df-container\">\n",
              "      <div>\n",
              "<style scoped>\n",
              "    .dataframe tbody tr th:only-of-type {\n",
              "        vertical-align: middle;\n",
              "    }\n",
              "\n",
              "    .dataframe tbody tr th {\n",
              "        vertical-align: top;\n",
              "    }\n",
              "\n",
              "    .dataframe thead th {\n",
              "        text-align: right;\n",
              "    }\n",
              "</style>\n",
              "<table border=\"1\" class=\"dataframe\">\n",
              "  <thead>\n",
              "    <tr style=\"text-align: right;\">\n",
              "      <th></th>\n",
              "      <th>PassengerId</th>\n",
              "      <th>Survived</th>\n",
              "      <th>Sex</th>\n",
              "      <th>Age</th>\n",
              "      <th>Ticketsize</th>\n",
              "      <th>Familysize</th>\n",
              "      <th>Pclass_1</th>\n",
              "      <th>Pclass_2</th>\n",
              "      <th>Pclass_3</th>\n",
              "      <th>embarked_C</th>\n",
              "      <th>...</th>\n",
              "      <th>Cabin_D</th>\n",
              "      <th>Cabin_E</th>\n",
              "      <th>Cabin_F</th>\n",
              "      <th>Cabin_G</th>\n",
              "      <th>Cabin_T</th>\n",
              "      <th>Title_1</th>\n",
              "      <th>Title_2</th>\n",
              "      <th>Title_3</th>\n",
              "      <th>Title_4</th>\n",
              "      <th>Title_5</th>\n",
              "    </tr>\n",
              "  </thead>\n",
              "  <tbody>\n",
              "    <tr>\n",
              "      <th>0</th>\n",
              "      <td>1</td>\n",
              "      <td>0.0</td>\n",
              "      <td>1</td>\n",
              "      <td>3.0</td>\n",
              "      <td>0.0</td>\n",
              "      <td>0.4</td>\n",
              "      <td>False</td>\n",
              "      <td>False</td>\n",
              "      <td>True</td>\n",
              "      <td>0</td>\n",
              "      <td>...</td>\n",
              "      <td>0</td>\n",
              "      <td>0</td>\n",
              "      <td>0</td>\n",
              "      <td>0</td>\n",
              "      <td>0</td>\n",
              "      <td>1</td>\n",
              "      <td>0</td>\n",
              "      <td>0</td>\n",
              "      <td>0</td>\n",
              "      <td>0</td>\n",
              "    </tr>\n",
              "    <tr>\n",
              "      <th>1</th>\n",
              "      <td>2</td>\n",
              "      <td>1.0</td>\n",
              "      <td>0</td>\n",
              "      <td>5.0</td>\n",
              "      <td>0.4</td>\n",
              "      <td>0.4</td>\n",
              "      <td>True</td>\n",
              "      <td>False</td>\n",
              "      <td>False</td>\n",
              "      <td>1</td>\n",
              "      <td>...</td>\n",
              "      <td>0</td>\n",
              "      <td>0</td>\n",
              "      <td>0</td>\n",
              "      <td>0</td>\n",
              "      <td>0</td>\n",
              "      <td>0</td>\n",
              "      <td>1</td>\n",
              "      <td>0</td>\n",
              "      <td>0</td>\n",
              "      <td>0</td>\n",
              "    </tr>\n",
              "    <tr>\n",
              "      <th>2</th>\n",
              "      <td>3</td>\n",
              "      <td>1.0</td>\n",
              "      <td>0</td>\n",
              "      <td>4.0</td>\n",
              "      <td>0.0</td>\n",
              "      <td>0.0</td>\n",
              "      <td>False</td>\n",
              "      <td>False</td>\n",
              "      <td>True</td>\n",
              "      <td>0</td>\n",
              "      <td>...</td>\n",
              "      <td>0</td>\n",
              "      <td>0</td>\n",
              "      <td>0</td>\n",
              "      <td>0</td>\n",
              "      <td>0</td>\n",
              "      <td>0</td>\n",
              "      <td>0</td>\n",
              "      <td>1</td>\n",
              "      <td>0</td>\n",
              "      <td>0</td>\n",
              "    </tr>\n",
              "    <tr>\n",
              "      <th>3</th>\n",
              "      <td>4</td>\n",
              "      <td>1.0</td>\n",
              "      <td>0</td>\n",
              "      <td>4.0</td>\n",
              "      <td>0.4</td>\n",
              "      <td>0.4</td>\n",
              "      <td>True</td>\n",
              "      <td>False</td>\n",
              "      <td>False</td>\n",
              "      <td>0</td>\n",
              "      <td>...</td>\n",
              "      <td>0</td>\n",
              "      <td>0</td>\n",
              "      <td>0</td>\n",
              "      <td>0</td>\n",
              "      <td>0</td>\n",
              "      <td>0</td>\n",
              "      <td>1</td>\n",
              "      <td>0</td>\n",
              "      <td>0</td>\n",
              "      <td>0</td>\n",
              "    </tr>\n",
              "    <tr>\n",
              "      <th>4</th>\n",
              "      <td>5</td>\n",
              "      <td>0.0</td>\n",
              "      <td>1</td>\n",
              "      <td>4.0</td>\n",
              "      <td>0.0</td>\n",
              "      <td>0.0</td>\n",
              "      <td>False</td>\n",
              "      <td>False</td>\n",
              "      <td>True</td>\n",
              "      <td>0</td>\n",
              "      <td>...</td>\n",
              "      <td>0</td>\n",
              "      <td>0</td>\n",
              "      <td>0</td>\n",
              "      <td>0</td>\n",
              "      <td>0</td>\n",
              "      <td>1</td>\n",
              "      <td>0</td>\n",
              "      <td>0</td>\n",
              "      <td>0</td>\n",
              "      <td>0</td>\n",
              "    </tr>\n",
              "  </tbody>\n",
              "</table>\n",
              "<p>5 rows × 25 columns</p>\n",
              "</div>\n",
              "      <button class=\"colab-df-convert\" onclick=\"convertToInteractive('df-e4b2e320-4af0-45d7-aa5b-a3ae2755097e')\"\n",
              "              title=\"Convert this dataframe to an interactive table.\"\n",
              "              style=\"display:none;\">\n",
              "        \n",
              "  <svg xmlns=\"http://www.w3.org/2000/svg\" height=\"24px\"viewBox=\"0 0 24 24\"\n",
              "       width=\"24px\">\n",
              "    <path d=\"M0 0h24v24H0V0z\" fill=\"none\"/>\n",
              "    <path d=\"M18.56 5.44l.94 2.06.94-2.06 2.06-.94-2.06-.94-.94-2.06-.94 2.06-2.06.94zm-11 1L8.5 8.5l.94-2.06 2.06-.94-2.06-.94L8.5 2.5l-.94 2.06-2.06.94zm10 10l.94 2.06.94-2.06 2.06-.94-2.06-.94-.94-2.06-.94 2.06-2.06.94z\"/><path d=\"M17.41 7.96l-1.37-1.37c-.4-.4-.92-.59-1.43-.59-.52 0-1.04.2-1.43.59L10.3 9.45l-7.72 7.72c-.78.78-.78 2.05 0 2.83L4 21.41c.39.39.9.59 1.41.59.51 0 1.02-.2 1.41-.59l7.78-7.78 2.81-2.81c.8-.78.8-2.07 0-2.86zM5.41 20L4 18.59l7.72-7.72 1.47 1.35L5.41 20z\"/>\n",
              "  </svg>\n",
              "      </button>\n",
              "      \n",
              "  <style>\n",
              "    .colab-df-container {\n",
              "      display:flex;\n",
              "      flex-wrap:wrap;\n",
              "      gap: 12px;\n",
              "    }\n",
              "\n",
              "    .colab-df-convert {\n",
              "      background-color: #E8F0FE;\n",
              "      border: none;\n",
              "      border-radius: 50%;\n",
              "      cursor: pointer;\n",
              "      display: none;\n",
              "      fill: #1967D2;\n",
              "      height: 32px;\n",
              "      padding: 0 0 0 0;\n",
              "      width: 32px;\n",
              "    }\n",
              "\n",
              "    .colab-df-convert:hover {\n",
              "      background-color: #E2EBFA;\n",
              "      box-shadow: 0px 1px 2px rgba(60, 64, 67, 0.3), 0px 1px 3px 1px rgba(60, 64, 67, 0.15);\n",
              "      fill: #174EA6;\n",
              "    }\n",
              "\n",
              "    [theme=dark] .colab-df-convert {\n",
              "      background-color: #3B4455;\n",
              "      fill: #D2E3FC;\n",
              "    }\n",
              "\n",
              "    [theme=dark] .colab-df-convert:hover {\n",
              "      background-color: #434B5C;\n",
              "      box-shadow: 0px 1px 3px 1px rgba(0, 0, 0, 0.15);\n",
              "      filter: drop-shadow(0px 1px 2px rgba(0, 0, 0, 0.3));\n",
              "      fill: #FFFFFF;\n",
              "    }\n",
              "  </style>\n",
              "\n",
              "      <script>\n",
              "        const buttonEl =\n",
              "          document.querySelector('#df-e4b2e320-4af0-45d7-aa5b-a3ae2755097e button.colab-df-convert');\n",
              "        buttonEl.style.display =\n",
              "          google.colab.kernel.accessAllowed ? 'block' : 'none';\n",
              "\n",
              "        async function convertToInteractive(key) {\n",
              "          const element = document.querySelector('#df-e4b2e320-4af0-45d7-aa5b-a3ae2755097e');\n",
              "          const dataTable =\n",
              "            await google.colab.kernel.invokeFunction('convertToInteractive',\n",
              "                                                     [key], {});\n",
              "          if (!dataTable) return;\n",
              "\n",
              "          const docLinkHtml = 'Like what you see? Visit the ' +\n",
              "            '<a target=\"_blank\" href=https://colab.research.google.com/notebooks/data_table.ipynb>data table notebook</a>'\n",
              "            + ' to learn more about interactive tables.';\n",
              "          element.innerHTML = '';\n",
              "          dataTable['output_type'] = 'display_data';\n",
              "          await google.colab.output.renderOutput(dataTable, element);\n",
              "          const docLink = document.createElement('div');\n",
              "          docLink.innerHTML = docLinkHtml;\n",
              "          element.appendChild(docLink);\n",
              "        }\n",
              "      </script>\n",
              "    </div>\n",
              "  </div>\n",
              "  "
            ]
          },
          "metadata": {},
          "execution_count": 233
        }
      ]
    },
    {
      "cell_type": "code",
      "source": [
        "X = titanic_df.drop(columns='Survived')\n",
        "X[:5]"
      ],
      "metadata": {
        "id": "Fov1iOgott8Z",
        "colab": {
          "base_uri": "https://localhost:8080/",
          "height": 236
        },
        "outputId": "ca112ea2-5777-4233-9782-04bc4a9b564d"
      },
      "execution_count": null,
      "outputs": [
        {
          "output_type": "execute_result",
          "data": {
            "text/plain": [
              "   PassengerId  Sex  Age  Ticketsize  Familysize  Pclass_1  Pclass_2  \\\n",
              "0            1    1  3.0         0.0         0.4     False     False   \n",
              "1            2    0  5.0         0.4         0.4      True     False   \n",
              "2            3    0  4.0         0.0         0.0     False     False   \n",
              "3            4    0  4.0         0.4         0.4      True     False   \n",
              "4            5    1  4.0         0.0         0.0     False     False   \n",
              "\n",
              "   Pclass_3  embarked_C  embarked_Q  ...  Cabin_D  Cabin_E  Cabin_F  Cabin_G  \\\n",
              "0      True           0           0  ...        0        0        0        0   \n",
              "1     False           1           0  ...        0        0        0        0   \n",
              "2      True           0           0  ...        0        0        0        0   \n",
              "3     False           0           0  ...        0        0        0        0   \n",
              "4      True           0           0  ...        0        0        0        0   \n",
              "\n",
              "   Cabin_T  Title_1  Title_2  Title_3  Title_4  Title_5  \n",
              "0        0        1        0        0        0        0  \n",
              "1        0        0        1        0        0        0  \n",
              "2        0        0        0        1        0        0  \n",
              "3        0        0        1        0        0        0  \n",
              "4        0        1        0        0        0        0  \n",
              "\n",
              "[5 rows x 24 columns]"
            ],
            "text/html": [
              "\n",
              "  <div id=\"df-eda05287-5c51-4bf9-bb98-eadbbec3ff77\">\n",
              "    <div class=\"colab-df-container\">\n",
              "      <div>\n",
              "<style scoped>\n",
              "    .dataframe tbody tr th:only-of-type {\n",
              "        vertical-align: middle;\n",
              "    }\n",
              "\n",
              "    .dataframe tbody tr th {\n",
              "        vertical-align: top;\n",
              "    }\n",
              "\n",
              "    .dataframe thead th {\n",
              "        text-align: right;\n",
              "    }\n",
              "</style>\n",
              "<table border=\"1\" class=\"dataframe\">\n",
              "  <thead>\n",
              "    <tr style=\"text-align: right;\">\n",
              "      <th></th>\n",
              "      <th>PassengerId</th>\n",
              "      <th>Sex</th>\n",
              "      <th>Age</th>\n",
              "      <th>Ticketsize</th>\n",
              "      <th>Familysize</th>\n",
              "      <th>Pclass_1</th>\n",
              "      <th>Pclass_2</th>\n",
              "      <th>Pclass_3</th>\n",
              "      <th>embarked_C</th>\n",
              "      <th>embarked_Q</th>\n",
              "      <th>...</th>\n",
              "      <th>Cabin_D</th>\n",
              "      <th>Cabin_E</th>\n",
              "      <th>Cabin_F</th>\n",
              "      <th>Cabin_G</th>\n",
              "      <th>Cabin_T</th>\n",
              "      <th>Title_1</th>\n",
              "      <th>Title_2</th>\n",
              "      <th>Title_3</th>\n",
              "      <th>Title_4</th>\n",
              "      <th>Title_5</th>\n",
              "    </tr>\n",
              "  </thead>\n",
              "  <tbody>\n",
              "    <tr>\n",
              "      <th>0</th>\n",
              "      <td>1</td>\n",
              "      <td>1</td>\n",
              "      <td>3.0</td>\n",
              "      <td>0.0</td>\n",
              "      <td>0.4</td>\n",
              "      <td>False</td>\n",
              "      <td>False</td>\n",
              "      <td>True</td>\n",
              "      <td>0</td>\n",
              "      <td>0</td>\n",
              "      <td>...</td>\n",
              "      <td>0</td>\n",
              "      <td>0</td>\n",
              "      <td>0</td>\n",
              "      <td>0</td>\n",
              "      <td>0</td>\n",
              "      <td>1</td>\n",
              "      <td>0</td>\n",
              "      <td>0</td>\n",
              "      <td>0</td>\n",
              "      <td>0</td>\n",
              "    </tr>\n",
              "    <tr>\n",
              "      <th>1</th>\n",
              "      <td>2</td>\n",
              "      <td>0</td>\n",
              "      <td>5.0</td>\n",
              "      <td>0.4</td>\n",
              "      <td>0.4</td>\n",
              "      <td>True</td>\n",
              "      <td>False</td>\n",
              "      <td>False</td>\n",
              "      <td>1</td>\n",
              "      <td>0</td>\n",
              "      <td>...</td>\n",
              "      <td>0</td>\n",
              "      <td>0</td>\n",
              "      <td>0</td>\n",
              "      <td>0</td>\n",
              "      <td>0</td>\n",
              "      <td>0</td>\n",
              "      <td>1</td>\n",
              "      <td>0</td>\n",
              "      <td>0</td>\n",
              "      <td>0</td>\n",
              "    </tr>\n",
              "    <tr>\n",
              "      <th>2</th>\n",
              "      <td>3</td>\n",
              "      <td>0</td>\n",
              "      <td>4.0</td>\n",
              "      <td>0.0</td>\n",
              "      <td>0.0</td>\n",
              "      <td>False</td>\n",
              "      <td>False</td>\n",
              "      <td>True</td>\n",
              "      <td>0</td>\n",
              "      <td>0</td>\n",
              "      <td>...</td>\n",
              "      <td>0</td>\n",
              "      <td>0</td>\n",
              "      <td>0</td>\n",
              "      <td>0</td>\n",
              "      <td>0</td>\n",
              "      <td>0</td>\n",
              "      <td>0</td>\n",
              "      <td>1</td>\n",
              "      <td>0</td>\n",
              "      <td>0</td>\n",
              "    </tr>\n",
              "    <tr>\n",
              "      <th>3</th>\n",
              "      <td>4</td>\n",
              "      <td>0</td>\n",
              "      <td>4.0</td>\n",
              "      <td>0.4</td>\n",
              "      <td>0.4</td>\n",
              "      <td>True</td>\n",
              "      <td>False</td>\n",
              "      <td>False</td>\n",
              "      <td>0</td>\n",
              "      <td>0</td>\n",
              "      <td>...</td>\n",
              "      <td>0</td>\n",
              "      <td>0</td>\n",
              "      <td>0</td>\n",
              "      <td>0</td>\n",
              "      <td>0</td>\n",
              "      <td>0</td>\n",
              "      <td>1</td>\n",
              "      <td>0</td>\n",
              "      <td>0</td>\n",
              "      <td>0</td>\n",
              "    </tr>\n",
              "    <tr>\n",
              "      <th>4</th>\n",
              "      <td>5</td>\n",
              "      <td>1</td>\n",
              "      <td>4.0</td>\n",
              "      <td>0.0</td>\n",
              "      <td>0.0</td>\n",
              "      <td>False</td>\n",
              "      <td>False</td>\n",
              "      <td>True</td>\n",
              "      <td>0</td>\n",
              "      <td>0</td>\n",
              "      <td>...</td>\n",
              "      <td>0</td>\n",
              "      <td>0</td>\n",
              "      <td>0</td>\n",
              "      <td>0</td>\n",
              "      <td>0</td>\n",
              "      <td>1</td>\n",
              "      <td>0</td>\n",
              "      <td>0</td>\n",
              "      <td>0</td>\n",
              "      <td>0</td>\n",
              "    </tr>\n",
              "  </tbody>\n",
              "</table>\n",
              "<p>5 rows × 24 columns</p>\n",
              "</div>\n",
              "      <button class=\"colab-df-convert\" onclick=\"convertToInteractive('df-eda05287-5c51-4bf9-bb98-eadbbec3ff77')\"\n",
              "              title=\"Convert this dataframe to an interactive table.\"\n",
              "              style=\"display:none;\">\n",
              "        \n",
              "  <svg xmlns=\"http://www.w3.org/2000/svg\" height=\"24px\"viewBox=\"0 0 24 24\"\n",
              "       width=\"24px\">\n",
              "    <path d=\"M0 0h24v24H0V0z\" fill=\"none\"/>\n",
              "    <path d=\"M18.56 5.44l.94 2.06.94-2.06 2.06-.94-2.06-.94-.94-2.06-.94 2.06-2.06.94zm-11 1L8.5 8.5l.94-2.06 2.06-.94-2.06-.94L8.5 2.5l-.94 2.06-2.06.94zm10 10l.94 2.06.94-2.06 2.06-.94-2.06-.94-.94-2.06-.94 2.06-2.06.94z\"/><path d=\"M17.41 7.96l-1.37-1.37c-.4-.4-.92-.59-1.43-.59-.52 0-1.04.2-1.43.59L10.3 9.45l-7.72 7.72c-.78.78-.78 2.05 0 2.83L4 21.41c.39.39.9.59 1.41.59.51 0 1.02-.2 1.41-.59l7.78-7.78 2.81-2.81c.8-.78.8-2.07 0-2.86zM5.41 20L4 18.59l7.72-7.72 1.47 1.35L5.41 20z\"/>\n",
              "  </svg>\n",
              "      </button>\n",
              "      \n",
              "  <style>\n",
              "    .colab-df-container {\n",
              "      display:flex;\n",
              "      flex-wrap:wrap;\n",
              "      gap: 12px;\n",
              "    }\n",
              "\n",
              "    .colab-df-convert {\n",
              "      background-color: #E8F0FE;\n",
              "      border: none;\n",
              "      border-radius: 50%;\n",
              "      cursor: pointer;\n",
              "      display: none;\n",
              "      fill: #1967D2;\n",
              "      height: 32px;\n",
              "      padding: 0 0 0 0;\n",
              "      width: 32px;\n",
              "    }\n",
              "\n",
              "    .colab-df-convert:hover {\n",
              "      background-color: #E2EBFA;\n",
              "      box-shadow: 0px 1px 2px rgba(60, 64, 67, 0.3), 0px 1px 3px 1px rgba(60, 64, 67, 0.15);\n",
              "      fill: #174EA6;\n",
              "    }\n",
              "\n",
              "    [theme=dark] .colab-df-convert {\n",
              "      background-color: #3B4455;\n",
              "      fill: #D2E3FC;\n",
              "    }\n",
              "\n",
              "    [theme=dark] .colab-df-convert:hover {\n",
              "      background-color: #434B5C;\n",
              "      box-shadow: 0px 1px 3px 1px rgba(0, 0, 0, 0.15);\n",
              "      filter: drop-shadow(0px 1px 2px rgba(0, 0, 0, 0.3));\n",
              "      fill: #FFFFFF;\n",
              "    }\n",
              "  </style>\n",
              "\n",
              "      <script>\n",
              "        const buttonEl =\n",
              "          document.querySelector('#df-eda05287-5c51-4bf9-bb98-eadbbec3ff77 button.colab-df-convert');\n",
              "        buttonEl.style.display =\n",
              "          google.colab.kernel.accessAllowed ? 'block' : 'none';\n",
              "\n",
              "        async function convertToInteractive(key) {\n",
              "          const element = document.querySelector('#df-eda05287-5c51-4bf9-bb98-eadbbec3ff77');\n",
              "          const dataTable =\n",
              "            await google.colab.kernel.invokeFunction('convertToInteractive',\n",
              "                                                     [key], {});\n",
              "          if (!dataTable) return;\n",
              "\n",
              "          const docLinkHtml = 'Like what you see? Visit the ' +\n",
              "            '<a target=\"_blank\" href=https://colab.research.google.com/notebooks/data_table.ipynb>data table notebook</a>'\n",
              "            + ' to learn more about interactive tables.';\n",
              "          element.innerHTML = '';\n",
              "          dataTable['output_type'] = 'display_data';\n",
              "          await google.colab.output.renderOutput(dataTable, element);\n",
              "          const docLink = document.createElement('div');\n",
              "          docLink.innerHTML = docLinkHtml;\n",
              "          element.appendChild(docLink);\n",
              "        }\n",
              "      </script>\n",
              "    </div>\n",
              "  </div>\n",
              "  "
            ]
          },
          "metadata": {},
          "execution_count": 234
        }
      ]
    },
    {
      "cell_type": "code",
      "source": [
        "y = titanic_df['Survived']\n",
        "y.head()"
      ],
      "metadata": {
        "id": "42jz6Yaev2nq",
        "colab": {
          "base_uri": "https://localhost:8080/"
        },
        "outputId": "235ba5e5-5657-4e86-869f-b9a78de11a90"
      },
      "execution_count": null,
      "outputs": [
        {
          "output_type": "execute_result",
          "data": {
            "text/plain": [
              "0    0.0\n",
              "1    1.0\n",
              "2    1.0\n",
              "3    1.0\n",
              "4    0.0\n",
              "Name: Survived, dtype: float64"
            ]
          },
          "metadata": {},
          "execution_count": 235
        }
      ]
    },
    {
      "cell_type": "code",
      "source": [
        "from sklearn.model_selection import train_test_split\n",
        "X_tr, X_te, y_tr, y_te = train_test_split(X, y,\n",
        "                                          random_state=7,\n",
        "                                          shuffle=False,\n",
        "                                          train_size=891)"
      ],
      "metadata": {
        "id": "VgKQuadHv_Pf"
      },
      "execution_count": null,
      "outputs": []
    },
    {
      "cell_type": "code",
      "source": [
        "idx = X_te['PassengerId']\n",
        "idx[:5]"
      ],
      "metadata": {
        "colab": {
          "base_uri": "https://localhost:8080/"
        },
        "id": "UnYUBXXa0P9O",
        "outputId": "6a4b26be-93bc-4b57-a30a-87df3d20f6ed"
      },
      "execution_count": null,
      "outputs": [
        {
          "output_type": "execute_result",
          "data": {
            "text/plain": [
              "891    892\n",
              "892    893\n",
              "893    894\n",
              "894    895\n",
              "895    896\n",
              "Name: PassengerId, dtype: int64"
            ]
          },
          "metadata": {},
          "execution_count": 237
        }
      ]
    },
    {
      "cell_type": "code",
      "source": [
        "X_tr.shape, X_te.shape, y_tr.shape, y_te.shape"
      ],
      "metadata": {
        "id": "PhjN4U8Vw0zZ",
        "colab": {
          "base_uri": "https://localhost:8080/"
        },
        "outputId": "78d4eb1c-5270-4daf-be66-fe97f030dacd"
      },
      "execution_count": null,
      "outputs": [
        {
          "output_type": "execute_result",
          "data": {
            "text/plain": [
              "((891, 24), (418, 24), (891,), (418,))"
            ]
          },
          "metadata": {},
          "execution_count": 238
        }
      ]
    },
    {
      "cell_type": "code",
      "source": [
        "# 제대로 잘 나눠졌는지 확인\n",
        "y_te.isnull().sum()"
      ],
      "metadata": {
        "id": "WL9VJuarw6po",
        "colab": {
          "base_uri": "https://localhost:8080/"
        },
        "outputId": "e1398982-01ea-497c-aa4e-6f135e1d15a4"
      },
      "execution_count": null,
      "outputs": [
        {
          "output_type": "execute_result",
          "data": {
            "text/plain": [
              "418"
            ]
          },
          "metadata": {},
          "execution_count": 239
        }
      ]
    },
    {
      "cell_type": "code",
      "source": [
        "X_tr = X_tr.drop(columns='PassengerId')\n",
        "X_te = X_te.drop(columns='PassengerId')\n",
        "y_tr = y_tr.drop(columns='PassengerId')"
      ],
      "metadata": {
        "id": "xhmAubV73ShS"
      },
      "execution_count": null,
      "outputs": []
    },
    {
      "cell_type": "code",
      "source": [
        "feature_names = titanic_df.columns[2:]\n",
        "feature_names"
      ],
      "metadata": {
        "colab": {
          "base_uri": "https://localhost:8080/"
        },
        "id": "vnEjLux8-Zvi",
        "outputId": "e71a1988-6e86-4ac5-dab0-5d5148b97666"
      },
      "execution_count": null,
      "outputs": [
        {
          "output_type": "execute_result",
          "data": {
            "text/plain": [
              "Index(['Sex', 'Age', 'Ticketsize', 'Familysize', 'Pclass_1', 'Pclass_2',\n",
              "       'Pclass_3', 'embarked_C', 'embarked_Q', 'embarked_S', 'Cabin_A',\n",
              "       'Cabin_B', 'Cabin_C', 'Cabin_D', 'Cabin_E', 'Cabin_F', 'Cabin_G',\n",
              "       'Cabin_T', 'Title_1', 'Title_2', 'Title_3', 'Title_4', 'Title_5'],\n",
              "      dtype='object')"
            ]
          },
          "metadata": {},
          "execution_count": 241
        }
      ]
    },
    {
      "cell_type": "code",
      "source": [
        "tn = ['Victim',' Surviver']\n",
        "print(tn)"
      ],
      "metadata": {
        "colab": {
          "base_uri": "https://localhost:8080/"
        },
        "id": "1z_vlzr7ky6U",
        "outputId": "57cd7a87-2a9e-4105-faa9-eef2948b20f1"
      },
      "execution_count": null,
      "outputs": [
        {
          "output_type": "stream",
          "name": "stdout",
          "text": [
            "['Victim', ' Surviver']\n"
          ]
        }
      ]
    },
    {
      "cell_type": "markdown",
      "source": [
        "# 모델링"
      ],
      "metadata": {
        "id": "arPI0LHJxZsZ"
      }
    },
    {
      "cell_type": "code",
      "source": [
        "from sklearn.neighbors import KNeighborsClassifier\n",
        "from sklearn.tree import DecisionTreeClassifier, plot_tree\n",
        "from sklearn.ensemble import RandomForestClassifier\n",
        "from sklearn.naive_bayes import GaussianNB\n",
        "from sklearn.svm import SVC\n",
        "from sklearn.linear_model import LogisticRegression, SGDClassifier\n",
        "import xgboost as xgb\n",
        "from xgboost import XGBClassifier\n",
        "\n",
        "from sklearn.model_selection import GridSearchCV, cross_validate\n",
        "from sklearn.metrics import confusion_matrix, classification_report, accuracy_score\n",
        "from sklearn.ensemble import VotingClassifier"
      ],
      "metadata": {
        "id": "gbN31bYbw-oE"
      },
      "execution_count": null,
      "outputs": []
    },
    {
      "cell_type": "code",
      "source": [
        "knn = KNeighborsClassifier()\n",
        "dt = DecisionTreeClassifier()\n",
        "rf = RandomForestClassifier()\n",
        "gnb = GaussianNB()\n",
        "sgd = SGDClassifier(loss='log')\n",
        "svc = SVC(probability=True)\n",
        "lr = LogisticRegression()\n",
        "xgbc = XGBClassifier()\n",
        "\n",
        "models = [knn, dt, rf, gnb, sgd, svc, lr, xgbc]\n",
        "model_names = []\n",
        "train_score = []\n",
        "validation_score = []\n",
        "for m in models:\n",
        "    cv = cross_validate(estimator=m, X=X_tr, y=y_tr, n_jobs=-1, return_train_score=True)\n",
        "    train_score.append(np.mean(cv['train_score']))\n",
        "    validation_score.append(np.mean(cv['test_score']))\n",
        "    model_names.append(m.__class__.__name__)\n",
        "\n",
        "print(model_names)\n",
        "print(train_score)\n",
        "print(validation_score)"
      ],
      "metadata": {
        "id": "pHKL4i4aXrhD",
        "colab": {
          "base_uri": "https://localhost:8080/"
        },
        "outputId": "9b9d1def-c521-4e64-d959-399d04dc3ae7"
      },
      "execution_count": null,
      "outputs": [
        {
          "output_type": "stream",
          "name": "stdout",
          "text": [
            "['KNeighborsClassifier', 'DecisionTreeClassifier', 'RandomForestClassifier', 'GaussianNB', 'SGDClassifier', 'SVC', 'LogisticRegression', 'XGBClassifier']\n",
            "[0.8563393321461777, 0.9135820319271317, 0.9135820319271317, 0.7488799502024992, 0.7954437650692594, 0.834173928802181, 0.8423121168665396, 0.8641993791071119]\n",
            "[0.8058753373925052, 0.7935660033896177, 0.8081036971941498, 0.7418994413407821, 0.7789655388864478, 0.828253091456908, 0.830525390747599, 0.8327788588286987]\n"
          ]
        }
      ]
    },
    {
      "cell_type": "code",
      "source": [
        "models_df = pd.DataFrame({'Model Name' : model_names,\n",
        "                          'Train Accuracy' : train_score,\n",
        "                          'Validation Accuracy': validation_score})\n",
        "models_df.sort_values(by='Validation Accuracy', ascending=False)"
      ],
      "metadata": {
        "id": "Sy-OepNLanMl",
        "colab": {
          "base_uri": "https://localhost:8080/",
          "height": 300
        },
        "outputId": "442d4d72-e00f-4f96-8ca2-9e936bc6ea21"
      },
      "execution_count": null,
      "outputs": [
        {
          "output_type": "execute_result",
          "data": {
            "text/plain": [
              "               Model Name  Train Accuracy  Validation Accuracy\n",
              "7           XGBClassifier        0.864199             0.832779\n",
              "6      LogisticRegression        0.842312             0.830525\n",
              "5                     SVC        0.834174             0.828253\n",
              "2  RandomForestClassifier        0.913582             0.808104\n",
              "0    KNeighborsClassifier        0.856339             0.805875\n",
              "1  DecisionTreeClassifier        0.913582             0.793566\n",
              "4           SGDClassifier        0.795444             0.778966\n",
              "3              GaussianNB        0.748880             0.741899"
            ],
            "text/html": [
              "\n",
              "  <div id=\"df-4ff4007c-1010-4c53-a7b9-d8023543e053\">\n",
              "    <div class=\"colab-df-container\">\n",
              "      <div>\n",
              "<style scoped>\n",
              "    .dataframe tbody tr th:only-of-type {\n",
              "        vertical-align: middle;\n",
              "    }\n",
              "\n",
              "    .dataframe tbody tr th {\n",
              "        vertical-align: top;\n",
              "    }\n",
              "\n",
              "    .dataframe thead th {\n",
              "        text-align: right;\n",
              "    }\n",
              "</style>\n",
              "<table border=\"1\" class=\"dataframe\">\n",
              "  <thead>\n",
              "    <tr style=\"text-align: right;\">\n",
              "      <th></th>\n",
              "      <th>Model Name</th>\n",
              "      <th>Train Accuracy</th>\n",
              "      <th>Validation Accuracy</th>\n",
              "    </tr>\n",
              "  </thead>\n",
              "  <tbody>\n",
              "    <tr>\n",
              "      <th>7</th>\n",
              "      <td>XGBClassifier</td>\n",
              "      <td>0.864199</td>\n",
              "      <td>0.832779</td>\n",
              "    </tr>\n",
              "    <tr>\n",
              "      <th>6</th>\n",
              "      <td>LogisticRegression</td>\n",
              "      <td>0.842312</td>\n",
              "      <td>0.830525</td>\n",
              "    </tr>\n",
              "    <tr>\n",
              "      <th>5</th>\n",
              "      <td>SVC</td>\n",
              "      <td>0.834174</td>\n",
              "      <td>0.828253</td>\n",
              "    </tr>\n",
              "    <tr>\n",
              "      <th>2</th>\n",
              "      <td>RandomForestClassifier</td>\n",
              "      <td>0.913582</td>\n",
              "      <td>0.808104</td>\n",
              "    </tr>\n",
              "    <tr>\n",
              "      <th>0</th>\n",
              "      <td>KNeighborsClassifier</td>\n",
              "      <td>0.856339</td>\n",
              "      <td>0.805875</td>\n",
              "    </tr>\n",
              "    <tr>\n",
              "      <th>1</th>\n",
              "      <td>DecisionTreeClassifier</td>\n",
              "      <td>0.913582</td>\n",
              "      <td>0.793566</td>\n",
              "    </tr>\n",
              "    <tr>\n",
              "      <th>4</th>\n",
              "      <td>SGDClassifier</td>\n",
              "      <td>0.795444</td>\n",
              "      <td>0.778966</td>\n",
              "    </tr>\n",
              "    <tr>\n",
              "      <th>3</th>\n",
              "      <td>GaussianNB</td>\n",
              "      <td>0.748880</td>\n",
              "      <td>0.741899</td>\n",
              "    </tr>\n",
              "  </tbody>\n",
              "</table>\n",
              "</div>\n",
              "      <button class=\"colab-df-convert\" onclick=\"convertToInteractive('df-4ff4007c-1010-4c53-a7b9-d8023543e053')\"\n",
              "              title=\"Convert this dataframe to an interactive table.\"\n",
              "              style=\"display:none;\">\n",
              "        \n",
              "  <svg xmlns=\"http://www.w3.org/2000/svg\" height=\"24px\"viewBox=\"0 0 24 24\"\n",
              "       width=\"24px\">\n",
              "    <path d=\"M0 0h24v24H0V0z\" fill=\"none\"/>\n",
              "    <path d=\"M18.56 5.44l.94 2.06.94-2.06 2.06-.94-2.06-.94-.94-2.06-.94 2.06-2.06.94zm-11 1L8.5 8.5l.94-2.06 2.06-.94-2.06-.94L8.5 2.5l-.94 2.06-2.06.94zm10 10l.94 2.06.94-2.06 2.06-.94-2.06-.94-.94-2.06-.94 2.06-2.06.94z\"/><path d=\"M17.41 7.96l-1.37-1.37c-.4-.4-.92-.59-1.43-.59-.52 0-1.04.2-1.43.59L10.3 9.45l-7.72 7.72c-.78.78-.78 2.05 0 2.83L4 21.41c.39.39.9.59 1.41.59.51 0 1.02-.2 1.41-.59l7.78-7.78 2.81-2.81c.8-.78.8-2.07 0-2.86zM5.41 20L4 18.59l7.72-7.72 1.47 1.35L5.41 20z\"/>\n",
              "  </svg>\n",
              "      </button>\n",
              "      \n",
              "  <style>\n",
              "    .colab-df-container {\n",
              "      display:flex;\n",
              "      flex-wrap:wrap;\n",
              "      gap: 12px;\n",
              "    }\n",
              "\n",
              "    .colab-df-convert {\n",
              "      background-color: #E8F0FE;\n",
              "      border: none;\n",
              "      border-radius: 50%;\n",
              "      cursor: pointer;\n",
              "      display: none;\n",
              "      fill: #1967D2;\n",
              "      height: 32px;\n",
              "      padding: 0 0 0 0;\n",
              "      width: 32px;\n",
              "    }\n",
              "\n",
              "    .colab-df-convert:hover {\n",
              "      background-color: #E2EBFA;\n",
              "      box-shadow: 0px 1px 2px rgba(60, 64, 67, 0.3), 0px 1px 3px 1px rgba(60, 64, 67, 0.15);\n",
              "      fill: #174EA6;\n",
              "    }\n",
              "\n",
              "    [theme=dark] .colab-df-convert {\n",
              "      background-color: #3B4455;\n",
              "      fill: #D2E3FC;\n",
              "    }\n",
              "\n",
              "    [theme=dark] .colab-df-convert:hover {\n",
              "      background-color: #434B5C;\n",
              "      box-shadow: 0px 1px 3px 1px rgba(0, 0, 0, 0.15);\n",
              "      filter: drop-shadow(0px 1px 2px rgba(0, 0, 0, 0.3));\n",
              "      fill: #FFFFFF;\n",
              "    }\n",
              "  </style>\n",
              "\n",
              "      <script>\n",
              "        const buttonEl =\n",
              "          document.querySelector('#df-4ff4007c-1010-4c53-a7b9-d8023543e053 button.colab-df-convert');\n",
              "        buttonEl.style.display =\n",
              "          google.colab.kernel.accessAllowed ? 'block' : 'none';\n",
              "\n",
              "        async function convertToInteractive(key) {\n",
              "          const element = document.querySelector('#df-4ff4007c-1010-4c53-a7b9-d8023543e053');\n",
              "          const dataTable =\n",
              "            await google.colab.kernel.invokeFunction('convertToInteractive',\n",
              "                                                     [key], {});\n",
              "          if (!dataTable) return;\n",
              "\n",
              "          const docLinkHtml = 'Like what you see? Visit the ' +\n",
              "            '<a target=\"_blank\" href=https://colab.research.google.com/notebooks/data_table.ipynb>data table notebook</a>'\n",
              "            + ' to learn more about interactive tables.';\n",
              "          element.innerHTML = '';\n",
              "          dataTable['output_type'] = 'display_data';\n",
              "          await google.colab.output.renderOutput(dataTable, element);\n",
              "          const docLink = document.createElement('div');\n",
              "          docLink.innerHTML = docLinkHtml;\n",
              "          element.appendChild(docLink);\n",
              "        }\n",
              "      </script>\n",
              "    </div>\n",
              "  </div>\n",
              "  "
            ]
          },
          "metadata": {},
          "execution_count": 245
        }
      ]
    },
    {
      "cell_type": "markdown",
      "source": [
        "* DecisionTree와 Random Forest의 훈련 셋 결과가 좋고 XGB와 LogisticRegression, SVC가 Validation 셋에서 좋은 결과를 보여주고 있기 때문에 이 다섯개의 모델로 GridsearchCV를 해보려고 한다. "
      ],
      "metadata": {
        "id": "Bpij_Zi1csI6"
      }
    },
    {
      "cell_type": "markdown",
      "source": [
        "## Decision Tree"
      ],
      "metadata": {
        "id": "NLXNTtpHf3Ea"
      }
    },
    {
      "cell_type": "code",
      "source": [
        "params = {'splitter': ['best','random'],\n",
        "          'max_depth':np.arange(2, 15),\n",
        "          'min_samples_split':np.arange(2, 20, 2),\n",
        "          'max_features': ['auto', 'sqrt', 'log2']}\n",
        "dt = DecisionTreeClassifier()\n",
        "grid_dt = GridSearchCV(estimator=dt, param_grid=params, n_jobs=-1)"
      ],
      "metadata": {
        "id": "etXuJ-WEXP2q"
      },
      "execution_count": null,
      "outputs": []
    },
    {
      "cell_type": "code",
      "source": [
        "grid_dt.fit(X_tr, y_tr)"
      ],
      "metadata": {
        "colab": {
          "base_uri": "https://localhost:8080/"
        },
        "id": "QgvSbjq9JNGk",
        "outputId": "afdc5c54-44ce-4623-debd-a64a612120ab"
      },
      "execution_count": null,
      "outputs": [
        {
          "output_type": "execute_result",
          "data": {
            "text/plain": [
              "GridSearchCV(estimator=DecisionTreeClassifier(), n_jobs=-1,\n",
              "             param_grid={'max_depth': array([ 2,  3,  4,  5,  6,  7,  8,  9, 10, 11, 12, 13, 14]),\n",
              "                         'max_features': ['auto', 'sqrt', 'log2'],\n",
              "                         'min_samples_split': array([ 2,  4,  6,  8, 10, 12, 14, 16, 18]),\n",
              "                         'splitter': ['best', 'random']})"
            ]
          },
          "metadata": {},
          "execution_count": 298
        }
      ]
    },
    {
      "cell_type": "code",
      "source": [
        "grid_dt.best_params_"
      ],
      "metadata": {
        "colab": {
          "base_uri": "https://localhost:8080/"
        },
        "id": "UWM3QKvEJR7y",
        "outputId": "e7e7a552-3012-49b1-890d-0ea9bfcfdde3"
      },
      "execution_count": null,
      "outputs": [
        {
          "output_type": "execute_result",
          "data": {
            "text/plain": [
              "{'max_depth': 8,\n",
              " 'max_features': 'auto',\n",
              " 'min_samples_split': 12,\n",
              " 'splitter': 'best'}"
            ]
          },
          "metadata": {},
          "execution_count": 299
        }
      ]
    },
    {
      "cell_type": "code",
      "source": [
        "grid_dt.best_score_"
      ],
      "metadata": {
        "colab": {
          "base_uri": "https://localhost:8080/"
        },
        "id": "vrigOBqKKrAT",
        "outputId": "d8113e8c-af23-4614-e86b-e178b504dd63"
      },
      "execution_count": null,
      "outputs": [
        {
          "output_type": "execute_result",
          "data": {
            "text/plain": [
              "0.8282781997363632"
            ]
          },
          "metadata": {},
          "execution_count": 300
        }
      ]
    },
    {
      "cell_type": "code",
      "source": [
        "best_grid_dt = grid_dt.best_estimator_\n",
        "best_grid_dt"
      ],
      "metadata": {
        "colab": {
          "base_uri": "https://localhost:8080/"
        },
        "id": "g-FMcRgjJapD",
        "outputId": "ed5f6a5b-a385-49aa-864f-b5ecfbbffe56"
      },
      "execution_count": null,
      "outputs": [
        {
          "output_type": "execute_result",
          "data": {
            "text/plain": [
              "DecisionTreeClassifier(max_depth=8, max_features='auto', min_samples_split=12)"
            ]
          },
          "metadata": {},
          "execution_count": 301
        }
      ]
    },
    {
      "cell_type": "code",
      "source": [
        "te_pred_dt = best_grid_dt.predict(X_te)\n",
        "te_pred_dt[:5]"
      ],
      "metadata": {
        "colab": {
          "base_uri": "https://localhost:8080/"
        },
        "id": "Y3HxSwq-Ryiq",
        "outputId": "e81543f6-83e2-4346-dd11-324d69002e5f"
      },
      "execution_count": null,
      "outputs": [
        {
          "output_type": "execute_result",
          "data": {
            "text/plain": [
              "array([0., 0., 0., 0., 1.])"
            ]
          },
          "metadata": {},
          "execution_count": 302
        }
      ]
    },
    {
      "cell_type": "code",
      "source": [
        "plt.figure(figsize=(40,12))\n",
        "plot_tree(best_grid_dt, max_depth=4, filled=True, feature_names=feature_names, class_names=tn)\n",
        "plt.show()"
      ],
      "metadata": {
        "colab": {
          "base_uri": "https://localhost:8080/",
          "height": 651
        },
        "id": "UfSQq4wkaCnE",
        "outputId": "922d3d56-4592-4c97-94e6-9cf309dd161f"
      },
      "execution_count": null,
      "outputs": [
        {
          "output_type": "display_data",
          "data": {
            "text/plain": [
              "<Figure size 2880x864 with 1 Axes>"
            ],
            "image/png": "[encoded data removed]"
          },
          "metadata": {
            "needs_background": "light"
          }
        }
      ]
    },
    {
      "cell_type": "markdown",
      "source": [
        "![KakaoTalk_20220625_165312482.png](data:image/png;base64,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)"
      ],
      "metadata": {
        "id": "SpCsKdo4yMuf"
      }
    },
    {
      "cell_type": "markdown",
      "source": [
        "## Random Forest"
      ],
      "metadata": {
        "id": "4cCM3gZqonCn"
      }
    },
    {
      "cell_type": "code",
      "source": [
        "params = {'n_estimators': np.arange(30, 70, 10),\n",
        "          'max_depth':np.arange(2, 10),\n",
        "          'min_samples_split':np.arange(10, 20, 2),\n",
        "          'max_features': ['sqrt', 'log2', None]}\n",
        "rf = RandomForestClassifier()\n",
        "grid_rf = GridSearchCV(estimator=rf, param_grid=params, n_jobs=-1)"
      ],
      "metadata": {
        "id": "whbOLAiEft_T"
      },
      "execution_count": null,
      "outputs": []
    },
    {
      "cell_type": "code",
      "source": [
        "grid_rf.fit(X_tr, y_tr)"
      ],
      "metadata": {
        "colab": {
          "base_uri": "https://localhost:8080/"
        },
        "id": "2uBU5FH_ihQ7",
        "outputId": "88ab9b81-296c-4506-dc45-ab491de8326b"
      },
      "execution_count": null,
      "outputs": [
        {
          "output_type": "execute_result",
          "data": {
            "text/plain": [
              "GridSearchCV(estimator=RandomForestClassifier(), n_jobs=-1,\n",
              "             param_grid={'max_depth': array([2, 3, 4, 5, 6, 7, 8, 9]),\n",
              "                         'max_features': ['sqrt', 'log2', None],\n",
              "                         'min_samples_split': array([10, 12, 14, 16, 18]),\n",
              "                         'n_estimators': array([30, 40, 50, 60])})"
            ]
          },
          "metadata": {},
          "execution_count": 254
        }
      ]
    },
    {
      "cell_type": "code",
      "source": [
        "grid_rf.best_params_"
      ],
      "metadata": {
        "colab": {
          "base_uri": "https://localhost:8080/"
        },
        "id": "NPgBQYZUlExy",
        "outputId": "7bbec844-2550-44df-9feb-37009d27ea66"
      },
      "execution_count": null,
      "outputs": [
        {
          "output_type": "execute_result",
          "data": {
            "text/plain": [
              "{'max_depth': 7,\n",
              " 'max_features': 'log2',\n",
              " 'min_samples_split': 14,\n",
              " 'n_estimators': 30}"
            ]
          },
          "metadata": {},
          "execution_count": 255
        }
      ]
    },
    {
      "cell_type": "code",
      "source": [
        "grid_rf.best_score_"
      ],
      "metadata": {
        "colab": {
          "base_uri": "https://localhost:8080/"
        },
        "id": "zCPc_GPZoFGq",
        "outputId": "12ec0328-d4d3-4e2a-f652-2a7b0af924a4"
      },
      "execution_count": null,
      "outputs": [
        {
          "output_type": "execute_result",
          "data": {
            "text/plain": [
              "0.8361245370660976"
            ]
          },
          "metadata": {},
          "execution_count": 256
        }
      ]
    },
    {
      "cell_type": "code",
      "source": [
        "best_grid_rf = grid_rf.best_estimator_\n",
        "best_grid_rf"
      ],
      "metadata": {
        "colab": {
          "base_uri": "https://localhost:8080/"
        },
        "id": "g79sE-BSoIsK",
        "outputId": "d89f60cb-6749-41dd-8345-ea40a6ac1ab0"
      },
      "execution_count": null,
      "outputs": [
        {
          "output_type": "execute_result",
          "data": {
            "text/plain": [
              "RandomForestClassifier(max_depth=7, max_features='log2', min_samples_split=14,\n",
              "                       n_estimators=30)"
            ]
          },
          "metadata": {},
          "execution_count": 257
        }
      ]
    },
    {
      "cell_type": "code",
      "source": [
        "te_pred_rf = best_grid_rf.predict(X_te)\n",
        "te_pred_rf[:5]"
      ],
      "metadata": {
        "colab": {
          "base_uri": "https://localhost:8080/"
        },
        "id": "0pv8mdx2oSR7",
        "outputId": "1fc57c62-2eb7-4f2a-c370-6a12560b4aba"
      },
      "execution_count": null,
      "outputs": [
        {
          "output_type": "execute_result",
          "data": {
            "text/plain": [
              "array([0., 1., 0., 0., 1.])"
            ]
          },
          "metadata": {},
          "execution_count": 258
        }
      ]
    },
    {
      "cell_type": "markdown",
      "source": [
        "![randomforest.png](data:image/png;base64,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)"
      ],
      "metadata": {
        "id": "HAwX8LMj5ejC"
      }
    },
    {
      "cell_type": "markdown",
      "source": [
        "## XGBoost"
      ],
      "metadata": {
        "id": "icRBl-2bBb_F"
      }
    },
    {
      "cell_type": "code",
      "source": [
        "params = {'max_depth':np.arange(1,6),\n",
        "          'learning_rate': [0.05, 0.1, 0.15],\n",
        "          'n_estimator': np.arange(1, 10)}\n",
        "xgb_clf = XGBClassifier()\n",
        "grid_xgb = GridSearchCV(estimator=xgb_clf, param_grid=params, n_jobs=-1)"
      ],
      "metadata": {
        "id": "E0X8yTvABerK"
      },
      "execution_count": null,
      "outputs": []
    },
    {
      "cell_type": "code",
      "source": [
        "grid_xgb.fit(X_tr, y_tr)"
      ],
      "metadata": {
        "colab": {
          "base_uri": "https://localhost:8080/"
        },
        "id": "5mbD2UpvMSPi",
        "outputId": "90e19df3-9ed0-4fb0-a84d-a9cdf352275d"
      },
      "execution_count": null,
      "outputs": [
        {
          "output_type": "execute_result",
          "data": {
            "text/plain": [
              "GridSearchCV(estimator=XGBClassifier(), n_jobs=-1,\n",
              "             param_grid={'learning_rate': [0.05, 0.1, 0.15],\n",
              "                         'max_depth': array([1, 2, 3, 4, 5]),\n",
              "                         'n_estimator': array([1, 2, 3, 4, 5, 6, 7, 8, 9])})"
            ]
          },
          "metadata": {},
          "execution_count": 260
        }
      ]
    },
    {
      "cell_type": "code",
      "source": [
        "grid_xgb.best_score_"
      ],
      "metadata": {
        "colab": {
          "base_uri": "https://localhost:8080/"
        },
        "id": "bu9i9oZfOWOO",
        "outputId": "266618de-e086-46bf-c1bc-2cb21fe6ccab"
      },
      "execution_count": null,
      "outputs": [
        {
          "output_type": "execute_result",
          "data": {
            "text/plain": [
              "0.8327788588286987"
            ]
          },
          "metadata": {},
          "execution_count": 261
        }
      ]
    },
    {
      "cell_type": "code",
      "source": [
        "grid_xgb.best_params_"
      ],
      "metadata": {
        "colab": {
          "base_uri": "https://localhost:8080/"
        },
        "id": "QuHWlbPGOZxC",
        "outputId": "47c12f17-a9e9-4776-9897-164d7aa6b787"
      },
      "execution_count": null,
      "outputs": [
        {
          "output_type": "execute_result",
          "data": {
            "text/plain": [
              "{'learning_rate': 0.1, 'max_depth': 3, 'n_estimator': 1}"
            ]
          },
          "metadata": {},
          "execution_count": 262
        }
      ]
    },
    {
      "cell_type": "code",
      "source": [
        "best_grid_xgb = grid_xgb.best_estimator_\n",
        "best_grid_xgb"
      ],
      "metadata": {
        "colab": {
          "base_uri": "https://localhost:8080/"
        },
        "id": "1sq5GY_NWhaU",
        "outputId": "93b1836e-6708-4900-a56e-5ec20b047647"
      },
      "execution_count": null,
      "outputs": [
        {
          "output_type": "execute_result",
          "data": {
            "text/plain": [
              "XGBClassifier(n_estimator=1)"
            ]
          },
          "metadata": {},
          "execution_count": 263
        }
      ]
    },
    {
      "cell_type": "code",
      "source": [
        "te_pred_xgb = best_grid_xgb.predict(X_te)\n",
        "te_pred_xgb[:5]"
      ],
      "metadata": {
        "colab": {
          "base_uri": "https://localhost:8080/"
        },
        "id": "LMC60-obPgSS",
        "outputId": "e361e267-3ae8-48bd-876d-70277d0cbdff"
      },
      "execution_count": null,
      "outputs": [
        {
          "output_type": "execute_result",
          "data": {
            "text/plain": [
              "array([0., 1., 0., 0., 1.])"
            ]
          },
          "metadata": {},
          "execution_count": 264
        }
      ]
    },
    {
      "cell_type": "markdown",
      "source": [
        "![xgb.png](data:image/png;base64,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)"
      ],
      "metadata": {
        "id": "4u_hUuTnYMnw"
      }
    },
    {
      "cell_type": "markdown",
      "source": [
        "## Logistic Regression"
      ],
      "metadata": {
        "id": "nizZpCW3Px0r"
      }
    },
    {
      "cell_type": "code",
      "source": [
        "params = {'penalty':['l1', 'l2', 'elasticnet', 'none'],\n",
        "          'C' : [0.1, 0.2, 0.3, 0.4, 0.5],\n",
        "          'solver':['newton-cg', 'lbfgs', 'liblinear', 'sag', 'saga'],\n",
        "          'max_iter': [30, 40, 50, 60]}\n",
        "logistic = LogisticRegression(n_jobs=-1)\n",
        "grid_logistic = GridSearchCV(estimator=logistic, param_grid=params, n_jobs=-1)"
      ],
      "metadata": {
        "id": "kB1Tu7M_Pwur"
      },
      "execution_count": null,
      "outputs": []
    },
    {
      "cell_type": "code",
      "source": [
        "grid_logistic.fit(X_tr, y_tr)"
      ],
      "metadata": {
        "colab": {
          "base_uri": "https://localhost:8080/"
        },
        "id": "TMdOn9aWRuei",
        "outputId": "553957ba-b39b-407e-b9b0-92cb4f126204"
      },
      "execution_count": null,
      "outputs": [
        {
          "output_type": "stream",
          "name": "stderr",
          "text": [
            "/usr/local/lib/python3.7/dist-packages/sklearn/model_selection/_validation.py:372: FitFailedWarning: \n",
            "900 fits failed out of a total of 2000.\n",
            "The score on these train-test partitions for these parameters will be set to nan.\n",
            "If these failures are not expected, you can try to debug them by setting error_score='raise'.\n",
            "\n",
            "Below are more details about the failures:\n",
            "--------------------------------------------------------------------------------\n",
            "100 fits failed with the following error:\n",
            "Traceback (most recent call last):\n",
            "  File \"/usr/local/lib/python3.7/dist-packages/sklearn/model_selection/_validation.py\", line 680, in _fit_and_score\n",
            "    estimator.fit(X_train, y_train, **fit_params)\n",
            "  File \"/usr/local/lib/python3.7/dist-packages/sklearn/linear_model/_logistic.py\", line 1461, in fit\n",
            "    solver = _check_solver(self.solver, self.penalty, self.dual)\n",
            "  File \"/usr/local/lib/python3.7/dist-packages/sklearn/linear_model/_logistic.py\", line 449, in _check_solver\n",
            "    % (solver, penalty)\n",
            "ValueError: Solver newton-cg supports only 'l2' or 'none' penalties, got l1 penalty.\n",
            "\n",
            "--------------------------------------------------------------------------------\n",
            "100 fits failed with the following error:\n",
            "Traceback (most recent call last):\n",
            "  File \"/usr/local/lib/python3.7/dist-packages/sklearn/model_selection/_validation.py\", line 680, in _fit_and_score\n",
            "    estimator.fit(X_train, y_train, **fit_params)\n",
            "  File \"/usr/local/lib/python3.7/dist-packages/sklearn/linear_model/_logistic.py\", line 1461, in fit\n",
            "    solver = _check_solver(self.solver, self.penalty, self.dual)\n",
            "  File \"/usr/local/lib/python3.7/dist-packages/sklearn/linear_model/_logistic.py\", line 449, in _check_solver\n",
            "    % (solver, penalty)\n",
            "ValueError: Solver lbfgs supports only 'l2' or 'none' penalties, got l1 penalty.\n",
            "\n",
            "--------------------------------------------------------------------------------\n",
            "100 fits failed with the following error:\n",
            "Traceback (most recent call last):\n",
            "  File \"/usr/local/lib/python3.7/dist-packages/sklearn/model_selection/_validation.py\", line 680, in _fit_and_score\n",
            "    estimator.fit(X_train, y_train, **fit_params)\n",
            "  File \"/usr/local/lib/python3.7/dist-packages/sklearn/linear_model/_logistic.py\", line 1461, in fit\n",
            "    solver = _check_solver(self.solver, self.penalty, self.dual)\n",
            "  File \"/usr/local/lib/python3.7/dist-packages/sklearn/linear_model/_logistic.py\", line 449, in _check_solver\n",
            "    % (solver, penalty)\n",
            "ValueError: Solver sag supports only 'l2' or 'none' penalties, got l1 penalty.\n",
            "\n",
            "--------------------------------------------------------------------------------\n",
            "100 fits failed with the following error:\n",
            "Traceback (most recent call last):\n",
            "  File \"/usr/local/lib/python3.7/dist-packages/sklearn/model_selection/_validation.py\", line 680, in _fit_and_score\n",
            "    estimator.fit(X_train, y_train, **fit_params)\n",
            "  File \"/usr/local/lib/python3.7/dist-packages/sklearn/linear_model/_logistic.py\", line 1461, in fit\n",
            "    solver = _check_solver(self.solver, self.penalty, self.dual)\n",
            "  File \"/usr/local/lib/python3.7/dist-packages/sklearn/linear_model/_logistic.py\", line 449, in _check_solver\n",
            "    % (solver, penalty)\n",
            "ValueError: Solver newton-cg supports only 'l2' or 'none' penalties, got elasticnet penalty.\n",
            "\n",
            "--------------------------------------------------------------------------------\n",
            "100 fits failed with the following error:\n",
            "Traceback (most recent call last):\n",
            "  File \"/usr/local/lib/python3.7/dist-packages/sklearn/model_selection/_validation.py\", line 680, in _fit_and_score\n",
            "    estimator.fit(X_train, y_train, **fit_params)\n",
            "  File \"/usr/local/lib/python3.7/dist-packages/sklearn/linear_model/_logistic.py\", line 1461, in fit\n",
            "    solver = _check_solver(self.solver, self.penalty, self.dual)\n",
            "  File \"/usr/local/lib/python3.7/dist-packages/sklearn/linear_model/_logistic.py\", line 449, in _check_solver\n",
            "    % (solver, penalty)\n",
            "ValueError: Solver lbfgs supports only 'l2' or 'none' penalties, got elasticnet penalty.\n",
            "\n",
            "--------------------------------------------------------------------------------\n",
            "100 fits failed with the following error:\n",
            "Traceback (most recent call last):\n",
            "  File \"/usr/local/lib/python3.7/dist-packages/sklearn/model_selection/_validation.py\", line 680, in _fit_and_score\n",
            "    estimator.fit(X_train, y_train, **fit_params)\n",
            "  File \"/usr/local/lib/python3.7/dist-packages/sklearn/linear_model/_logistic.py\", line 1461, in fit\n",
            "    solver = _check_solver(self.solver, self.penalty, self.dual)\n",
            "  File \"/usr/local/lib/python3.7/dist-packages/sklearn/linear_model/_logistic.py\", line 459, in _check_solver\n",
            "    solver\n",
            "ValueError: Only 'saga' solver supports elasticnet penalty, got solver=liblinear.\n",
            "\n",
            "--------------------------------------------------------------------------------\n",
            "100 fits failed with the following error:\n",
            "Traceback (most recent call last):\n",
            "  File \"/usr/local/lib/python3.7/dist-packages/sklearn/model_selection/_validation.py\", line 680, in _fit_and_score\n",
            "    estimator.fit(X_train, y_train, **fit_params)\n",
            "  File \"/usr/local/lib/python3.7/dist-packages/sklearn/linear_model/_logistic.py\", line 1461, in fit\n",
            "    solver = _check_solver(self.solver, self.penalty, self.dual)\n",
            "  File \"/usr/local/lib/python3.7/dist-packages/sklearn/linear_model/_logistic.py\", line 449, in _check_solver\n",
            "    % (solver, penalty)\n",
            "ValueError: Solver sag supports only 'l2' or 'none' penalties, got elasticnet penalty.\n",
            "\n",
            "--------------------------------------------------------------------------------\n",
            "100 fits failed with the following error:\n",
            "Traceback (most recent call last):\n",
            "  File \"/usr/local/lib/python3.7/dist-packages/sklearn/model_selection/_validation.py\", line 680, in _fit_and_score\n",
            "    estimator.fit(X_train, y_train, **fit_params)\n",
            "  File \"/usr/local/lib/python3.7/dist-packages/sklearn/linear_model/_logistic.py\", line 1473, in fit\n",
            "    % self.l1_ratio\n",
            "ValueError: l1_ratio must be between 0 and 1; got (l1_ratio=None)\n",
            "\n",
            "--------------------------------------------------------------------------------\n",
            "100 fits failed with the following error:\n",
            "Traceback (most recent call last):\n",
            "  File \"/usr/local/lib/python3.7/dist-packages/sklearn/model_selection/_validation.py\", line 680, in _fit_and_score\n",
            "    estimator.fit(X_train, y_train, **fit_params)\n",
            "  File \"/usr/local/lib/python3.7/dist-packages/sklearn/linear_model/_logistic.py\", line 1461, in fit\n",
            "    solver = _check_solver(self.solver, self.penalty, self.dual)\n",
            "  File \"/usr/local/lib/python3.7/dist-packages/sklearn/linear_model/_logistic.py\", line 464, in _check_solver\n",
            "    raise ValueError(\"penalty='none' is not supported for the liblinear solver\")\n",
            "ValueError: penalty='none' is not supported for the liblinear solver\n",
            "\n",
            "  warnings.warn(some_fits_failed_message, FitFailedWarning)\n",
            "/usr/local/lib/python3.7/dist-packages/sklearn/model_selection/_search.py:972: UserWarning: One or more of the test scores are non-finite: [       nan        nan 0.79571904        nan 0.80469525 0.82490741\n",
            " 0.82490741 0.82489486 0.82490741 0.82490741        nan        nan\n",
            "        nan        nan        nan 0.82491369 0.82491997        nan\n",
            " 0.82379009 0.82828448        nan        nan 0.79571904        nan\n",
            " 0.80806603 0.82490741 0.82490741 0.82489486 0.82490741 0.82490741\n",
            "        nan        nan        nan        nan        nan 0.82491369\n",
            " 0.82379009        nan 0.82379009 0.82603729        nan        nan\n",
            " 0.79795368        nan 0.80806603 0.82490741 0.82490741 0.82489486\n",
            " 0.82490741 0.82490741        nan        nan        nan        nan\n",
            "        nan 0.82491369 0.82491369        nan 0.82379009 0.82603729\n",
            "        nan        nan 0.79571904        nan 0.80806603 0.82490741\n",
            " 0.82490741 0.82489486 0.82490741 0.82490741        nan        nan\n",
            "        nan        nan        nan 0.82491369 0.82603729        nan\n",
            " 0.82379009 0.82491369        nan        nan 0.81927688        nan\n",
            " 0.81591865 0.83051911 0.83051911 0.82826565 0.83163643 0.83051284\n",
            "        nan        nan        nan        nan        nan 0.82491369\n",
            " 0.82491997        nan 0.82491369 0.82828448        nan        nan\n",
            " 0.81927688        nan 0.81704224 0.83051911 0.83163643 0.82826565\n",
            " 0.83163643 0.83163643        nan        nan        nan        nan\n",
            "        nan 0.82491369 0.82379009        nan 0.82379009 0.82603729\n",
            "        nan        nan 0.81927688        nan 0.81704224 0.83051911\n",
            " 0.83051911 0.82826565 0.83163643 0.83163643        nan        nan\n",
            "        nan        nan        nan 0.82491369 0.82491369        nan\n",
            " 0.82379009 0.82603729        nan        nan 0.81927688        nan\n",
            " 0.81704224 0.83051911 0.83051911 0.82826565 0.83163643 0.83163643\n",
            "        nan        nan        nan        nan        nan 0.82491369\n",
            " 0.82603729        nan 0.82379009 0.82491369        nan        nan\n",
            " 0.82152407        nan 0.82265395 0.83277258 0.83164271 0.82939552\n",
            " 0.8338899  0.8327663         nan        nan        nan        nan\n",
            "        nan 0.82491369 0.82491997        nan 0.82379009 0.82603729\n",
            "        nan        nan 0.82152407        nan 0.82377754 0.83277258\n",
            " 0.83164899 0.82939552 0.83277258 0.8327663         nan        nan\n",
            "        nan        nan        nan 0.82491369 0.82379009        nan\n",
            " 0.82379009 0.82603729        nan        nan 0.82152407        nan\n",
            " 0.82377754 0.83277258 0.83277258 0.82939552 0.83277258 0.8338899\n",
            "        nan        nan        nan        nan        nan 0.82491369\n",
            " 0.82491369        nan 0.82379009 0.82603729        nan        nan\n",
            " 0.82152407        nan 0.82377754 0.83277258 0.83277258 0.82939552\n",
            " 0.83277258 0.8338899         nan        nan        nan        nan\n",
            "        nan 0.82491369 0.82603729        nan 0.82379009 0.82491369\n",
            "        nan        nan 0.82490114        nan 0.82378382 0.83389618\n",
            " 0.83164271 0.83051911 0.8350135  0.8338899         nan        nan\n",
            "        nan        nan        nan 0.82491369 0.82491997        nan\n",
            " 0.82379009 0.82716088        nan        nan 0.82490114        nan\n",
            " 0.82378382 0.83389618 0.83613709 0.83051911 0.83389618 0.8350135\n",
            "        nan        nan        nan        nan        nan 0.82491369\n",
            " 0.82379009        nan 0.82379009 0.82603729        nan        nan\n",
            " 0.82490114        nan 0.82378382 0.83389618 0.83389618 0.83051911\n",
            " 0.83389618 0.8350135         nan        nan        nan        nan\n",
            "        nan 0.82491369 0.82491369        nan 0.82379009 0.82603729\n",
            "        nan        nan 0.82490114        nan 0.82490741 0.83389618\n",
            " 0.83389618 0.83051911 0.83389618 0.8350135         nan        nan\n",
            "        nan        nan        nan 0.82491369 0.82603729        nan\n",
            " 0.82379009 0.82491369        nan        nan 0.83051284        nan\n",
            " 0.82827192 0.8327663  0.83276003 0.83051911 0.8327663  0.8338899\n",
            "        nan        nan        nan        nan        nan 0.82491369\n",
            " 0.82491997        nan 0.82379009 0.82716088        nan        nan\n",
            " 0.83051284        nan 0.8282782  0.8327663  0.8338899  0.83051911\n",
            " 0.8327663  0.8338899         nan        nan        nan        nan\n",
            "        nan 0.82491369 0.82379009        nan 0.82379009 0.82603729\n",
            "        nan        nan 0.83051284        nan 0.82827192 0.8327663\n",
            " 0.8327663  0.83051911 0.8327663  0.8327663         nan        nan\n",
            "        nan        nan        nan 0.82491369 0.82491369        nan\n",
            " 0.82379009 0.82603729        nan        nan 0.83051284        nan\n",
            " 0.82827192 0.8327663  0.8327663  0.83051911 0.8327663  0.8327663\n",
            "        nan        nan        nan        nan        nan 0.82491369\n",
            " 0.82603729        nan 0.82379009 0.82491369]\n",
            "  category=UserWarning,\n"
          ]
        },
        {
          "output_type": "execute_result",
          "data": {
            "text/plain": [
              "GridSearchCV(estimator=LogisticRegression(n_jobs=-1), n_jobs=-1,\n",
              "             param_grid={'C': [0.1, 0.2, 0.3, 0.4, 0.5],\n",
              "                         'max_iter': [30, 40, 50, 60],\n",
              "                         'penalty': ['l1', 'l2', 'elasticnet', 'none'],\n",
              "                         'solver': ['newton-cg', 'lbfgs', 'liblinear', 'sag',\n",
              "                                    'saga']})"
            ]
          },
          "metadata": {},
          "execution_count": 266
        }
      ]
    },
    {
      "cell_type": "code",
      "source": [
        "grid_logistic.best_params_"
      ],
      "metadata": {
        "colab": {
          "base_uri": "https://localhost:8080/"
        },
        "id": "6TQ0Ze5DSZDi",
        "outputId": "e0d68147-b709-477d-8679-3ca7ee98697c"
      },
      "execution_count": null,
      "outputs": [
        {
          "output_type": "execute_result",
          "data": {
            "text/plain": [
              "{'C': 0.4, 'max_iter': 40, 'penalty': 'l2', 'solver': 'lbfgs'}"
            ]
          },
          "metadata": {},
          "execution_count": 267
        }
      ]
    },
    {
      "cell_type": "code",
      "source": [
        "grid_logistic.best_score_"
      ],
      "metadata": {
        "colab": {
          "base_uri": "https://localhost:8080/"
        },
        "id": "FXsgzuhNSY-J",
        "outputId": "b4859ef4-1702-4620-e161-875f0eda5d88"
      },
      "execution_count": null,
      "outputs": [
        {
          "output_type": "execute_result",
          "data": {
            "text/plain": [
              "0.8361370912058252"
            ]
          },
          "metadata": {},
          "execution_count": 268
        }
      ]
    },
    {
      "cell_type": "code",
      "source": [
        "best_grid_logistic = grid_logistic.best_estimator_\n",
        "best_grid_logistic"
      ],
      "metadata": {
        "colab": {
          "base_uri": "https://localhost:8080/"
        },
        "id": "zqnI2N-QWy0V",
        "outputId": "af79ee5f-d343-41af-910c-fcdefb65a80c"
      },
      "execution_count": null,
      "outputs": [
        {
          "output_type": "execute_result",
          "data": {
            "text/plain": [
              "LogisticRegression(C=0.4, max_iter=40, n_jobs=-1)"
            ]
          },
          "metadata": {},
          "execution_count": 269
        }
      ]
    },
    {
      "cell_type": "code",
      "source": [
        "te_pred_logistic = best_grid_logistic.predict(X_te)\n",
        "te_pred_logistic[:5]"
      ],
      "metadata": {
        "colab": {
          "base_uri": "https://localhost:8080/"
        },
        "id": "WSWRhKKCTOPd",
        "outputId": "3c3b875c-7eed-4308-c412-34d60aa49d29"
      },
      "execution_count": null,
      "outputs": [
        {
          "output_type": "execute_result",
          "data": {
            "text/plain": [
              "array([0., 1., 0., 0., 1.])"
            ]
          },
          "metadata": {},
          "execution_count": 270
        }
      ]
    },
    {
      "cell_type": "markdown",
      "source": [
        "## SVC"
      ],
      "metadata": {
        "id": "mIVbxQ4WTg6Z"
      }
    },
    {
      "cell_type": "code",
      "source": [
        "params = {'C':[2.0, 2.5, 3.0, 3.5, 4.0, 4.5, 5.0],\n",
        "          'kernel':['linear', 'poly', 'rbf', 'sigmoid'],\n",
        "          'gamma':['scale', 'auto']}\n",
        "svm = SVC()\n",
        "grid_svc = GridSearchCV(estimator=svm, param_grid=params, n_jobs=-1)"
      ],
      "metadata": {
        "id": "-DZVSYRPTgXS"
      },
      "execution_count": null,
      "outputs": []
    },
    {
      "cell_type": "code",
      "source": [
        "grid_svc.fit(X_tr, y_tr)"
      ],
      "metadata": {
        "colab": {
          "base_uri": "https://localhost:8080/"
        },
        "id": "5IupMnrOU1Da",
        "outputId": "a464635d-abe9-4607-c778-35725914d582"
      },
      "execution_count": null,
      "outputs": [
        {
          "output_type": "execute_result",
          "data": {
            "text/plain": [
              "GridSearchCV(estimator=SVC(), n_jobs=-1,\n",
              "             param_grid={'C': [2.0, 2.5, 3.0, 3.5, 4.0, 4.5, 5.0],\n",
              "                         'gamma': ['scale', 'auto'],\n",
              "                         'kernel': ['linear', 'poly', 'rbf', 'sigmoid']})"
            ]
          },
          "metadata": {},
          "execution_count": 272
        }
      ]
    },
    {
      "cell_type": "code",
      "source": [
        "grid_svc.best_params_"
      ],
      "metadata": {
        "colab": {
          "base_uri": "https://localhost:8080/"
        },
        "id": "pHiS_O27Ve_B",
        "outputId": "7673d420-0a9c-4e27-d545-e7c00f58f263"
      },
      "execution_count": null,
      "outputs": [
        {
          "output_type": "execute_result",
          "data": {
            "text/plain": [
              "{'C': 3.0, 'gamma': 'scale', 'kernel': 'rbf'}"
            ]
          },
          "metadata": {},
          "execution_count": 273
        }
      ]
    },
    {
      "cell_type": "code",
      "source": [
        "grid_svc.best_score_"
      ],
      "metadata": {
        "colab": {
          "base_uri": "https://localhost:8080/"
        },
        "id": "TDqBZOL1V-gp",
        "outputId": "4344802b-9e1c-429c-a383-0ccf9f3810f9"
      },
      "execution_count": null,
      "outputs": [
        {
          "output_type": "execute_result",
          "data": {
            "text/plain": [
              "0.8361182599962339"
            ]
          },
          "metadata": {},
          "execution_count": 274
        }
      ]
    },
    {
      "cell_type": "code",
      "source": [
        "best_grid_svc = grid_svc.best_estimator_\n",
        "best_grid_svc"
      ],
      "metadata": {
        "colab": {
          "base_uri": "https://localhost:8080/"
        },
        "id": "aBunXZzLXAPJ",
        "outputId": "08c09316-7376-44e1-941c-d612f247a36b"
      },
      "execution_count": null,
      "outputs": [
        {
          "output_type": "execute_result",
          "data": {
            "text/plain": [
              "SVC(C=3.0)"
            ]
          },
          "metadata": {},
          "execution_count": 275
        }
      ]
    },
    {
      "cell_type": "code",
      "source": [
        "te_pred_svc = best_grid_svc.predict(X_te)\n",
        "te_pred_svc[:5]"
      ],
      "metadata": {
        "colab": {
          "base_uri": "https://localhost:8080/"
        },
        "id": "qZLQFPndWQqJ",
        "outputId": "ae866911-4941-47d5-bf0b-a96e3d999426"
      },
      "execution_count": null,
      "outputs": [
        {
          "output_type": "execute_result",
          "data": {
            "text/plain": [
              "array([0., 1., 0., 0., 1.])"
            ]
          },
          "metadata": {},
          "execution_count": 276
        }
      ]
    },
    {
      "cell_type": "markdown",
      "source": [
        "## Hard Voting"
      ],
      "metadata": {
        "id": "Jv6lezNSpSJa"
      }
    },
    {
      "cell_type": "code",
      "source": [
        "hard_vot = VotingClassifier(estimators=[('knn', knn),\n",
        "                                        ('dt', dt),\n",
        "                                        ('rf', rf),\n",
        "                                         ('gnb', gnb),\n",
        "                                         ('sgd', sgd),\n",
        "                                         ('svc', svc),\n",
        "                                         ('lr', lr),\n",
        "                                         ('xgb', xgbc)],\n",
        "                            n_jobs=-1)"
      ],
      "metadata": {
        "id": "lyHSnGRppUd1"
      },
      "execution_count": null,
      "outputs": []
    },
    {
      "cell_type": "code",
      "source": [
        "hard_vot.fit(X_tr, y_tr)"
      ],
      "metadata": {
        "colab": {
          "base_uri": "https://localhost:8080/"
        },
        "id": "mIoqzEVFsbv6",
        "outputId": "53618250-a885-4aab-9a71-1f5c24173cd6"
      },
      "execution_count": null,
      "outputs": [
        {
          "output_type": "execute_result",
          "data": {
            "text/plain": [
              "VotingClassifier(estimators=[('knn', KNeighborsClassifier()),\n",
              "                             ('dt', DecisionTreeClassifier()),\n",
              "                             ('rf', RandomForestClassifier()),\n",
              "                             ('gnb', GaussianNB()),\n",
              "                             ('sgd', SGDClassifier(loss='log')),\n",
              "                             ('svc', SVC(probability=True)),\n",
              "                             ('lr', LogisticRegression()),\n",
              "                             ('xgb', XGBClassifier())],\n",
              "                 n_jobs=-1)"
            ]
          },
          "metadata": {},
          "execution_count": 278
        }
      ]
    },
    {
      "cell_type": "code",
      "source": [
        "hard_vot.score(X_tr, y_tr)"
      ],
      "metadata": {
        "colab": {
          "base_uri": "https://localhost:8080/"
        },
        "id": "pxzDn1EQtXaG",
        "outputId": "807fac33-b074-4aef-b406-5d46f5199159"
      },
      "execution_count": null,
      "outputs": [
        {
          "output_type": "execute_result",
          "data": {
            "text/plain": [
              "0.8686868686868687"
            ]
          },
          "metadata": {},
          "execution_count": 279
        }
      ]
    },
    {
      "cell_type": "code",
      "source": [
        "te_pred_hard = hard_vot.predict(X_te)\n",
        "te_pred_hard[:5]"
      ],
      "metadata": {
        "colab": {
          "base_uri": "https://localhost:8080/"
        },
        "id": "3ES0nZPIth7T",
        "outputId": "6f8493c8-f90e-457e-f662-0f15fef44098"
      },
      "execution_count": null,
      "outputs": [
        {
          "output_type": "execute_result",
          "data": {
            "text/plain": [
              "array([0., 1., 0., 0., 1.])"
            ]
          },
          "metadata": {},
          "execution_count": 280
        }
      ]
    },
    {
      "cell_type": "markdown",
      "source": [
        "![KakaoTalk_20220625_170059379.png](data:image/png;base64,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)"
      ],
      "metadata": {
        "id": "M4XS_A9p5qSl"
      }
    },
    {
      "cell_type": "markdown",
      "source": [
        "## Soft Voting"
      ],
      "metadata": {
        "id": "xe9b-PUltwly"
      }
    },
    {
      "cell_type": "code",
      "source": [
        "soft_vot = VotingClassifier(estimators=[('knn', knn),\n",
        "                                        ('dt', dt),\n",
        "                                        ('rf', rf),\n",
        "                                         ('gnb', gnb),\n",
        "                                         ('sgd', sgd),\n",
        "                                         ('svc', svc),\n",
        "                                         ('lr', lr),\n",
        "                                         ('xgb', xgbc)],\n",
        "                            voting='soft',\n",
        "                            n_jobs=-1)"
      ],
      "metadata": {
        "id": "JlqNSrEjouoy"
      },
      "execution_count": null,
      "outputs": []
    },
    {
      "cell_type": "code",
      "source": [
        "soft_vot.fit(X_tr, y_tr)"
      ],
      "metadata": {
        "colab": {
          "base_uri": "https://localhost:8080/"
        },
        "id": "QQhjPkXnt6VS",
        "outputId": "f1e38597-bfb7-4088-c641-0c3e3d691e75"
      },
      "execution_count": null,
      "outputs": [
        {
          "output_type": "execute_result",
          "data": {
            "text/plain": [
              "VotingClassifier(estimators=[('knn', KNeighborsClassifier()),\n",
              "                             ('dt', DecisionTreeClassifier()),\n",
              "                             ('rf', RandomForestClassifier()),\n",
              "                             ('gnb', GaussianNB()),\n",
              "                             ('sgd', SGDClassifier(loss='log')),\n",
              "                             ('svc', SVC(probability=True)),\n",
              "                             ('lr', LogisticRegression()),\n",
              "                             ('xgb', XGBClassifier())],\n",
              "                 n_jobs=-1, voting='soft')"
            ]
          },
          "metadata": {},
          "execution_count": 282
        }
      ]
    },
    {
      "cell_type": "code",
      "source": [
        "soft_vot.score(X_tr, y_tr)"
      ],
      "metadata": {
        "colab": {
          "base_uri": "https://localhost:8080/"
        },
        "id": "DRQDFV1LuBCj",
        "outputId": "cfb0c608-1797-4c93-c5c8-a83f1d7aa154"
      },
      "execution_count": null,
      "outputs": [
        {
          "output_type": "execute_result",
          "data": {
            "text/plain": [
              "0.8698092031425365"
            ]
          },
          "metadata": {},
          "execution_count": 283
        }
      ]
    },
    {
      "cell_type": "code",
      "source": [
        "te_pred_soft = soft_vot.predict(X_te)\n",
        "te_pred_soft[:5]"
      ],
      "metadata": {
        "colab": {
          "base_uri": "https://localhost:8080/"
        },
        "id": "_rD292g9uGd0",
        "outputId": "3f50e8d5-520e-4357-b2fb-b9fed6d26508"
      },
      "execution_count": null,
      "outputs": [
        {
          "output_type": "execute_result",
          "data": {
            "text/plain": [
              "array([0., 1., 0., 0., 1.])"
            ]
          },
          "metadata": {},
          "execution_count": 284
        }
      ]
    },
    {
      "cell_type": "markdown",
      "source": [
        "![KakaoTalk_20220625_170136846.png](data:image/png;base64,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)"
      ],
      "metadata": {
        "id": "cGcamAMd5zBM"
      }
    },
    {
      "cell_type": "code",
      "source": [
        "my_result = pd.DataFrame({'PassengerId':idx,\n",
        "                          'Survived':te_pred_svc})"
      ],
      "metadata": {
        "id": "ENlJ5Wn35MjB"
      },
      "execution_count": null,
      "outputs": []
    },
    {
      "cell_type": "code",
      "source": [
        "my_result['Survived'] = my_result['Survived'].astype(int)"
      ],
      "metadata": {
        "id": "8-AOj8vWOucD"
      },
      "execution_count": null,
      "outputs": []
    },
    {
      "cell_type": "code",
      "source": [
        "my_result.info()"
      ],
      "metadata": {
        "colab": {
          "base_uri": "https://localhost:8080/"
        },
        "id": "2vFoAdZbPF1N",
        "outputId": "1341a256-9a25-431a-d8fb-c692ea50eeaa"
      },
      "execution_count": null,
      "outputs": [
        {
          "output_type": "stream",
          "name": "stdout",
          "text": [
            "<class 'pandas.core.frame.DataFrame'>\n",
            "Int64Index: 418 entries, 891 to 1308\n",
            "Data columns (total 2 columns):\n",
            " #   Column       Non-Null Count  Dtype\n",
            "---  ------       --------------  -----\n",
            " 0   PassengerId  418 non-null    int64\n",
            " 1   Survived     418 non-null    int64\n",
            "dtypes: int64(2)\n",
            "memory usage: 9.8 KB\n"
          ]
        }
      ]
    },
    {
      "cell_type": "code",
      "source": [
        "my_result.to_csv('my_result_luka_svc.csv', index=False)"
      ],
      "metadata": {
        "id": "16BfYxSK5gu_"
      },
      "execution_count": null,
      "outputs": []
    }
  ]
}